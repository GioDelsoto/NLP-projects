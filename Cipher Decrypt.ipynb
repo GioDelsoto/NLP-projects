{
 "cells": [
  {
   "cell_type": "code",
   "execution_count": 1,
   "id": "aa73756d",
   "metadata": {
    "_cell_guid": "b1076dfc-b9ad-4769-8c92-a6c4dae69d19",
    "_uuid": "8f2839f25d086af736a60e9eeb907d3b93b6e0e5",
    "execution": {
     "iopub.execute_input": "2024-09-11T14:34:36.024044Z",
     "iopub.status.busy": "2024-09-11T14:34:36.023662Z",
     "iopub.status.idle": "2024-09-11T14:34:36.868481Z",
     "shell.execute_reply": "2024-09-11T14:34:36.867459Z"
    },
    "papermill": {
     "duration": 0.856228,
     "end_time": "2024-09-11T14:34:36.871059",
     "exception": false,
     "start_time": "2024-09-11T14:34:36.014831",
     "status": "completed"
    },
    "tags": []
   },
   "outputs": [],
   "source": [
    "#\n",
    "import numpy as np # linear algebra\n",
    "import pandas as pd # data processing, CSV file I/O (e.g. pd.read_csv)\n",
    "import string\n",
    "import re\n",
    "import random"
   ]
  },
  {
   "cell_type": "code",
   "execution_count": 2,
   "id": "9906fad4",
   "metadata": {
    "execution": {
     "iopub.execute_input": "2024-09-11T14:34:36.887207Z",
     "iopub.status.busy": "2024-09-11T14:34:36.886728Z",
     "iopub.status.idle": "2024-09-11T14:34:36.897271Z",
     "shell.execute_reply": "2024-09-11T14:34:36.896284Z"
    },
    "papermill": {
     "duration": 0.021086,
     "end_time": "2024-09-11T14:34:36.899463",
     "exception": false,
     "start_time": "2024-09-11T14:34:36.878377",
     "status": "completed"
    },
    "tags": []
   },
   "outputs": [
    {
     "data": {
      "text/plain": [
       "{'a': 'u',\n",
       " 'b': 'e',\n",
       " 'c': 's',\n",
       " 'd': 'a',\n",
       " 'e': 'l',\n",
       " 'f': 'r',\n",
       " 'g': 't',\n",
       " 'h': 'b',\n",
       " 'i': 'g',\n",
       " 'j': 'w',\n",
       " 'k': 'n',\n",
       " 'l': 'f',\n",
       " 'm': 'z',\n",
       " 'n': 'k',\n",
       " 'o': 'i',\n",
       " 'p': 'q',\n",
       " 'q': 'v',\n",
       " 'r': 'c',\n",
       " 's': 'x',\n",
       " 't': 'o',\n",
       " 'u': 'p',\n",
       " 'v': 'm',\n",
       " 'w': 'h',\n",
       " 'x': 'j',\n",
       " 'y': 'd',\n",
       " 'z': 'y'}"
      ]
     },
     "execution_count": 2,
     "metadata": {},
     "output_type": "execute_result"
    }
   ],
   "source": [
    "chars1 = list(string.ascii_lowercase)\n",
    "chars2 = list(string.ascii_lowercase)\n",
    "\n",
    "random.shuffle(chars2) #Inittiate randonly\n",
    "\n",
    "true_mapping = {}  # true_mapping[encripted] = decripted\n",
    "\n",
    "for i, letter in enumerate(chars1):\n",
    "    if letter not in true_mapping:\n",
    "        true_mapping[letter] = chars2[i]\n",
    "    else:\n",
    "        raise Exception(\"Repeated letters\")\n",
    "\n",
    "true_mapping"
   ]
  },
  {
   "cell_type": "code",
   "execution_count": 3,
   "id": "2c2bbfcc",
   "metadata": {
    "execution": {
     "iopub.execute_input": "2024-09-11T14:34:36.915468Z",
     "iopub.status.busy": "2024-09-11T14:34:36.915081Z",
     "iopub.status.idle": "2024-09-11T14:34:36.922272Z",
     "shell.execute_reply": "2024-09-11T14:34:36.921219Z"
    },
    "papermill": {
     "duration": 0.017981,
     "end_time": "2024-09-11T14:34:36.924560",
     "exception": false,
     "start_time": "2024-09-11T14:34:36.906579",
     "status": "completed"
    },
    "tags": []
   },
   "outputs": [],
   "source": [
    "#char2idx -> decoder/encoder\n",
    "char2idx = {}\n",
    "idx2char = []\n",
    "for i, char in enumerate(chars1):\n",
    "    char2idx[char] = i\n",
    "    idx2char.append(char)"
   ]
  },
  {
   "cell_type": "code",
   "execution_count": 4,
   "id": "db9e99a6",
   "metadata": {
    "execution": {
     "iopub.execute_input": "2024-09-11T14:34:36.940392Z",
     "iopub.status.busy": "2024-09-11T14:34:36.940018Z",
     "iopub.status.idle": "2024-09-11T14:34:36.974503Z",
     "shell.execute_reply": "2024-09-11T14:34:36.973507Z"
    },
    "papermill": {
     "duration": 0.045227,
     "end_time": "2024-09-11T14:34:36.976952",
     "exception": false,
     "start_time": "2024-09-11T14:34:36.931725",
     "status": "completed"
    },
    "tags": []
   },
   "outputs": [],
   "source": [
    "direct = '../input/text-dataset/'\n",
    "file = 'moby_dick.txt'\n",
    "\n",
    "\n",
    "with open(direct+file, 'r') as file:\n",
    "    text = file.read()"
   ]
  },
  {
   "cell_type": "code",
   "execution_count": 5,
   "id": "bf2703c7",
   "metadata": {
    "execution": {
     "iopub.execute_input": "2024-09-11T14:34:36.993026Z",
     "iopub.status.busy": "2024-09-11T14:34:36.992638Z",
     "iopub.status.idle": "2024-09-11T14:34:37.005231Z",
     "shell.execute_reply": "2024-09-11T14:34:37.004121Z"
    },
    "papermill": {
     "duration": 0.023369,
     "end_time": "2024-09-11T14:34:37.007462",
     "exception": false,
     "start_time": "2024-09-11T14:34:36.984093",
     "status": "completed"
    },
    "tags": []
   },
   "outputs": [],
   "source": [
    "#Lets create a class to receive a input text and populate the language model:\n",
    "\n",
    "class LanguageModel():\n",
    "    \n",
    "    def __init__(self,text,vocab):\n",
    "        \n",
    "        words_list = self._cleanText(text)\n",
    "        self.vocab = vocab\n",
    "\n",
    "        self._MarkovModel(words_list)\n",
    "        self._encoder_decoder()\n",
    "    \n",
    "    def _encoder_decoder(self):\n",
    "        \n",
    "        #char2idx -> decoder/encoder\n",
    "        self.char2idx = {}\n",
    "        self.idx2char = []\n",
    "        for i, char in enumerate(self.vocab):\n",
    "            self.char2idx[char] = i\n",
    "            self.idx2char.append(char)\n",
    "    \n",
    "        \n",
    "    def _cleanText(self,text):\n",
    "        '''\n",
    "            Input: text[str] -> text that will be used to populate the language model.\n",
    "            All non-alph characters will be removed\n",
    "            \n",
    "            Output: words_list[list of strings] -> all words from the text\n",
    "            \n",
    "        '''\n",
    "        pattern = re.compile('[^a-zA-Z]') #Re for non-alpha\n",
    "        clean_txt = pattern.sub(' ',text).lower()\n",
    "        words_list = clean_txt.split()\n",
    "        return words_list\n",
    "    \n",
    "    \n",
    "    def _MarkovModel(self, words_list):\n",
    "        #Populate Language Model - Markov Model p(x1) ; p(x_n|x_{n-1})\n",
    "        self.pi_matrix = np.ones(len(chars1))\n",
    "        self.A_matrix = np.ones((len(chars1),len(chars1)))\n",
    "\n",
    "        for word in words_list:\n",
    "            self.pi_matrix[char2idx[word[0]]] += 1\n",
    "\n",
    "            for i in range(1, len(word)):\n",
    "                self.A_matrix[ char2idx[word[i-1]] , char2idx[word[i]]  ] +=1\n",
    "\n",
    "        #Normalize pi and A\n",
    "        self.pi_matrix = self.pi_matrix/np.sum(self.pi_matrix)\n",
    "        self.A_matrix = self.A_matrix/self.A_matrix.sum(axis = 1, keepdims = True) #Normalize with respect to the line\n",
    "        \n",
    "    def log_prob_word(self, word):\n",
    "        logprob = np.log(self.pi_matrix[self.char2idx[word[0]]])\n",
    "        \n",
    "        for i in range(1,len(word)):\n",
    "            logprob+= np.log(  self.A_matrix[self.char2idx[word[i-1]], self.char2idx[word[i]]]  )\n",
    "                       \n",
    "        return logprob\n",
    "    \n",
    "    def log_prob_text(self, word_list):\n",
    "        logprob = 0\n",
    "        for word in word_list:\n",
    "            logprob+=self.log_prob_word(word)\n",
    "            \n",
    "        return logprob\n",
    "        "
   ]
  },
  {
   "cell_type": "code",
   "execution_count": 6,
   "id": "ca2d935d",
   "metadata": {
    "execution": {
     "iopub.execute_input": "2024-09-11T14:34:37.023579Z",
     "iopub.status.busy": "2024-09-11T14:34:37.023197Z",
     "iopub.status.idle": "2024-09-11T14:34:37.676190Z",
     "shell.execute_reply": "2024-09-11T14:34:37.675225Z"
    },
    "papermill": {
     "duration": 0.663987,
     "end_time": "2024-09-11T14:34:37.678655",
     "exception": false,
     "start_time": "2024-09-11T14:34:37.014668",
     "status": "completed"
    },
    "tags": []
   },
   "outputs": [],
   "source": [
    "lang_model = LanguageModel(text, list(string.ascii_lowercase))"
   ]
  },
  {
   "cell_type": "code",
   "execution_count": 7,
   "id": "42df19ad",
   "metadata": {
    "execution": {
     "iopub.execute_input": "2024-09-11T14:34:37.695650Z",
     "iopub.status.busy": "2024-09-11T14:34:37.695239Z",
     "iopub.status.idle": "2024-09-11T14:34:37.701861Z",
     "shell.execute_reply": "2024-09-11T14:34:37.700864Z"
    },
    "papermill": {
     "duration": 0.017443,
     "end_time": "2024-09-11T14:34:37.704210",
     "exception": false,
     "start_time": "2024-09-11T14:34:37.686767",
     "status": "completed"
    },
    "tags": []
   },
   "outputs": [
    {
     "data": {
      "text/plain": [
       "1.0"
      ]
     },
     "execution_count": 7,
     "metadata": {},
     "output_type": "execute_result"
    }
   ],
   "source": [
    "lang_model.A_matrix[1,:].sum()"
   ]
  },
  {
   "cell_type": "code",
   "execution_count": 8,
   "id": "5c212407",
   "metadata": {
    "execution": {
     "iopub.execute_input": "2024-09-11T14:34:37.720289Z",
     "iopub.status.busy": "2024-09-11T14:34:37.719927Z",
     "iopub.status.idle": "2024-09-11T14:34:37.726447Z",
     "shell.execute_reply": "2024-09-11T14:34:37.725518Z"
    },
    "papermill": {
     "duration": 0.017232,
     "end_time": "2024-09-11T14:34:37.728676",
     "exception": false,
     "start_time": "2024-09-11T14:34:37.711444",
     "status": "completed"
    },
    "tags": []
   },
   "outputs": [
    {
     "data": {
      "text/plain": [
       "1.0"
      ]
     },
     "execution_count": 8,
     "metadata": {},
     "output_type": "execute_result"
    }
   ],
   "source": [
    "lang_model.pi_matrix.sum()"
   ]
  },
  {
   "cell_type": "code",
   "execution_count": 9,
   "id": "f2c13c09",
   "metadata": {
    "execution": {
     "iopub.execute_input": "2024-09-11T14:34:37.745275Z",
     "iopub.status.busy": "2024-09-11T14:34:37.744563Z",
     "iopub.status.idle": "2024-09-11T14:34:37.750813Z",
     "shell.execute_reply": "2024-09-11T14:34:37.749840Z"
    },
    "papermill": {
     "duration": 0.017399,
     "end_time": "2024-09-11T14:34:37.753378",
     "exception": false,
     "start_time": "2024-09-11T14:34:37.735979",
     "status": "completed"
    },
    "tags": []
   },
   "outputs": [
    {
     "data": {
      "text/plain": [
       "-7.134580326834801"
      ]
     },
     "execution_count": 9,
     "metadata": {},
     "output_type": "execute_result"
    }
   ],
   "source": [
    "lang_model.log_prob_word('cat')"
   ]
  },
  {
   "cell_type": "code",
   "execution_count": 10,
   "id": "8bdeda87",
   "metadata": {
    "execution": {
     "iopub.execute_input": "2024-09-11T14:34:37.770504Z",
     "iopub.status.busy": "2024-09-11T14:34:37.769596Z",
     "iopub.status.idle": "2024-09-11T14:34:37.776090Z",
     "shell.execute_reply": "2024-09-11T14:34:37.775165Z"
    },
    "papermill": {
     "duration": 0.017081,
     "end_time": "2024-09-11T14:34:37.778114",
     "exception": false,
     "start_time": "2024-09-11T14:34:37.761033",
     "status": "completed"
    },
    "tags": []
   },
   "outputs": [
    {
     "data": {
      "text/plain": [
       "-7.40615519582046"
      ]
     },
     "execution_count": 10,
     "metadata": {},
     "output_type": "execute_result"
    }
   ],
   "source": [
    "lang_model.log_prob_word('car')"
   ]
  },
  {
   "cell_type": "code",
   "execution_count": 11,
   "id": "12416111",
   "metadata": {
    "execution": {
     "iopub.execute_input": "2024-09-11T14:34:37.795827Z",
     "iopub.status.busy": "2024-09-11T14:34:37.794920Z",
     "iopub.status.idle": "2024-09-11T14:34:37.801666Z",
     "shell.execute_reply": "2024-09-11T14:34:37.800680Z"
    },
    "papermill": {
     "duration": 0.018208,
     "end_time": "2024-09-11T14:34:37.803893",
     "exception": false,
     "start_time": "2024-09-11T14:34:37.785685",
     "status": "completed"
    },
    "tags": []
   },
   "outputs": [
    {
     "data": {
      "text/plain": [
       "-11.050122943513285"
      ]
     },
     "execution_count": 11,
     "metadata": {},
     "output_type": "execute_result"
    }
   ],
   "source": [
    "lang_model.log_prob_word('house')"
   ]
  },
  {
   "cell_type": "code",
   "execution_count": 12,
   "id": "80051346",
   "metadata": {
    "execution": {
     "iopub.execute_input": "2024-09-11T14:34:37.821086Z",
     "iopub.status.busy": "2024-09-11T14:34:37.820446Z",
     "iopub.status.idle": "2024-09-11T14:34:37.826927Z",
     "shell.execute_reply": "2024-09-11T14:34:37.825955Z"
    },
    "papermill": {
     "duration": 0.017448,
     "end_time": "2024-09-11T14:34:37.829018",
     "exception": false,
     "start_time": "2024-09-11T14:34:37.811570",
     "status": "completed"
    },
    "tags": []
   },
   "outputs": [
    {
     "data": {
      "text/plain": [
       "-18.09994866591706"
      ]
     },
     "execution_count": 12,
     "metadata": {},
     "output_type": "execute_result"
    }
   ],
   "source": [
    "lang_model.log_prob_word('htsws')"
   ]
  },
  {
   "cell_type": "markdown",
   "id": "820eb7fc",
   "metadata": {
    "papermill": {
     "duration": 0.007461,
     "end_time": "2024-09-11T14:34:37.844487",
     "exception": false,
     "start_time": "2024-09-11T14:34:37.837026",
     "status": "completed"
    },
    "tags": []
   },
   "source": [
    "## Cipher Section:"
   ]
  },
  {
   "cell_type": "code",
   "execution_count": 13,
   "id": "61b8829e",
   "metadata": {
    "execution": {
     "iopub.execute_input": "2024-09-11T14:34:37.861690Z",
     "iopub.status.busy": "2024-09-11T14:34:37.861308Z",
     "iopub.status.idle": "2024-09-11T14:34:37.866380Z",
     "shell.execute_reply": "2024-09-11T14:34:37.865320Z"
    },
    "papermill": {
     "duration": 0.016342,
     "end_time": "2024-09-11T14:34:37.868519",
     "exception": false,
     "start_time": "2024-09-11T14:34:37.852177",
     "status": "completed"
    },
    "tags": []
   },
   "outputs": [],
   "source": [
    "original_message = '''I then lounged down the street and found,\n",
    "as I expected, that there was a mews in a lane which runs down\n",
    "by one wall of the garden. I lent the ostlers a hand in rubbing\n",
    "down their horses, and received in exchange twopence, a glass of\n",
    "half-and-half, two fills of shag tobacco, and as much information\n",
    "as I could desire about Miss Adler, to say nothing of half a dozen\n",
    "other people in the neighbourhood in whom I was not in the least\n",
    "interested, but whose biographies I was compelled to listen to.\n",
    "'''"
   ]
  },
  {
   "cell_type": "code",
   "execution_count": 14,
   "id": "41d0d63c",
   "metadata": {
    "execution": {
     "iopub.execute_input": "2024-09-11T14:34:37.885757Z",
     "iopub.status.busy": "2024-09-11T14:34:37.885377Z",
     "iopub.status.idle": "2024-09-11T14:34:37.891650Z",
     "shell.execute_reply": "2024-09-11T14:34:37.890614Z"
    },
    "papermill": {
     "duration": 0.017567,
     "end_time": "2024-09-11T14:34:37.893851",
     "exception": false,
     "start_time": "2024-09-11T14:34:37.876284",
     "status": "completed"
    },
    "tags": []
   },
   "outputs": [],
   "source": [
    "def encrypt_msg(text, true_mapping):\n",
    "    chars = []   \n",
    "    for i, char in enumerate(text):\n",
    "        if char.isupper():\n",
    "            chars.append(true_mapping.get(char.lower(), char.lower()).upper())\n",
    "        \n",
    "        else:\n",
    "            chars.append(true_mapping.get(char, char))\n",
    "        \n",
    "        \n",
    "    return ''.join(chars)"
   ]
  },
  {
   "cell_type": "code",
   "execution_count": 15,
   "id": "e69e91d3",
   "metadata": {
    "execution": {
     "iopub.execute_input": "2024-09-11T14:34:37.911089Z",
     "iopub.status.busy": "2024-09-11T14:34:37.910724Z",
     "iopub.status.idle": "2024-09-11T14:34:37.917399Z",
     "shell.execute_reply": "2024-09-11T14:34:37.916458Z"
    },
    "papermill": {
     "duration": 0.017899,
     "end_time": "2024-09-11T14:34:37.919705",
     "exception": false,
     "start_time": "2024-09-11T14:34:37.901806",
     "status": "completed"
    },
    "tags": []
   },
   "outputs": [
    {
     "data": {
      "text/plain": [
       "'G oblk fipktla aihk obl xocllo uka ripka,\\nux G ljqlsola, obuo oblcl hux u zlhx gk u fukl hbgsb cpkx aihk\\ned ikl huff ir obl tucalk. G flko obl ixoflcx u buka gk cpeegkt\\naihk oblgc bicxlx, uka clslgmla gk ljsbuktl ohiqlksl, u tfuxx ir\\nbufr-uka-bufr, ohi rgffx ir xbut oieussi, uka ux zpsb gkriczuogik\\nux G sipfa alxgcl ueipo Zgxx Uaflc, oi xud kiobgkt ir bufr u aiylk\\nioblc qliqfl gk obl klgtbeipcbiia gk hbiz G hux kio gk obl fluxo\\ngkolclxola, epo hbixl egitcuqbglx G hux sizqlffla oi fgxolk oi.\\n'"
      ]
     },
     "execution_count": 15,
     "metadata": {},
     "output_type": "execute_result"
    }
   ],
   "source": [
    "encrypted_msg = encrypt_msg(original_message, true_mapping)\n",
    "encrypted_msg"
   ]
  },
  {
   "cell_type": "code",
   "execution_count": 16,
   "id": "21a14fec",
   "metadata": {
    "execution": {
     "iopub.execute_input": "2024-09-11T14:34:37.937299Z",
     "iopub.status.busy": "2024-09-11T14:34:37.936912Z",
     "iopub.status.idle": "2024-09-11T14:34:37.943471Z",
     "shell.execute_reply": "2024-09-11T14:34:37.942516Z"
    },
    "papermill": {
     "duration": 0.018691,
     "end_time": "2024-09-11T14:34:37.946258",
     "exception": false,
     "start_time": "2024-09-11T14:34:37.927567",
     "status": "completed"
    },
    "tags": []
   },
   "outputs": [
    {
     "name": "stdout",
     "output_type": "stream",
     "text": [
      "[('i', 'g'), ('then', 'oblk'), ('lounged', 'fipktla'), ('down', 'aihk'), ('the', 'obl'), ('street', 'xocllo'), ('and', 'uka'), ('found', 'ripka'), ('as', 'ux'), ('i', 'g')]\n"
     ]
    }
   ],
   "source": [
    "#Get words from crypted_msg\n",
    "pattern = re.compile('[^a-zA-Z]') #Re for non-alpha\n",
    "clean_txt = pattern.sub(' ',encrypted_msg).lower()\n",
    "word_list_crypt = clean_txt.split()\n",
    "\n",
    "clean_txt = pattern.sub(' ',original_message).lower()\n",
    "word_list_original = clean_txt.split()\n",
    "\n",
    "print(list(zip(word_list_original[:10],word_list_crypt[:10])))"
   ]
  },
  {
   "cell_type": "code",
   "execution_count": 17,
   "id": "ee1fccc2",
   "metadata": {
    "execution": {
     "iopub.execute_input": "2024-09-11T14:34:37.965014Z",
     "iopub.status.busy": "2024-09-11T14:34:37.963977Z",
     "iopub.status.idle": "2024-09-11T14:34:37.971188Z",
     "shell.execute_reply": "2024-09-11T14:34:37.970260Z"
    },
    "papermill": {
     "duration": 0.01882,
     "end_time": "2024-09-11T14:34:37.973194",
     "exception": false,
     "start_time": "2024-09-11T14:34:37.954374",
     "status": "completed"
    },
    "tags": []
   },
   "outputs": [
    {
     "data": {
      "text/plain": [
       "-933.0339420615785"
      ]
     },
     "execution_count": 17,
     "metadata": {},
     "output_type": "execute_result"
    }
   ],
   "source": [
    "lang_model.log_prob_text(word_list_original)   #Check log prob of original list"
   ]
  },
  {
   "cell_type": "code",
   "execution_count": 18,
   "id": "f41e04fd",
   "metadata": {
    "execution": {
     "iopub.execute_input": "2024-09-11T14:34:37.991543Z",
     "iopub.status.busy": "2024-09-11T14:34:37.990572Z",
     "iopub.status.idle": "2024-09-11T14:34:37.998226Z",
     "shell.execute_reply": "2024-09-11T14:34:37.997255Z"
    },
    "papermill": {
     "duration": 0.019145,
     "end_time": "2024-09-11T14:34:38.000456",
     "exception": false,
     "start_time": "2024-09-11T14:34:37.981311",
     "status": "completed"
    },
    "tags": []
   },
   "outputs": [
    {
     "data": {
      "text/plain": [
       "-1888.6423158694145"
      ]
     },
     "execution_count": 18,
     "metadata": {},
     "output_type": "execute_result"
    }
   ],
   "source": [
    "lang_model.log_prob_text(word_list_crypt)   # Check log prob of encrypted list"
   ]
  },
  {
   "cell_type": "code",
   "execution_count": 19,
   "id": "e001a50c",
   "metadata": {
    "execution": {
     "iopub.execute_input": "2024-09-11T14:34:38.018747Z",
     "iopub.status.busy": "2024-09-11T14:34:38.018356Z",
     "iopub.status.idle": "2024-09-11T14:34:38.024085Z",
     "shell.execute_reply": "2024-09-11T14:34:38.023205Z"
    },
    "papermill": {
     "duration": 0.017681,
     "end_time": "2024-09-11T14:34:38.026372",
     "exception": false,
     "start_time": "2024-09-11T14:34:38.008691",
     "status": "completed"
    },
    "tags": []
   },
   "outputs": [],
   "source": [
    "def decrypet_msg(word_list, mapping, char2idx):\n",
    "    word_list_output = []\n",
    "    for i, text in enumerate(word_list):\n",
    "        chars = []\n",
    "        for char in text:\n",
    "            chars.append(mapping[char2idx[char]])\n",
    "        word_list_output.append(''.join(chars))\n",
    "    return word_list_output"
   ]
  },
  {
   "cell_type": "markdown",
   "id": "6a263671",
   "metadata": {
    "papermill": {
     "duration": 0.007951,
     "end_time": "2024-09-11T14:34:38.042547",
     "exception": false,
     "start_time": "2024-09-11T14:34:38.034596",
     "status": "completed"
    },
    "tags": []
   },
   "source": [
    "## Genetic Algorithm to find the best mapping"
   ]
  },
  {
   "cell_type": "code",
   "execution_count": 20,
   "id": "b691fef9",
   "metadata": {
    "execution": {
     "iopub.execute_input": "2024-09-11T14:34:38.060521Z",
     "iopub.status.busy": "2024-09-11T14:34:38.060144Z",
     "iopub.status.idle": "2024-09-11T14:34:38.065405Z",
     "shell.execute_reply": "2024-09-11T14:34:38.064382Z"
    },
    "papermill": {
     "duration": 0.016757,
     "end_time": "2024-09-11T14:34:38.067536",
     "exception": false,
     "start_time": "2024-09-11T14:34:38.050779",
     "status": "completed"
    },
    "tags": []
   },
   "outputs": [],
   "source": [
    "#Function to change the values of two positions of a list\n",
    "def shuffle_list(lst, pos1, pos2):\n",
    "    lst_output = lst.copy()\n",
    "    lst_output[pos1] = lst[pos2]\n",
    "    lst_output[pos2] = lst[pos1]\n",
    "    \n",
    "    return lst_output\n"
   ]
  },
  {
   "cell_type": "code",
   "execution_count": 21,
   "id": "b64ef1bd",
   "metadata": {
    "execution": {
     "iopub.execute_input": "2024-09-11T14:34:38.085538Z",
     "iopub.status.busy": "2024-09-11T14:34:38.085155Z",
     "iopub.status.idle": "2024-09-11T14:34:38.101529Z",
     "shell.execute_reply": "2024-09-11T14:34:38.100580Z"
    },
    "papermill": {
     "duration": 0.028431,
     "end_time": "2024-09-11T14:34:38.104153",
     "exception": false,
     "start_time": "2024-09-11T14:34:38.075722",
     "status": "completed"
    },
    "tags": []
   },
   "outputs": [],
   "source": [
    "# Define first generation size\n",
    "n_0 = 300\n",
    "n_children = 3 #Define how many childrens each parent will have\n",
    "n_parent = n_0\n",
    "\n",
    "chars = list(string.ascii_lowercase)\n",
    "\n",
    "#Populate first generation mapping\n",
    "mapping_list = []\n",
    "for _ in range(n_0):\n",
    "    random.shuffle(chars)\n",
    "    mapping_list.append(chars.copy())\n",
    "    \n",
    "#Get first generation childrens\n",
    "children_mapping = []\n",
    "\n",
    "for i in range(n_parent):    \n",
    "    for ch in range(n_children):      \n",
    "        pos1, pos2 = random.sample(range(len(mapping_list[i])), 2)\n",
    "        children_mapping.append(shuffle_list(mapping_list[i], pos1, pos2))\n",
    "    #Create childrens\n",
    "\n",
    "mapping_list.extend(children_mapping)"
   ]
  },
  {
   "cell_type": "code",
   "execution_count": 22,
   "id": "a06d531e",
   "metadata": {
    "execution": {
     "iopub.execute_input": "2024-09-11T14:34:38.122279Z",
     "iopub.status.busy": "2024-09-11T14:34:38.121913Z",
     "iopub.status.idle": "2024-09-11T14:34:38.910615Z",
     "shell.execute_reply": "2024-09-11T14:34:38.909676Z"
    },
    "papermill": {
     "duration": 0.800686,
     "end_time": "2024-09-11T14:34:38.913176",
     "exception": false,
     "start_time": "2024-09-11T14:34:38.112490",
     "status": "completed"
    },
    "tags": []
   },
   "outputs": [],
   "source": [
    "#Calculate the probabilities from each map\n",
    "\n",
    "log_probs = np.zeros(len(mapping_list))\n",
    "\n",
    "for i in range(len(mapping_list)):\n",
    "    \n",
    "    #Decrypet text:\n",
    "    decryp_msg = decrypet_msg(word_list_crypt, mapping_list[i], lang_model.char2idx)\n",
    "    log_probs[i] = (lang_model.log_prob_text(decryp_msg))\n",
    "\n",
    "sorted_log = np.argsort(-log_probs)\n",
    "max_log = max(log_probs)"
   ]
  },
  {
   "cell_type": "code",
   "execution_count": 23,
   "id": "8266afbc",
   "metadata": {
    "execution": {
     "iopub.execute_input": "2024-09-11T14:34:38.931488Z",
     "iopub.status.busy": "2024-09-11T14:34:38.931097Z",
     "iopub.status.idle": "2024-09-11T14:35:57.611677Z",
     "shell.execute_reply": "2024-09-11T14:35:57.610689Z"
    },
    "papermill": {
     "duration": 78.69235,
     "end_time": "2024-09-11T14:35:57.613992",
     "exception": false,
     "start_time": "2024-09-11T14:34:38.921642",
     "status": "completed"
    },
    "tags": []
   },
   "outputs": [
    {
     "name": "stdout",
     "output_type": "stream",
     "text": [
      "Iteration: 20\n",
      "Max logprob: -1153.0964402600894\n",
      "Error: -0.0\n",
      "Iteration: 40\n",
      "Max logprob: -993.4812712900668\n",
      "Error: -0.0\n",
      "Iteration: 60\n",
      "Max logprob: -945.2745851900379\n",
      "Error: -0.0\n",
      "Iteration: 80\n",
      "Max logprob: -929.9518049377775\n",
      "Error: -0.0\n",
      "Iteration: 100\n",
      "Max logprob: -929.5929889514528\n",
      "Error: -0.0\n"
     ]
    }
   ],
   "source": [
    "#Lets iterate\n",
    "error = 1e50\n",
    "counter_ite = 0\n",
    "while counter_ite<100:\n",
    "    #New parents:\n",
    "    max_idx = sorted_log[:n_parent]\n",
    "    mapping_list = [mapping_list[idx] for idx in max_idx]\n",
    "    \n",
    "    #New childrens\n",
    "    children_mapping = []\n",
    "    for i in range(n_parent):    \n",
    "        for ch in range(n_children):      \n",
    "            pos1, pos2 = random.sample(range(len(mapping_list[i])), 2)\n",
    "            children_mapping.append(shuffle_list(mapping_list[i], pos1, pos2))\n",
    "        #Create childrens\n",
    "\n",
    "    mapping_list.extend(children_mapping)\n",
    "    \n",
    "    log_probs = np.zeros(len(mapping_list))\n",
    "    for i in range(len(mapping_list)):\n",
    "        #Decrypet text:\n",
    "        decryp_msg = decrypet_msg(word_list_crypt, mapping_list[i], lang_model.char2idx)\n",
    "        log_probs[i] = (lang_model.log_prob_text(decryp_msg))\n",
    "    \n",
    "    sorted_log = np.argsort(-log_probs)\n",
    "    max_log_new = max(log_probs)\n",
    "    error = (max_log_new - max_log)/max_log\n",
    "    max_log = max_log_new\n",
    "   \n",
    "    counter_ite+=1\n",
    "    if counter_ite%20 == 0:\n",
    "        print(f\"Iteration: {counter_ite}\\nMax logprob: {max(log_probs)}\\nError: {error}\")\n",
    "   \n",
    "    \n",
    "    #Output:\n",
    "    #Iteration: 20\n",
    "    #Max logprob: -1301.261678639069\n",
    "    \n",
    "    #Iteration: 40\n",
    "    #Max logprob: -1239.0814625491487\n",
    "    \n",
    "    #Iteration: 60\n",
    "    #Max logprob: -1124.135395861417\n",
    "    \n",
    "    #Iteration: 80\n",
    "    #Max logprob: -1076.411280501641\n",
    "    \n",
    "    #Iteration: 100\n",
    "    #Max logprob: -1027.3659615796932\n"
   ]
  },
  {
   "cell_type": "markdown",
   "id": "3939651c",
   "metadata": {
    "execution": {
     "iopub.execute_input": "2024-06-25T02:00:19.170357Z",
     "iopub.status.busy": "2024-06-25T02:00:19.169645Z",
     "iopub.status.idle": "2024-06-25T02:01:00.654081Z",
     "shell.execute_reply": "2024-06-25T02:01:00.652604Z",
     "shell.execute_reply.started": "2024-06-25T02:00:19.170317Z"
    },
    "papermill": {
     "duration": 0.008458,
     "end_time": "2024-09-11T14:35:57.631056",
     "exception": false,
     "start_time": "2024-09-11T14:35:57.622598",
     "status": "completed"
    },
    "tags": []
   },
   "source": [
    "#A better way to converge the results would be to acelerate the propagation of the best genes. Lets try a different approach:\n",
    "#Lets iterate\n",
    "error = 1e50\n",
    "counter_ite = 0\n",
    "while counter_ite<100:\n",
    "    #New parents:\n",
    "    max_idx = sorted_log[:n_parent]\n",
    "    mapping_list = [mapping_list[idx] for idx in max_idx]\n",
    "    \n",
    "    #Repeat best gene in 10% of the population\n",
    "    n_repeat = len(mapping_list)//10\n",
    "    best_mapping = [mapping_list[0]]*(n_repeat)\n",
    "    mapping_list = best_mapping + mapping_list[:-n_repeat].copy()\n",
    "    \n",
    "    #New childrens\n",
    "    children_mapping = []\n",
    "    for i in range(n_parent):    \n",
    "        for ch in range(n_children):      \n",
    "            pos1, pos2 = random.sample(range(len(mapping_list[i])), 2)\n",
    "            children_mapping.append(shuffle_list(mapping_list[i], pos1, pos2))\n",
    "        #Create childrens\n",
    "\n",
    "    mapping_list.extend(children_mapping)\n",
    "    \n",
    "    log_probs = np.zeros(len(mapping_list))\n",
    "    for i in range(len(mapping_list)):\n",
    "        #Decrypet text:\n",
    "        decryp_msg = decrypet_msg(word_list_crypt, mapping_list[i], lang_model.char2idx)\n",
    "        log_probs[i] = (lang_model.log_prob_text(decryp_msg))\n",
    "    \n",
    "    sorted_log = np.argsort(-log_probs)\n",
    "    \n",
    "    counter_ite+=1\n",
    "    if counter_ite%20 == 0:\n",
    "        print(f\"Iteration: {counter_ite}\\nMax logprob: {max(log_probs)}\")\n"
   ]
  },
  {
   "cell_type": "code",
   "execution_count": 24,
   "id": "fdc6f8b3",
   "metadata": {
    "execution": {
     "iopub.execute_input": "2024-09-11T14:35:57.649521Z",
     "iopub.status.busy": "2024-09-11T14:35:57.649114Z",
     "iopub.status.idle": "2024-09-11T14:35:57.655201Z",
     "shell.execute_reply": "2024-09-11T14:35:57.654247Z"
    },
    "papermill": {
     "duration": 0.018032,
     "end_time": "2024-09-11T14:35:57.657517",
     "exception": false,
     "start_time": "2024-09-11T14:35:57.639485",
     "status": "completed"
    },
    "tags": []
   },
   "outputs": [
    {
     "name": "stdout",
     "output_type": "stream",
     "text": [
      "['i', 'then', 'lounged', 'down', 'the', 'street', 'and', 'found', 'as', 'i', 'expected', 'that', 'there', 'was', 'a', 'mews', 'in', 'a', 'lane', 'which', 'runs', 'down', 'by', 'one', 'wall', 'of', 'the', 'garden', 'i', 'lent', 'the', 'ostlers', 'a', 'hand', 'in', 'rubbing', 'down', 'their', 'horses', 'and', 'received', 'in', 'exchange', 'twopence', 'a', 'glass', 'of', 'half', 'and', 'half', 'two', 'fills', 'of', 'shag', 'tobacco', 'and', 'as', 'much', 'information', 'as', 'i', 'could', 'desire', 'about', 'miss', 'adler', 'to', 'say', 'nothing', 'of', 'half', 'a', 'doken', 'other', 'people', 'in', 'the', 'neighbourhood', 'in', 'whom', 'i', 'was', 'not', 'in', 'the', 'least', 'interested', 'but', 'whose', 'biographies', 'i', 'was', 'compelled', 'to', 'listen', 'to']\n"
     ]
    }
   ],
   "source": [
    "#Final output\n",
    "max_idx = sorted_log[0]\n",
    "\n",
    "final_mapping = mapping_list[max_idx]\n",
    "\n",
    "decryp_msg = decrypet_msg(word_list_crypt,final_mapping , lang_model.char2idx)\n",
    "print(decryp_msg)"
   ]
  },
  {
   "cell_type": "code",
   "execution_count": 25,
   "id": "8e84adef",
   "metadata": {
    "execution": {
     "iopub.execute_input": "2024-09-11T14:35:57.676268Z",
     "iopub.status.busy": "2024-09-11T14:35:57.675879Z",
     "iopub.status.idle": "2024-09-11T14:35:57.681143Z",
     "shell.execute_reply": "2024-09-11T14:35:57.680133Z"
    },
    "papermill": {
     "duration": 0.017213,
     "end_time": "2024-09-11T14:35:57.683366",
     "exception": false,
     "start_time": "2024-09-11T14:35:57.666153",
     "status": "completed"
    },
    "tags": []
   },
   "outputs": [
    {
     "name": "stdout",
     "output_type": "stream",
     "text": [
      "['d', 'h', 'r', 'y', 'b', 'l', 'i', 'w', 'o', 'x', 'n', 'e', 'v', 'z', 't', 'u', 'p', 'f', 'c', 'g', 'a', 'q', 'j', 's', 'k', 'm']\n",
      "['a', 'b', 'c', 'd', 'e', 'f', 'g', 'h', 'i', 'j', 'k', 'l', 'm', 'y', 'o', 'p', 'q', 'r', 's', 't', 'u', 'v', 'w', 'x', 'n', 'z']\n"
     ]
    }
   ],
   "source": [
    "#Compare text\n",
    "print(final_mapping)\n",
    "\n",
    "print([true_mapping[char] for char in final_mapping])"
   ]
  },
  {
   "cell_type": "code",
   "execution_count": 26,
   "id": "0be81923",
   "metadata": {
    "execution": {
     "iopub.execute_input": "2024-09-11T14:35:57.702656Z",
     "iopub.status.busy": "2024-09-11T14:35:57.701917Z",
     "iopub.status.idle": "2024-09-11T14:35:57.707226Z",
     "shell.execute_reply": "2024-09-11T14:35:57.706182Z"
    },
    "papermill": {
     "duration": 0.017705,
     "end_time": "2024-09-11T14:35:57.709650",
     "exception": false,
     "start_time": "2024-09-11T14:35:57.691945",
     "status": "completed"
    },
    "tags": []
   },
   "outputs": [
    {
     "name": "stdout",
     "output_type": "stream",
     "text": [
      "{'a': 'u', 'b': 'e', 'c': 's', 'd': 'a', 'e': 'l', 'f': 'r', 'g': 't', 'h': 'b', 'i': 'g', 'j': 'w', 'k': 'n', 'l': 'f', 'm': 'z', 'n': 'k', 'o': 'i', 'p': 'q', 'q': 'v', 'r': 'c', 's': 'x', 't': 'o', 'u': 'p', 'v': 'm', 'w': 'h', 'x': 'j', 'y': 'd', 'z': 'y'}\n"
     ]
    }
   ],
   "source": [
    "print(true_mapping)"
   ]
  },
  {
   "cell_type": "code",
   "execution_count": null,
   "id": "f1ec9365",
   "metadata": {
    "papermill": {
     "duration": 0.008416,
     "end_time": "2024-09-11T14:35:57.726818",
     "exception": false,
     "start_time": "2024-09-11T14:35:57.718402",
     "status": "completed"
    },
    "tags": []
   },
   "outputs": [],
   "source": []
  }
 ],
 "metadata": {
  "kaggle": {
   "accelerator": "none",
   "dataSources": [
    {
     "datasetId": 5274722,
     "sourceId": 8776137,
     "sourceType": "datasetVersion"
    }
   ],
   "dockerImageVersionId": 30732,
   "isGpuEnabled": false,
   "isInternetEnabled": true,
   "language": "python",
   "sourceType": "notebook"
  },
  "kernelspec": {
   "display_name": "Python 3",
   "language": "python",
   "name": "python3"
  },
  "language_info": {
   "codemirror_mode": {
    "name": "ipython",
    "version": 3
   },
   "file_extension": ".py",
   "mimetype": "text/x-python",
   "name": "python",
   "nbconvert_exporter": "python",
   "pygments_lexer": "ipython3",
   "version": "3.10.13"
  },
  "papermill": {
   "default_parameters": {},
   "duration": 85.291135,
   "end_time": "2024-09-11T14:35:58.156531",
   "environment_variables": {},
   "exception": null,
   "input_path": "__notebook__.ipynb",
   "output_path": "__notebook__.ipynb",
   "parameters": {},
   "start_time": "2024-09-11T14:34:32.865396",
   "version": "2.5.0"
  }
 },
 "nbformat": 4,
 "nbformat_minor": 5
}
