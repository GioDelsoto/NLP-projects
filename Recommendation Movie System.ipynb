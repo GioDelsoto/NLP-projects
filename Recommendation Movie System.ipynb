{
 "cells": [
  {
   "cell_type": "code",
   "execution_count": 1,
   "id": "23900bcb",
   "metadata": {
    "_cell_guid": "b1076dfc-b9ad-4769-8c92-a6c4dae69d19",
    "_uuid": "8f2839f25d086af736a60e9eeb907d3b93b6e0e5",
    "execution": {
     "iopub.execute_input": "2024-06-09T00:43:22.812020Z",
     "iopub.status.busy": "2024-06-09T00:43:22.811593Z",
     "iopub.status.idle": "2024-06-09T00:43:27.211118Z",
     "shell.execute_reply": "2024-06-09T00:43:27.209850Z"
    },
    "papermill": {
     "duration": 4.412386,
     "end_time": "2024-06-09T00:43:27.213822",
     "exception": false,
     "start_time": "2024-06-09T00:43:22.801436",
     "status": "completed"
    },
    "tags": []
   },
   "outputs": [
    {
     "name": "stdout",
     "output_type": "stream",
     "text": [
      "[nltk_data] Downloading package wordnet to /kaggle/working/...\n",
      "Archive:  /kaggle/working/corpora/wordnet.zip\n",
      "   creating: /kaggle/working/corpora/wordnet/\n",
      "  inflating: /kaggle/working/corpora/wordnet/lexnames  \n",
      "  inflating: /kaggle/working/corpora/wordnet/data.verb  \n",
      "  inflating: /kaggle/working/corpora/wordnet/index.adv  \n",
      "  inflating: /kaggle/working/corpora/wordnet/adv.exc  \n",
      "  inflating: /kaggle/working/corpora/wordnet/index.verb  \n",
      "  inflating: /kaggle/working/corpora/wordnet/cntlist.rev  \n",
      "  inflating: /kaggle/working/corpora/wordnet/data.adj  \n",
      "  inflating: /kaggle/working/corpora/wordnet/index.adj  \n",
      "  inflating: /kaggle/working/corpora/wordnet/LICENSE  \n",
      "  inflating: /kaggle/working/corpora/wordnet/citation.bib  \n",
      "  inflating: /kaggle/working/corpora/wordnet/noun.exc  \n",
      "  inflating: /kaggle/working/corpora/wordnet/verb.exc  \n",
      "  inflating: /kaggle/working/corpora/wordnet/README  \n",
      "  inflating: /kaggle/working/corpora/wordnet/index.sense  \n",
      "  inflating: /kaggle/working/corpora/wordnet/data.noun  \n",
      "  inflating: /kaggle/working/corpora/wordnet/data.adv  \n",
      "  inflating: /kaggle/working/corpora/wordnet/index.noun  \n",
      "  inflating: /kaggle/working/corpora/wordnet/adj.exc  \n"
     ]
    }
   ],
   "source": [
    "import pandas as pd\n",
    "import numpy as np\n",
    "import seaborn as sns\n",
    "import matplotlib.pyplot as plt\n",
    "#Data Manipulation\n",
    "from sklearn.feature_extraction.text import TfidfVectorizer\n",
    "\n",
    "\n",
    "import nltk\n",
    "from nltk import word_tokenize\n",
    "from nltk.stem import WordNetLemmatizer, PorterStemmer\n",
    "\n",
    "\n",
    "#Solution to donwload and install wordnet: Source: https://stackoverflow.com/questions/73849624/getting-error-while-submitting-notebook-on-kaggle-even-after-importing-nltk-libr\n",
    "import subprocess\n",
    "\n",
    "# Download and unzip wordnet\n",
    "try:\n",
    "    nltk.data.find('wordnet.zip')\n",
    "except:\n",
    "    nltk.download('wordnet', download_dir='/kaggle/working/')\n",
    "    command = \"unzip /kaggle/working/corpora/wordnet.zip -d /kaggle/working/corpora\"\n",
    "    subprocess.run(command.split())\n",
    "    nltk.data.path.append('/kaggle/working/')\n",
    "\n",
    "# Now you can import the NLTK resources as usual\n",
    "from nltk.corpus import wordnet"
   ]
  },
  {
   "cell_type": "code",
   "execution_count": 2,
   "id": "b7c1d86b",
   "metadata": {
    "execution": {
     "iopub.execute_input": "2024-06-09T00:43:27.232941Z",
     "iopub.status.busy": "2024-06-09T00:43:27.232371Z",
     "iopub.status.idle": "2024-06-09T00:43:27.435576Z",
     "shell.execute_reply": "2024-06-09T00:43:27.434497Z"
    },
    "papermill": {
     "duration": 0.215976,
     "end_time": "2024-06-09T00:43:27.438337",
     "exception": false,
     "start_time": "2024-06-09T00:43:27.222361",
     "status": "completed"
    },
    "tags": []
   },
   "outputs": [],
   "source": [
    "dir = '../input/tmbd-movies/'\n",
    "\n",
    "movies_df = pd.read_csv(dir+'tmdb_5000_movies.csv')"
   ]
  },
  {
   "cell_type": "code",
   "execution_count": 3,
   "id": "906c5fde",
   "metadata": {
    "execution": {
     "iopub.execute_input": "2024-06-09T00:43:27.456913Z",
     "iopub.status.busy": "2024-06-09T00:43:27.456352Z",
     "iopub.status.idle": "2024-06-09T00:43:27.499455Z",
     "shell.execute_reply": "2024-06-09T00:43:27.498313Z"
    },
    "papermill": {
     "duration": 0.055629,
     "end_time": "2024-06-09T00:43:27.502272",
     "exception": false,
     "start_time": "2024-06-09T00:43:27.446643",
     "status": "completed"
    },
    "tags": []
   },
   "outputs": [
    {
     "data": {
      "text/html": [
       "<div>\n",
       "<style scoped>\n",
       "    .dataframe tbody tr th:only-of-type {\n",
       "        vertical-align: middle;\n",
       "    }\n",
       "\n",
       "    .dataframe tbody tr th {\n",
       "        vertical-align: top;\n",
       "    }\n",
       "\n",
       "    .dataframe thead th {\n",
       "        text-align: right;\n",
       "    }\n",
       "</style>\n",
       "<table border=\"1\" class=\"dataframe\">\n",
       "  <thead>\n",
       "    <tr style=\"text-align: right;\">\n",
       "      <th></th>\n",
       "      <th>budget</th>\n",
       "      <th>genres</th>\n",
       "      <th>homepage</th>\n",
       "      <th>id</th>\n",
       "      <th>keywords</th>\n",
       "      <th>original_language</th>\n",
       "      <th>original_title</th>\n",
       "      <th>overview</th>\n",
       "      <th>popularity</th>\n",
       "      <th>production_companies</th>\n",
       "      <th>production_countries</th>\n",
       "      <th>release_date</th>\n",
       "      <th>revenue</th>\n",
       "      <th>runtime</th>\n",
       "      <th>spoken_languages</th>\n",
       "      <th>status</th>\n",
       "      <th>tagline</th>\n",
       "      <th>title</th>\n",
       "      <th>vote_average</th>\n",
       "      <th>vote_count</th>\n",
       "    </tr>\n",
       "  </thead>\n",
       "  <tbody>\n",
       "    <tr>\n",
       "      <th>0</th>\n",
       "      <td>237000000</td>\n",
       "      <td>[{\"id\": 28, \"name\": \"Action\"}, {\"id\": 12, \"nam...</td>\n",
       "      <td>http://www.avatarmovie.com/</td>\n",
       "      <td>19995</td>\n",
       "      <td>[{\"id\": 1463, \"name\": \"culture clash\"}, {\"id\":...</td>\n",
       "      <td>en</td>\n",
       "      <td>Avatar</td>\n",
       "      <td>In the 22nd century, a paraplegic Marine is di...</td>\n",
       "      <td>150.437577</td>\n",
       "      <td>[{\"name\": \"Ingenious Film Partners\", \"id\": 289...</td>\n",
       "      <td>[{\"iso_3166_1\": \"US\", \"name\": \"United States o...</td>\n",
       "      <td>2009-12-10</td>\n",
       "      <td>2787965087</td>\n",
       "      <td>162.0</td>\n",
       "      <td>[{\"iso_639_1\": \"en\", \"name\": \"English\"}, {\"iso...</td>\n",
       "      <td>Released</td>\n",
       "      <td>Enter the World of Pandora.</td>\n",
       "      <td>Avatar</td>\n",
       "      <td>7.2</td>\n",
       "      <td>11800</td>\n",
       "    </tr>\n",
       "    <tr>\n",
       "      <th>1</th>\n",
       "      <td>300000000</td>\n",
       "      <td>[{\"id\": 12, \"name\": \"Adventure\"}, {\"id\": 14, \"...</td>\n",
       "      <td>http://disney.go.com/disneypictures/pirates/</td>\n",
       "      <td>285</td>\n",
       "      <td>[{\"id\": 270, \"name\": \"ocean\"}, {\"id\": 726, \"na...</td>\n",
       "      <td>en</td>\n",
       "      <td>Pirates of the Caribbean: At World's End</td>\n",
       "      <td>Captain Barbossa, long believed to be dead, ha...</td>\n",
       "      <td>139.082615</td>\n",
       "      <td>[{\"name\": \"Walt Disney Pictures\", \"id\": 2}, {\"...</td>\n",
       "      <td>[{\"iso_3166_1\": \"US\", \"name\": \"United States o...</td>\n",
       "      <td>2007-05-19</td>\n",
       "      <td>961000000</td>\n",
       "      <td>169.0</td>\n",
       "      <td>[{\"iso_639_1\": \"en\", \"name\": \"English\"}]</td>\n",
       "      <td>Released</td>\n",
       "      <td>At the end of the world, the adventure begins.</td>\n",
       "      <td>Pirates of the Caribbean: At World's End</td>\n",
       "      <td>6.9</td>\n",
       "      <td>4500</td>\n",
       "    </tr>\n",
       "    <tr>\n",
       "      <th>2</th>\n",
       "      <td>245000000</td>\n",
       "      <td>[{\"id\": 28, \"name\": \"Action\"}, {\"id\": 12, \"nam...</td>\n",
       "      <td>http://www.sonypictures.com/movies/spectre/</td>\n",
       "      <td>206647</td>\n",
       "      <td>[{\"id\": 470, \"name\": \"spy\"}, {\"id\": 818, \"name...</td>\n",
       "      <td>en</td>\n",
       "      <td>Spectre</td>\n",
       "      <td>A cryptic message from Bond’s past sends him o...</td>\n",
       "      <td>107.376788</td>\n",
       "      <td>[{\"name\": \"Columbia Pictures\", \"id\": 5}, {\"nam...</td>\n",
       "      <td>[{\"iso_3166_1\": \"GB\", \"name\": \"United Kingdom\"...</td>\n",
       "      <td>2015-10-26</td>\n",
       "      <td>880674609</td>\n",
       "      <td>148.0</td>\n",
       "      <td>[{\"iso_639_1\": \"fr\", \"name\": \"Fran\\u00e7ais\"},...</td>\n",
       "      <td>Released</td>\n",
       "      <td>A Plan No One Escapes</td>\n",
       "      <td>Spectre</td>\n",
       "      <td>6.3</td>\n",
       "      <td>4466</td>\n",
       "    </tr>\n",
       "    <tr>\n",
       "      <th>3</th>\n",
       "      <td>250000000</td>\n",
       "      <td>[{\"id\": 28, \"name\": \"Action\"}, {\"id\": 80, \"nam...</td>\n",
       "      <td>http://www.thedarkknightrises.com/</td>\n",
       "      <td>49026</td>\n",
       "      <td>[{\"id\": 849, \"name\": \"dc comics\"}, {\"id\": 853,...</td>\n",
       "      <td>en</td>\n",
       "      <td>The Dark Knight Rises</td>\n",
       "      <td>Following the death of District Attorney Harve...</td>\n",
       "      <td>112.312950</td>\n",
       "      <td>[{\"name\": \"Legendary Pictures\", \"id\": 923}, {\"...</td>\n",
       "      <td>[{\"iso_3166_1\": \"US\", \"name\": \"United States o...</td>\n",
       "      <td>2012-07-16</td>\n",
       "      <td>1084939099</td>\n",
       "      <td>165.0</td>\n",
       "      <td>[{\"iso_639_1\": \"en\", \"name\": \"English\"}]</td>\n",
       "      <td>Released</td>\n",
       "      <td>The Legend Ends</td>\n",
       "      <td>The Dark Knight Rises</td>\n",
       "      <td>7.6</td>\n",
       "      <td>9106</td>\n",
       "    </tr>\n",
       "    <tr>\n",
       "      <th>4</th>\n",
       "      <td>260000000</td>\n",
       "      <td>[{\"id\": 28, \"name\": \"Action\"}, {\"id\": 12, \"nam...</td>\n",
       "      <td>http://movies.disney.com/john-carter</td>\n",
       "      <td>49529</td>\n",
       "      <td>[{\"id\": 818, \"name\": \"based on novel\"}, {\"id\":...</td>\n",
       "      <td>en</td>\n",
       "      <td>John Carter</td>\n",
       "      <td>John Carter is a war-weary, former military ca...</td>\n",
       "      <td>43.926995</td>\n",
       "      <td>[{\"name\": \"Walt Disney Pictures\", \"id\": 2}]</td>\n",
       "      <td>[{\"iso_3166_1\": \"US\", \"name\": \"United States o...</td>\n",
       "      <td>2012-03-07</td>\n",
       "      <td>284139100</td>\n",
       "      <td>132.0</td>\n",
       "      <td>[{\"iso_639_1\": \"en\", \"name\": \"English\"}]</td>\n",
       "      <td>Released</td>\n",
       "      <td>Lost in our world, found in another.</td>\n",
       "      <td>John Carter</td>\n",
       "      <td>6.1</td>\n",
       "      <td>2124</td>\n",
       "    </tr>\n",
       "  </tbody>\n",
       "</table>\n",
       "</div>"
      ],
      "text/plain": [
       "      budget                                             genres  \\\n",
       "0  237000000  [{\"id\": 28, \"name\": \"Action\"}, {\"id\": 12, \"nam...   \n",
       "1  300000000  [{\"id\": 12, \"name\": \"Adventure\"}, {\"id\": 14, \"...   \n",
       "2  245000000  [{\"id\": 28, \"name\": \"Action\"}, {\"id\": 12, \"nam...   \n",
       "3  250000000  [{\"id\": 28, \"name\": \"Action\"}, {\"id\": 80, \"nam...   \n",
       "4  260000000  [{\"id\": 28, \"name\": \"Action\"}, {\"id\": 12, \"nam...   \n",
       "\n",
       "                                       homepage      id  \\\n",
       "0                   http://www.avatarmovie.com/   19995   \n",
       "1  http://disney.go.com/disneypictures/pirates/     285   \n",
       "2   http://www.sonypictures.com/movies/spectre/  206647   \n",
       "3            http://www.thedarkknightrises.com/   49026   \n",
       "4          http://movies.disney.com/john-carter   49529   \n",
       "\n",
       "                                            keywords original_language  \\\n",
       "0  [{\"id\": 1463, \"name\": \"culture clash\"}, {\"id\":...                en   \n",
       "1  [{\"id\": 270, \"name\": \"ocean\"}, {\"id\": 726, \"na...                en   \n",
       "2  [{\"id\": 470, \"name\": \"spy\"}, {\"id\": 818, \"name...                en   \n",
       "3  [{\"id\": 849, \"name\": \"dc comics\"}, {\"id\": 853,...                en   \n",
       "4  [{\"id\": 818, \"name\": \"based on novel\"}, {\"id\":...                en   \n",
       "\n",
       "                             original_title  \\\n",
       "0                                    Avatar   \n",
       "1  Pirates of the Caribbean: At World's End   \n",
       "2                                   Spectre   \n",
       "3                     The Dark Knight Rises   \n",
       "4                               John Carter   \n",
       "\n",
       "                                            overview  popularity  \\\n",
       "0  In the 22nd century, a paraplegic Marine is di...  150.437577   \n",
       "1  Captain Barbossa, long believed to be dead, ha...  139.082615   \n",
       "2  A cryptic message from Bond’s past sends him o...  107.376788   \n",
       "3  Following the death of District Attorney Harve...  112.312950   \n",
       "4  John Carter is a war-weary, former military ca...   43.926995   \n",
       "\n",
       "                                production_companies  \\\n",
       "0  [{\"name\": \"Ingenious Film Partners\", \"id\": 289...   \n",
       "1  [{\"name\": \"Walt Disney Pictures\", \"id\": 2}, {\"...   \n",
       "2  [{\"name\": \"Columbia Pictures\", \"id\": 5}, {\"nam...   \n",
       "3  [{\"name\": \"Legendary Pictures\", \"id\": 923}, {\"...   \n",
       "4        [{\"name\": \"Walt Disney Pictures\", \"id\": 2}]   \n",
       "\n",
       "                                production_countries release_date     revenue  \\\n",
       "0  [{\"iso_3166_1\": \"US\", \"name\": \"United States o...   2009-12-10  2787965087   \n",
       "1  [{\"iso_3166_1\": \"US\", \"name\": \"United States o...   2007-05-19   961000000   \n",
       "2  [{\"iso_3166_1\": \"GB\", \"name\": \"United Kingdom\"...   2015-10-26   880674609   \n",
       "3  [{\"iso_3166_1\": \"US\", \"name\": \"United States o...   2012-07-16  1084939099   \n",
       "4  [{\"iso_3166_1\": \"US\", \"name\": \"United States o...   2012-03-07   284139100   \n",
       "\n",
       "   runtime                                   spoken_languages    status  \\\n",
       "0    162.0  [{\"iso_639_1\": \"en\", \"name\": \"English\"}, {\"iso...  Released   \n",
       "1    169.0           [{\"iso_639_1\": \"en\", \"name\": \"English\"}]  Released   \n",
       "2    148.0  [{\"iso_639_1\": \"fr\", \"name\": \"Fran\\u00e7ais\"},...  Released   \n",
       "3    165.0           [{\"iso_639_1\": \"en\", \"name\": \"English\"}]  Released   \n",
       "4    132.0           [{\"iso_639_1\": \"en\", \"name\": \"English\"}]  Released   \n",
       "\n",
       "                                          tagline  \\\n",
       "0                     Enter the World of Pandora.   \n",
       "1  At the end of the world, the adventure begins.   \n",
       "2                           A Plan No One Escapes   \n",
       "3                                 The Legend Ends   \n",
       "4            Lost in our world, found in another.   \n",
       "\n",
       "                                      title  vote_average  vote_count  \n",
       "0                                    Avatar           7.2       11800  \n",
       "1  Pirates of the Caribbean: At World's End           6.9        4500  \n",
       "2                                   Spectre           6.3        4466  \n",
       "3                     The Dark Knight Rises           7.6        9106  \n",
       "4                               John Carter           6.1        2124  "
      ]
     },
     "execution_count": 3,
     "metadata": {},
     "output_type": "execute_result"
    }
   ],
   "source": [
    "movies_df.head()"
   ]
  },
  {
   "cell_type": "code",
   "execution_count": 4,
   "id": "56b0d002",
   "metadata": {
    "execution": {
     "iopub.execute_input": "2024-06-09T00:43:27.521806Z",
     "iopub.status.busy": "2024-06-09T00:43:27.521395Z",
     "iopub.status.idle": "2024-06-09T00:43:27.557582Z",
     "shell.execute_reply": "2024-06-09T00:43:27.556415Z"
    },
    "papermill": {
     "duration": 0.049303,
     "end_time": "2024-06-09T00:43:27.560508",
     "exception": false,
     "start_time": "2024-06-09T00:43:27.511205",
     "status": "completed"
    },
    "tags": []
   },
   "outputs": [
    {
     "name": "stdout",
     "output_type": "stream",
     "text": [
      "<class 'pandas.core.frame.DataFrame'>\n",
      "RangeIndex: 4803 entries, 0 to 4802\n",
      "Data columns (total 20 columns):\n",
      " #   Column                Non-Null Count  Dtype  \n",
      "---  ------                --------------  -----  \n",
      " 0   budget                4803 non-null   int64  \n",
      " 1   genres                4803 non-null   object \n",
      " 2   homepage              1712 non-null   object \n",
      " 3   id                    4803 non-null   int64  \n",
      " 4   keywords              4803 non-null   object \n",
      " 5   original_language     4803 non-null   object \n",
      " 6   original_title        4803 non-null   object \n",
      " 7   overview              4800 non-null   object \n",
      " 8   popularity            4803 non-null   float64\n",
      " 9   production_companies  4803 non-null   object \n",
      " 10  production_countries  4803 non-null   object \n",
      " 11  release_date          4802 non-null   object \n",
      " 12  revenue               4803 non-null   int64  \n",
      " 13  runtime               4801 non-null   float64\n",
      " 14  spoken_languages      4803 non-null   object \n",
      " 15  status                4803 non-null   object \n",
      " 16  tagline               3959 non-null   object \n",
      " 17  title                 4803 non-null   object \n",
      " 18  vote_average          4803 non-null   float64\n",
      " 19  vote_count            4803 non-null   int64  \n",
      "dtypes: float64(3), int64(4), object(13)\n",
      "memory usage: 750.6+ KB\n"
     ]
    }
   ],
   "source": [
    "movies_df.info()"
   ]
  },
  {
   "cell_type": "code",
   "execution_count": 5,
   "id": "4ad67a80",
   "metadata": {
    "execution": {
     "iopub.execute_input": "2024-06-09T00:43:27.581156Z",
     "iopub.status.busy": "2024-06-09T00:43:27.580717Z",
     "iopub.status.idle": "2024-06-09T00:43:27.588293Z",
     "shell.execute_reply": "2024-06-09T00:43:27.586911Z"
    },
    "papermill": {
     "duration": 0.020905,
     "end_time": "2024-06-09T00:43:27.590959",
     "exception": false,
     "start_time": "2024-06-09T00:43:27.570054",
     "status": "completed"
    },
    "tags": []
   },
   "outputs": [
    {
     "data": {
      "text/plain": [
       "(4803, 20)"
      ]
     },
     "execution_count": 5,
     "metadata": {},
     "output_type": "execute_result"
    }
   ],
   "source": [
    "movies_df.shape"
   ]
  },
  {
   "cell_type": "code",
   "execution_count": 6,
   "id": "76d40e20",
   "metadata": {
    "execution": {
     "iopub.execute_input": "2024-06-09T00:43:27.612080Z",
     "iopub.status.busy": "2024-06-09T00:43:27.611232Z",
     "iopub.status.idle": "2024-06-09T00:43:27.642052Z",
     "shell.execute_reply": "2024-06-09T00:43:27.640931Z"
    },
    "papermill": {
     "duration": 0.044429,
     "end_time": "2024-06-09T00:43:27.644747",
     "exception": false,
     "start_time": "2024-06-09T00:43:27.600318",
     "status": "completed"
    },
    "tags": []
   },
   "outputs": [
    {
     "data": {
      "text/plain": [
       "0"
      ]
     },
     "execution_count": 6,
     "metadata": {},
     "output_type": "execute_result"
    }
   ],
   "source": [
    "#Check for duplicated data\n",
    "movies_df.duplicated().sum()"
   ]
  },
  {
   "cell_type": "code",
   "execution_count": 7,
   "id": "e5d3c14b",
   "metadata": {
    "execution": {
     "iopub.execute_input": "2024-06-09T00:43:27.666245Z",
     "iopub.status.busy": "2024-06-09T00:43:27.665236Z",
     "iopub.status.idle": "2024-06-09T00:43:27.674547Z",
     "shell.execute_reply": "2024-06-09T00:43:27.673336Z"
    },
    "papermill": {
     "duration": 0.022802,
     "end_time": "2024-06-09T00:43:27.677200",
     "exception": false,
     "start_time": "2024-06-09T00:43:27.654398",
     "status": "completed"
    },
    "tags": []
   },
   "outputs": [
    {
     "data": {
      "text/plain": [
       "3"
      ]
     },
     "execution_count": 7,
     "metadata": {},
     "output_type": "execute_result"
    }
   ],
   "source": [
    "movies_df.duplicated(subset = ['title']).sum()"
   ]
  },
  {
   "cell_type": "code",
   "execution_count": 8,
   "id": "0b6197a0",
   "metadata": {
    "execution": {
     "iopub.execute_input": "2024-06-09T00:43:27.698885Z",
     "iopub.status.busy": "2024-06-09T00:43:27.698465Z",
     "iopub.status.idle": "2024-06-09T00:43:27.730228Z",
     "shell.execute_reply": "2024-06-09T00:43:27.728992Z"
    },
    "papermill": {
     "duration": 0.045549,
     "end_time": "2024-06-09T00:43:27.732997",
     "exception": false,
     "start_time": "2024-06-09T00:43:27.687448",
     "status": "completed"
    },
    "tags": []
   },
   "outputs": [
    {
     "data": {
      "text/html": [
       "<div>\n",
       "<style scoped>\n",
       "    .dataframe tbody tr th:only-of-type {\n",
       "        vertical-align: middle;\n",
       "    }\n",
       "\n",
       "    .dataframe tbody tr th {\n",
       "        vertical-align: top;\n",
       "    }\n",
       "\n",
       "    .dataframe thead th {\n",
       "        text-align: right;\n",
       "    }\n",
       "</style>\n",
       "<table border=\"1\" class=\"dataframe\">\n",
       "  <thead>\n",
       "    <tr style=\"text-align: right;\">\n",
       "      <th></th>\n",
       "      <th>budget</th>\n",
       "      <th>genres</th>\n",
       "      <th>homepage</th>\n",
       "      <th>id</th>\n",
       "      <th>keywords</th>\n",
       "      <th>original_language</th>\n",
       "      <th>original_title</th>\n",
       "      <th>overview</th>\n",
       "      <th>popularity</th>\n",
       "      <th>production_companies</th>\n",
       "      <th>production_countries</th>\n",
       "      <th>release_date</th>\n",
       "      <th>revenue</th>\n",
       "      <th>runtime</th>\n",
       "      <th>spoken_languages</th>\n",
       "      <th>status</th>\n",
       "      <th>tagline</th>\n",
       "      <th>title</th>\n",
       "      <th>vote_average</th>\n",
       "      <th>vote_count</th>\n",
       "    </tr>\n",
       "  </thead>\n",
       "  <tbody>\n",
       "    <tr>\n",
       "      <th>972</th>\n",
       "      <td>44000000</td>\n",
       "      <td>[{\"id\": 28, \"name\": \"Action\"}, {\"id\": 12, \"nam...</td>\n",
       "      <td>NaN</td>\n",
       "      <td>72710</td>\n",
       "      <td>[{\"id\": 818, \"name\": \"based on novel\"}, {\"id\":...</td>\n",
       "      <td>en</td>\n",
       "      <td>The Host</td>\n",
       "      <td>A parasitic alien soul is injected into the bo...</td>\n",
       "      <td>42.933027</td>\n",
       "      <td>[{\"name\": \"Nick Wechsler Productions\", \"id\": 8...</td>\n",
       "      <td>[{\"iso_3166_1\": \"US\", \"name\": \"United States o...</td>\n",
       "      <td>2013-03-22</td>\n",
       "      <td>63327201</td>\n",
       "      <td>125.0</td>\n",
       "      <td>[{\"iso_639_1\": \"en\", \"name\": \"English\"}]</td>\n",
       "      <td>Released</td>\n",
       "      <td>You will be one of us</td>\n",
       "      <td>The Host</td>\n",
       "      <td>6.0</td>\n",
       "      <td>1817</td>\n",
       "    </tr>\n",
       "    <tr>\n",
       "      <th>1359</th>\n",
       "      <td>35000000</td>\n",
       "      <td>[{\"id\": 14, \"name\": \"Fantasy\"}, {\"id\": 28, \"na...</td>\n",
       "      <td>NaN</td>\n",
       "      <td>268</td>\n",
       "      <td>[{\"id\": 848, \"name\": \"double life\"}, {\"id\": 84...</td>\n",
       "      <td>en</td>\n",
       "      <td>Batman</td>\n",
       "      <td>The Dark Knight of Gotham City begins his war ...</td>\n",
       "      <td>44.104469</td>\n",
       "      <td>[{\"name\": \"PolyGram Filmed Entertainment\", \"id...</td>\n",
       "      <td>[{\"iso_3166_1\": \"GB\", \"name\": \"United Kingdom\"...</td>\n",
       "      <td>1989-06-23</td>\n",
       "      <td>411348924</td>\n",
       "      <td>126.0</td>\n",
       "      <td>[{\"iso_639_1\": \"en\", \"name\": \"English\"}, {\"iso...</td>\n",
       "      <td>Released</td>\n",
       "      <td>Have you ever danced with the devil in the pal...</td>\n",
       "      <td>Batman</td>\n",
       "      <td>7.0</td>\n",
       "      <td>2096</td>\n",
       "    </tr>\n",
       "    <tr>\n",
       "      <th>2877</th>\n",
       "      <td>11000000</td>\n",
       "      <td>[{\"id\": 27, \"name\": \"Horror\"}, {\"id\": 18, \"nam...</td>\n",
       "      <td>http://www.hostmovie.com/</td>\n",
       "      <td>1255</td>\n",
       "      <td>[{\"id\": 1261, \"name\": \"river\"}, {\"id\": 1880, \"...</td>\n",
       "      <td>ko</td>\n",
       "      <td>괴물</td>\n",
       "      <td>Gang-du is a dim-witted man working at his fat...</td>\n",
       "      <td>27.655270</td>\n",
       "      <td>[{\"name\": \"Cineclick Asia\", \"id\": 685}, {\"name...</td>\n",
       "      <td>[{\"iso_3166_1\": \"KR\", \"name\": \"South Korea\"}]</td>\n",
       "      <td>2006-07-27</td>\n",
       "      <td>88489643</td>\n",
       "      <td>119.0</td>\n",
       "      <td>[{\"iso_639_1\": \"ko\", \"name\": \"\\ud55c\\uad6d\\uc5...</td>\n",
       "      <td>Released</td>\n",
       "      <td>Monsters are real.</td>\n",
       "      <td>The Host</td>\n",
       "      <td>6.7</td>\n",
       "      <td>537</td>\n",
       "    </tr>\n",
       "    <tr>\n",
       "      <th>3647</th>\n",
       "      <td>0</td>\n",
       "      <td>[{\"id\": 18, \"name\": \"Drama\"}]</td>\n",
       "      <td>NaN</td>\n",
       "      <td>39269</td>\n",
       "      <td>[{\"id\": 4470, \"name\": \"punk\"}, {\"id\": 10183, \"...</td>\n",
       "      <td>en</td>\n",
       "      <td>Out of the Blue</td>\n",
       "      <td>Dennis Hopper is a hard-drinking truck driver ...</td>\n",
       "      <td>0.679351</td>\n",
       "      <td>[{\"name\": \"Robson Street\", \"id\": 71953}]</td>\n",
       "      <td>[{\"iso_3166_1\": \"CA\", \"name\": \"Canada\"}]</td>\n",
       "      <td>1980-05-01</td>\n",
       "      <td>0</td>\n",
       "      <td>94.0</td>\n",
       "      <td>[{\"iso_639_1\": \"en\", \"name\": \"English\"}]</td>\n",
       "      <td>Released</td>\n",
       "      <td>A harrowing drama from the director of Easy Rider</td>\n",
       "      <td>Out of the Blue</td>\n",
       "      <td>6.5</td>\n",
       "      <td>17</td>\n",
       "    </tr>\n",
       "    <tr>\n",
       "      <th>3693</th>\n",
       "      <td>0</td>\n",
       "      <td>[{\"id\": 18, \"name\": \"Drama\"}]</td>\n",
       "      <td>NaN</td>\n",
       "      <td>10844</td>\n",
       "      <td>[{\"id\": 2658, \"name\": \"new zealand\"}, {\"id\": 3...</td>\n",
       "      <td>en</td>\n",
       "      <td>Out of the Blue</td>\n",
       "      <td>Ordinary people find extraordinary courage in ...</td>\n",
       "      <td>0.706355</td>\n",
       "      <td>[]</td>\n",
       "      <td>[{\"iso_3166_1\": \"NZ\", \"name\": \"New Zealand\"}]</td>\n",
       "      <td>2006-10-12</td>\n",
       "      <td>0</td>\n",
       "      <td>103.0</td>\n",
       "      <td>[{\"iso_639_1\": \"en\", \"name\": \"English\"}]</td>\n",
       "      <td>Released</td>\n",
       "      <td>The true story of a small town massacre</td>\n",
       "      <td>Out of the Blue</td>\n",
       "      <td>5.9</td>\n",
       "      <td>18</td>\n",
       "    </tr>\n",
       "    <tr>\n",
       "      <th>4267</th>\n",
       "      <td>1377800</td>\n",
       "      <td>[{\"id\": 10751, \"name\": \"Family\"}, {\"id\": 12, \"...</td>\n",
       "      <td>NaN</td>\n",
       "      <td>2661</td>\n",
       "      <td>[{\"id\": 339, \"name\": \"submarine\"}, {\"id\": 849,...</td>\n",
       "      <td>en</td>\n",
       "      <td>Batman</td>\n",
       "      <td>The Dynamic Duo faces four super-villains who ...</td>\n",
       "      <td>9.815394</td>\n",
       "      <td>[{\"name\": \"Twentieth Century Fox Film Corporat...</td>\n",
       "      <td>[{\"iso_3166_1\": \"US\", \"name\": \"United States o...</td>\n",
       "      <td>1966-07-30</td>\n",
       "      <td>0</td>\n",
       "      <td>105.0</td>\n",
       "      <td>[{\"iso_639_1\": \"en\", \"name\": \"English\"}]</td>\n",
       "      <td>Released</td>\n",
       "      <td>He's Here Big As Life In A Real Bat-Epic</td>\n",
       "      <td>Batman</td>\n",
       "      <td>6.1</td>\n",
       "      <td>203</td>\n",
       "    </tr>\n",
       "  </tbody>\n",
       "</table>\n",
       "</div>"
      ],
      "text/plain": [
       "        budget                                             genres  \\\n",
       "972   44000000  [{\"id\": 28, \"name\": \"Action\"}, {\"id\": 12, \"nam...   \n",
       "1359  35000000  [{\"id\": 14, \"name\": \"Fantasy\"}, {\"id\": 28, \"na...   \n",
       "2877  11000000  [{\"id\": 27, \"name\": \"Horror\"}, {\"id\": 18, \"nam...   \n",
       "3647         0                      [{\"id\": 18, \"name\": \"Drama\"}]   \n",
       "3693         0                      [{\"id\": 18, \"name\": \"Drama\"}]   \n",
       "4267   1377800  [{\"id\": 10751, \"name\": \"Family\"}, {\"id\": 12, \"...   \n",
       "\n",
       "                       homepage     id  \\\n",
       "972                         NaN  72710   \n",
       "1359                        NaN    268   \n",
       "2877  http://www.hostmovie.com/   1255   \n",
       "3647                        NaN  39269   \n",
       "3693                        NaN  10844   \n",
       "4267                        NaN   2661   \n",
       "\n",
       "                                               keywords original_language  \\\n",
       "972   [{\"id\": 818, \"name\": \"based on novel\"}, {\"id\":...                en   \n",
       "1359  [{\"id\": 848, \"name\": \"double life\"}, {\"id\": 84...                en   \n",
       "2877  [{\"id\": 1261, \"name\": \"river\"}, {\"id\": 1880, \"...                ko   \n",
       "3647  [{\"id\": 4470, \"name\": \"punk\"}, {\"id\": 10183, \"...                en   \n",
       "3693  [{\"id\": 2658, \"name\": \"new zealand\"}, {\"id\": 3...                en   \n",
       "4267  [{\"id\": 339, \"name\": \"submarine\"}, {\"id\": 849,...                en   \n",
       "\n",
       "       original_title                                           overview  \\\n",
       "972          The Host  A parasitic alien soul is injected into the bo...   \n",
       "1359           Batman  The Dark Knight of Gotham City begins his war ...   \n",
       "2877               괴물  Gang-du is a dim-witted man working at his fat...   \n",
       "3647  Out of the Blue  Dennis Hopper is a hard-drinking truck driver ...   \n",
       "3693  Out of the Blue  Ordinary people find extraordinary courage in ...   \n",
       "4267           Batman  The Dynamic Duo faces four super-villains who ...   \n",
       "\n",
       "      popularity                               production_companies  \\\n",
       "972    42.933027  [{\"name\": \"Nick Wechsler Productions\", \"id\": 8...   \n",
       "1359   44.104469  [{\"name\": \"PolyGram Filmed Entertainment\", \"id...   \n",
       "2877   27.655270  [{\"name\": \"Cineclick Asia\", \"id\": 685}, {\"name...   \n",
       "3647    0.679351           [{\"name\": \"Robson Street\", \"id\": 71953}]   \n",
       "3693    0.706355                                                 []   \n",
       "4267    9.815394  [{\"name\": \"Twentieth Century Fox Film Corporat...   \n",
       "\n",
       "                                   production_countries release_date  \\\n",
       "972   [{\"iso_3166_1\": \"US\", \"name\": \"United States o...   2013-03-22   \n",
       "1359  [{\"iso_3166_1\": \"GB\", \"name\": \"United Kingdom\"...   1989-06-23   \n",
       "2877      [{\"iso_3166_1\": \"KR\", \"name\": \"South Korea\"}]   2006-07-27   \n",
       "3647           [{\"iso_3166_1\": \"CA\", \"name\": \"Canada\"}]   1980-05-01   \n",
       "3693      [{\"iso_3166_1\": \"NZ\", \"name\": \"New Zealand\"}]   2006-10-12   \n",
       "4267  [{\"iso_3166_1\": \"US\", \"name\": \"United States o...   1966-07-30   \n",
       "\n",
       "        revenue  runtime                                   spoken_languages  \\\n",
       "972    63327201    125.0           [{\"iso_639_1\": \"en\", \"name\": \"English\"}]   \n",
       "1359  411348924    126.0  [{\"iso_639_1\": \"en\", \"name\": \"English\"}, {\"iso...   \n",
       "2877   88489643    119.0  [{\"iso_639_1\": \"ko\", \"name\": \"\\ud55c\\uad6d\\uc5...   \n",
       "3647          0     94.0           [{\"iso_639_1\": \"en\", \"name\": \"English\"}]   \n",
       "3693          0    103.0           [{\"iso_639_1\": \"en\", \"name\": \"English\"}]   \n",
       "4267          0    105.0           [{\"iso_639_1\": \"en\", \"name\": \"English\"}]   \n",
       "\n",
       "        status                                            tagline  \\\n",
       "972   Released                              You will be one of us   \n",
       "1359  Released  Have you ever danced with the devil in the pal...   \n",
       "2877  Released                                 Monsters are real.   \n",
       "3647  Released  A harrowing drama from the director of Easy Rider   \n",
       "3693  Released            The true story of a small town massacre   \n",
       "4267  Released           He's Here Big As Life In A Real Bat-Epic   \n",
       "\n",
       "                title  vote_average  vote_count  \n",
       "972          The Host           6.0        1817  \n",
       "1359           Batman           7.0        2096  \n",
       "2877         The Host           6.7         537  \n",
       "3647  Out of the Blue           6.5          17  \n",
       "3693  Out of the Blue           5.9          18  \n",
       "4267           Batman           6.1         203  "
      ]
     },
     "execution_count": 8,
     "metadata": {},
     "output_type": "execute_result"
    }
   ],
   "source": [
    "movies_df[movies_df.duplicated(subset = ['title'], keep = False)]"
   ]
  },
  {
   "cell_type": "markdown",
   "id": "ec1fde5d",
   "metadata": {
    "papermill": {
     "duration": 0.010067,
     "end_time": "2024-06-09T00:43:27.753546",
     "exception": false,
     "start_time": "2024-06-09T00:43:27.743479",
     "status": "completed"
    },
    "tags": []
   },
   "source": [
    "There is no duplicated data on this dataset. We have duplicated movie titles, but these movies have different tagline, and release dates. So, there is no need to drop any row.\n",
    "\n",
    "Now, let's start the EDA process looking at some columns"
   ]
  },
  {
   "cell_type": "code",
   "execution_count": 9,
   "id": "ce439db5",
   "metadata": {
    "execution": {
     "iopub.execute_input": "2024-06-09T00:43:27.776158Z",
     "iopub.status.busy": "2024-06-09T00:43:27.775725Z",
     "iopub.status.idle": "2024-06-09T00:43:27.782392Z",
     "shell.execute_reply": "2024-06-09T00:43:27.781205Z"
    },
    "papermill": {
     "duration": 0.02134,
     "end_time": "2024-06-09T00:43:27.785351",
     "exception": false,
     "start_time": "2024-06-09T00:43:27.764011",
     "status": "completed"
    },
    "tags": []
   },
   "outputs": [
    {
     "name": "stdout",
     "output_type": "stream",
     "text": [
      "[{\"id\": 28, \"name\": \"Action\"}, {\"id\": 12, \"name\": \"Adventure\"}, {\"id\": 14, \"name\": \"Fantasy\"}, {\"id\": 878, \"name\": \"Science Fiction\"}]\n",
      "[{\"id\": 12, \"name\": \"Adventure\"}, {\"id\": 14, \"name\": \"Fantasy\"}, {\"id\": 28, \"name\": \"Action\"}]\n",
      "[{\"id\": 28, \"name\": \"Action\"}, {\"id\": 12, \"name\": \"Adventure\"}, {\"id\": 80, \"name\": \"Crime\"}]\n",
      "[{\"id\": 28, \"name\": \"Action\"}, {\"id\": 80, \"name\": \"Crime\"}, {\"id\": 18, \"name\": \"Drama\"}, {\"id\": 53, \"name\": \"Thriller\"}]\n",
      "dtype: <class 'str'>\n"
     ]
    }
   ],
   "source": [
    "# Genres\n",
    "for i in range(4):\n",
    "    print(movies_df['genres'].iloc[i])\n",
    "    \n",
    "print(f\"dtype: {type(movies_df['genres'].iloc[0])}\")"
   ]
  },
  {
   "cell_type": "code",
   "execution_count": 10,
   "id": "11d0dc74",
   "metadata": {
    "execution": {
     "iopub.execute_input": "2024-06-09T00:43:27.808214Z",
     "iopub.status.busy": "2024-06-09T00:43:27.807792Z",
     "iopub.status.idle": "2024-06-09T00:43:27.814620Z",
     "shell.execute_reply": "2024-06-09T00:43:27.813375Z"
    },
    "papermill": {
     "duration": 0.02248,
     "end_time": "2024-06-09T00:43:27.818273",
     "exception": false,
     "start_time": "2024-06-09T00:43:27.795793",
     "status": "completed"
    },
    "tags": []
   },
   "outputs": [
    {
     "name": "stdout",
     "output_type": "stream",
     "text": [
      "[{\"id\": 1463, \"name\": \"culture clash\"}, {\"id\": 2964, \"name\": \"future\"}, {\"id\": 3386, \"name\": \"space war\"}, {\"id\": 3388, \"name\": \"space colony\"}, {\"id\": 3679, \"name\": \"society\"}, {\"id\": 3801, \"name\": \"space travel\"}, {\"id\": 9685, \"name\": \"futuristic\"}, {\"id\": 9840, \"name\": \"romance\"}, {\"id\": 9882, \"name\": \"space\"}, {\"id\": 9951, \"name\": \"alien\"}, {\"id\": 10148, \"name\": \"tribe\"}, {\"id\": 10158, \"name\": \"alien planet\"}, {\"id\": 10987, \"name\": \"cgi\"}, {\"id\": 11399, \"name\": \"marine\"}, {\"id\": 13065, \"name\": \"soldier\"}, {\"id\": 14643, \"name\": \"battle\"}, {\"id\": 14720, \"name\": \"love affair\"}, {\"id\": 165431, \"name\": \"anti war\"}, {\"id\": 193554, \"name\": \"power relations\"}, {\"id\": 206690, \"name\": \"mind and soul\"}, {\"id\": 209714, \"name\": \"3d\"}]\n",
      "\n",
      "\n",
      "[{\"id\": 270, \"name\": \"ocean\"}, {\"id\": 726, \"name\": \"drug abuse\"}, {\"id\": 911, \"name\": \"exotic island\"}, {\"id\": 1319, \"name\": \"east india trading company\"}, {\"id\": 2038, \"name\": \"love of one's life\"}, {\"id\": 2052, \"name\": \"traitor\"}, {\"id\": 2580, \"name\": \"shipwreck\"}, {\"id\": 2660, \"name\": \"strong woman\"}, {\"id\": 3799, \"name\": \"ship\"}, {\"id\": 5740, \"name\": \"alliance\"}, {\"id\": 5941, \"name\": \"calypso\"}, {\"id\": 6155, \"name\": \"afterlife\"}, {\"id\": 6211, \"name\": \"fighter\"}, {\"id\": 12988, \"name\": \"pirate\"}, {\"id\": 157186, \"name\": \"swashbuckler\"}, {\"id\": 179430, \"name\": \"aftercreditsstinger\"}]\n",
      "\n",
      "\n",
      "dtype: <class 'str'>\n"
     ]
    }
   ],
   "source": [
    "# Keywords\n",
    "for i in range(2):\n",
    "    print(movies_df['keywords'].iloc[i])\n",
    "    print('\\n')\n",
    "    \n",
    "print(f\"dtype: {type(movies_df['keywords'].iloc[0])}\")"
   ]
  },
  {
   "cell_type": "code",
   "execution_count": 11,
   "id": "e29925cb",
   "metadata": {
    "execution": {
     "iopub.execute_input": "2024-06-09T00:43:27.843081Z",
     "iopub.status.busy": "2024-06-09T00:43:27.842641Z",
     "iopub.status.idle": "2024-06-09T00:43:27.849742Z",
     "shell.execute_reply": "2024-06-09T00:43:27.848417Z"
    },
    "papermill": {
     "duration": 0.022626,
     "end_time": "2024-06-09T00:43:27.852610",
     "exception": false,
     "start_time": "2024-06-09T00:43:27.829984",
     "status": "completed"
    },
    "tags": []
   },
   "outputs": [
    {
     "name": "stdout",
     "output_type": "stream",
     "text": [
      "In the 22nd century, a paraplegic Marine is dispatched to the moon Pandora on a unique mission, but becomes torn between following orders and protecting an alien civilization.\n",
      "\n",
      "\n",
      "Captain Barbossa, long believed to be dead, has come back to life and is headed to the edge of the Earth with Will Turner and Elizabeth Swann. But nothing is quite as it seems.\n",
      "\n",
      "\n",
      "A cryptic message from Bond’s past sends him on a trail to uncover a sinister organization. While M battles political forces to keep the secret service alive, Bond peels back the layers of deceit to reveal the terrible truth behind SPECTRE.\n",
      "\n",
      "\n",
      "Following the death of District Attorney Harvey Dent, Batman assumes responsibility for Dent's crimes to protect the late attorney's reputation and is subsequently hunted by the Gotham City Police Department. Eight years later, Batman encounters the mysterious Selina Kyle and the villainous Bane, a new terrorist leader who overwhelms Gotham's finest. The Dark Knight resurfaces to protect a city that has branded him an enemy.\n",
      "\n",
      "\n"
     ]
    }
   ],
   "source": [
    "# Overview\n",
    "for i in range(4):\n",
    "    print(movies_df['overview'].iloc[i])\n",
    "    print('\\n');"
   ]
  },
  {
   "cell_type": "code",
   "execution_count": 12,
   "id": "474351c8",
   "metadata": {
    "execution": {
     "iopub.execute_input": "2024-06-09T00:43:27.877048Z",
     "iopub.status.busy": "2024-06-09T00:43:27.876624Z",
     "iopub.status.idle": "2024-06-09T00:43:28.137766Z",
     "shell.execute_reply": "2024-06-09T00:43:28.136491Z"
    },
    "papermill": {
     "duration": 0.276468,
     "end_time": "2024-06-09T00:43:28.140445",
     "exception": false,
     "start_time": "2024-06-09T00:43:27.863977",
     "status": "completed"
    },
    "tags": []
   },
   "outputs": [
    {
     "name": "stderr",
     "output_type": "stream",
     "text": [
      "/opt/conda/lib/python3.10/site-packages/seaborn/_oldcore.py:1119: FutureWarning: use_inf_as_na option is deprecated and will be removed in a future version. Convert inf values to NaN before operating instead.\n",
      "  with pd.option_context('mode.use_inf_as_na', True):\n"
     ]
    },
    {
     "data": {
      "text/plain": [
       "<Axes: xlabel='status', ylabel='Count'>"
      ]
     },
     "execution_count": 12,
     "metadata": {},
     "output_type": "execute_result"
    },
    {
     "data": {
      "image/png": "[encoded data removed]",
      "text/plain": [
       "<Figure size 640x480 with 1 Axes>"
      ]
     },
     "metadata": {},
     "output_type": "display_data"
    }
   ],
   "source": [
    "#status\n",
    "sns.histplot(data = movies_df, x='status')"
   ]
  },
  {
   "cell_type": "markdown",
   "id": "86660200",
   "metadata": {
    "papermill": {
     "duration": 0.011458,
     "end_time": "2024-06-09T00:43:28.164354",
     "exception": false,
     "start_time": "2024-06-09T00:43:28.152896",
     "status": "completed"
    },
    "tags": []
   },
   "source": [
    "## Data cleaning and feature extraction"
   ]
  },
  {
   "cell_type": "code",
   "execution_count": 13,
   "id": "b263d586",
   "metadata": {
    "execution": {
     "iopub.execute_input": "2024-06-09T00:43:28.189938Z",
     "iopub.status.busy": "2024-06-09T00:43:28.189487Z",
     "iopub.status.idle": "2024-06-09T00:43:28.203903Z",
     "shell.execute_reply": "2024-06-09T00:43:28.202682Z"
    },
    "papermill": {
     "duration": 0.031422,
     "end_time": "2024-06-09T00:43:28.207702",
     "exception": false,
     "start_time": "2024-06-09T00:43:28.176280",
     "status": "completed"
    },
    "tags": []
   },
   "outputs": [
    {
     "name": "stdout",
     "output_type": "stream",
     "text": [
      "Shape after filtering status (4795, 20)\n",
      "Shape after dropping duplicated values (4792, 20)\n"
     ]
    },
    {
     "name": "stderr",
     "output_type": "stream",
     "text": [
      "/tmp/ipykernel_18/3244751651.py:6: SettingWithCopyWarning: \n",
      "A value is trying to be set on a copy of a slice from a DataFrame\n",
      "\n",
      "See the caveats in the documentation: https://pandas.pydata.org/pandas-docs/stable/user_guide/indexing.html#returning-a-view-versus-a-copy\n",
      "  df_model.drop_duplicates('title', keep = 'first',inplace = True)\n"
     ]
    }
   ],
   "source": [
    "#As the goal of our model is to recommend, lets only use movies that were released\n",
    "\n",
    "df_model = movies_df[movies_df['status']=='Released']\n",
    "print(f\"Shape after filtering status {df_model.shape}\")\n",
    "#Also, we will use the title of the movie as the query. As we only have 3 duplicated titles, lets just drop it\n",
    "df_model.drop_duplicates('title', keep = 'first',inplace = True)\n",
    "print(f\"Shape after dropping duplicated values {df_model.shape}\")"
   ]
  },
  {
   "cell_type": "code",
   "execution_count": 14,
   "id": "d931b2da",
   "metadata": {
    "execution": {
     "iopub.execute_input": "2024-06-09T00:43:28.233640Z",
     "iopub.status.busy": "2024-06-09T00:43:28.233205Z",
     "iopub.status.idle": "2024-06-09T00:43:28.322599Z",
     "shell.execute_reply": "2024-06-09T00:43:28.321371Z"
    },
    "papermill": {
     "duration": 0.106217,
     "end_time": "2024-06-09T00:43:28.326025",
     "exception": false,
     "start_time": "2024-06-09T00:43:28.219808",
     "status": "completed"
    },
    "tags": []
   },
   "outputs": [
    {
     "name": "stderr",
     "output_type": "stream",
     "text": [
      "/tmp/ipykernel_18/282241636.py:14: SettingWithCopyWarning: \n",
      "A value is trying to be set on a copy of a slice from a DataFrame.\n",
      "Try using .loc[row_indexer,col_indexer] = value instead\n",
      "\n",
      "See the caveats in the documentation: https://pandas.pydata.org/pandas-docs/stable/user_guide/indexing.html#returning-a-view-versus-a-copy\n",
      "  df_model.loc[:,'str_genres'] = df_model.loc[:,'genres'].apply(extractString)\n",
      "/tmp/ipykernel_18/282241636.py:15: SettingWithCopyWarning: \n",
      "A value is trying to be set on a copy of a slice from a DataFrame.\n",
      "Try using .loc[row_indexer,col_indexer] = value instead\n",
      "\n",
      "See the caveats in the documentation: https://pandas.pydata.org/pandas-docs/stable/user_guide/indexing.html#returning-a-view-versus-a-copy\n",
      "  df_model.loc[:,'str_keywords'] = df_model.loc[:,'keywords'].apply(extractString)\n"
     ]
    },
    {
     "data": {
      "text/html": [
       "<div>\n",
       "<style scoped>\n",
       "    .dataframe tbody tr th:only-of-type {\n",
       "        vertical-align: middle;\n",
       "    }\n",
       "\n",
       "    .dataframe tbody tr th {\n",
       "        vertical-align: top;\n",
       "    }\n",
       "\n",
       "    .dataframe thead th {\n",
       "        text-align: right;\n",
       "    }\n",
       "</style>\n",
       "<table border=\"1\" class=\"dataframe\">\n",
       "  <thead>\n",
       "    <tr style=\"text-align: right;\">\n",
       "      <th></th>\n",
       "      <th>budget</th>\n",
       "      <th>genres</th>\n",
       "      <th>homepage</th>\n",
       "      <th>id</th>\n",
       "      <th>keywords</th>\n",
       "      <th>original_language</th>\n",
       "      <th>original_title</th>\n",
       "      <th>overview</th>\n",
       "      <th>popularity</th>\n",
       "      <th>production_companies</th>\n",
       "      <th>...</th>\n",
       "      <th>revenue</th>\n",
       "      <th>runtime</th>\n",
       "      <th>spoken_languages</th>\n",
       "      <th>status</th>\n",
       "      <th>tagline</th>\n",
       "      <th>title</th>\n",
       "      <th>vote_average</th>\n",
       "      <th>vote_count</th>\n",
       "      <th>str_genres</th>\n",
       "      <th>str_keywords</th>\n",
       "    </tr>\n",
       "  </thead>\n",
       "  <tbody>\n",
       "    <tr>\n",
       "      <th>0</th>\n",
       "      <td>237000000</td>\n",
       "      <td>[{\"id\": 28, \"name\": \"Action\"}, {\"id\": 12, \"nam...</td>\n",
       "      <td>http://www.avatarmovie.com/</td>\n",
       "      <td>19995</td>\n",
       "      <td>[{\"id\": 1463, \"name\": \"culture clash\"}, {\"id\":...</td>\n",
       "      <td>en</td>\n",
       "      <td>Avatar</td>\n",
       "      <td>In the 22nd century, a paraplegic Marine is di...</td>\n",
       "      <td>150.437577</td>\n",
       "      <td>[{\"name\": \"Ingenious Film Partners\", \"id\": 289...</td>\n",
       "      <td>...</td>\n",
       "      <td>2787965087</td>\n",
       "      <td>162.0</td>\n",
       "      <td>[{\"iso_639_1\": \"en\", \"name\": \"English\"}, {\"iso...</td>\n",
       "      <td>Released</td>\n",
       "      <td>Enter the World of Pandora.</td>\n",
       "      <td>Avatar</td>\n",
       "      <td>7.2</td>\n",
       "      <td>11800</td>\n",
       "      <td>Action Adventure Fantasy Science Fiction</td>\n",
       "      <td>culture clash future space war space colony so...</td>\n",
       "    </tr>\n",
       "    <tr>\n",
       "      <th>1</th>\n",
       "      <td>300000000</td>\n",
       "      <td>[{\"id\": 12, \"name\": \"Adventure\"}, {\"id\": 14, \"...</td>\n",
       "      <td>http://disney.go.com/disneypictures/pirates/</td>\n",
       "      <td>285</td>\n",
       "      <td>[{\"id\": 270, \"name\": \"ocean\"}, {\"id\": 726, \"na...</td>\n",
       "      <td>en</td>\n",
       "      <td>Pirates of the Caribbean: At World's End</td>\n",
       "      <td>Captain Barbossa, long believed to be dead, ha...</td>\n",
       "      <td>139.082615</td>\n",
       "      <td>[{\"name\": \"Walt Disney Pictures\", \"id\": 2}, {\"...</td>\n",
       "      <td>...</td>\n",
       "      <td>961000000</td>\n",
       "      <td>169.0</td>\n",
       "      <td>[{\"iso_639_1\": \"en\", \"name\": \"English\"}]</td>\n",
       "      <td>Released</td>\n",
       "      <td>At the end of the world, the adventure begins.</td>\n",
       "      <td>Pirates of the Caribbean: At World's End</td>\n",
       "      <td>6.9</td>\n",
       "      <td>4500</td>\n",
       "      <td>Adventure Fantasy Action</td>\n",
       "      <td>ocean drug abuse exotic island east india trad...</td>\n",
       "    </tr>\n",
       "    <tr>\n",
       "      <th>2</th>\n",
       "      <td>245000000</td>\n",
       "      <td>[{\"id\": 28, \"name\": \"Action\"}, {\"id\": 12, \"nam...</td>\n",
       "      <td>http://www.sonypictures.com/movies/spectre/</td>\n",
       "      <td>206647</td>\n",
       "      <td>[{\"id\": 470, \"name\": \"spy\"}, {\"id\": 818, \"name...</td>\n",
       "      <td>en</td>\n",
       "      <td>Spectre</td>\n",
       "      <td>A cryptic message from Bond’s past sends him o...</td>\n",
       "      <td>107.376788</td>\n",
       "      <td>[{\"name\": \"Columbia Pictures\", \"id\": 5}, {\"nam...</td>\n",
       "      <td>...</td>\n",
       "      <td>880674609</td>\n",
       "      <td>148.0</td>\n",
       "      <td>[{\"iso_639_1\": \"fr\", \"name\": \"Fran\\u00e7ais\"},...</td>\n",
       "      <td>Released</td>\n",
       "      <td>A Plan No One Escapes</td>\n",
       "      <td>Spectre</td>\n",
       "      <td>6.3</td>\n",
       "      <td>4466</td>\n",
       "      <td>Action Adventure Crime</td>\n",
       "      <td>spy based on novel secret agent sequel mi6 bri...</td>\n",
       "    </tr>\n",
       "    <tr>\n",
       "      <th>3</th>\n",
       "      <td>250000000</td>\n",
       "      <td>[{\"id\": 28, \"name\": \"Action\"}, {\"id\": 80, \"nam...</td>\n",
       "      <td>http://www.thedarkknightrises.com/</td>\n",
       "      <td>49026</td>\n",
       "      <td>[{\"id\": 849, \"name\": \"dc comics\"}, {\"id\": 853,...</td>\n",
       "      <td>en</td>\n",
       "      <td>The Dark Knight Rises</td>\n",
       "      <td>Following the death of District Attorney Harve...</td>\n",
       "      <td>112.312950</td>\n",
       "      <td>[{\"name\": \"Legendary Pictures\", \"id\": 923}, {\"...</td>\n",
       "      <td>...</td>\n",
       "      <td>1084939099</td>\n",
       "      <td>165.0</td>\n",
       "      <td>[{\"iso_639_1\": \"en\", \"name\": \"English\"}]</td>\n",
       "      <td>Released</td>\n",
       "      <td>The Legend Ends</td>\n",
       "      <td>The Dark Knight Rises</td>\n",
       "      <td>7.6</td>\n",
       "      <td>9106</td>\n",
       "      <td>Action Crime Drama Thriller</td>\n",
       "      <td>dc comics crime fighter terrorist secret ident...</td>\n",
       "    </tr>\n",
       "    <tr>\n",
       "      <th>4</th>\n",
       "      <td>260000000</td>\n",
       "      <td>[{\"id\": 28, \"name\": \"Action\"}, {\"id\": 12, \"nam...</td>\n",
       "      <td>http://movies.disney.com/john-carter</td>\n",
       "      <td>49529</td>\n",
       "      <td>[{\"id\": 818, \"name\": \"based on novel\"}, {\"id\":...</td>\n",
       "      <td>en</td>\n",
       "      <td>John Carter</td>\n",
       "      <td>John Carter is a war-weary, former military ca...</td>\n",
       "      <td>43.926995</td>\n",
       "      <td>[{\"name\": \"Walt Disney Pictures\", \"id\": 2}]</td>\n",
       "      <td>...</td>\n",
       "      <td>284139100</td>\n",
       "      <td>132.0</td>\n",
       "      <td>[{\"iso_639_1\": \"en\", \"name\": \"English\"}]</td>\n",
       "      <td>Released</td>\n",
       "      <td>Lost in our world, found in another.</td>\n",
       "      <td>John Carter</td>\n",
       "      <td>6.1</td>\n",
       "      <td>2124</td>\n",
       "      <td>Action Adventure Science Fiction</td>\n",
       "      <td>based on novel mars medallion space travel pri...</td>\n",
       "    </tr>\n",
       "  </tbody>\n",
       "</table>\n",
       "<p>5 rows × 22 columns</p>\n",
       "</div>"
      ],
      "text/plain": [
       "      budget                                             genres  \\\n",
       "0  237000000  [{\"id\": 28, \"name\": \"Action\"}, {\"id\": 12, \"nam...   \n",
       "1  300000000  [{\"id\": 12, \"name\": \"Adventure\"}, {\"id\": 14, \"...   \n",
       "2  245000000  [{\"id\": 28, \"name\": \"Action\"}, {\"id\": 12, \"nam...   \n",
       "3  250000000  [{\"id\": 28, \"name\": \"Action\"}, {\"id\": 80, \"nam...   \n",
       "4  260000000  [{\"id\": 28, \"name\": \"Action\"}, {\"id\": 12, \"nam...   \n",
       "\n",
       "                                       homepage      id  \\\n",
       "0                   http://www.avatarmovie.com/   19995   \n",
       "1  http://disney.go.com/disneypictures/pirates/     285   \n",
       "2   http://www.sonypictures.com/movies/spectre/  206647   \n",
       "3            http://www.thedarkknightrises.com/   49026   \n",
       "4          http://movies.disney.com/john-carter   49529   \n",
       "\n",
       "                                            keywords original_language  \\\n",
       "0  [{\"id\": 1463, \"name\": \"culture clash\"}, {\"id\":...                en   \n",
       "1  [{\"id\": 270, \"name\": \"ocean\"}, {\"id\": 726, \"na...                en   \n",
       "2  [{\"id\": 470, \"name\": \"spy\"}, {\"id\": 818, \"name...                en   \n",
       "3  [{\"id\": 849, \"name\": \"dc comics\"}, {\"id\": 853,...                en   \n",
       "4  [{\"id\": 818, \"name\": \"based on novel\"}, {\"id\":...                en   \n",
       "\n",
       "                             original_title  \\\n",
       "0                                    Avatar   \n",
       "1  Pirates of the Caribbean: At World's End   \n",
       "2                                   Spectre   \n",
       "3                     The Dark Knight Rises   \n",
       "4                               John Carter   \n",
       "\n",
       "                                            overview  popularity  \\\n",
       "0  In the 22nd century, a paraplegic Marine is di...  150.437577   \n",
       "1  Captain Barbossa, long believed to be dead, ha...  139.082615   \n",
       "2  A cryptic message from Bond’s past sends him o...  107.376788   \n",
       "3  Following the death of District Attorney Harve...  112.312950   \n",
       "4  John Carter is a war-weary, former military ca...   43.926995   \n",
       "\n",
       "                                production_companies  ...     revenue runtime  \\\n",
       "0  [{\"name\": \"Ingenious Film Partners\", \"id\": 289...  ...  2787965087   162.0   \n",
       "1  [{\"name\": \"Walt Disney Pictures\", \"id\": 2}, {\"...  ...   961000000   169.0   \n",
       "2  [{\"name\": \"Columbia Pictures\", \"id\": 5}, {\"nam...  ...   880674609   148.0   \n",
       "3  [{\"name\": \"Legendary Pictures\", \"id\": 923}, {\"...  ...  1084939099   165.0   \n",
       "4        [{\"name\": \"Walt Disney Pictures\", \"id\": 2}]  ...   284139100   132.0   \n",
       "\n",
       "                                    spoken_languages    status  \\\n",
       "0  [{\"iso_639_1\": \"en\", \"name\": \"English\"}, {\"iso...  Released   \n",
       "1           [{\"iso_639_1\": \"en\", \"name\": \"English\"}]  Released   \n",
       "2  [{\"iso_639_1\": \"fr\", \"name\": \"Fran\\u00e7ais\"},...  Released   \n",
       "3           [{\"iso_639_1\": \"en\", \"name\": \"English\"}]  Released   \n",
       "4           [{\"iso_639_1\": \"en\", \"name\": \"English\"}]  Released   \n",
       "\n",
       "                                          tagline  \\\n",
       "0                     Enter the World of Pandora.   \n",
       "1  At the end of the world, the adventure begins.   \n",
       "2                           A Plan No One Escapes   \n",
       "3                                 The Legend Ends   \n",
       "4            Lost in our world, found in another.   \n",
       "\n",
       "                                      title vote_average vote_count  \\\n",
       "0                                    Avatar          7.2      11800   \n",
       "1  Pirates of the Caribbean: At World's End          6.9       4500   \n",
       "2                                   Spectre          6.3       4466   \n",
       "3                     The Dark Knight Rises          7.6       9106   \n",
       "4                               John Carter          6.1       2124   \n",
       "\n",
       "                                 str_genres  \\\n",
       "0  Action Adventure Fantasy Science Fiction   \n",
       "1                  Adventure Fantasy Action   \n",
       "2                    Action Adventure Crime   \n",
       "3               Action Crime Drama Thriller   \n",
       "4          Action Adventure Science Fiction   \n",
       "\n",
       "                                        str_keywords  \n",
       "0  culture clash future space war space colony so...  \n",
       "1  ocean drug abuse exotic island east india trad...  \n",
       "2  spy based on novel secret agent sequel mi6 bri...  \n",
       "3  dc comics crime fighter terrorist secret ident...  \n",
       "4  based on novel mars medallion space travel pri...  \n",
       "\n",
       "[5 rows x 22 columns]"
      ]
     },
     "execution_count": 14,
     "metadata": {},
     "output_type": "execute_result"
    }
   ],
   "source": [
    "#Lets extract and join the keywords and genres\n",
    "def extractString(x):\n",
    "    \n",
    "    '''\n",
    "        input: x -> Data with the extruture: [ {\"id\": , \"name\"} ] -> dtype STR\n",
    "        output: string -> A string with all names concatenated\n",
    "    ''' \n",
    "    x_split1 = x[1:-1].split(\"}\")\n",
    "    x_split2 = [string.split('\"')[5] for string in x_split1[:-1]]\n",
    "    string = \" \".join(x_split2)\n",
    "        \n",
    "    return string\n",
    "\n",
    "df_model.loc[:,'str_genres'] = df_model.loc[:,'genres'].apply(extractString)\n",
    "df_model.loc[:,'str_keywords'] = df_model.loc[:,'keywords'].apply(extractString)\n",
    "\n",
    "df_model.head()"
   ]
  },
  {
   "cell_type": "markdown",
   "id": "b7463b48",
   "metadata": {
    "papermill": {
     "duration": 0.01258,
     "end_time": "2024-06-09T00:43:28.351459",
     "exception": false,
     "start_time": "2024-06-09T00:43:28.338879",
     "status": "completed"
    },
    "tags": []
   },
   "source": [
    "We will use the following features to create our model\n",
    "* Genres\n",
    "* Keywords\n",
    "* Original language\n",
    "* Overview\n",
    "\n",
    "The other features seens to not aggregate much for the purpose. Later, we can add vote_average to see if it improves customer satisfaction (or apply a filter to it)."
   ]
  },
  {
   "cell_type": "code",
   "execution_count": 15,
   "id": "fb24f700",
   "metadata": {
    "execution": {
     "iopub.execute_input": "2024-06-09T00:43:28.379004Z",
     "iopub.status.busy": "2024-06-09T00:43:28.378572Z",
     "iopub.status.idle": "2024-06-09T00:43:28.454593Z",
     "shell.execute_reply": "2024-06-09T00:43:28.452935Z"
    },
    "papermill": {
     "duration": 0.093821,
     "end_time": "2024-06-09T00:43:28.458054",
     "exception": false,
     "start_time": "2024-06-09T00:43:28.364233",
     "status": "completed"
    },
    "tags": []
   },
   "outputs": [
    {
     "name": "stderr",
     "output_type": "stream",
     "text": [
      "/tmp/ipykernel_18/1871967041.py:1: SettingWithCopyWarning: \n",
      "A value is trying to be set on a copy of a slice from a DataFrame.\n",
      "Try using .loc[row_indexer,col_indexer] = value instead\n",
      "\n",
      "See the caveats in the documentation: https://pandas.pydata.org/pandas-docs/stable/user_guide/indexing.html#returning-a-view-versus-a-copy\n",
      "  df_model['feat_text'] = df_model[['str_genres','str_keywords','overview','original_language']].astype(str).agg(\" \".join, axis = 1)\n"
     ]
    }
   ],
   "source": [
    "df_model['feat_text'] = df_model[['str_genres','str_keywords','overview','original_language']].astype(str).agg(\" \".join, axis = 1)\n",
    "df_model.reset_index(inplace = True)\n",
    "text = df_model['feat_text'].copy()"
   ]
  },
  {
   "cell_type": "code",
   "execution_count": 16,
   "id": "1e273d72",
   "metadata": {
    "execution": {
     "iopub.execute_input": "2024-06-09T00:43:28.492050Z",
     "iopub.status.busy": "2024-06-09T00:43:28.491660Z",
     "iopub.status.idle": "2024-06-09T00:43:28.500848Z",
     "shell.execute_reply": "2024-06-09T00:43:28.499650Z"
    },
    "papermill": {
     "duration": 0.026501,
     "end_time": "2024-06-09T00:43:28.503276",
     "exception": false,
     "start_time": "2024-06-09T00:43:28.476775",
     "status": "completed"
    },
    "tags": []
   },
   "outputs": [
    {
     "data": {
      "text/plain": [
       "0       Action Adventure Fantasy Science Fiction cultu...\n",
       "1       Adventure Fantasy Action ocean drug abuse exot...\n",
       "2       Action Adventure Crime spy based on novel secr...\n",
       "3       Action Crime Drama Thriller dc comics crime fi...\n",
       "4       Action Adventure Science Fiction based on nove...\n",
       "                              ...                        \n",
       "4787    Action Crime Thriller united states\\u2013mexic...\n",
       "4788    Comedy Romance  A newlywed couple's honeymoon ...\n",
       "4789    Comedy Drama Romance TV Movie date love at fir...\n",
       "4790      When ambitious New York attorney Sam is sent...\n",
       "4791    Documentary obsession camcorder crush dream gi...\n",
       "Name: feat_text, Length: 4792, dtype: object"
      ]
     },
     "execution_count": 16,
     "metadata": {},
     "output_type": "execute_result"
    }
   ],
   "source": [
    "text"
   ]
  },
  {
   "cell_type": "code",
   "execution_count": 17,
   "id": "4a96f0f4",
   "metadata": {
    "execution": {
     "iopub.execute_input": "2024-06-09T00:43:28.535204Z",
     "iopub.status.busy": "2024-06-09T00:43:28.534790Z",
     "iopub.status.idle": "2024-06-09T00:43:28.544056Z",
     "shell.execute_reply": "2024-06-09T00:43:28.542634Z"
    },
    "papermill": {
     "duration": 0.029592,
     "end_time": "2024-06-09T00:43:28.546947",
     "exception": false,
     "start_time": "2024-06-09T00:43:28.517355",
     "status": "completed"
    },
    "tags": []
   },
   "outputs": [],
   "source": [
    "# Lemmatizator function\n",
    "\n",
    "def get_wordnet_pos(treebank_tag):\n",
    "  if treebank_tag.startswith('J'):\n",
    "    return wordnet.ADJ\n",
    "  elif treebank_tag.startswith('V'):\n",
    "    return wordnet.VERB\n",
    "  elif treebank_tag.startswith('N'):\n",
    "    return wordnet.NOUN\n",
    "  elif treebank_tag.startswith('R'):\n",
    "    return wordnet.ADV\n",
    "  else:\n",
    "    return wordnet.NOUN\n",
    "\n",
    "def LemmaTokenizer(doc):\n",
    "    wnl = WordNetLemmatizer()\n",
    "    \n",
    "    tokens = word_tokenize(doc)\n",
    "    words_and_tags = nltk.pos_tag(tokens)\n",
    "    return \" \".join([wnl.lemmatize(word, pos=get_wordnet_pos(tag)) \\\n",
    "            for word, tag in words_and_tags])\n"
   ]
  },
  {
   "cell_type": "code",
   "execution_count": 18,
   "id": "31728bc3",
   "metadata": {
    "execution": {
     "iopub.execute_input": "2024-06-09T00:43:28.582804Z",
     "iopub.status.busy": "2024-06-09T00:43:28.582289Z",
     "iopub.status.idle": "2024-06-09T00:43:31.181667Z",
     "shell.execute_reply": "2024-06-09T00:43:31.180399Z"
    },
    "papermill": {
     "duration": 2.623165,
     "end_time": "2024-06-09T00:43:31.184549",
     "exception": false,
     "start_time": "2024-06-09T00:43:28.561384",
     "status": "completed"
    },
    "tags": []
   },
   "outputs": [
    {
     "name": "stdout",
     "output_type": "stream",
     "text": [
      "Action Adventure Fantasy Science Fiction culture clash future space war space colony society space travel futuristic romance space alien tribe alien planet cgi marine soldier battle love affair anti war power relations mind and soul 3d In the 22nd century, a paraplegic Marine is dispatched to the moon Pandora on a unique mission, but becomes torn between following orders and protecting an alien civilization. en\n",
      "Action Adventure Fantasy Science Fiction culture clash future space war space colony society space travel futuristic romance space alien tribe alien planet cgi marine soldier battle love affair anti war power relation mind and soul 3d In the 22nd century , a paraplegic Marine be dispatch to the moon Pandora on a unique mission , but become torn between follow order and protect an alien civilization . en\n"
     ]
    }
   ],
   "source": [
    "print(text[0])\n",
    "print(LemmaTokenizer(text[0]))"
   ]
  },
  {
   "cell_type": "code",
   "execution_count": 19,
   "id": "28b4360c",
   "metadata": {
    "execution": {
     "iopub.execute_input": "2024-06-09T00:43:31.215020Z",
     "iopub.status.busy": "2024-06-09T00:43:31.214609Z",
     "iopub.status.idle": "2024-06-09T00:44:05.915976Z",
     "shell.execute_reply": "2024-06-09T00:44:05.914486Z"
    },
    "papermill": {
     "duration": 34.720838,
     "end_time": "2024-06-09T00:44:05.919106",
     "exception": false,
     "start_time": "2024-06-09T00:43:31.198268",
     "status": "completed"
    },
    "tags": []
   },
   "outputs": [],
   "source": [
    "text = text.apply(LemmaTokenizer)"
   ]
  },
  {
   "cell_type": "code",
   "execution_count": 20,
   "id": "c9ed20da",
   "metadata": {
    "execution": {
     "iopub.execute_input": "2024-06-09T00:44:05.948542Z",
     "iopub.status.busy": "2024-06-09T00:44:05.948108Z",
     "iopub.status.idle": "2024-06-09T00:44:05.962913Z",
     "shell.execute_reply": "2024-06-09T00:44:05.961644Z"
    },
    "papermill": {
     "duration": 0.032741,
     "end_time": "2024-06-09T00:44:05.965736",
     "exception": false,
     "start_time": "2024-06-09T00:44:05.932995",
     "status": "completed"
    },
    "tags": []
   },
   "outputs": [],
   "source": [
    "#Now lets create a class\n",
    "\n",
    "class RecommendationSystem:\n",
    "    \n",
    "    def __init__(self, df, text):\n",
    "        self.model = TfidfVectorizer(lowercase=True, stop_words = 'english')\n",
    "        self.data = df\n",
    "        self.decode = df['title'].to_dict()\n",
    "        self.encode = df['title'].reset_index().set_index('title')['index'].to_dict()\n",
    "        self.X = self.model.fit_transform(text)\n",
    "        \n",
    "    def __call__(self, query, n_recom):\n",
    "        \n",
    "        if not(query in self.encode):\n",
    "            print('Movie is not in the Database')\n",
    "            return None\n",
    "        \n",
    "        idx = self.encode[query]\n",
    "        row = self.X[idx,:]\n",
    "        \n",
    "        distance = []\n",
    "        for i in range(self.X.shape[0]):\n",
    "            \n",
    "            row_data = self.X[i,:]            \n",
    "            distance.append( (row@row_data.T).toarray()[0][0]/ ( ((row@row.T).toarray()[0][0]**0.5 )*((row_data@row_data.T).toarray()[0][0]**0.5 ) ))\n",
    "        \n",
    "        \n",
    "            ##\n",
    "            # We could use built-in functions like: cosine_similarity and euclidian_distances from sklearn.metrics.pairwise\n",
    "        df_distance = pd.Series(distance) \n",
    "        df_distance.sort_values(ascending = False, inplace = True)\n",
    "        \n",
    "        idx_list = df_distance.index[1:n_recom+1]\n",
    "        movie_title = []\n",
    "        for idx1 in idx_list:\n",
    "            movie_title.append(self.decode[idx1])\n",
    "        \n",
    "        return movie_title, df_distance"
   ]
  },
  {
   "cell_type": "code",
   "execution_count": 21,
   "id": "a907ad2c",
   "metadata": {
    "execution": {
     "iopub.execute_input": "2024-06-09T00:44:05.994945Z",
     "iopub.status.busy": "2024-06-09T00:44:05.994560Z",
     "iopub.status.idle": "2024-06-09T00:44:06.494613Z",
     "shell.execute_reply": "2024-06-09T00:44:06.493203Z"
    },
    "papermill": {
     "duration": 0.518219,
     "end_time": "2024-06-09T00:44:06.497667",
     "exception": false,
     "start_time": "2024-06-09T00:44:05.979448",
     "status": "completed"
    },
    "tags": []
   },
   "outputs": [],
   "source": [
    "recommendation = RecommendationSystem(df = df_model, text = text)"
   ]
  },
  {
   "cell_type": "code",
   "execution_count": 22,
   "id": "333e67c2",
   "metadata": {
    "execution": {
     "iopub.execute_input": "2024-06-09T00:44:06.527479Z",
     "iopub.status.busy": "2024-06-09T00:44:06.527055Z",
     "iopub.status.idle": "2024-06-09T00:44:12.572801Z",
     "shell.execute_reply": "2024-06-09T00:44:12.571599Z"
    },
    "papermill": {
     "duration": 6.06368,
     "end_time": "2024-06-09T00:44:12.575358",
     "exception": false,
     "start_time": "2024-06-09T00:44:06.511678",
     "status": "completed"
    },
    "tags": []
   },
   "outputs": [
    {
     "data": {
      "text/plain": [
       "['Shrek 2',\n",
       " 'Shrek Forever After',\n",
       " 'Shrek the Third',\n",
       " 'Into the Woods',\n",
       " 'Puss in Boots',\n",
       " 'Ella Enchanted',\n",
       " 'Enchanted',\n",
       " \"Happily N'Ever After\",\n",
       " 'Robin and Marian',\n",
       " 'Princess Kaiulani']"
      ]
     },
     "execution_count": 22,
     "metadata": {},
     "output_type": "execute_result"
    }
   ],
   "source": [
    "movie_list,df_distance = recommendation(query = \"Shrek\", n_recom = 10)\n",
    "movie_list"
   ]
  },
  {
   "cell_type": "code",
   "execution_count": 23,
   "id": "f1c39b30",
   "metadata": {
    "execution": {
     "iopub.execute_input": "2024-06-09T00:44:12.605061Z",
     "iopub.status.busy": "2024-06-09T00:44:12.604678Z",
     "iopub.status.idle": "2024-06-09T00:44:12.855767Z",
     "shell.execute_reply": "2024-06-09T00:44:12.853798Z"
    },
    "papermill": {
     "duration": 0.269097,
     "end_time": "2024-06-09T00:44:12.858724",
     "exception": false,
     "start_time": "2024-06-09T00:44:12.589627",
     "status": "completed"
    },
    "tags": []
   },
   "outputs": [
    {
     "data": {
      "text/plain": [
       "[<matplotlib.lines.Line2D at 0x7ccb67345ba0>]"
      ]
     },
     "execution_count": 23,
     "metadata": {},
     "output_type": "execute_result"
    },
    {
     "data": {
      "image/png": "[encoded data removed]",
      "text/plain": [
       "<Figure size 640x480 with 1 Axes>"
      ]
     },
     "metadata": {},
     "output_type": "display_data"
    }
   ],
   "source": [
    "#Ploting the distance for each row\n",
    "plt.plot(df_distance.values,marker = '*')"
   ]
  },
  {
   "cell_type": "code",
   "execution_count": 24,
   "id": "953d11b8",
   "metadata": {
    "execution": {
     "iopub.execute_input": "2024-06-09T00:44:12.890119Z",
     "iopub.status.busy": "2024-06-09T00:44:12.889699Z",
     "iopub.status.idle": "2024-06-09T00:44:18.937491Z",
     "shell.execute_reply": "2024-06-09T00:44:18.936369Z"
    },
    "papermill": {
     "duration": 6.066585,
     "end_time": "2024-06-09T00:44:18.940179",
     "exception": false,
     "start_time": "2024-06-09T00:44:12.873594",
     "status": "completed"
    },
    "tags": []
   },
   "outputs": [
    {
     "data": {
      "text/plain": [
       "['Mortal Kombat: Annihilation',\n",
       " 'DOA: Dead or Alive',\n",
       " 'Pixels',\n",
       " 'Lara Croft: Tomb Raider',\n",
       " 'Indie Game: The Movie',\n",
       " 'Warcraft',\n",
       " 'Æon Flux',\n",
       " 'Wing Commander',\n",
       " 'Harry Potter and the Goblet of Fire',\n",
       " \"The Sorcerer's Apprentice\"]"
      ]
     },
     "execution_count": 24,
     "metadata": {},
     "output_type": "execute_result"
    }
   ],
   "source": [
    "movie_list,df_distance = recommendation(query = \"Mortal Kombat\", n_recom = 10)\n",
    "movie_list"
   ]
  },
  {
   "cell_type": "markdown",
   "id": "1055689e",
   "metadata": {
    "papermill": {
     "duration": 0.014352,
     "end_time": "2024-06-09T00:44:18.969331",
     "exception": false,
     "start_time": "2024-06-09T00:44:18.954979",
     "status": "completed"
    },
    "tags": []
   },
   "source": []
  },
  {
   "cell_type": "markdown",
   "id": "6c5267e1",
   "metadata": {
    "papermill": {
     "duration": 0.014653,
     "end_time": "2024-06-09T00:44:18.998654",
     "exception": false,
     "start_time": "2024-06-09T00:44:18.984001",
     "status": "completed"
    },
    "tags": []
   },
   "source": []
  }
 ],
 "metadata": {
  "kaggle": {
   "accelerator": "none",
   "dataSources": [
    {
     "datasetId": 5170129,
     "sourceId": 8634085,
     "sourceType": "datasetVersion"
    }
   ],
   "dockerImageVersionId": 30732,
   "isGpuEnabled": false,
   "isInternetEnabled": true,
   "language": "python",
   "sourceType": "notebook"
  },
  "kernelspec": {
   "display_name": "Python 3",
   "language": "python",
   "name": "python3"
  },
  "language_info": {
   "codemirror_mode": {
    "name": "ipython",
    "version": 3
   },
   "file_extension": ".py",
   "mimetype": "text/x-python",
   "name": "python",
   "nbconvert_exporter": "python",
   "pygments_lexer": "ipython3",
   "version": "3.10.13"
  },
  "papermill": {
   "default_parameters": {},
   "duration": 60.570967,
   "end_time": "2024-06-09T00:44:20.037041",
   "environment_variables": {},
   "exception": null,
   "input_path": "__notebook__.ipynb",
   "output_path": "__notebook__.ipynb",
   "parameters": {},
   "start_time": "2024-06-09T00:43:19.466074",
   "version": "2.5.0"
  }
 },
 "nbformat": 4,
 "nbformat_minor": 5
}
