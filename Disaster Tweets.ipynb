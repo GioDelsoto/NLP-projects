{
 "cells": [
  {
   "cell_type": "markdown",
   "metadata": {},
   "source": [
    "# 1. Introduction and Competition Overview\n",
    "In this notebook, we will tackle a Kaggle competition aimed at predicting whether tweets are related to disasters. We will start by using two simple techniques: TF-IDF and CountVectorizer, combined with Ridge, Logistic Regression models and Latent Semantic Analyzes (LSA), to create baseline results. The first section focuses on exploring the dataset to gain a deeper understanding of the data. After establishing these baselines, we will move on to a more advanced approach by incorporating the BERT transformer model as a layer in a neural network using TensorFlow."
   ]
  },
  {
   "cell_type": "code",
   "execution_count": 1,
   "metadata": {
    "_cell_guid": "b1076dfc-b9ad-4769-8c92-a6c4dae69d19",
    "_uuid": "8f2839f25d086af736a60e9eeb907d3b93b6e0e5",
    "execution": {
     "iopub.execute_input": "2024-09-12T21:52:45.585479Z",
     "iopub.status.busy": "2024-09-12T21:52:45.585151Z",
     "iopub.status.idle": "2024-09-12T21:54:10.203171Z",
     "shell.execute_reply": "2024-09-12T21:54:10.202048Z",
     "shell.execute_reply.started": "2024-09-12T21:52:45.585432Z"
    }
   },
   "outputs": [
    {
     "name": "stdout",
     "output_type": "stream",
     "text": [
      "[nltk_data] Downloading package stopwords to /usr/share/nltk_data...\n",
      "[nltk_data]   Unzipping corpora/stopwords.zip.\n",
      "[nltk_data] Downloading package punkt to /usr/share/nltk_data...\n",
      "[nltk_data]   Unzipping tokenizers/punkt.zip.\n",
      "[nltk_data] Downloading package wordnet to /kaggle/working/...\n",
      "Collecting allennlp==1.0.0\r\n",
      "\u001b[?25l  Downloading https://files.pythonhosted.org/packages/2c/49/bf0ec241496a82c9dd2f0b6ff6f8156b6b2b72b849df8c00a4f2bcf61485/allennlp-1.0.0-py3-none-any.whl (473kB)\r\n",
      "\u001b[K     |████████████████████████████████| 481kB 6.3MB/s \r\n",
      "\u001b[?25hRequirement already satisfied: boto3 in /opt/conda/lib/python3.6/site-packages (from allennlp==1.0.0) (1.10.29)\r\n",
      "Requirement already satisfied: tqdm>=4.19 in /opt/conda/lib/python3.6/site-packages (from allennlp==1.0.0) (4.39.0)\r\n",
      "Collecting transformers<2.12,>=2.9\r\n",
      "\u001b[?25l  Downloading https://files.pythonhosted.org/packages/48/35/ad2c5b1b8f99feaaf9d7cdadaeef261f098c6e1a6a2935d4d07662a6b780/transformers-2.11.0-py3-none-any.whl (674kB)\r\n",
      "\u001b[K     |████████████████████████████████| 675kB 25.8MB/s \r\n",
      "\u001b[?25hRequirement already satisfied: dataclasses; python_version < \"3.7\" in /opt/conda/lib/python3.6/site-packages (from allennlp==1.0.0) (0.7)\r\n",
      "Requirement already satisfied: spacy<2.3,>=2.1.0 in /opt/conda/lib/python3.6/site-packages (from allennlp==1.0.0) (2.2.3)\r\n",
      "Collecting torch<1.6.0,>=1.5.0\r\n",
      "\u001b[?25l  Downloading https://files.pythonhosted.org/packages/62/01/457b49d790b6c4b9720e6f9dbbb617692f6ce8afdaadf425c055c41a7416/torch-1.5.1-cp36-cp36m-manylinux1_x86_64.whl (753.2MB)\r\n",
      "\u001b[K     |████████████████████████████████| 753.2MB 11kB/s \r\n",
      "\u001b[?25hRequirement already satisfied: pytest in /opt/conda/lib/python3.6/site-packages (from allennlp==1.0.0) (5.0.1)\r\n",
      "Requirement already satisfied: filelock<3.1,>=3.0 in /opt/conda/lib/python3.6/site-packages (from allennlp==1.0.0) (3.0.12)\r\n",
      "Requirement already satisfied: numpy in /opt/conda/lib/python3.6/site-packages (from allennlp==1.0.0) (1.17.4)\r\n",
      "Requirement already satisfied: jsonpickle in /opt/conda/lib/python3.6/site-packages (from allennlp==1.0.0) (1.2)\r\n",
      "Requirement already satisfied: jsonnet>=0.10.0; sys_platform != \"win32\" in /opt/conda/lib/python3.6/site-packages (from allennlp==1.0.0) (0.14.0)\r\n",
      "Requirement already satisfied: nltk in /opt/conda/lib/python3.6/site-packages (from allennlp==1.0.0) (3.2.4)\r\n",
      "Requirement already satisfied: h5py in /opt/conda/lib/python3.6/site-packages (from allennlp==1.0.0) (2.9.0)\r\n",
      "Requirement already satisfied: tensorboardX>=1.2 in /opt/conda/lib/python3.6/site-packages (from allennlp==1.0.0) (1.9)\r\n",
      "Requirement already satisfied: requests>=2.18 in /opt/conda/lib/python3.6/site-packages (from allennlp==1.0.0) (2.22.0)\r\n",
      "Collecting overrides==3.0.0\r\n",
      "  Downloading https://files.pythonhosted.org/packages/42/8d/caa729f809ecdf8e76fac3c1ff7d3f0b72c398c9dd8a6919927a30a873b3/overrides-3.0.0.tar.gz\r\n",
      "Requirement already satisfied: scikit-learn in /opt/conda/lib/python3.6/site-packages (from allennlp==1.0.0) (0.21.3)\r\n",
      "Requirement already satisfied: scipy in /opt/conda/lib/python3.6/site-packages (from allennlp==1.0.0) (1.3.3)\r\n",
      "Requirement already satisfied: jmespath<1.0.0,>=0.7.1 in /opt/conda/lib/python3.6/site-packages (from boto3->allennlp==1.0.0) (0.9.4)\r\n",
      "Requirement already satisfied: s3transfer<0.3.0,>=0.2.0 in /opt/conda/lib/python3.6/site-packages (from boto3->allennlp==1.0.0) (0.2.1)\r\n",
      "Requirement already satisfied: botocore<1.14.0,>=1.13.29 in /opt/conda/lib/python3.6/site-packages (from boto3->allennlp==1.0.0) (1.13.29)\r\n",
      "Requirement already satisfied: packaging in /opt/conda/lib/python3.6/site-packages (from transformers<2.12,>=2.9->allennlp==1.0.0) (19.2)\r\n",
      "Requirement already satisfied: regex!=2019.12.17 in /opt/conda/lib/python3.6/site-packages (from transformers<2.12,>=2.9->allennlp==1.0.0) (2019.11.1)\r\n",
      "Collecting sacremoses\r\n",
      "\u001b[?25l  Downloading https://files.pythonhosted.org/packages/28/78/fef8d089db5b97546fd6d1ff2e813b8544e85670bf3a8c378c9d0250b98d/sacremoses-0.0.53.tar.gz (880kB)\r\n",
      "\u001b[K     |████████████████████████████████| 880kB 44.2MB/s \r\n",
      "\u001b[?25hRequirement already satisfied: sentencepiece in /opt/conda/lib/python3.6/site-packages (from transformers<2.12,>=2.9->allennlp==1.0.0) (0.1.83)\r\n",
      "Collecting tokenizers==0.7.0\r\n",
      "\u001b[?25l  Downloading https://files.pythonhosted.org/packages/14/e5/a26eb4716523808bb0a799fcfdceb6ebf77a18169d9591b2f46a9adb87d9/tokenizers-0.7.0-cp36-cp36m-manylinux1_x86_64.whl (3.8MB)\r\n",
      "\u001b[K     |████████████████████████████████| 3.8MB 27.8MB/s \r\n",
      "\u001b[?25hRequirement already satisfied: setuptools in /opt/conda/lib/python3.6/site-packages (from spacy<2.3,>=2.1.0->allennlp==1.0.0) (42.0.1.post20191125)\r\n",
      "Requirement already satisfied: thinc<7.4.0,>=7.3.0 in /opt/conda/lib/python3.6/site-packages (from spacy<2.3,>=2.1.0->allennlp==1.0.0) (7.3.1)\r\n",
      "Requirement already satisfied: srsly<1.1.0,>=0.1.0 in /opt/conda/lib/python3.6/site-packages (from spacy<2.3,>=2.1.0->allennlp==1.0.0) (0.2.0)\r\n",
      "Requirement already satisfied: cymem<2.1.0,>=2.0.2 in /opt/conda/lib/python3.6/site-packages (from spacy<2.3,>=2.1.0->allennlp==1.0.0) (2.0.3)\r\n",
      "Requirement already satisfied: plac<1.2.0,>=0.9.6 in /opt/conda/lib/python3.6/site-packages (from spacy<2.3,>=2.1.0->allennlp==1.0.0) (1.1.3)\r\n",
      "Requirement already satisfied: blis<0.5.0,>=0.4.0 in /opt/conda/lib/python3.6/site-packages (from spacy<2.3,>=2.1.0->allennlp==1.0.0) (0.4.1)\r\n",
      "Requirement already satisfied: wasabi<1.1.0,>=0.4.0 in /opt/conda/lib/python3.6/site-packages (from spacy<2.3,>=2.1.0->allennlp==1.0.0) (0.4.2)\r\n",
      "Requirement already satisfied: catalogue<1.1.0,>=0.0.7 in /opt/conda/lib/python3.6/site-packages (from spacy<2.3,>=2.1.0->allennlp==1.0.0) (0.0.8)\r\n",
      "Requirement already satisfied: murmurhash<1.1.0,>=0.28.0 in /opt/conda/lib/python3.6/site-packages (from spacy<2.3,>=2.1.0->allennlp==1.0.0) (1.0.2)\r\n",
      "Requirement already satisfied: preshed<3.1.0,>=3.0.2 in /opt/conda/lib/python3.6/site-packages (from spacy<2.3,>=2.1.0->allennlp==1.0.0) (3.0.2)\r\n",
      "Requirement already satisfied: future in /opt/conda/lib/python3.6/site-packages (from torch<1.6.0,>=1.5.0->allennlp==1.0.0) (0.18.2)\r\n",
      "Requirement already satisfied: py>=1.5.0 in /opt/conda/lib/python3.6/site-packages (from pytest->allennlp==1.0.0) (1.8.0)\r\n",
      "Requirement already satisfied: attrs>=17.4.0 in /opt/conda/lib/python3.6/site-packages (from pytest->allennlp==1.0.0) (19.3.0)\r\n",
      "Requirement already satisfied: more-itertools>=4.0.0 in /opt/conda/lib/python3.6/site-packages (from pytest->allennlp==1.0.0) (7.2.0)\r\n",
      "Requirement already satisfied: atomicwrites>=1.0 in /opt/conda/lib/python3.6/site-packages (from pytest->allennlp==1.0.0) (1.3.0)\r\n",
      "Requirement already satisfied: pluggy<1.0,>=0.12 in /opt/conda/lib/python3.6/site-packages (from pytest->allennlp==1.0.0) (0.13.1)\r\n",
      "Requirement already satisfied: importlib-metadata>=0.12 in /opt/conda/lib/python3.6/site-packages (from pytest->allennlp==1.0.0) (0.23)\r\n",
      "Requirement already satisfied: wcwidth in /opt/conda/lib/python3.6/site-packages (from pytest->allennlp==1.0.0) (0.1.7)\r\n",
      "Requirement already satisfied: six in /opt/conda/lib/python3.6/site-packages (from nltk->allennlp==1.0.0) (1.13.0)\r\n",
      "Requirement already satisfied: protobuf>=3.8.0 in /opt/conda/lib/python3.6/site-packages (from tensorboardX>=1.2->allennlp==1.0.0) (3.11.0)\r\n",
      "Requirement already satisfied: chardet<3.1.0,>=3.0.2 in /opt/conda/lib/python3.6/site-packages (from requests>=2.18->allennlp==1.0.0) (3.0.4)\r\n",
      "Requirement already satisfied: idna<2.9,>=2.5 in /opt/conda/lib/python3.6/site-packages (from requests>=2.18->allennlp==1.0.0) (2.8)\r\n",
      "Requirement already satisfied: certifi>=2017.4.17 in /opt/conda/lib/python3.6/site-packages (from requests>=2.18->allennlp==1.0.0) (2019.9.11)\r\n",
      "Requirement already satisfied: urllib3!=1.25.0,!=1.25.1,<1.26,>=1.21.1 in /opt/conda/lib/python3.6/site-packages (from requests>=2.18->allennlp==1.0.0) (1.24.2)\r\n",
      "Requirement already satisfied: joblib>=0.11 in /opt/conda/lib/python3.6/site-packages (from scikit-learn->allennlp==1.0.0) (0.14.0)\r\n",
      "Requirement already satisfied: python-dateutil<2.8.1,>=2.1; python_version >= \"2.7\" in /opt/conda/lib/python3.6/site-packages (from botocore<1.14.0,>=1.13.29->boto3->allennlp==1.0.0) (2.8.0)\r\n",
      "Requirement already satisfied: docutils<0.16,>=0.10 in /opt/conda/lib/python3.6/site-packages (from botocore<1.14.0,>=1.13.29->boto3->allennlp==1.0.0) (0.15.2)\r\n",
      "Requirement already satisfied: pyparsing>=2.0.2 in /opt/conda/lib/python3.6/site-packages (from packaging->transformers<2.12,>=2.9->allennlp==1.0.0) (2.4.5)\r\n",
      "Requirement already satisfied: click in /opt/conda/lib/python3.6/site-packages (from sacremoses->transformers<2.12,>=2.9->allennlp==1.0.0) (7.0)\r\n",
      "Requirement already satisfied: zipp>=0.5 in /opt/conda/lib/python3.6/site-packages (from importlib-metadata>=0.12->pytest->allennlp==1.0.0) (0.6.0)\r\n",
      "Building wheels for collected packages: overrides, sacremoses\r\n",
      "  Building wheel for overrides (setup.py) ... \u001b[?25l-\b \b\\\b \bdone\r\n",
      "\u001b[?25h  Created wheel for overrides: filename=overrides-3.0.0-cp36-none-any.whl size=5669 sha256=0f53e34a7949857a81650644ac9860da4e10ce8754e0ed6cbbd3b23b78415277\r\n",
      "  Stored in directory: /root/.cache/pip/wheels/6f/1b/ec/6c71a1eb823df7f850d956b2d8c50a6d49c191e1063d73b9be\r\n",
      "  Building wheel for sacremoses (setup.py) ... \u001b[?25l-\b \b\\\b \b|\b \b/\b \bdone\r\n",
      "\u001b[?25h  Created wheel for sacremoses: filename=sacremoses-0.0.53-cp36-none-any.whl size=895254 sha256=1948b121a1ae0a98d77aeb2909ccc2458eee4623c08229cede27253374822bcf\r\n",
      "  Stored in directory: /root/.cache/pip/wheels/56/d5/b2/bc878b2bbddfbcc8fd62ca73c4fd842bd28c1fd3dbdf424c74\r\n",
      "Successfully built overrides sacremoses\r\n",
      "Installing collected packages: sacremoses, tokenizers, transformers, torch, overrides, allennlp\r\n",
      "  Found existing installation: torch 1.3.0\r\n",
      "    Uninstalling torch-1.3.0:\r\n",
      "      Successfully uninstalled torch-1.3.0\r\n",
      "  Found existing installation: overrides 2.5\r\n",
      "    Uninstalling overrides-2.5:\r\n",
      "      Successfully uninstalled overrides-2.5\r\n",
      "  Found existing installation: allennlp 0.9.0\r\n",
      "    Uninstalling allennlp-0.9.0:\r\n",
      "      Successfully uninstalled allennlp-0.9.0\r\n",
      "Successfully installed allennlp-1.0.0 overrides-3.0.0 sacremoses-0.0.53 tokenizers-0.7.0 torch-1.5.1 transformers-2.11.0\r\n",
      "Requirement already satisfied: transformers in /opt/conda/lib/python3.6/site-packages (2.11.0)\r\n",
      "Requirement already satisfied: filelock in /opt/conda/lib/python3.6/site-packages (from transformers) (3.0.12)\r\n",
      "Requirement already satisfied: tqdm>=4.27 in /opt/conda/lib/python3.6/site-packages (from transformers) (4.39.0)\r\n",
      "Requirement already satisfied: dataclasses; python_version < \"3.7\" in /opt/conda/lib/python3.6/site-packages (from transformers) (0.7)\r\n",
      "Requirement already satisfied: sacremoses in /opt/conda/lib/python3.6/site-packages (from transformers) (0.0.53)\r\n",
      "Requirement already satisfied: numpy in /opt/conda/lib/python3.6/site-packages (from transformers) (1.17.4)\r\n",
      "Requirement already satisfied: regex!=2019.12.17 in /opt/conda/lib/python3.6/site-packages (from transformers) (2019.11.1)\r\n",
      "Requirement already satisfied: sentencepiece in /opt/conda/lib/python3.6/site-packages (from transformers) (0.1.83)\r\n",
      "Requirement already satisfied: tokenizers==0.7.0 in /opt/conda/lib/python3.6/site-packages (from transformers) (0.7.0)\r\n",
      "Requirement already satisfied: packaging in /opt/conda/lib/python3.6/site-packages (from transformers) (19.2)\r\n",
      "Requirement already satisfied: requests in /opt/conda/lib/python3.6/site-packages (from transformers) (2.22.0)\r\n",
      "Requirement already satisfied: click in /opt/conda/lib/python3.6/site-packages (from sacremoses->transformers) (7.0)\r\n",
      "Requirement already satisfied: joblib in /opt/conda/lib/python3.6/site-packages (from sacremoses->transformers) (0.14.0)\r\n",
      "Requirement already satisfied: six in /opt/conda/lib/python3.6/site-packages (from sacremoses->transformers) (1.13.0)\r\n",
      "Requirement already satisfied: pyparsing>=2.0.2 in /opt/conda/lib/python3.6/site-packages (from packaging->transformers) (2.4.5)\r\n",
      "Requirement already satisfied: certifi>=2017.4.17 in /opt/conda/lib/python3.6/site-packages (from requests->transformers) (2019.9.11)\r\n",
      "Requirement already satisfied: idna<2.9,>=2.5 in /opt/conda/lib/python3.6/site-packages (from requests->transformers) (2.8)\r\n",
      "Requirement already satisfied: urllib3!=1.25.0,!=1.25.1,<1.26,>=1.21.1 in /opt/conda/lib/python3.6/site-packages (from requests->transformers) (1.24.2)\r\n",
      "Requirement already satisfied: chardet<3.1.0,>=3.0.2 in /opt/conda/lib/python3.6/site-packages (from requests->transformers) (3.0.4)\r\n"
     ]
    }
   ],
   "source": [
    "import numpy as np # linear algebra\n",
    "import pandas as pd # data processing, CSV file I/O (e.g. pd.read_csv)\n",
    "import matplotlib.pyplot as plt\n",
    "\n",
    "\n",
    "from sklearn import feature_extraction, linear_model, model_selection, preprocessing, decomposition, metrics\n",
    "\n",
    "import seaborn as sns\n",
    "#set style for plots\n",
    "sns.set_style(\"whitegrid\")\n",
    "sns.despine()\n",
    "plt.style.use(\"seaborn-whitegrid\")\n",
    "plt.rc(\"figure\", autolayout=True)\n",
    "plt.rc(\"axes\", labelweight=\"bold\", labelsize=\"large\", titleweight=\"bold\", titlepad=10)\n",
    "\n",
    "\n",
    "###plot config\n",
    "%matplotlib inline\n",
    "%config InlineBackend.figure_format='retina'\n",
    "\n",
    "\n",
    "#data processing\n",
    "import re, string\n",
    "\n",
    "import string\n",
    "\n",
    "import nltk\n",
    "from nltk import word_tokenize\n",
    "from nltk.stem import WordNetLemmatizer, PorterStemmer\n",
    "nltk.download('stopwords')\n",
    "\n",
    "# Now you can import the NLTK resources as usual\n",
    "from nltk.corpus import wordnet\n",
    "from nltk.corpus import stopwords\n",
    "\n",
    "nltk.download('punkt')\n",
    "\n",
    "import subprocess\n",
    "\n",
    "# Download and unzip wordnet\n",
    "try:\n",
    "    nltk.data.find('wordnet.zip')\n",
    "except:\n",
    "    nltk.download('wordnet', download_dir='/kaggle/working/')\n",
    "    command = \"unzip /kaggle/working/corpora/wordnet.zip -d /kaggle/working/corpora\"\n",
    "    subprocess.run(command.split())\n",
    "    nltk.data.path.append('/kaggle/working/')\n",
    "    \n",
    "    \n",
    "# Atualizar pip\n",
    "!pip install allennlp==1.0.0\n",
    "!pip install transformers"
   ]
  },
  {
   "cell_type": "code",
   "execution_count": 2,
   "metadata": {
    "_cell_guid": "79c7e3d0-c299-4dcb-8224-4455121ee9b0",
    "_uuid": "d629ff2d2480ee46fbb7e2d37f6b5fab8052498a",
    "execution": {
     "iopub.execute_input": "2024-09-12T21:54:10.205978Z",
     "iopub.status.busy": "2024-09-12T21:54:10.205681Z",
     "iopub.status.idle": "2024-09-12T21:54:10.333122Z",
     "shell.execute_reply": "2024-09-12T21:54:10.332126Z",
     "shell.execute_reply.started": "2024-09-12T21:54:10.205934Z"
    }
   },
   "outputs": [],
   "source": [
    "train_df = pd.read_csv(\"/kaggle/input/nlp-getting-started/train.csv\")\n",
    "test_df = pd.read_csv(\"/kaggle/input/nlp-getting-started/test.csv\")"
   ]
  },
  {
   "cell_type": "markdown",
   "metadata": {},
   "source": [
    "# 2. Data Exploration and Preprocessing"
   ]
  },
  {
   "cell_type": "markdown",
   "metadata": {},
   "source": [
    "## 2.1 A quick look at the data"
   ]
  },
  {
   "cell_type": "code",
   "execution_count": 3,
   "metadata": {
    "execution": {
     "iopub.execute_input": "2024-09-12T21:54:10.335092Z",
     "iopub.status.busy": "2024-09-12T21:54:10.334817Z",
     "iopub.status.idle": "2024-09-12T21:54:13.211618Z",
     "shell.execute_reply": "2024-09-12T21:54:13.210731Z",
     "shell.execute_reply.started": "2024-09-12T21:54:10.335048Z"
    }
   },
   "outputs": [
    {
     "data": {
      "text/html": [
       "<div>\n",
       "<style scoped>\n",
       "    .dataframe tbody tr th:only-of-type {\n",
       "        vertical-align: middle;\n",
       "    }\n",
       "\n",
       "    .dataframe tbody tr th {\n",
       "        vertical-align: top;\n",
       "    }\n",
       "\n",
       "    .dataframe thead th {\n",
       "        text-align: right;\n",
       "    }\n",
       "</style>\n",
       "<table border=\"1\" class=\"dataframe\">\n",
       "  <thead>\n",
       "    <tr style=\"text-align: right;\">\n",
       "      <th></th>\n",
       "      <th>id</th>\n",
       "      <th>keyword</th>\n",
       "      <th>location</th>\n",
       "      <th>text</th>\n",
       "      <th>target</th>\n",
       "    </tr>\n",
       "  </thead>\n",
       "  <tbody>\n",
       "    <tr>\n",
       "      <th>0</th>\n",
       "      <td>1</td>\n",
       "      <td>NaN</td>\n",
       "      <td>NaN</td>\n",
       "      <td>Our Deeds are the Reason of this #earthquake M...</td>\n",
       "      <td>1</td>\n",
       "    </tr>\n",
       "    <tr>\n",
       "      <th>1</th>\n",
       "      <td>4</td>\n",
       "      <td>NaN</td>\n",
       "      <td>NaN</td>\n",
       "      <td>Forest fire near La Ronge Sask. Canada</td>\n",
       "      <td>1</td>\n",
       "    </tr>\n",
       "    <tr>\n",
       "      <th>2</th>\n",
       "      <td>5</td>\n",
       "      <td>NaN</td>\n",
       "      <td>NaN</td>\n",
       "      <td>All residents asked to 'shelter in place' are ...</td>\n",
       "      <td>1</td>\n",
       "    </tr>\n",
       "    <tr>\n",
       "      <th>3</th>\n",
       "      <td>6</td>\n",
       "      <td>NaN</td>\n",
       "      <td>NaN</td>\n",
       "      <td>13,000 people receive #wildfires evacuation or...</td>\n",
       "      <td>1</td>\n",
       "    </tr>\n",
       "    <tr>\n",
       "      <th>4</th>\n",
       "      <td>7</td>\n",
       "      <td>NaN</td>\n",
       "      <td>NaN</td>\n",
       "      <td>Just got sent this photo from Ruby #Alaska as ...</td>\n",
       "      <td>1</td>\n",
       "    </tr>\n",
       "  </tbody>\n",
       "</table>\n",
       "</div>"
      ],
      "text/plain": [
       "   id keyword location                                               text  \\\n",
       "0   1     NaN      NaN  Our Deeds are the Reason of this #earthquake M...   \n",
       "1   4     NaN      NaN             Forest fire near La Ronge Sask. Canada   \n",
       "2   5     NaN      NaN  All residents asked to 'shelter in place' are ...   \n",
       "3   6     NaN      NaN  13,000 people receive #wildfires evacuation or...   \n",
       "4   7     NaN      NaN  Just got sent this photo from Ruby #Alaska as ...   \n",
       "\n",
       "   target  \n",
       "0       1  \n",
       "1       1  \n",
       "2       1  \n",
       "3       1  \n",
       "4       1  "
      ]
     },
     "execution_count": 3,
     "metadata": {},
     "output_type": "execute_result"
    }
   ],
   "source": [
    "train_df.head()"
   ]
  },
  {
   "cell_type": "code",
   "execution_count": 4,
   "metadata": {
    "execution": {
     "iopub.execute_input": "2024-09-12T21:54:13.213307Z",
     "iopub.status.busy": "2024-09-12T21:54:13.212989Z",
     "iopub.status.idle": "2024-09-12T21:54:13.225725Z",
     "shell.execute_reply": "2024-09-12T21:54:13.224808Z",
     "shell.execute_reply.started": "2024-09-12T21:54:13.213254Z"
    }
   },
   "outputs": [
    {
     "name": "stdout",
     "output_type": "stream",
     "text": [
      "<class 'pandas.core.frame.DataFrame'>\n",
      "RangeIndex: 7613 entries, 0 to 7612\n",
      "Data columns (total 5 columns):\n",
      "id          7613 non-null int64\n",
      "keyword     7552 non-null object\n",
      "location    5080 non-null object\n",
      "text        7613 non-null object\n",
      "target      7613 non-null int64\n",
      "dtypes: int64(2), object(3)\n",
      "memory usage: 297.5+ KB\n"
     ]
    }
   ],
   "source": [
    "train_df.info()"
   ]
  },
  {
   "cell_type": "markdown",
   "metadata": {},
   "source": [
    "The data contains text (tweets), keyword, location and target. For now, let's focus only on the text and on the target. Now, let's look if the data is balanced"
   ]
  },
  {
   "cell_type": "code",
   "execution_count": 5,
   "metadata": {
    "execution": {
     "iopub.execute_input": "2024-09-12T21:54:13.229587Z",
     "iopub.status.busy": "2024-09-12T21:54:13.229224Z",
     "iopub.status.idle": "2024-09-12T21:54:13.242097Z",
     "shell.execute_reply": "2024-09-12T21:54:13.240971Z",
     "shell.execute_reply.started": "2024-09-12T21:54:13.229526Z"
    }
   },
   "outputs": [
    {
     "data": {
      "text/plain": [
       "0    4342\n",
       "1    3271\n",
       "Name: target, dtype: int64"
      ]
     },
     "execution_count": 5,
     "metadata": {},
     "output_type": "execute_result"
    }
   ],
   "source": [
    "train_df['target'].value_counts()"
   ]
  },
  {
   "cell_type": "markdown",
   "metadata": {},
   "source": [
    "The data is balanced, so we are good to go. Now let's take a look on some examples of tweets that are not disasters"
   ]
  },
  {
   "cell_type": "code",
   "execution_count": 6,
   "metadata": {
    "execution": {
     "iopub.execute_input": "2024-09-12T21:54:13.246225Z",
     "iopub.status.busy": "2024-09-12T21:54:13.245862Z",
     "iopub.status.idle": "2024-09-12T21:54:13.257846Z",
     "shell.execute_reply": "2024-09-12T21:54:13.256875Z",
     "shell.execute_reply.started": "2024-09-12T21:54:13.246150Z"
    }
   },
   "outputs": [
    {
     "data": {
      "text/plain": [
       "'I love fruits'"
      ]
     },
     "execution_count": 6,
     "metadata": {},
     "output_type": "execute_result"
    }
   ],
   "source": [
    "train_df[train_df[\"target\"] == 0][\"text\"].values[1]"
   ]
  },
  {
   "cell_type": "markdown",
   "metadata": {},
   "source": [
    "And one that is"
   ]
  },
  {
   "cell_type": "code",
   "execution_count": 7,
   "metadata": {
    "execution": {
     "iopub.execute_input": "2024-09-12T21:54:13.260171Z",
     "iopub.status.busy": "2024-09-12T21:54:13.259847Z",
     "iopub.status.idle": "2024-09-12T21:54:13.272374Z",
     "shell.execute_reply": "2024-09-12T21:54:13.271370Z",
     "shell.execute_reply.started": "2024-09-12T21:54:13.260118Z"
    }
   },
   "outputs": [
    {
     "data": {
      "text/plain": [
       "'Forest fire near La Ronge Sask. Canada'"
      ]
     },
     "execution_count": 7,
     "metadata": {},
     "output_type": "execute_result"
    }
   ],
   "source": [
    "train_df[train_df[\"target\"] == 1][\"text\"].values[1]"
   ]
  },
  {
   "cell_type": "markdown",
   "metadata": {},
   "source": [
    "## Custom **functions** for text processing"
   ]
  },
  {
   "cell_type": "code",
   "execution_count": 8,
   "metadata": {
    "execution": {
     "iopub.execute_input": "2024-09-12T21:54:13.274519Z",
     "iopub.status.busy": "2024-09-12T21:54:13.274157Z",
     "iopub.status.idle": "2024-09-12T21:54:13.292652Z",
     "shell.execute_reply": "2024-09-12T21:54:13.291492Z",
     "shell.execute_reply.started": "2024-09-12T21:54:13.274460Z"
    }
   },
   "outputs": [],
   "source": [
    "#Remove punctuations, links, mentions and \\r\\n new line characters\n",
    "def strip_all_entities(text):\n",
    "    text = text.replace('\\r', '').replace('\\n', ' ').replace('\\n', ' ').lower() #remove \\n and \\r and lowercase\n",
    "    text = re.sub(r\"(?:\\@|https?\\://)\\S+\", \"\", text) #remove links and mentions\n",
    "    text = re.sub(r'[^\\x00-\\x7f]',r'', text) #remove non utf8/ascii characters such as '\\x9a\\x91\\x97\\x9a\\x97'\n",
    "    banned_list= string.punctuation + 'Ã'+'±'+'ã'+'¼'+'â'+'»'+'§'\n",
    "    table = str.maketrans('', '', banned_list)\n",
    "    text = text.translate(table)\n",
    "    return text\n",
    "\n",
    "#clean hashtags at the end of the sentence, and keep those in the middle of the sentence by removing just the # symbol\n",
    "def clean_hashtags(tweet):\n",
    "    new_tweet = \" \".join(word.strip() for word in re.split('#(?!(?:hashtag)\\b)[\\w-]+(?=(?:\\s+#[\\w-]+)*\\s*$)', tweet)) #remove last hashtags\n",
    "    new_tweet2 = \" \".join(word.strip() for word in re.split('#|_', new_tweet)) #remove hashtags symbol from words in the middle of the sentence\n",
    "    return new_tweet2\n",
    "\n",
    "#Filter special characters such as & and $ present in some words\n",
    "def filter_chars(a):\n",
    "    sent = []\n",
    "    for word in a.split(' '):\n",
    "        if ('$' in word) | ('&' in word):\n",
    "            sent.append('')\n",
    "        else:\n",
    "            sent.append(word)\n",
    "    return ' '.join(sent)\n",
    "\n",
    "def remove_mult_spaces(text): # remove multiple spaces\n",
    "    return re.sub(\"\\s\\s+\" , \" \", text)\n",
    "\n",
    "# Lemmatize the corpus\n",
    "def get_wordnet_pos(treebank_tag):\n",
    "  if treebank_tag.startswith('J'):\n",
    "    return wordnet.ADJ\n",
    "  elif treebank_tag.startswith('V'):\n",
    "    return wordnet.VERB\n",
    "  elif treebank_tag.startswith('N'):\n",
    "    return wordnet.NOUN\n",
    "  elif treebank_tag.startswith('R'):\n",
    "    return wordnet.ADV\n",
    "  else:\n",
    "    return wordnet.NOUN\n",
    "\n",
    "def Tokenizer(doc):\n",
    "    wnl = WordNetLemmatizer()\n",
    "    tokens = word_tokenize(doc) #List of strings in doc\n",
    "        \n",
    "    filtered_words = [token.lower() for token in tokens]\n",
    "#    filtered_words = [token.lower() for token in tokens if (token.lower() not in stop_words) and (token.lower() not in string.punctuation)]\n",
    "        \n",
    "    words_and_tags = nltk.pos_tag(filtered_words)\n",
    "    return \" \".join([wnl.lemmatize(word, pos=get_wordnet_pos(tag)) \\\n",
    "            for word, tag in words_and_tags])\n",
    "\n",
    "#Number of words in text\n",
    "def len_text(text):\n",
    "    return len(text.split(\" \"))"
   ]
  },
  {
   "cell_type": "markdown",
   "metadata": {},
   "source": [
    "## 2.2 Pre-processing\n",
    "\n",
    "- Lowercase\n",
    "- Lemmatize document\n",
    "- Remove \\n and \\r\n",
    "- Remove links and mentions\n",
    "- Remove non utf8/ascii characters\n",
    "- Remove hashtags"
   ]
  },
  {
   "cell_type": "code",
   "execution_count": 9,
   "metadata": {
    "execution": {
     "iopub.execute_input": "2024-09-12T21:54:13.294724Z",
     "iopub.status.busy": "2024-09-12T21:54:13.294387Z",
     "iopub.status.idle": "2024-09-12T21:54:30.259617Z",
     "shell.execute_reply": "2024-09-12T21:54:30.258724Z",
     "shell.execute_reply.started": "2024-09-12T21:54:13.294659Z"
    }
   },
   "outputs": [],
   "source": [
    "train_df['text_clean'] = train_df['text'].apply(strip_all_entities).apply(clean_hashtags).apply(filter_chars).apply(remove_mult_spaces).apply(Tokenizer)\n",
    "test_df['text_clean'] = test_df['text'].apply(strip_all_entities).apply(clean_hashtags).apply(filter_chars).apply(remove_mult_spaces).apply(Tokenizer)"
   ]
  },
  {
   "cell_type": "code",
   "execution_count": 10,
   "metadata": {
    "execution": {
     "iopub.execute_input": "2024-09-12T21:54:30.261394Z",
     "iopub.status.busy": "2024-09-12T21:54:30.261113Z",
     "iopub.status.idle": "2024-09-12T21:54:30.275434Z",
     "shell.execute_reply": "2024-09-12T21:54:30.274401Z",
     "shell.execute_reply.started": "2024-09-12T21:54:30.261350Z"
    }
   },
   "outputs": [
    {
     "data": {
      "text/html": [
       "<div>\n",
       "<style scoped>\n",
       "    .dataframe tbody tr th:only-of-type {\n",
       "        vertical-align: middle;\n",
       "    }\n",
       "\n",
       "    .dataframe tbody tr th {\n",
       "        vertical-align: top;\n",
       "    }\n",
       "\n",
       "    .dataframe thead th {\n",
       "        text-align: right;\n",
       "    }\n",
       "</style>\n",
       "<table border=\"1\" class=\"dataframe\">\n",
       "  <thead>\n",
       "    <tr style=\"text-align: right;\">\n",
       "      <th></th>\n",
       "      <th>id</th>\n",
       "      <th>keyword</th>\n",
       "      <th>location</th>\n",
       "      <th>text</th>\n",
       "      <th>target</th>\n",
       "      <th>text_clean</th>\n",
       "    </tr>\n",
       "  </thead>\n",
       "  <tbody>\n",
       "    <tr>\n",
       "      <th>0</th>\n",
       "      <td>1</td>\n",
       "      <td>NaN</td>\n",
       "      <td>NaN</td>\n",
       "      <td>Our Deeds are the Reason of this #earthquake M...</td>\n",
       "      <td>1</td>\n",
       "      <td>our deed be the reason of this earthquake may ...</td>\n",
       "    </tr>\n",
       "    <tr>\n",
       "      <th>1</th>\n",
       "      <td>4</td>\n",
       "      <td>NaN</td>\n",
       "      <td>NaN</td>\n",
       "      <td>Forest fire near La Ronge Sask. Canada</td>\n",
       "      <td>1</td>\n",
       "      <td>forest fire near la ronge sask canada</td>\n",
       "    </tr>\n",
       "    <tr>\n",
       "      <th>2</th>\n",
       "      <td>5</td>\n",
       "      <td>NaN</td>\n",
       "      <td>NaN</td>\n",
       "      <td>All residents asked to 'shelter in place' are ...</td>\n",
       "      <td>1</td>\n",
       "      <td>all resident ask to shelter in place be be not...</td>\n",
       "    </tr>\n",
       "    <tr>\n",
       "      <th>3</th>\n",
       "      <td>6</td>\n",
       "      <td>NaN</td>\n",
       "      <td>NaN</td>\n",
       "      <td>13,000 people receive #wildfires evacuation or...</td>\n",
       "      <td>1</td>\n",
       "      <td>13000 people receive wildfire evacuation order...</td>\n",
       "    </tr>\n",
       "    <tr>\n",
       "      <th>4</th>\n",
       "      <td>7</td>\n",
       "      <td>NaN</td>\n",
       "      <td>NaN</td>\n",
       "      <td>Just got sent this photo from Ruby #Alaska as ...</td>\n",
       "      <td>1</td>\n",
       "      <td>just get send this photo from ruby alaska a sm...</td>\n",
       "    </tr>\n",
       "  </tbody>\n",
       "</table>\n",
       "</div>"
      ],
      "text/plain": [
       "   id keyword location                                               text  \\\n",
       "0   1     NaN      NaN  Our Deeds are the Reason of this #earthquake M...   \n",
       "1   4     NaN      NaN             Forest fire near La Ronge Sask. Canada   \n",
       "2   5     NaN      NaN  All residents asked to 'shelter in place' are ...   \n",
       "3   6     NaN      NaN  13,000 people receive #wildfires evacuation or...   \n",
       "4   7     NaN      NaN  Just got sent this photo from Ruby #Alaska as ...   \n",
       "\n",
       "   target                                         text_clean  \n",
       "0       1  our deed be the reason of this earthquake may ...  \n",
       "1       1              forest fire near la ronge sask canada  \n",
       "2       1  all resident ask to shelter in place be be not...  \n",
       "3       1  13000 people receive wildfire evacuation order...  \n",
       "4       1  just get send this photo from ruby alaska a sm...  "
      ]
     },
     "execution_count": 10,
     "metadata": {},
     "output_type": "execute_result"
    }
   ],
   "source": [
    "train_df.head()"
   ]
  },
  {
   "cell_type": "code",
   "execution_count": 11,
   "metadata": {
    "execution": {
     "iopub.execute_input": "2024-09-12T21:54:30.277649Z",
     "iopub.status.busy": "2024-09-12T21:54:30.277297Z",
     "iopub.status.idle": "2024-09-12T21:54:30.309482Z",
     "shell.execute_reply": "2024-09-12T21:54:30.308487Z",
     "shell.execute_reply.started": "2024-09-12T21:54:30.277571Z"
    }
   },
   "outputs": [],
   "source": [
    "train_df['len_keyword'] = train_df['keyword'].astype(str).apply(len_text)\n",
    "train_df['len_text'] = train_df['text_clean'].astype(str).apply(len_text)"
   ]
  },
  {
   "cell_type": "code",
   "execution_count": 12,
   "metadata": {
    "execution": {
     "iopub.execute_input": "2024-09-12T21:54:30.311635Z",
     "iopub.status.busy": "2024-09-12T21:54:30.311226Z",
     "iopub.status.idle": "2024-09-12T21:54:30.331526Z",
     "shell.execute_reply": "2024-09-12T21:54:30.330607Z",
     "shell.execute_reply.started": "2024-09-12T21:54:30.311559Z"
    }
   },
   "outputs": [
    {
     "data": {
      "text/html": [
       "<div>\n",
       "<style scoped>\n",
       "    .dataframe tbody tr th:only-of-type {\n",
       "        vertical-align: middle;\n",
       "    }\n",
       "\n",
       "    .dataframe tbody tr th {\n",
       "        vertical-align: top;\n",
       "    }\n",
       "\n",
       "    .dataframe thead th {\n",
       "        text-align: right;\n",
       "    }\n",
       "</style>\n",
       "<table border=\"1\" class=\"dataframe\">\n",
       "  <thead>\n",
       "    <tr style=\"text-align: right;\">\n",
       "      <th></th>\n",
       "      <th>id</th>\n",
       "      <th>keyword</th>\n",
       "      <th>location</th>\n",
       "      <th>text</th>\n",
       "      <th>target</th>\n",
       "      <th>text_clean</th>\n",
       "      <th>len_keyword</th>\n",
       "      <th>len_text</th>\n",
       "    </tr>\n",
       "  </thead>\n",
       "  <tbody>\n",
       "    <tr>\n",
       "      <th>0</th>\n",
       "      <td>1</td>\n",
       "      <td>NaN</td>\n",
       "      <td>NaN</td>\n",
       "      <td>Our Deeds are the Reason of this #earthquake M...</td>\n",
       "      <td>1</td>\n",
       "      <td>our deed be the reason of this earthquake may ...</td>\n",
       "      <td>1</td>\n",
       "      <td>13</td>\n",
       "    </tr>\n",
       "    <tr>\n",
       "      <th>1</th>\n",
       "      <td>4</td>\n",
       "      <td>NaN</td>\n",
       "      <td>NaN</td>\n",
       "      <td>Forest fire near La Ronge Sask. Canada</td>\n",
       "      <td>1</td>\n",
       "      <td>forest fire near la ronge sask canada</td>\n",
       "      <td>1</td>\n",
       "      <td>7</td>\n",
       "    </tr>\n",
       "    <tr>\n",
       "      <th>2</th>\n",
       "      <td>5</td>\n",
       "      <td>NaN</td>\n",
       "      <td>NaN</td>\n",
       "      <td>All residents asked to 'shelter in place' are ...</td>\n",
       "      <td>1</td>\n",
       "      <td>all resident ask to shelter in place be be not...</td>\n",
       "      <td>1</td>\n",
       "      <td>22</td>\n",
       "    </tr>\n",
       "    <tr>\n",
       "      <th>3</th>\n",
       "      <td>6</td>\n",
       "      <td>NaN</td>\n",
       "      <td>NaN</td>\n",
       "      <td>13,000 people receive #wildfires evacuation or...</td>\n",
       "      <td>1</td>\n",
       "      <td>13000 people receive wildfire evacuation order...</td>\n",
       "      <td>1</td>\n",
       "      <td>8</td>\n",
       "    </tr>\n",
       "    <tr>\n",
       "      <th>4</th>\n",
       "      <td>7</td>\n",
       "      <td>NaN</td>\n",
       "      <td>NaN</td>\n",
       "      <td>Just got sent this photo from Ruby #Alaska as ...</td>\n",
       "      <td>1</td>\n",
       "      <td>just get send this photo from ruby alaska a sm...</td>\n",
       "      <td>1</td>\n",
       "      <td>16</td>\n",
       "    </tr>\n",
       "  </tbody>\n",
       "</table>\n",
       "</div>"
      ],
      "text/plain": [
       "   id keyword location                                               text  \\\n",
       "0   1     NaN      NaN  Our Deeds are the Reason of this #earthquake M...   \n",
       "1   4     NaN      NaN             Forest fire near La Ronge Sask. Canada   \n",
       "2   5     NaN      NaN  All residents asked to 'shelter in place' are ...   \n",
       "3   6     NaN      NaN  13,000 people receive #wildfires evacuation or...   \n",
       "4   7     NaN      NaN  Just got sent this photo from Ruby #Alaska as ...   \n",
       "\n",
       "   target                                         text_clean  len_keyword  \\\n",
       "0       1  our deed be the reason of this earthquake may ...            1   \n",
       "1       1              forest fire near la ronge sask canada            1   \n",
       "2       1  all resident ask to shelter in place be be not...            1   \n",
       "3       1  13000 people receive wildfire evacuation order...            1   \n",
       "4       1  just get send this photo from ruby alaska a sm...            1   \n",
       "\n",
       "   len_text  \n",
       "0        13  \n",
       "1         7  \n",
       "2        22  \n",
       "3         8  \n",
       "4        16  "
      ]
     },
     "execution_count": 12,
     "metadata": {},
     "output_type": "execute_result"
    }
   ],
   "source": [
    "train_df.head()"
   ]
  },
  {
   "cell_type": "code",
   "execution_count": 13,
   "metadata": {
    "execution": {
     "iopub.execute_input": "2024-09-12T21:54:30.333488Z",
     "iopub.status.busy": "2024-09-12T21:54:30.333162Z",
     "iopub.status.idle": "2024-09-12T21:54:30.350957Z",
     "shell.execute_reply": "2024-09-12T21:54:30.349957Z",
     "shell.execute_reply.started": "2024-09-12T21:54:30.333440Z"
    }
   },
   "outputs": [],
   "source": [
    "text_len = train_df['len_text'].value_counts().sort_index().reset_index(name ='counts')\n",
    "keyword_len = train_df['len_keyword'].value_counts().sort_index().reset_index(name ='counts')"
   ]
  },
  {
   "cell_type": "markdown",
   "metadata": {},
   "source": [
    "### Feature: text"
   ]
  },
  {
   "cell_type": "code",
   "execution_count": 14,
   "metadata": {
    "execution": {
     "iopub.execute_input": "2024-09-12T21:54:30.352853Z",
     "iopub.status.busy": "2024-09-12T21:54:30.352564Z",
     "iopub.status.idle": "2024-09-12T21:54:30.951082Z",
     "shell.execute_reply": "2024-09-12T21:54:30.950137Z",
     "shell.execute_reply.started": "2024-09-12T21:54:30.352801Z"
    }
   },
   "outputs": [
    {
     "name": "stderr",
     "output_type": "stream",
     "text": [
      "/opt/conda/lib/python3.6/site-packages/matplotlib/figure.py:2369: UserWarning: This figure includes Axes that are not compatible with tight_layout, so results might be incorrect.\n",
      "  warnings.warn(\"This figure includes Axes that are not compatible \"\n"
     ]
    },
    {
     "data": {
      "image/png": "[encoded data removed]",
      "text/plain": [
       "<Figure size 864x360 with 1 Axes>"
      ]
     },
     "metadata": {
      "image/png": {
       "height": 352,
       "width": 856
      },
      "needs_background": "light"
     },
     "output_type": "display_data"
    }
   ],
   "source": [
    "#Visualize text length\n",
    "\n",
    "fig, ax = plt.subplots(figsize=(12,5))\n",
    "\n",
    "# Data\n",
    "ax.bar(text_len['index'].values, text_len['counts'].values, color=\"#6d17a6\")\n",
    "\n",
    "# Settings\n",
    "ax.spines['bottom'].set_linewidth(1.5)\n",
    "ax.spines['left'].set_linewidth(1.5)\n",
    "ax.spines['top'].set_linewidth(0)\n",
    "ax.spines['right'].set_linewidth(0)\n",
    "#ax.set_xticklabels(tweets_per_country['index'], rotation=45, ha='right')\n",
    "\n",
    "# Grid setting\n",
    "ax.grid(which='major', axis='y', linestyle='--', color='grey', linewidth=1)\n",
    "\n",
    "ax.set_xlabel('Len')\n",
    "ax.set_ylabel('Counts')\n",
    "ax.set_title('Len distribution of texts')\n",
    "\n",
    "plt.show()"
   ]
  },
  {
   "cell_type": "markdown",
   "metadata": {},
   "source": [
    "Now, lets take a look on some extremes values of text length"
   ]
  },
  {
   "cell_type": "code",
   "execution_count": 15,
   "metadata": {
    "execution": {
     "iopub.execute_input": "2024-09-12T21:54:30.953346Z",
     "iopub.status.busy": "2024-09-12T21:54:30.953037Z",
     "iopub.status.idle": "2024-09-12T21:54:30.974870Z",
     "shell.execute_reply": "2024-09-12T21:54:30.973980Z",
     "shell.execute_reply.started": "2024-09-12T21:54:30.953297Z"
    }
   },
   "outputs": [
    {
     "data": {
      "text/html": [
       "<div>\n",
       "<style scoped>\n",
       "    .dataframe tbody tr th:only-of-type {\n",
       "        vertical-align: middle;\n",
       "    }\n",
       "\n",
       "    .dataframe tbody tr th {\n",
       "        vertical-align: top;\n",
       "    }\n",
       "\n",
       "    .dataframe thead th {\n",
       "        text-align: right;\n",
       "    }\n",
       "</style>\n",
       "<table border=\"1\" class=\"dataframe\">\n",
       "  <thead>\n",
       "    <tr style=\"text-align: right;\">\n",
       "      <th></th>\n",
       "      <th>id</th>\n",
       "      <th>keyword</th>\n",
       "      <th>location</th>\n",
       "      <th>text</th>\n",
       "      <th>target</th>\n",
       "      <th>text_clean</th>\n",
       "      <th>len_keyword</th>\n",
       "      <th>len_text</th>\n",
       "    </tr>\n",
       "  </thead>\n",
       "  <tbody>\n",
       "    <tr>\n",
       "      <th>11</th>\n",
       "      <td>17</td>\n",
       "      <td>NaN</td>\n",
       "      <td>NaN</td>\n",
       "      <td>Haha South Tampa is getting flooded hah- WAIT ...</td>\n",
       "      <td>1</td>\n",
       "      <td>haha south tampa be get flood hah wait a secon...</td>\n",
       "      <td>1</td>\n",
       "      <td>29</td>\n",
       "    </tr>\n",
       "    <tr>\n",
       "      <th>49</th>\n",
       "      <td>71</td>\n",
       "      <td>ablaze</td>\n",
       "      <td>England.</td>\n",
       "      <td>First night with retainers in. It's quite weir...</td>\n",
       "      <td>0</td>\n",
       "      <td>first night with retainer in it quite weird go...</td>\n",
       "      <td>1</td>\n",
       "      <td>27</td>\n",
       "    </tr>\n",
       "    <tr>\n",
       "      <th>67</th>\n",
       "      <td>96</td>\n",
       "      <td>accident</td>\n",
       "      <td>CLVLND</td>\n",
       "      <td>'I can't have kids cuz I got in a bicycle acci...</td>\n",
       "      <td>0</td>\n",
       "      <td>i cant have kid cuz i get in a bicycle acciden...</td>\n",
       "      <td>1</td>\n",
       "      <td>27</td>\n",
       "    </tr>\n",
       "    <tr>\n",
       "      <th>80</th>\n",
       "      <td>117</td>\n",
       "      <td>accident</td>\n",
       "      <td>NaN</td>\n",
       "      <td>mom: 'we didn't get home as fast as we wished'...</td>\n",
       "      <td>0</td>\n",
       "      <td>mom we didnt get home as fast a we wish me why...</td>\n",
       "      <td>1</td>\n",
       "      <td>26</td>\n",
       "    </tr>\n",
       "    <tr>\n",
       "      <th>95</th>\n",
       "      <td>137</td>\n",
       "      <td>accident</td>\n",
       "      <td>Charlotte</td>\n",
       "      <td>9 Mile backup on I-77 South...accident blockin...</td>\n",
       "      <td>1</td>\n",
       "      <td>9 mile backup on i77 southaccident block the r...</td>\n",
       "      <td>1</td>\n",
       "      <td>26</td>\n",
       "    </tr>\n",
       "    <tr>\n",
       "      <th>128</th>\n",
       "      <td>184</td>\n",
       "      <td>aftershock</td>\n",
       "      <td>304</td>\n",
       "      <td>'Remembering that you are going to die is the ...</td>\n",
       "      <td>0</td>\n",
       "      <td>remember that you be go to die be the best way...</td>\n",
       "      <td>1</td>\n",
       "      <td>26</td>\n",
       "    </tr>\n",
       "    <tr>\n",
       "      <th>290</th>\n",
       "      <td>424</td>\n",
       "      <td>apocalypse</td>\n",
       "      <td>San Antonio-ish, TX</td>\n",
       "      <td>Dad bought a DVD that looks like a science doc...</td>\n",
       "      <td>1</td>\n",
       "      <td>dad buy a dvd that look like a science doc on ...</td>\n",
       "      <td>1</td>\n",
       "      <td>26</td>\n",
       "    </tr>\n",
       "    <tr>\n",
       "      <th>465</th>\n",
       "      <td>672</td>\n",
       "      <td>attack</td>\n",
       "      <td>Scotland, United Kingdom</td>\n",
       "      <td>'Left hand side of a diamond is a graveyard sh...</td>\n",
       "      <td>0</td>\n",
       "      <td>left hand side of a diamond be a graveyard shi...</td>\n",
       "      <td>1</td>\n",
       "      <td>27</td>\n",
       "    </tr>\n",
       "    <tr>\n",
       "      <th>643</th>\n",
       "      <td>932</td>\n",
       "      <td>blaze</td>\n",
       "      <td>NaN</td>\n",
       "      <td>Life is amazin same time its crazy niggas dey ...</td>\n",
       "      <td>0</td>\n",
       "      <td>life be amazin same time it crazy nigga dey wa...</td>\n",
       "      <td>1</td>\n",
       "      <td>27</td>\n",
       "    </tr>\n",
       "    <tr>\n",
       "      <th>734</th>\n",
       "      <td>1062</td>\n",
       "      <td>bleeding</td>\n",
       "      <td>NaN</td>\n",
       "      <td>Deadpool is already one of my favourite marvel...</td>\n",
       "      <td>0</td>\n",
       "      <td>deadpool be already one of my favourite marvel...</td>\n",
       "      <td>1</td>\n",
       "      <td>28</td>\n",
       "    </tr>\n",
       "  </tbody>\n",
       "</table>\n",
       "</div>"
      ],
      "text/plain": [
       "       id     keyword                  location  \\\n",
       "11     17         NaN                       NaN   \n",
       "49     71      ablaze                  England.   \n",
       "67     96    accident                    CLVLND   \n",
       "80    117    accident                       NaN   \n",
       "95    137    accident                 Charlotte   \n",
       "128   184  aftershock                       304   \n",
       "290   424  apocalypse       San Antonio-ish, TX   \n",
       "465   672      attack  Scotland, United Kingdom   \n",
       "643   932       blaze                       NaN   \n",
       "734  1062    bleeding                       NaN   \n",
       "\n",
       "                                                  text  target  \\\n",
       "11   Haha South Tampa is getting flooded hah- WAIT ...       1   \n",
       "49   First night with retainers in. It's quite weir...       0   \n",
       "67   'I can't have kids cuz I got in a bicycle acci...       0   \n",
       "80   mom: 'we didn't get home as fast as we wished'...       0   \n",
       "95   9 Mile backup on I-77 South...accident blockin...       1   \n",
       "128  'Remembering that you are going to die is the ...       0   \n",
       "290  Dad bought a DVD that looks like a science doc...       1   \n",
       "465  'Left hand side of a diamond is a graveyard sh...       0   \n",
       "643  Life is amazin same time its crazy niggas dey ...       0   \n",
       "734  Deadpool is already one of my favourite marvel...       0   \n",
       "\n",
       "                                            text_clean  len_keyword  len_text  \n",
       "11   haha south tampa be get flood hah wait a secon...            1        29  \n",
       "49   first night with retainer in it quite weird go...            1        27  \n",
       "67   i cant have kid cuz i get in a bicycle acciden...            1        27  \n",
       "80   mom we didnt get home as fast a we wish me why...            1        26  \n",
       "95   9 mile backup on i77 southaccident block the r...            1        26  \n",
       "128  remember that you be go to die be the best way...            1        26  \n",
       "290  dad buy a dvd that look like a science doc on ...            1        26  \n",
       "465  left hand side of a diamond be a graveyard shi...            1        27  \n",
       "643  life be amazin same time it crazy nigga dey wa...            1        27  \n",
       "734  deadpool be already one of my favourite marvel...            1        28  "
      ]
     },
     "execution_count": 15,
     "metadata": {},
     "output_type": "execute_result"
    }
   ],
   "source": [
    "train_df[train_df['len_text']>25].head(10)"
   ]
  },
  {
   "cell_type": "code",
   "execution_count": 16,
   "metadata": {
    "execution": {
     "iopub.execute_input": "2024-09-12T21:54:30.976606Z",
     "iopub.status.busy": "2024-09-12T21:54:30.976325Z",
     "iopub.status.idle": "2024-09-12T21:54:30.994139Z",
     "shell.execute_reply": "2024-09-12T21:54:30.993073Z",
     "shell.execute_reply.started": "2024-09-12T21:54:30.976561Z"
    }
   },
   "outputs": [
    {
     "data": {
      "text/html": [
       "<div>\n",
       "<style scoped>\n",
       "    .dataframe tbody tr th:only-of-type {\n",
       "        vertical-align: middle;\n",
       "    }\n",
       "\n",
       "    .dataframe tbody tr th {\n",
       "        vertical-align: top;\n",
       "    }\n",
       "\n",
       "    .dataframe thead th {\n",
       "        text-align: right;\n",
       "    }\n",
       "</style>\n",
       "<table border=\"1\" class=\"dataframe\">\n",
       "  <thead>\n",
       "    <tr style=\"text-align: right;\">\n",
       "      <th></th>\n",
       "      <th>id</th>\n",
       "      <th>keyword</th>\n",
       "      <th>location</th>\n",
       "      <th>text</th>\n",
       "      <th>target</th>\n",
       "      <th>text_clean</th>\n",
       "      <th>len_keyword</th>\n",
       "      <th>len_text</th>\n",
       "    </tr>\n",
       "  </thead>\n",
       "  <tbody>\n",
       "    <tr>\n",
       "      <th>15</th>\n",
       "      <td>23</td>\n",
       "      <td>NaN</td>\n",
       "      <td>NaN</td>\n",
       "      <td>What's up man?</td>\n",
       "      <td>0</td>\n",
       "      <td>whats up man</td>\n",
       "      <td>1</td>\n",
       "      <td>3</td>\n",
       "    </tr>\n",
       "    <tr>\n",
       "      <th>16</th>\n",
       "      <td>24</td>\n",
       "      <td>NaN</td>\n",
       "      <td>NaN</td>\n",
       "      <td>I love fruits</td>\n",
       "      <td>0</td>\n",
       "      <td>i love fruit</td>\n",
       "      <td>1</td>\n",
       "      <td>3</td>\n",
       "    </tr>\n",
       "    <tr>\n",
       "      <th>17</th>\n",
       "      <td>25</td>\n",
       "      <td>NaN</td>\n",
       "      <td>NaN</td>\n",
       "      <td>Summer is lovely</td>\n",
       "      <td>0</td>\n",
       "      <td>summer be lovely</td>\n",
       "      <td>1</td>\n",
       "      <td>3</td>\n",
       "    </tr>\n",
       "    <tr>\n",
       "      <th>19</th>\n",
       "      <td>28</td>\n",
       "      <td>NaN</td>\n",
       "      <td>NaN</td>\n",
       "      <td>What a goooooooaaaaaal!!!!!!</td>\n",
       "      <td>0</td>\n",
       "      <td>what a goooooooaaaaaal</td>\n",
       "      <td>1</td>\n",
       "      <td>3</td>\n",
       "    </tr>\n",
       "    <tr>\n",
       "      <th>20</th>\n",
       "      <td>31</td>\n",
       "      <td>NaN</td>\n",
       "      <td>NaN</td>\n",
       "      <td>this is ridiculous....</td>\n",
       "      <td>0</td>\n",
       "      <td>this be ridiculous</td>\n",
       "      <td>1</td>\n",
       "      <td>3</td>\n",
       "    </tr>\n",
       "    <tr>\n",
       "      <th>21</th>\n",
       "      <td>32</td>\n",
       "      <td>NaN</td>\n",
       "      <td>NaN</td>\n",
       "      <td>London is cool ;)</td>\n",
       "      <td>0</td>\n",
       "      <td>london be cool</td>\n",
       "      <td>1</td>\n",
       "      <td>3</td>\n",
       "    </tr>\n",
       "    <tr>\n",
       "      <th>22</th>\n",
       "      <td>33</td>\n",
       "      <td>NaN</td>\n",
       "      <td>NaN</td>\n",
       "      <td>Love skiing</td>\n",
       "      <td>0</td>\n",
       "      <td>love skiing</td>\n",
       "      <td>1</td>\n",
       "      <td>2</td>\n",
       "    </tr>\n",
       "    <tr>\n",
       "      <th>23</th>\n",
       "      <td>34</td>\n",
       "      <td>NaN</td>\n",
       "      <td>NaN</td>\n",
       "      <td>What a wonderful day!</td>\n",
       "      <td>0</td>\n",
       "      <td>what a wonderful day</td>\n",
       "      <td>1</td>\n",
       "      <td>4</td>\n",
       "    </tr>\n",
       "    <tr>\n",
       "      <th>24</th>\n",
       "      <td>36</td>\n",
       "      <td>NaN</td>\n",
       "      <td>NaN</td>\n",
       "      <td>LOOOOOOL</td>\n",
       "      <td>0</td>\n",
       "      <td>looooool</td>\n",
       "      <td>1</td>\n",
       "      <td>1</td>\n",
       "    </tr>\n",
       "    <tr>\n",
       "      <th>27</th>\n",
       "      <td>39</td>\n",
       "      <td>NaN</td>\n",
       "      <td>NaN</td>\n",
       "      <td>Love my girlfriend</td>\n",
       "      <td>0</td>\n",
       "      <td>love my girlfriend</td>\n",
       "      <td>1</td>\n",
       "      <td>3</td>\n",
       "    </tr>\n",
       "  </tbody>\n",
       "</table>\n",
       "</div>"
      ],
      "text/plain": [
       "    id keyword location                          text  target  \\\n",
       "15  23     NaN      NaN                What's up man?       0   \n",
       "16  24     NaN      NaN                 I love fruits       0   \n",
       "17  25     NaN      NaN              Summer is lovely       0   \n",
       "19  28     NaN      NaN  What a goooooooaaaaaal!!!!!!       0   \n",
       "20  31     NaN      NaN        this is ridiculous....       0   \n",
       "21  32     NaN      NaN             London is cool ;)       0   \n",
       "22  33     NaN      NaN                   Love skiing       0   \n",
       "23  34     NaN      NaN         What a wonderful day!       0   \n",
       "24  36     NaN      NaN                      LOOOOOOL       0   \n",
       "27  39     NaN      NaN            Love my girlfriend       0   \n",
       "\n",
       "                text_clean  len_keyword  len_text  \n",
       "15            whats up man            1         3  \n",
       "16            i love fruit            1         3  \n",
       "17        summer be lovely            1         3  \n",
       "19  what a goooooooaaaaaal            1         3  \n",
       "20      this be ridiculous            1         3  \n",
       "21          london be cool            1         3  \n",
       "22             love skiing            1         2  \n",
       "23    what a wonderful day            1         4  \n",
       "24                looooool            1         1  \n",
       "27      love my girlfriend            1         3  "
      ]
     },
     "execution_count": 16,
     "metadata": {},
     "output_type": "execute_result"
    }
   ],
   "source": [
    "train_df[train_df['len_text']<5].head(10)"
   ]
  },
  {
   "cell_type": "code",
   "execution_count": 17,
   "metadata": {
    "execution": {
     "iopub.execute_input": "2024-09-12T21:54:30.996766Z",
     "iopub.status.busy": "2024-09-12T21:54:30.996262Z",
     "iopub.status.idle": "2024-09-12T21:54:31.010177Z",
     "shell.execute_reply": "2024-09-12T21:54:31.009294Z",
     "shell.execute_reply.started": "2024-09-12T21:54:30.996692Z"
    }
   },
   "outputs": [
    {
     "data": {
      "text/plain": [
       "0    314\n",
       "1     81\n",
       "Name: target, dtype: int64"
      ]
     },
     "execution_count": 17,
     "metadata": {},
     "output_type": "execute_result"
    }
   ],
   "source": [
    "#Lets see how balanced is this sample (len_text < 5)\n",
    "train_df[train_df['len_text']<5]['target'].value_counts()"
   ]
  },
  {
   "cell_type": "markdown",
   "metadata": {},
   "source": [
    "### Feature: Keyword"
   ]
  },
  {
   "cell_type": "code",
   "execution_count": 18,
   "metadata": {
    "execution": {
     "iopub.execute_input": "2024-09-12T21:54:31.012018Z",
     "iopub.status.busy": "2024-09-12T21:54:31.011730Z",
     "iopub.status.idle": "2024-09-12T21:54:31.507255Z",
     "shell.execute_reply": "2024-09-12T21:54:31.506071Z",
     "shell.execute_reply.started": "2024-09-12T21:54:31.011972Z"
    }
   },
   "outputs": [
    {
     "data": {
      "image/png": "[encoded data removed]",
      "text/plain": [
       "<Figure size 864x360 with 1 Axes>"
      ]
     },
     "metadata": {
      "image/png": {
       "height": 352,
       "width": 856
      },
      "needs_background": "light"
     },
     "output_type": "display_data"
    }
   ],
   "source": [
    "#Visualize text length\n",
    "\n",
    "fig, ax = plt.subplots(figsize=(12,5))\n",
    "\n",
    "# Data\n",
    "ax.bar(keyword_len['index'].values, keyword_len['counts'].values, color=\"#6d12a6\")\n",
    "\n",
    "# Settings\n",
    "ax.spines['bottom'].set_linewidth(1.5)\n",
    "ax.spines['left'].set_linewidth(1.5)\n",
    "ax.spines['top'].set_linewidth(0)\n",
    "ax.spines['right'].set_linewidth(0)\n",
    "#ax.set_xticklabels(tweets_per_country['index'], rotation=45, ha='right')\n",
    "\n",
    "# Grid setting\n",
    "ax.grid(which='major', axis='y', linestyle='--', color='grey', linewidth=1)\n",
    "\n",
    "ax.set_xlabel('Len')\n",
    "ax.set_ylabel('Counts')\n",
    "ax.set_title('Len distribution of texts')\n",
    "\n",
    "plt.show()"
   ]
  },
  {
   "cell_type": "code",
   "execution_count": 19,
   "metadata": {
    "execution": {
     "iopub.execute_input": "2024-09-12T21:54:31.509343Z",
     "iopub.status.busy": "2024-09-12T21:54:31.508945Z",
     "iopub.status.idle": "2024-09-12T21:54:31.516448Z",
     "shell.execute_reply": "2024-09-12T21:54:31.515282Z",
     "shell.execute_reply.started": "2024-09-12T21:54:31.509275Z"
    }
   },
   "outputs": [
    {
     "name": "stdout",
     "output_type": "stream",
     "text": [
      "   index  counts\n",
      "0      1    7613\n"
     ]
    }
   ],
   "source": [
    "print(keyword_len)"
   ]
  },
  {
   "cell_type": "code",
   "execution_count": 20,
   "metadata": {
    "execution": {
     "iopub.execute_input": "2024-09-12T21:54:31.518559Z",
     "iopub.status.busy": "2024-09-12T21:54:31.518171Z",
     "iopub.status.idle": "2024-09-12T21:54:31.528528Z",
     "shell.execute_reply": "2024-09-12T21:54:31.527815Z",
     "shell.execute_reply.started": "2024-09-12T21:54:31.518490Z"
    }
   },
   "outputs": [
    {
     "data": {
      "text/plain": [
       "222"
      ]
     },
     "execution_count": 20,
     "metadata": {},
     "output_type": "execute_result"
    }
   ],
   "source": [
    "#Check how many different keywords does this dataset has.\n",
    "unique_kw = train_df['keyword'].unique()\n",
    "\n",
    "len(unique_kw)"
   ]
  },
  {
   "cell_type": "code",
   "execution_count": 21,
   "metadata": {
    "execution": {
     "iopub.execute_input": "2024-09-12T21:54:31.530159Z",
     "iopub.status.busy": "2024-09-12T21:54:31.529887Z",
     "iopub.status.idle": "2024-09-12T21:54:31.855973Z",
     "shell.execute_reply": "2024-09-12T21:54:31.854641Z",
     "shell.execute_reply.started": "2024-09-12T21:54:31.530110Z"
    }
   },
   "outputs": [],
   "source": [
    "def get_target_proportion(group):\n",
    "    total_count = group.shape[0]\n",
    "    disaster_count = group[group['target'] == 1].shape[0]\n",
    "    proportion = disaster_count / total_count if total_count > 0 else 0\n",
    "    \n",
    "    return pd.Series({'proportion': proportion, 'count': total_count})\n",
    "\n",
    "\n",
    "\n",
    "#Let's see if these keywords correlates with disasters\n",
    "group_kw = train_df[['keyword','target']].groupby('keyword').apply(get_target_proportion)"
   ]
  },
  {
   "cell_type": "code",
   "execution_count": 22,
   "metadata": {
    "execution": {
     "iopub.execute_input": "2024-09-12T21:54:31.861422Z",
     "iopub.status.busy": "2024-09-12T21:54:31.861053Z",
     "iopub.status.idle": "2024-09-12T21:54:31.880905Z",
     "shell.execute_reply": "2024-09-12T21:54:31.879602Z",
     "shell.execute_reply.started": "2024-09-12T21:54:31.861365Z"
    }
   },
   "outputs": [
    {
     "data": {
      "text/html": [
       "<div>\n",
       "<style scoped>\n",
       "    .dataframe tbody tr th:only-of-type {\n",
       "        vertical-align: middle;\n",
       "    }\n",
       "\n",
       "    .dataframe tbody tr th {\n",
       "        vertical-align: top;\n",
       "    }\n",
       "\n",
       "    .dataframe thead th {\n",
       "        text-align: right;\n",
       "    }\n",
       "</style>\n",
       "<table border=\"1\" class=\"dataframe\">\n",
       "  <thead>\n",
       "    <tr style=\"text-align: right;\">\n",
       "      <th></th>\n",
       "      <th>proportion</th>\n",
       "      <th>count</th>\n",
       "    </tr>\n",
       "    <tr>\n",
       "      <th>keyword</th>\n",
       "      <th></th>\n",
       "      <th></th>\n",
       "    </tr>\n",
       "  </thead>\n",
       "  <tbody>\n",
       "    <tr>\n",
       "      <th>derailment</th>\n",
       "      <td>1.000000</td>\n",
       "      <td>39.0</td>\n",
       "    </tr>\n",
       "    <tr>\n",
       "      <th>wreckage</th>\n",
       "      <td>1.000000</td>\n",
       "      <td>39.0</td>\n",
       "    </tr>\n",
       "    <tr>\n",
       "      <th>debris</th>\n",
       "      <td>1.000000</td>\n",
       "      <td>37.0</td>\n",
       "    </tr>\n",
       "    <tr>\n",
       "      <th>outbreak</th>\n",
       "      <td>0.975000</td>\n",
       "      <td>40.0</td>\n",
       "    </tr>\n",
       "    <tr>\n",
       "      <th>oil%20spill</th>\n",
       "      <td>0.973684</td>\n",
       "      <td>38.0</td>\n",
       "    </tr>\n",
       "    <tr>\n",
       "      <th>...</th>\n",
       "      <td>...</td>\n",
       "      <td>...</td>\n",
       "    </tr>\n",
       "    <tr>\n",
       "      <th>body%20bag</th>\n",
       "      <td>0.030303</td>\n",
       "      <td>33.0</td>\n",
       "    </tr>\n",
       "    <tr>\n",
       "      <th>blazing</th>\n",
       "      <td>0.029412</td>\n",
       "      <td>34.0</td>\n",
       "    </tr>\n",
       "    <tr>\n",
       "      <th>ruin</th>\n",
       "      <td>0.027027</td>\n",
       "      <td>37.0</td>\n",
       "    </tr>\n",
       "    <tr>\n",
       "      <th>body%20bags</th>\n",
       "      <td>0.024390</td>\n",
       "      <td>41.0</td>\n",
       "    </tr>\n",
       "    <tr>\n",
       "      <th>aftershock</th>\n",
       "      <td>0.000000</td>\n",
       "      <td>34.0</td>\n",
       "    </tr>\n",
       "  </tbody>\n",
       "</table>\n",
       "<p>221 rows × 2 columns</p>\n",
       "</div>"
      ],
      "text/plain": [
       "             proportion  count\n",
       "keyword                       \n",
       "derailment     1.000000   39.0\n",
       "wreckage       1.000000   39.0\n",
       "debris         1.000000   37.0\n",
       "outbreak       0.975000   40.0\n",
       "oil%20spill    0.973684   38.0\n",
       "...                 ...    ...\n",
       "body%20bag     0.030303   33.0\n",
       "blazing        0.029412   34.0\n",
       "ruin           0.027027   37.0\n",
       "body%20bags    0.024390   41.0\n",
       "aftershock     0.000000   34.0\n",
       "\n",
       "[221 rows x 2 columns]"
      ]
     },
     "execution_count": 22,
     "metadata": {},
     "output_type": "execute_result"
    }
   ],
   "source": [
    "group_kw.sort_values(ascending = False, by = ['proportion','count'])"
   ]
  },
  {
   "cell_type": "markdown",
   "metadata": {},
   "source": [
    "## 2.3 Insights:\n",
    "\n",
    "- The average number of words/tweet is about 12 and it seems to follow a normal distribution. \n",
    "- There is no need to filter these tweets by their lenght size. \n",
    "- It's possible to noticed that each tweet has only one keyword at maximum.\n",
    "- The keywords seems to add context, so it may be usefull to add to the features."
   ]
  },
  {
   "cell_type": "markdown",
   "metadata": {},
   "source": [
    "## 2.4 Feature selection\n",
    "\n",
    "We will create a new feature concatenating the keyword and text columns to see if it enhances performance."
   ]
  },
  {
   "cell_type": "code",
   "execution_count": 23,
   "metadata": {
    "execution": {
     "iopub.execute_input": "2024-09-12T21:54:31.883173Z",
     "iopub.status.busy": "2024-09-12T21:54:31.882808Z",
     "iopub.status.idle": "2024-09-12T21:54:32.082728Z",
     "shell.execute_reply": "2024-09-12T21:54:32.081688Z",
     "shell.execute_reply.started": "2024-09-12T21:54:31.883112Z"
    }
   },
   "outputs": [],
   "source": [
    "#clean keywords\n",
    "train_df['keyword_clean'] = train_df['keyword'].astype(str).apply(strip_all_entities).apply(clean_hashtags).apply(filter_chars).apply(remove_mult_spaces)\n",
    "test_df['keyword_clean'] = test_df['keyword'].astype(str).apply(strip_all_entities).apply(clean_hashtags).apply(filter_chars).apply(remove_mult_spaces)"
   ]
  },
  {
   "cell_type": "code",
   "execution_count": 24,
   "metadata": {
    "execution": {
     "iopub.execute_input": "2024-09-12T21:54:32.084760Z",
     "iopub.status.busy": "2024-09-12T21:54:32.084378Z",
     "iopub.status.idle": "2024-09-12T21:54:32.198948Z",
     "shell.execute_reply": "2024-09-12T21:54:32.197957Z",
     "shell.execute_reply.started": "2024-09-12T21:54:32.084692Z"
    }
   },
   "outputs": [],
   "source": [
    "train_df['text_kw_clean'] = np.where(~train_df['keyword_clean'].str.contains(\"nan\"),train_df['text_clean']+\" \"+train_df['keyword_clean'], train_df['text_clean'])\n",
    "test_df['text_kw_clean'] = np.where(~test_df['keyword_clean'].str.contains(\"nan\"),test_df['text_clean']+\" \"+test_df['keyword_clean'], test_df['text_clean'])"
   ]
  },
  {
   "cell_type": "code",
   "execution_count": 25,
   "metadata": {
    "execution": {
     "iopub.execute_input": "2024-09-12T21:54:32.200583Z",
     "iopub.status.busy": "2024-09-12T21:54:32.200325Z",
     "iopub.status.idle": "2024-09-12T21:54:32.206835Z",
     "shell.execute_reply": "2024-09-12T21:54:32.205871Z",
     "shell.execute_reply.started": "2024-09-12T21:54:32.200541Z"
    }
   },
   "outputs": [
    {
     "data": {
      "text/plain": [
       "'rain flood florida tampabay tampa 18 or 19 day ive lose count'"
      ]
     },
     "execution_count": 25,
     "metadata": {},
     "output_type": "execute_result"
    }
   ],
   "source": [
    "train_df['text_kw_clean'][12]"
   ]
  },
  {
   "cell_type": "markdown",
   "metadata": {},
   "source": [
    "# 3. Baseline model\n",
    "\n",
    "In this section, we will establish baseline models using fundamental text vectorization techniques, namely CountVectorizer and TF-IDF. We will apply two classical machine learning algorithms, Logistic Regression and Ridge Classifier, to these vectorized representations. These baseline models will serve as a benchmark for evaluating the performance of more advanced techniques later in the analysis."
   ]
  },
  {
   "cell_type": "markdown",
   "metadata": {},
   "source": [
    "## 3.1 Building vectors\n",
    "\n",
    "We will try different approaches to build the input vector to see which one does better:\n",
    "\n",
    "1. Count vectorizer\n",
    "2. TfIdf"
   ]
  },
  {
   "cell_type": "markdown",
   "metadata": {},
   "source": [
    "### 3.1.1 Count vectorizer"
   ]
  },
  {
   "cell_type": "code",
   "execution_count": 26,
   "metadata": {
    "execution": {
     "iopub.execute_input": "2024-09-12T21:54:32.208573Z",
     "iopub.status.busy": "2024-09-12T21:54:32.208319Z",
     "iopub.status.idle": "2024-09-12T21:54:32.426632Z",
     "shell.execute_reply": "2024-09-12T21:54:32.425900Z",
     "shell.execute_reply.started": "2024-09-12T21:54:32.208533Z"
    }
   },
   "outputs": [],
   "source": [
    "#Count vectorizer method\n",
    "count_vectorizer = feature_extraction.text.CountVectorizer(lowercase=True)\n",
    "\n",
    "train_vectors = count_vectorizer.fit_transform(train_df[\"text_clean\"])\n",
    "test_vectors = count_vectorizer.transform(test_df[\"text_clean\"])"
   ]
  },
  {
   "cell_type": "code",
   "execution_count": 27,
   "metadata": {
    "execution": {
     "iopub.execute_input": "2024-09-12T21:54:32.428789Z",
     "iopub.status.busy": "2024-09-12T21:54:32.428423Z",
     "iopub.status.idle": "2024-09-12T21:54:32.434162Z",
     "shell.execute_reply": "2024-09-12T21:54:32.433022Z",
     "shell.execute_reply.started": "2024-09-12T21:54:32.428722Z"
    }
   },
   "outputs": [
    {
     "name": "stdout",
     "output_type": "stream",
     "text": [
      "Vocabulary size: 13450\n"
     ]
    }
   ],
   "source": [
    "V = len(count_vectorizer.vocabulary_)\n",
    "print(f\"Vocabulary size: {V}\")"
   ]
  },
  {
   "cell_type": "markdown",
   "metadata": {},
   "source": [
    "### Model with count vectorizer\n",
    "Let's try different models to fit our data and see how they perform. For this we'll use cross-validation - where we train on a portion of the known data, then validate it with the rest. If we do this several times (with different portions) we can get a good idea for how a particular model or method performs.\n",
    "\n",
    "The metric for this competition is F1, so let's use that here."
   ]
  },
  {
   "cell_type": "code",
   "execution_count": 28,
   "metadata": {
    "execution": {
     "iopub.execute_input": "2024-09-12T21:54:32.436067Z",
     "iopub.status.busy": "2024-09-12T21:54:32.435759Z",
     "iopub.status.idle": "2024-09-12T21:54:34.138055Z",
     "shell.execute_reply": "2024-09-12T21:54:34.136901Z",
     "shell.execute_reply.started": "2024-09-12T21:54:32.436015Z"
    }
   },
   "outputs": [
    {
     "name": "stdout",
     "output_type": "stream",
     "text": [
      "Average score: 0.6031408180631429\n",
      "List of scores: [0.60989291 0.55878013 0.64074941]\n",
      "\n",
      "F1 score (train data) using all the data 0.9725197950628786\n"
     ]
    }
   ],
   "source": [
    "#RidgeClassifier\n",
    "clf = linear_model.RidgeClassifier()\n",
    "\n",
    "scores = model_selection.cross_val_score(clf, train_vectors, train_df[\"target\"], cv=3, scoring=\"f1\")\n",
    "print(f\"Average score: {scores.mean()}\\nList of scores: {scores}\")\n",
    "\n",
    "clf.fit(train_vectors, train_df[\"target\"])\n",
    "predict = clf.predict(train_vectors)\n",
    "print(f'\\nF1 score (train data) using all the data {metrics.f1_score(train_df[\"target\"] ,predict)}')"
   ]
  },
  {
   "cell_type": "code",
   "execution_count": 29,
   "metadata": {
    "execution": {
     "iopub.execute_input": "2024-09-12T21:54:34.140344Z",
     "iopub.status.busy": "2024-09-12T21:54:34.139944Z",
     "iopub.status.idle": "2024-09-12T21:54:36.989677Z",
     "shell.execute_reply": "2024-09-12T21:54:36.988481Z",
     "shell.execute_reply.started": "2024-09-12T21:54:34.140273Z"
    }
   },
   "outputs": [
    {
     "name": "stdout",
     "output_type": "stream",
     "text": [
      "Average score: 0.6350533250883781\n",
      "List of scores: [0.63665595 0.60774578 0.66075825]\n",
      "\n",
      "F1 score (train data) using all the data 0.934875614007289\n"
     ]
    }
   ],
   "source": [
    "#LinearRegression with L2\n",
    "clf = linear_model.LogisticRegression(penalty='l2', solver = 'lbfgs', max_iter=1000)\n",
    "\n",
    "scores = model_selection.cross_val_score(clf, train_vectors, train_df[\"target\"], cv=3, scoring=\"f1\")\n",
    "print(f\"Average score: {scores.mean()}\\nList of scores: {scores}\")\n",
    "\n",
    "clf.fit(train_vectors, train_df[\"target\"])\n",
    "predict = clf.predict(train_vectors)\n",
    "print(f'\\nF1 score (train data) using all the data {metrics.f1_score(train_df[\"target\"] ,predict)}')"
   ]
  },
  {
   "cell_type": "markdown",
   "metadata": {},
   "source": [
    "Between this two models, the linear regression with L2 had a better score (near 8% of improvement). Now, let's try to use a LSA layer before fitting the model, to see if we can see any improvement. Also, we notice that the f1 scores using cross validation was lower, which may indicate that the model is overfitting."
   ]
  },
  {
   "cell_type": "markdown",
   "metadata": {},
   "source": [
    "## 3.1.2 Tf - Idf"
   ]
  },
  {
   "cell_type": "code",
   "execution_count": 30,
   "metadata": {
    "execution": {
     "iopub.execute_input": "2024-09-12T21:54:36.991902Z",
     "iopub.status.busy": "2024-09-12T21:54:36.991335Z",
     "iopub.status.idle": "2024-09-12T21:54:37.265730Z",
     "shell.execute_reply": "2024-09-12T21:54:37.264955Z",
     "shell.execute_reply.started": "2024-09-12T21:54:36.991841Z"
    }
   },
   "outputs": [],
   "source": [
    "#Count vectorizer method\n",
    "tfidf_vectorizer = feature_extraction.text.TfidfVectorizer(lowercase=True)\n",
    "\n",
    "train_vectors_idf = tfidf_vectorizer.fit_transform(train_df[\"text_clean\"])\n",
    "test_vectors_idf = tfidf_vectorizer.transform(test_df[\"text_clean\"])"
   ]
  },
  {
   "cell_type": "markdown",
   "metadata": {},
   "source": [
    "### Model with Tf-idf"
   ]
  },
  {
   "cell_type": "code",
   "execution_count": 31,
   "metadata": {
    "execution": {
     "iopub.execute_input": "2024-09-12T21:54:37.267292Z",
     "iopub.status.busy": "2024-09-12T21:54:37.267029Z",
     "iopub.status.idle": "2024-09-12T21:54:37.428666Z",
     "shell.execute_reply": "2024-09-12T21:54:37.427774Z",
     "shell.execute_reply.started": "2024-09-12T21:54:37.267249Z"
    }
   },
   "outputs": [
    {
     "name": "stdout",
     "output_type": "stream",
     "text": [
      "Average score: 0.6398059942506573\n",
      "List of scores: [0.64643237 0.60268318 0.67030243]\n"
     ]
    }
   ],
   "source": [
    "#RidgeClassifier\n",
    "clf = linear_model.RidgeClassifier()\n",
    "\n",
    "scores = model_selection.cross_val_score(clf, train_vectors_idf, train_df[\"target\"], cv=3, scoring=\"f1\")\n",
    "print(f\"Average score: {scores.mean()}\\nList of scores: {scores}\")"
   ]
  },
  {
   "cell_type": "code",
   "execution_count": 32,
   "metadata": {
    "execution": {
     "iopub.execute_input": "2024-09-12T21:54:37.435370Z",
     "iopub.status.busy": "2024-09-12T21:54:37.435076Z",
     "iopub.status.idle": "2024-09-12T21:54:37.948583Z",
     "shell.execute_reply": "2024-09-12T21:54:37.947490Z",
     "shell.execute_reply.started": "2024-09-12T21:54:37.435322Z"
    }
   },
   "outputs": [
    {
     "name": "stdout",
     "output_type": "stream",
     "text": [
      "Average score: 0.6329428707167883\n",
      "List of scores: [0.625      0.60716195 0.66666667]\n"
     ]
    }
   ],
   "source": [
    "#LinearRegression with L2\n",
    "clf = linear_model.LogisticRegression(penalty='l2', solver = 'lbfgs', max_iter=1000)\n",
    "\n",
    "scores = model_selection.cross_val_score(clf, train_vectors_idf, train_df[\"target\"], cv=3, scoring=\"f1\")\n",
    "print(f\"Average score: {scores.mean()}\\nList of scores: {scores}\")"
   ]
  },
  {
   "cell_type": "markdown",
   "metadata": {},
   "source": [
    "We improved our score using tf-idf with RidgeClassifier. Let's see if we can improve even more using Tf-idf with LSA."
   ]
  },
  {
   "cell_type": "markdown",
   "metadata": {},
   "source": [
    "## 3.1.3 Tf-idf with LSA"
   ]
  },
  {
   "cell_type": "code",
   "execution_count": 33,
   "metadata": {
    "execution": {
     "iopub.execute_input": "2024-09-12T21:54:37.955438Z",
     "iopub.status.busy": "2024-09-12T21:54:37.954681Z",
     "iopub.status.idle": "2024-09-12T21:54:37.963938Z",
     "shell.execute_reply": "2024-09-12T21:54:37.962295Z",
     "shell.execute_reply.started": "2024-09-12T21:54:37.955368Z"
    }
   },
   "outputs": [],
   "source": [
    "SVD_model = decomposition.TruncatedSVD(n_components=2)"
   ]
  },
  {
   "cell_type": "code",
   "execution_count": 34,
   "metadata": {
    "execution": {
     "iopub.execute_input": "2024-09-12T21:54:37.968509Z",
     "iopub.status.busy": "2024-09-12T21:54:37.966388Z",
     "iopub.status.idle": "2024-09-12T21:54:38.204110Z",
     "shell.execute_reply": "2024-09-12T21:54:38.201364Z",
     "shell.execute_reply.started": "2024-09-12T21:54:37.968433Z"
    }
   },
   "outputs": [],
   "source": [
    "train_z = SVD_model.fit_transform(train_vectors_idf)\n",
    "test_z = SVD_model.fit(test_vectors_idf)"
   ]
  },
  {
   "cell_type": "markdown",
   "metadata": {},
   "source": [
    "### Models with Tf-Idf with LSA"
   ]
  },
  {
   "cell_type": "code",
   "execution_count": 35,
   "metadata": {
    "execution": {
     "iopub.execute_input": "2024-09-12T21:54:38.209560Z",
     "iopub.status.busy": "2024-09-12T21:54:38.207340Z",
     "iopub.status.idle": "2024-09-12T21:54:38.293438Z",
     "shell.execute_reply": "2024-09-12T21:54:38.292204Z",
     "shell.execute_reply.started": "2024-09-12T21:54:38.209476Z"
    }
   },
   "outputs": [
    {
     "name": "stdout",
     "output_type": "stream",
     "text": [
      "Average score: 0.5399442473066468\n",
      "List of scores: [0.55377827 0.46678024 0.59927424]\n"
     ]
    }
   ],
   "source": [
    "#RidgeClassifier\n",
    "clf = linear_model.RidgeClassifier()\n",
    "\n",
    "scores = model_selection.cross_val_score(clf, train_z, train_df[\"target\"], cv=3, scoring=\"f1\")\n",
    "print(f\"Average score: {scores.mean()}\\nList of scores: {scores}\")"
   ]
  },
  {
   "cell_type": "code",
   "execution_count": 36,
   "metadata": {
    "execution": {
     "iopub.execute_input": "2024-09-12T21:54:38.295441Z",
     "iopub.status.busy": "2024-09-12T21:54:38.295059Z",
     "iopub.status.idle": "2024-09-12T21:54:38.398823Z",
     "shell.execute_reply": "2024-09-12T21:54:38.397730Z",
     "shell.execute_reply.started": "2024-09-12T21:54:38.295382Z"
    }
   },
   "outputs": [
    {
     "name": "stdout",
     "output_type": "stream",
     "text": [
      "Average score: 0.5382850487893235\n",
      "List of scores: [0.55438984 0.46885617 0.59160913]\n"
     ]
    }
   ],
   "source": [
    "#LinearRegression with L2\n",
    "clf = linear_model.LogisticRegression(penalty='l2', solver = 'lbfgs', max_iter=1000)\n",
    "\n",
    "scores = model_selection.cross_val_score(clf, train_z, train_df[\"target\"], cv=3, scoring=\"f1\")\n",
    "print(f\"Average score: {scores.mean()}\\nList of scores: {scores}\")"
   ]
  },
  {
   "cell_type": "code",
   "execution_count": 37,
   "metadata": {
    "execution": {
     "iopub.execute_input": "2024-09-12T21:54:38.407641Z",
     "iopub.status.busy": "2024-09-12T21:54:38.404720Z",
     "iopub.status.idle": "2024-09-12T21:55:46.481021Z",
     "shell.execute_reply": "2024-09-12T21:55:46.479762Z",
     "shell.execute_reply.started": "2024-09-12T21:54:38.407558Z"
    }
   },
   "outputs": [],
   "source": [
    "logistic_regression_f1 = []\n",
    "ridge_classifier_f1 = []\n",
    "number_list = [200,400,700,900,1100, 1300]\n",
    "#number_list = [700,900,1100]\n",
    "\n",
    "for number_components in number_list:\n",
    "    SVD_model_aux = decomposition.TruncatedSVD(n_components=number_components)\n",
    "    train_z_aux = SVD_model_aux.fit_transform(train_vectors_idf)\n",
    "    \n",
    "    clf = linear_model.RidgeClassifier()\n",
    "    scores = model_selection.cross_val_score(clf, train_z_aux, train_df[\"target\"], cv=3, scoring=\"f1\")\n",
    "    ridge_classifier_f1.append(scores.mean())\n",
    "    \n",
    "    clf = linear_model.LogisticRegression(penalty='l2', solver = 'lbfgs', max_iter=1000)\n",
    "    scores = model_selection.cross_val_score(clf, train_z_aux, train_df[\"target\"], cv=3, scoring=\"f1\")\n",
    "    logistic_regression_f1.append(scores.mean())"
   ]
  },
  {
   "cell_type": "code",
   "execution_count": 38,
   "metadata": {
    "execution": {
     "iopub.execute_input": "2024-09-12T21:55:46.483705Z",
     "iopub.status.busy": "2024-09-12T21:55:46.482871Z",
     "iopub.status.idle": "2024-09-12T21:55:46.904062Z",
     "shell.execute_reply": "2024-09-12T21:55:46.902229Z",
     "shell.execute_reply.started": "2024-09-12T21:55:46.483628Z"
    }
   },
   "outputs": [
    {
     "name": "stderr",
     "output_type": "stream",
     "text": [
      "/opt/conda/lib/python3.6/site-packages/matplotlib/figure.py:2369: UserWarning: This figure includes Axes that are not compatible with tight_layout, so results might be incorrect.\n",
      "  warnings.warn(\"This figure includes Axes that are not compatible \"\n"
     ]
    },
    {
     "data": {
      "image/png": "[encoded data removed]",
      "text/plain": [
       "<Figure size 432x288 with 1 Axes>"
      ]
     },
     "metadata": {
      "image/png": {
       "height": 280,
       "width": 424
      },
      "needs_background": "light"
     },
     "output_type": "display_data"
    }
   ],
   "source": [
    "# Best number of components\n",
    "plt.plot(number_list, ridge_classifier_f1, label = 'Ridge classifier')\n",
    "plt.plot(number_list, logistic_regression_f1, label = 'Logistic regression')\n",
    "plt.legend()\n",
    "plt.title(\"Average score for different number of components in LSA\")\n",
    "plt.show()"
   ]
  },
  {
   "cell_type": "code",
   "execution_count": 39,
   "metadata": {
    "execution": {
     "iopub.execute_input": "2024-09-12T22:02:26.175691Z",
     "iopub.status.busy": "2024-09-12T22:02:26.174683Z",
     "iopub.status.idle": "2024-09-12T22:02:26.185688Z",
     "shell.execute_reply": "2024-09-12T22:02:26.184550Z",
     "shell.execute_reply.started": "2024-09-12T22:02:26.175600Z"
    }
   },
   "outputs": [
    {
     "name": "stdout",
     "output_type": "stream",
     "text": [
      "Maximum F1 score: 400: 0.6410178192488688\n"
     ]
    }
   ],
   "source": [
    "max_f1 = np.argsort(-np.array(ridge_classifier_f1))[0]\n",
    "print(f\"Maximum F1 score: {number_list[max_f1]}: {ridge_classifier_f1[max_f1]}\")"
   ]
  },
  {
   "cell_type": "code",
   "execution_count": 40,
   "metadata": {
    "execution": {
     "iopub.execute_input": "2024-09-12T22:02:46.728566Z",
     "iopub.status.busy": "2024-09-12T22:02:46.728159Z",
     "iopub.status.idle": "2024-09-12T22:02:52.454203Z",
     "shell.execute_reply": "2024-09-12T22:02:52.452808Z",
     "shell.execute_reply.started": "2024-09-12T22:02:46.728504Z"
    }
   },
   "outputs": [
    {
     "name": "stdout",
     "output_type": "stream",
     "text": [
      "\n",
      "F1 score (train data) using all the data 0.934875614007289\n"
     ]
    }
   ],
   "source": [
    "SVD_model = decomposition.TruncatedSVD(n_components=number_list[max_f1])\n",
    "train_z = SVD_model.fit_transform(train_vectors_idf)\n",
    "\n",
    "clf = linear_model.LogisticRegression(penalty='l2', solver = 'lbfgs', max_iter=1000)\n",
    "\n",
    "clf.fit(train_vectors, train_df[\"target\"])\n",
    "predict = clf.predict(train_vectors)\n",
    "print(f'\\nF1 score (train data) using all the data {metrics.f1_score(train_df[\"target\"] ,predict)}')"
   ]
  },
  {
   "cell_type": "markdown",
   "metadata": {},
   "source": [
    "## 3.2 Using the new feature\n",
    "\n",
    "Now, let's try our best model (LSA with 900 components with a ridge classifier) with the new feature to see if it improves our performance."
   ]
  },
  {
   "cell_type": "code",
   "execution_count": 41,
   "metadata": {
    "execution": {
     "iopub.execute_input": "2024-09-12T22:03:12.334682Z",
     "iopub.status.busy": "2024-09-12T22:03:12.334332Z",
     "iopub.status.idle": "2024-09-12T22:03:12.773367Z",
     "shell.execute_reply": "2024-09-12T22:03:12.772339Z",
     "shell.execute_reply.started": "2024-09-12T22:03:12.334622Z"
    }
   },
   "outputs": [],
   "source": [
    "train_vectors_kw = count_vectorizer.fit_transform(train_df['text_kw_clean'])\n",
    "test_vectors_kw = count_vectorizer.transform(test_df['text_kw_clean'])\n",
    "\n",
    "\n",
    "#Count vectorizer method\n",
    "tfidf_vectorizer = feature_extraction.text.TfidfVectorizer(lowercase=True)\n",
    "train_vectors_idf_kw = tfidf_vectorizer.fit_transform(train_df[\"text_kw_clean\"])\n",
    "test_vectors_idf_kw = tfidf_vectorizer.transform(test_df[\"text_kw_clean\"])"
   ]
  },
  {
   "cell_type": "code",
   "execution_count": 42,
   "metadata": {
    "execution": {
     "iopub.execute_input": "2024-09-12T22:03:43.135941Z",
     "iopub.status.busy": "2024-09-12T22:03:43.135422Z",
     "iopub.status.idle": "2024-09-12T22:03:57.043402Z",
     "shell.execute_reply": "2024-09-12T22:03:57.042345Z",
     "shell.execute_reply.started": "2024-09-12T22:03:43.135859Z"
    }
   },
   "outputs": [
    {
     "name": "stdout",
     "output_type": "stream",
     "text": [
      "Average score: 0.6099836480371347\n",
      "List of scores: [0.61852433 0.57075024 0.64067637]\n"
     ]
    }
   ],
   "source": [
    "SVD_model_aux = decomposition.TruncatedSVD(n_components=900)\n",
    "train_z_aux = SVD_model_aux.fit_transform(train_vectors_idf_kw)\n",
    "\n",
    "clf = linear_model.RidgeClassifier()\n",
    "scores = model_selection.cross_val_score(clf, train_z_aux, train_df[\"target\"], cv=3, scoring=\"f1\")\n",
    "print(f\"Average score: {scores.mean()}\\nList of scores: {scores}\")"
   ]
  },
  {
   "cell_type": "code",
   "execution_count": 43,
   "metadata": {
    "execution": {
     "iopub.execute_input": "2024-09-12T22:03:57.052119Z",
     "iopub.status.busy": "2024-09-12T22:03:57.049314Z",
     "iopub.status.idle": "2024-09-12T22:03:57.376169Z",
     "shell.execute_reply": "2024-09-12T22:03:57.375088Z",
     "shell.execute_reply.started": "2024-09-12T22:03:57.052044Z"
    }
   },
   "outputs": [
    {
     "name": "stdout",
     "output_type": "stream",
     "text": [
      "\n",
      "F1 score (train data) using all the data 0.8059897975974988\n"
     ]
    }
   ],
   "source": [
    "clf.fit(train_z_aux, train_df[\"target\"])\n",
    "predict = clf.predict(train_z_aux)\n",
    "print(f'\\nF1 score (train data) using all the data {metrics.f1_score(train_df[\"target\"] ,predict)}')"
   ]
  },
  {
   "cell_type": "markdown",
   "metadata": {},
   "source": [
    "## 3.3 Summary of Baseline Models\n",
    "\n",
    "Almost all baseline models yielded similar scores using 3-fold cross-validation. However, the best result was achieved with the LSA model (utilizing 900 components) combined with keyword features alongside the text. Notably, this model had the lowest F1 score on the full test sample, indicating some degree of overfitting in the other models.\n",
    "\n",
    "We will use this LSA model as the baseline for submitting the test sample and comparing its performance against more advanced techniques."
   ]
  },
  {
   "cell_type": "markdown",
   "metadata": {},
   "source": [
    "## 3.4 Model evalutation on test data"
   ]
  },
  {
   "cell_type": "code",
   "execution_count": 44,
   "metadata": {
    "execution": {
     "iopub.execute_input": "2024-09-12T22:04:05.439435Z",
     "iopub.status.busy": "2024-09-12T22:04:05.438869Z",
     "iopub.status.idle": "2024-09-12T22:04:05.538274Z",
     "shell.execute_reply": "2024-09-12T22:04:05.537250Z",
     "shell.execute_reply.started": "2024-09-12T22:04:05.439163Z"
    }
   },
   "outputs": [
    {
     "data": {
      "text/html": [
       "<div>\n",
       "<style scoped>\n",
       "    .dataframe tbody tr th:only-of-type {\n",
       "        vertical-align: middle;\n",
       "    }\n",
       "\n",
       "    .dataframe tbody tr th {\n",
       "        vertical-align: top;\n",
       "    }\n",
       "\n",
       "    .dataframe thead th {\n",
       "        text-align: right;\n",
       "    }\n",
       "</style>\n",
       "<table border=\"1\" class=\"dataframe\">\n",
       "  <thead>\n",
       "    <tr style=\"text-align: right;\">\n",
       "      <th></th>\n",
       "      <th>id</th>\n",
       "      <th>target</th>\n",
       "    </tr>\n",
       "  </thead>\n",
       "  <tbody>\n",
       "    <tr>\n",
       "      <th>0</th>\n",
       "      <td>0</td>\n",
       "      <td>1</td>\n",
       "    </tr>\n",
       "    <tr>\n",
       "      <th>1</th>\n",
       "      <td>2</td>\n",
       "      <td>1</td>\n",
       "    </tr>\n",
       "    <tr>\n",
       "      <th>2</th>\n",
       "      <td>3</td>\n",
       "      <td>1</td>\n",
       "    </tr>\n",
       "    <tr>\n",
       "      <th>3</th>\n",
       "      <td>9</td>\n",
       "      <td>1</td>\n",
       "    </tr>\n",
       "    <tr>\n",
       "      <th>4</th>\n",
       "      <td>11</td>\n",
       "      <td>1</td>\n",
       "    </tr>\n",
       "  </tbody>\n",
       "</table>\n",
       "</div>"
      ],
      "text/plain": [
       "   id  target\n",
       "0   0       1\n",
       "1   2       1\n",
       "2   3       1\n",
       "3   9       1\n",
       "4  11       1"
      ]
     },
     "execution_count": 44,
     "metadata": {},
     "output_type": "execute_result"
    }
   ],
   "source": [
    "sample_submission = pd.read_csv(\"/kaggle/input/nlp-getting-started/sample_submission.csv\")\n",
    "\n",
    "\n",
    "test_z_aux = SVD_model_aux.transform(test_vectors_kw)\n",
    "\n",
    "sample_submission[\"target\"] = clf.predict(test_z_aux)\n",
    "sample_submission.head()"
   ]
  },
  {
   "cell_type": "code",
   "execution_count": 45,
   "metadata": {
    "execution": {
     "iopub.status.busy": "2024-09-12T21:55:47.107279Z",
     "iopub.status.idle": "2024-09-12T21:55:47.107775Z"
    }
   },
   "outputs": [],
   "source": [
    "sample_submission.to_csv(\"submission_baseline.csv\", index=False)"
   ]
  },
  {
   "cell_type": "markdown",
   "metadata": {},
   "source": [
    "## 3.5 Results\n",
    "\n",
    "We achieved a F1 score of 0.73980 with this model"
   ]
  },
  {
   "cell_type": "markdown",
   "metadata": {},
   "source": [
    "# 4. Advanced Modeling with BERT"
   ]
  },
  {
   "cell_type": "code",
   "execution_count": 46,
   "metadata": {
    "execution": {
     "iopub.execute_input": "2024-09-12T22:04:16.757794Z",
     "iopub.status.busy": "2024-09-12T22:04:16.757457Z",
     "iopub.status.idle": "2024-09-12T22:04:21.494097Z",
     "shell.execute_reply": "2024-09-12T22:04:21.493059Z",
     "shell.execute_reply.started": "2024-09-12T22:04:16.757745Z"
    }
   },
   "outputs": [],
   "source": [
    "import transformers\n",
    "\n",
    "#transformers\n",
    "from transformers import BertTokenizerFast\n",
    "from transformers import TFBertModel\n",
    "from transformers import RobertaTokenizerFast\n",
    "from transformers import TFRobertaModel\n",
    "\n",
    "#keras\n",
    "import tensorflow as tf\n",
    "from tensorflow import keras"
   ]
  },
  {
   "cell_type": "code",
   "execution_count": 47,
   "metadata": {
    "execution": {
     "iopub.execute_input": "2024-09-12T22:04:21.496691Z",
     "iopub.status.busy": "2024-09-12T22:04:21.496378Z",
     "iopub.status.idle": "2024-09-12T22:04:22.669104Z",
     "shell.execute_reply": "2024-09-12T22:04:22.667954Z",
     "shell.execute_reply.started": "2024-09-12T22:04:21.496644Z"
    }
   },
   "outputs": [
    {
     "data": {
      "application/vnd.jupyter.widget-view+json": {
       "model_id": "105ce852b6514d8fa13800bce4fbc10f",
       "version_major": 2,
       "version_minor": 0
      },
      "text/plain": [
       "HBox(children=(IntProgress(value=0, description='Downloading', max=231508, style=ProgressStyle(description_wid…"
      ]
     },
     "metadata": {},
     "output_type": "display_data"
    },
    {
     "name": "stdout",
     "output_type": "stream",
     "text": [
      "\n"
     ]
    }
   ],
   "source": [
    "tokenizer = BertTokenizerFast.from_pretrained('bert-base-uncased')"
   ]
  },
  {
   "cell_type": "code",
   "execution_count": 48,
   "metadata": {
    "execution": {
     "iopub.execute_input": "2024-09-12T22:04:22.671336Z",
     "iopub.status.busy": "2024-09-12T22:04:22.671007Z",
     "iopub.status.idle": "2024-09-12T22:04:23.570886Z",
     "shell.execute_reply": "2024-09-12T22:04:23.570023Z",
     "shell.execute_reply.started": "2024-09-12T22:04:22.671279Z"
    }
   },
   "outputs": [],
   "source": [
    "token_lens = []\n",
    "for txt in train_df['text_clean'].values:\n",
    "    tokens = tokenizer.encode(txt, max_length=512, truncation=True)\n",
    "    token_lens.append(len(tokens))\n",
    "\n",
    "max_len=np.max(token_lens)"
   ]
  },
  {
   "cell_type": "code",
   "execution_count": 49,
   "metadata": {
    "execution": {
     "iopub.execute_input": "2024-09-12T22:04:23.573495Z",
     "iopub.status.busy": "2024-09-12T22:04:23.573175Z",
     "iopub.status.idle": "2024-09-12T22:04:23.577845Z",
     "shell.execute_reply": "2024-09-12T22:04:23.576897Z",
     "shell.execute_reply.started": "2024-09-12T22:04:23.573441Z"
    }
   },
   "outputs": [
    {
     "name": "stdout",
     "output_type": "stream",
     "text": [
      "55\n"
     ]
    }
   ],
   "source": [
    "print(max_len)"
   ]
  },
  {
   "cell_type": "code",
   "execution_count": 50,
   "metadata": {
    "execution": {
     "iopub.execute_input": "2024-09-12T22:04:23.579934Z",
     "iopub.status.busy": "2024-09-12T22:04:23.579637Z",
     "iopub.status.idle": "2024-09-12T22:04:23.613892Z",
     "shell.execute_reply": "2024-09-12T22:04:23.613012Z",
     "shell.execute_reply.started": "2024-09-12T22:04:23.579882Z"
    }
   },
   "outputs": [
    {
     "data": {
      "text/html": [
       "<div>\n",
       "<style scoped>\n",
       "    .dataframe tbody tr th:only-of-type {\n",
       "        vertical-align: middle;\n",
       "    }\n",
       "\n",
       "    .dataframe tbody tr th {\n",
       "        vertical-align: top;\n",
       "    }\n",
       "\n",
       "    .dataframe thead th {\n",
       "        text-align: right;\n",
       "    }\n",
       "</style>\n",
       "<table border=\"1\" class=\"dataframe\">\n",
       "  <thead>\n",
       "    <tr style=\"text-align: right;\">\n",
       "      <th></th>\n",
       "      <th>id</th>\n",
       "      <th>keyword</th>\n",
       "      <th>location</th>\n",
       "      <th>text</th>\n",
       "      <th>target</th>\n",
       "      <th>text_clean</th>\n",
       "      <th>len_keyword</th>\n",
       "      <th>len_text</th>\n",
       "      <th>keyword_clean</th>\n",
       "      <th>text_kw_clean</th>\n",
       "      <th>token_lens</th>\n",
       "    </tr>\n",
       "  </thead>\n",
       "  <tbody>\n",
       "    <tr>\n",
       "      <th>1924</th>\n",
       "      <td>2767</td>\n",
       "      <td>curfew</td>\n",
       "      <td>Adelaide, Australia</td>\n",
       "      <td>INFO S. WND: 030/6. CLD: SCT014 BKN032. EXP IN...</td>\n",
       "      <td>0</td>\n",
       "      <td>info s wnd 0306 cld sct014 bkn032 exp inst apc...</td>\n",
       "      <td>1</td>\n",
       "      <td>27</td>\n",
       "      <td>curfew</td>\n",
       "      <td>info s wnd 0306 cld sct014 bkn032 exp inst apc...</td>\n",
       "      <td>55</td>\n",
       "    </tr>\n",
       "    <tr>\n",
       "      <th>1941</th>\n",
       "      <td>2792</td>\n",
       "      <td>curfew</td>\n",
       "      <td>Adelaide, Australia</td>\n",
       "      <td>INFO U. CLD: SCT012 BKN025. EXP INST APCH. RWY...</td>\n",
       "      <td>0</td>\n",
       "      <td>info u cld sct012 bkn025 exp inst apch rwy 05 ...</td>\n",
       "      <td>1</td>\n",
       "      <td>27</td>\n",
       "      <td>curfew</td>\n",
       "      <td>info u cld sct012 bkn025 exp inst apch rwy 05 ...</td>\n",
       "      <td>55</td>\n",
       "    </tr>\n",
       "    <tr>\n",
       "      <th>1939</th>\n",
       "      <td>2787</td>\n",
       "      <td>curfew</td>\n",
       "      <td>Adelaide, Australia</td>\n",
       "      <td>INFO R. CURFEW IN OPER UNTIL 2030 Z. TAXIWAYS ...</td>\n",
       "      <td>0</td>\n",
       "      <td>info r curfew in oper until 2030 z taxiway fox...</td>\n",
       "      <td>1</td>\n",
       "      <td>27</td>\n",
       "      <td>curfew</td>\n",
       "      <td>info r curfew in oper until 2030 z taxiway fox...</td>\n",
       "      <td>50</td>\n",
       "    </tr>\n",
       "    <tr>\n",
       "      <th>633</th>\n",
       "      <td>915</td>\n",
       "      <td>bioterrorism</td>\n",
       "      <td>NaN</td>\n",
       "      <td>@HowardU If 90BLKs&amp;amp;8WHTs colluded 2 take W...</td>\n",
       "      <td>1</td>\n",
       "      <td>if 90blksamp8whts collude 2 take wht f auth ho...</td>\n",
       "      <td>1</td>\n",
       "      <td>20</td>\n",
       "      <td>bioterrorism</td>\n",
       "      <td>if 90blksamp8whts collude 2 take wht f auth ho...</td>\n",
       "      <td>45</td>\n",
       "    </tr>\n",
       "    <tr>\n",
       "      <th>614</th>\n",
       "      <td>885</td>\n",
       "      <td>bioterrorism</td>\n",
       "      <td>NaN</td>\n",
       "      <td>@CAgov If 90BLKs&amp;amp;8WHTs colluded 2 take WHT...</td>\n",
       "      <td>1</td>\n",
       "      <td>if 90blksamp8whts collude 2 take wht f auth ho...</td>\n",
       "      <td>1</td>\n",
       "      <td>20</td>\n",
       "      <td>bioterrorism</td>\n",
       "      <td>if 90blksamp8whts collude 2 take wht f auth ho...</td>\n",
       "      <td>45</td>\n",
       "    </tr>\n",
       "  </tbody>\n",
       "</table>\n",
       "</div>"
      ],
      "text/plain": [
       "        id       keyword             location  \\\n",
       "1924  2767        curfew  Adelaide, Australia   \n",
       "1941  2792        curfew  Adelaide, Australia   \n",
       "1939  2787        curfew  Adelaide, Australia   \n",
       "633    915  bioterrorism                  NaN   \n",
       "614    885  bioterrorism                  NaN   \n",
       "\n",
       "                                                   text  target  \\\n",
       "1924  INFO S. WND: 030/6. CLD: SCT014 BKN032. EXP IN...       0   \n",
       "1941  INFO U. CLD: SCT012 BKN025. EXP INST APCH. RWY...       0   \n",
       "1939  INFO R. CURFEW IN OPER UNTIL 2030 Z. TAXIWAYS ...       0   \n",
       "633   @HowardU If 90BLKs&amp;8WHTs colluded 2 take W...       1   \n",
       "614   @CAgov If 90BLKs&amp;8WHTs colluded 2 take WHT...       1   \n",
       "\n",
       "                                             text_clean  len_keyword  \\\n",
       "1924  info s wnd 0306 cld sct014 bkn032 exp inst apc...            1   \n",
       "1941  info u cld sct012 bkn025 exp inst apch rwy 05 ...            1   \n",
       "1939  info r curfew in oper until 2030 z taxiway fox...            1   \n",
       "633   if 90blksamp8whts collude 2 take wht f auth ho...            1   \n",
       "614   if 90blksamp8whts collude 2 take wht f auth ho...            1   \n",
       "\n",
       "      len_text keyword_clean  \\\n",
       "1924        27        curfew   \n",
       "1941        27        curfew   \n",
       "1939        27        curfew   \n",
       "633         20  bioterrorism   \n",
       "614         20  bioterrorism   \n",
       "\n",
       "                                          text_kw_clean  token_lens  \n",
       "1924  info s wnd 0306 cld sct014 bkn032 exp inst apc...          55  \n",
       "1941  info u cld sct012 bkn025 exp inst apch rwy 05 ...          55  \n",
       "1939  info r curfew in oper until 2030 z taxiway fox...          50  \n",
       "633   if 90blksamp8whts collude 2 take wht f auth ho...          45  \n",
       "614   if 90blksamp8whts collude 2 take wht f auth ho...          45  "
      ]
     },
     "execution_count": 50,
     "metadata": {},
     "output_type": "execute_result"
    }
   ],
   "source": [
    "#Lets take a look on the examples with more tokens\n",
    "train_df['token_lens'] = token_lens\n",
    "train_df = train_df.sort_values(by='token_lens', ascending=False)\n",
    "train_df.head()"
   ]
  },
  {
   "cell_type": "code",
   "execution_count": 51,
   "metadata": {
    "execution": {
     "iopub.execute_input": "2024-09-12T22:04:23.880819Z",
     "iopub.status.busy": "2024-09-12T22:04:23.880475Z",
     "iopub.status.idle": "2024-09-12T22:04:23.885436Z",
     "shell.execute_reply": "2024-09-12T22:04:23.884368Z",
     "shell.execute_reply.started": "2024-09-12T22:04:23.880767Z"
    }
   },
   "outputs": [],
   "source": [
    "X_train = train_df['text_kw_clean'].values\n",
    "y_train = train_df['target'].values"
   ]
  },
  {
   "cell_type": "code",
   "execution_count": 52,
   "metadata": {
    "execution": {
     "iopub.execute_input": "2024-09-12T22:04:28.914379Z",
     "iopub.status.busy": "2024-09-12T22:04:28.914004Z",
     "iopub.status.idle": "2024-09-12T22:04:28.922653Z",
     "shell.execute_reply": "2024-09-12T22:04:28.921332Z",
     "shell.execute_reply.started": "2024-09-12T22:04:28.914317Z"
    }
   },
   "outputs": [],
   "source": [
    "MAX_LEN=70\n",
    "\n",
    "def tokenize(data,max_len=MAX_LEN) :\n",
    "    input_ids = []\n",
    "    attention_masks = []\n",
    "    for i in range(len(data)):\n",
    "        encoded = tokenizer.encode_plus(\n",
    "            data[i],\n",
    "            add_special_tokens=True,\n",
    "            max_length=MAX_LEN,\n",
    "            padding='max_length',\n",
    "            return_attention_mask=True,\n",
    "            truncation = True\n",
    "        )\n",
    "        #For some reason padding = max_length is not working, so we will add the padding manually\n",
    "        len_tokens = len(encoded['input_ids']) \n",
    "        \n",
    "        padding_list = []\n",
    "        if len_tokens < max_len:\n",
    "            padding_list = [0]*(max_len - len_tokens)\n",
    "        \n",
    "        input_ids.append(encoded['input_ids'] + padding_list)\n",
    "        attention_masks.append(encoded['attention_mask'] + padding_list)\n",
    "    return np.array(input_ids),np.array(attention_masks)"
   ]
  },
  {
   "cell_type": "code",
   "execution_count": 53,
   "metadata": {
    "execution": {
     "iopub.execute_input": "2024-09-12T22:04:30.302084Z",
     "iopub.status.busy": "2024-09-12T22:04:30.301736Z",
     "iopub.status.idle": "2024-09-12T22:04:31.437200Z",
     "shell.execute_reply": "2024-09-12T22:04:31.436081Z",
     "shell.execute_reply.started": "2024-09-12T22:04:30.302034Z"
    }
   },
   "outputs": [],
   "source": [
    "train_input_ids, train_attention_masks = tokenize(X_train, MAX_LEN)"
   ]
  },
  {
   "cell_type": "code",
   "execution_count": 54,
   "metadata": {
    "execution": {
     "iopub.execute_input": "2024-09-12T22:04:31.439345Z",
     "iopub.status.busy": "2024-09-12T22:04:31.439029Z",
     "iopub.status.idle": "2024-09-12T22:04:31.445069Z",
     "shell.execute_reply": "2024-09-12T22:04:31.444046Z",
     "shell.execute_reply.started": "2024-09-12T22:04:31.439293Z"
    }
   },
   "outputs": [
    {
     "data": {
      "text/plain": [
       "(7613, 70)"
      ]
     },
     "execution_count": 54,
     "metadata": {},
     "output_type": "execute_result"
    }
   ],
   "source": [
    "train_input_ids.shape"
   ]
  },
  {
   "cell_type": "code",
   "execution_count": 55,
   "metadata": {
    "execution": {
     "iopub.execute_input": "2024-09-12T22:04:31.446917Z",
     "iopub.status.busy": "2024-09-12T22:04:31.446625Z",
     "iopub.status.idle": "2024-09-12T22:04:31.456609Z",
     "shell.execute_reply": "2024-09-12T22:04:31.455759Z",
     "shell.execute_reply.started": "2024-09-12T22:04:31.446862Z"
    }
   },
   "outputs": [
    {
     "data": {
      "text/plain": [
       "array([1, 1, 1, 1, 1, 1, 1, 1, 1, 1, 1, 1, 1, 1, 1, 1, 1, 1, 1, 1, 1, 1,\n",
       "       1, 1, 1, 1, 1, 1, 1, 1, 1, 1, 1, 1, 1, 1, 1, 1, 1, 1, 1, 1, 1, 1,\n",
       "       1, 1, 1, 1, 1, 1, 1, 1, 1, 1, 1, 1, 1, 1, 0, 0, 0, 0, 0, 0, 0, 0,\n",
       "       0, 0, 0, 0])"
      ]
     },
     "execution_count": 55,
     "metadata": {},
     "output_type": "execute_result"
    }
   ],
   "source": [
    "train_attention_masks[0]"
   ]
  },
  {
   "cell_type": "markdown",
   "metadata": {},
   "source": [
    "## 4.1 Model with BERT"
   ]
  },
  {
   "cell_type": "code",
   "execution_count": 56,
   "metadata": {
    "execution": {
     "iopub.execute_input": "2024-09-12T22:04:34.083671Z",
     "iopub.status.busy": "2024-09-12T22:04:34.083297Z",
     "iopub.status.idle": "2024-09-12T22:06:18.406335Z",
     "shell.execute_reply": "2024-09-12T22:06:18.405427Z",
     "shell.execute_reply.started": "2024-09-12T22:04:34.083586Z"
    }
   },
   "outputs": [
    {
     "data": {
      "application/vnd.jupyter.widget-view+json": {
       "model_id": "4919668a85934e598ed68dacdfc9845c",
       "version_major": 2,
       "version_minor": 0
      },
      "text/plain": [
       "HBox(children=(IntProgress(value=0, description='Downloading', max=433, style=ProgressStyle(description_width=…"
      ]
     },
     "metadata": {},
     "output_type": "display_data"
    },
    {
     "name": "stdout",
     "output_type": "stream",
     "text": [
      "\n"
     ]
    },
    {
     "data": {
      "application/vnd.jupyter.widget-view+json": {
       "model_id": "9eae08f291ab484b9deedf819825c8ac",
       "version_major": 2,
       "version_minor": 0
      },
      "text/plain": [
       "HBox(children=(IntProgress(value=0, description='Downloading', max=536063208, style=ProgressStyle(description_…"
      ]
     },
     "metadata": {},
     "output_type": "display_data"
    },
    {
     "name": "stdout",
     "output_type": "stream",
     "text": [
      "\n"
     ]
    }
   ],
   "source": [
    "bert_model = TFBertModel.from_pretrained('bert-base-uncased')"
   ]
  },
  {
   "cell_type": "code",
   "execution_count": 57,
   "metadata": {
    "execution": {
     "iopub.execute_input": "2024-09-12T22:06:18.409600Z",
     "iopub.status.busy": "2024-09-12T22:06:18.409148Z",
     "iopub.status.idle": "2024-09-12T22:06:18.419505Z",
     "shell.execute_reply": "2024-09-12T22:06:18.418366Z",
     "shell.execute_reply.started": "2024-09-12T22:06:18.409519Z"
    }
   },
   "outputs": [],
   "source": [
    "def create_model(bert_model, max_len=100):\n",
    "\n",
    "    ##params###\n",
    "    # define optimizer\n",
    "    opt = tf.keras.optimizers.Adam(learning_rate=1e-5, decay=1e-7)\n",
    "\n",
    "    # define loss\n",
    "    loss = tf.keras.losses.BinaryCrossentropy()\n",
    "    \n",
    "    # evaluate model accuracy\n",
    "    accuracy = tf.keras.metrics.CategoricalAccuracy()\n",
    "\n",
    "    # define model entry\n",
    "    input_ids = tf.keras.Input(shape=(max_len,),dtype='int32')\n",
    "    attention_masks = tf.keras.Input(shape=(max_len,),dtype='int32')\n",
    "\n",
    "    # separate embeddings\n",
    "    embeddings = bert_model([input_ids,attention_masks])[1]\n",
    "\n",
    "    # create a new layer for class prediction\n",
    "    output = tf.keras.layers.Dense(1, activation=\"sigmoid\")(embeddings)\n",
    "\n",
    "    # compiles the model\n",
    "    model = tf.keras.models.Model(inputs = [input_ids,attention_masks], outputs = output)\n",
    "    model.compile(opt, loss=loss, metrics=[accuracy])\n",
    "\n",
    "    return model"
   ]
  },
  {
   "cell_type": "code",
   "execution_count": 58,
   "metadata": {
    "execution": {
     "iopub.execute_input": "2024-09-12T22:06:18.421889Z",
     "iopub.status.busy": "2024-09-12T22:06:18.421494Z",
     "iopub.status.idle": "2024-09-12T22:06:22.979228Z",
     "shell.execute_reply": "2024-09-12T22:06:22.978278Z",
     "shell.execute_reply.started": "2024-09-12T22:06:18.421815Z"
    }
   },
   "outputs": [
    {
     "name": "stdout",
     "output_type": "stream",
     "text": [
      "Model: \"model\"\n",
      "__________________________________________________________________________________________________\n",
      "Layer (type)                    Output Shape         Param #     Connected to                     \n",
      "==================================================================================================\n",
      "input_1 (InputLayer)            [(None, 70)]         0                                            \n",
      "__________________________________________________________________________________________________\n",
      "input_2 (InputLayer)            [(None, 70)]         0                                            \n",
      "__________________________________________________________________________________________________\n",
      "tf_bert_model (TFBertModel)     ((None, 70, 768), (N 109482240   input_1[0][0]                    \n",
      "                                                                 input_2[0][0]                    \n",
      "__________________________________________________________________________________________________\n",
      "dense (Dense)                   (None, 1)            769         tf_bert_model[0][1]              \n",
      "==================================================================================================\n",
      "Total params: 109,483,009\n",
      "Trainable params: 109,483,009\n",
      "Non-trainable params: 0\n",
      "__________________________________________________________________________________________________\n"
     ]
    }
   ],
   "source": [
    "model = create_model(bert_model, MAX_LEN)\n",
    "model.summary()"
   ]
  },
  {
   "cell_type": "code",
   "execution_count": 59,
   "metadata": {
    "execution": {
     "iopub.execute_input": "2024-09-12T22:06:22.980939Z",
     "iopub.status.busy": "2024-09-12T22:06:22.980667Z",
     "iopub.status.idle": "2024-09-12T22:06:22.987789Z",
     "shell.execute_reply": "2024-09-12T22:06:22.986398Z",
     "shell.execute_reply.started": "2024-09-12T22:06:22.980890Z"
    }
   },
   "outputs": [
    {
     "data": {
      "text/plain": [
       "array([0, 0, 0, ..., 0, 0, 0])"
      ]
     },
     "execution_count": 59,
     "metadata": {},
     "output_type": "execute_result"
    }
   ],
   "source": [
    "y_train"
   ]
  },
  {
   "cell_type": "code",
   "execution_count": 60,
   "metadata": {
    "execution": {
     "iopub.execute_input": "2024-09-12T22:06:22.993863Z",
     "iopub.status.busy": "2024-09-12T22:06:22.993513Z",
     "iopub.status.idle": "2024-09-12T22:06:23.000421Z",
     "shell.execute_reply": "2024-09-12T22:06:22.999414Z",
     "shell.execute_reply.started": "2024-09-12T22:06:22.993806Z"
    }
   },
   "outputs": [
    {
     "data": {
      "text/plain": [
       "70"
      ]
     },
     "execution_count": 60,
     "metadata": {},
     "output_type": "execute_result"
    }
   ],
   "source": [
    "len(train_attention_masks[4])"
   ]
  },
  {
   "cell_type": "code",
   "execution_count": 61,
   "metadata": {
    "execution": {
     "iopub.execute_input": "2024-09-12T22:06:23.002501Z",
     "iopub.status.busy": "2024-09-12T22:06:23.002155Z",
     "iopub.status.idle": "2024-09-12T22:47:53.480467Z",
     "shell.execute_reply": "2024-09-12T22:47:53.479104Z",
     "shell.execute_reply.started": "2024-09-12T22:06:23.002446Z"
    }
   },
   "outputs": [
    {
     "name": "stdout",
     "output_type": "stream",
     "text": [
      "Train on 7613 samples\n",
      "7613/7613 [==============================] - 3041s 399ms/sample - loss: 0.4701 - categorical_accuracy: 1.0000\n"
     ]
    }
   ],
   "source": [
    "#Fitting the model\n",
    "history_bert = model.fit(\n",
    "    [train_input_ids,train_attention_masks],\n",
    "    y_train,\n",
    "    epochs=1,\n",
    "    batch_size=50\n",
    "                  )"
   ]
  },
  {
   "cell_type": "code",
   "execution_count": 62,
   "metadata": {
    "execution": {
     "iopub.execute_input": "2024-09-12T22:47:53.483050Z",
     "iopub.status.busy": "2024-09-12T22:47:53.482717Z",
     "iopub.status.idle": "2024-09-12T22:47:53.487226Z",
     "shell.execute_reply": "2024-09-12T22:47:53.486294Z",
     "shell.execute_reply.started": "2024-09-12T22:47:53.482994Z"
    }
   },
   "outputs": [],
   "source": [
    "#result_bert = model.predict([train_input_ids,train_attention_masks])\n",
    "#y_pred_bert =  np.zeros_like(result_bert)\n",
    "#y_pred_bert[np.arange(len(y_pred_bert)), result_bert.argmax(1)] = 1"
   ]
  },
  {
   "cell_type": "markdown",
   "metadata": {},
   "source": [
    "## 4.2 Model evaluation"
   ]
  },
  {
   "cell_type": "code",
   "execution_count": 63,
   "metadata": {
    "execution": {
     "iopub.execute_input": "2024-09-12T22:47:53.488808Z",
     "iopub.status.busy": "2024-09-12T22:47:53.488555Z",
     "iopub.status.idle": "2024-09-12T22:47:53.983597Z",
     "shell.execute_reply": "2024-09-12T22:47:53.982370Z",
     "shell.execute_reply.started": "2024-09-12T22:47:53.488766Z"
    }
   },
   "outputs": [],
   "source": [
    "X_test = test_df['text_kw_clean'].values\n",
    "\n",
    "test_input_ids, test_attention_masks = tokenize(X_test, MAX_LEN)"
   ]
  },
  {
   "cell_type": "code",
   "execution_count": 64,
   "metadata": {
    "execution": {
     "iopub.execute_input": "2024-09-12T22:47:53.985269Z",
     "iopub.status.busy": "2024-09-12T22:47:53.984962Z",
     "iopub.status.idle": "2024-09-12T22:53:14.338784Z",
     "shell.execute_reply": "2024-09-12T22:53:14.337816Z",
     "shell.execute_reply.started": "2024-09-12T22:47:53.985211Z"
    }
   },
   "outputs": [],
   "source": [
    "result_bert = model.predict([test_input_ids,test_attention_masks])"
   ]
  },
  {
   "cell_type": "code",
   "execution_count": 65,
   "metadata": {
    "execution": {
     "iopub.execute_input": "2024-09-12T22:53:14.340734Z",
     "iopub.status.busy": "2024-09-12T22:53:14.340454Z",
     "iopub.status.idle": "2024-09-12T22:53:14.345829Z",
     "shell.execute_reply": "2024-09-12T22:53:14.344731Z",
     "shell.execute_reply.started": "2024-09-12T22:53:14.340688Z"
    }
   },
   "outputs": [],
   "source": [
    "y_pred_bert =  np.where(result_bert>=0.5, int(1), int(0))"
   ]
  },
  {
   "cell_type": "code",
   "execution_count": 66,
   "metadata": {
    "execution": {
     "iopub.execute_input": "2024-09-12T22:53:14.347860Z",
     "iopub.status.busy": "2024-09-12T22:53:14.347480Z",
     "iopub.status.idle": "2024-09-12T22:53:14.377995Z",
     "shell.execute_reply": "2024-09-12T22:53:14.376978Z",
     "shell.execute_reply.started": "2024-09-12T22:53:14.347788Z"
    }
   },
   "outputs": [
    {
     "data": {
      "text/plain": [
       "array([[0.11112061],\n",
       "       [0.10372922],\n",
       "       [0.6130167 ]], dtype=float32)"
      ]
     },
     "execution_count": 66,
     "metadata": {},
     "output_type": "execute_result"
    }
   ],
   "source": [
    "result_bert[50:53]"
   ]
  },
  {
   "cell_type": "code",
   "execution_count": 67,
   "metadata": {
    "execution": {
     "iopub.execute_input": "2024-09-12T22:53:14.380349Z",
     "iopub.status.busy": "2024-09-12T22:53:14.379769Z",
     "iopub.status.idle": "2024-09-12T22:53:14.388616Z",
     "shell.execute_reply": "2024-09-12T22:53:14.387777Z",
     "shell.execute_reply.started": "2024-09-12T22:53:14.380232Z"
    }
   },
   "outputs": [
    {
     "data": {
      "text/plain": [
       "array([[0],\n",
       "       [0],\n",
       "       [1]])"
      ]
     },
     "execution_count": 67,
     "metadata": {},
     "output_type": "execute_result"
    }
   ],
   "source": [
    "y_pred_bert[50:53]"
   ]
  },
  {
   "cell_type": "code",
   "execution_count": 68,
   "metadata": {
    "execution": {
     "iopub.execute_input": "2024-09-12T22:53:14.390504Z",
     "iopub.status.busy": "2024-09-12T22:53:14.390150Z",
     "iopub.status.idle": "2024-09-12T22:53:14.571666Z",
     "shell.execute_reply": "2024-09-12T22:53:14.570882Z",
     "shell.execute_reply.started": "2024-09-12T22:53:14.390449Z"
    }
   },
   "outputs": [],
   "source": [
    "sample_submission = pd.read_csv(\"/kaggle/input/nlp-getting-started/sample_submission.csv\")\n",
    "\n",
    "\n",
    "sample_submission[\"target\"] = y_pred_bert\n",
    "sample_submission.head()\n",
    "sample_submission.to_csv(\"submission_bert.csv\", index=False)"
   ]
  },
  {
   "cell_type": "markdown",
   "metadata": {},
   "source": [
    "## 4.3 Model evalutation on test data¶"
   ]
  },
  {
   "cell_type": "markdown",
   "metadata": {},
   "source": [
    "Using this model, we achieved a **F1 score of 0.82653**, which is a significant improvement against the baseline model"
   ]
  },
  {
   "cell_type": "markdown",
   "metadata": {},
   "source": [
    "# 5. Conclusion\n",
    "\n",
    "In this analysis, we tested various models to determine whether tweets were related to disasters. The most effective model was the BERT-based neural network, which achieved an F1 score of 0.83.\n",
    "\n",
    "Due to time constraints, hyperparameter optimization was not performed on the model, which could potentially enhance its performance. Additionally, exploring other transformers such as RoBERTa could provide further insights.\n",
    "\n",
    "The next step would be to deploy the model to process incoming tweets and return prediction outputs."
   ]
  }
 ],
 "metadata": {
  "kaggle": {
   "accelerator": "none",
   "dataSources": [
    {
     "databundleVersionId": 869809,
     "sourceId": 17777,
     "sourceType": "competition"
    }
   ],
   "dockerImageVersionId": 29844,
   "isGpuEnabled": false,
   "isInternetEnabled": true,
   "language": "python",
   "sourceType": "notebook"
  },
  "kernelspec": {
   "display_name": "Python 3",
   "language": "python",
   "name": "python3"
  },
  "language_info": {
   "codemirror_mode": {
    "name": "ipython",
    "version": 3
   },
   "file_extension": ".py",
   "mimetype": "text/x-python",
   "name": "python",
   "nbconvert_exporter": "python",
   "pygments_lexer": "ipython3",
   "version": "3.6.6"
  },
  "widgets": {
   "application/vnd.jupyter.widget-state+json": {
    "state": {
     "007198e15ad74254bc706d87b2d7402a": {
      "model_module": "@jupyter-widgets/base",
      "model_module_version": "1.2.0",
      "model_name": "LayoutModel",
      "state": {
       "_model_module": "@jupyter-widgets/base",
       "_model_module_version": "1.2.0",
       "_model_name": "LayoutModel",
       "_view_count": null,
       "_view_module": "@jupyter-widgets/base",
       "_view_module_version": "1.2.0",
       "_view_name": "LayoutView",
       "align_content": null,
       "align_items": null,
       "align_self": null,
       "border": null,
       "bottom": null,
       "display": null,
       "flex": null,
       "flex_flow": null,
       "grid_area": null,
       "grid_auto_columns": null,
       "grid_auto_flow": null,
       "grid_auto_rows": null,
       "grid_column": null,
       "grid_gap": null,
       "grid_row": null,
       "grid_template_areas": null,
       "grid_template_columns": null,
       "grid_template_rows": null,
       "height": null,
       "justify_content": null,
       "justify_items": null,
       "left": null,
       "margin": null,
       "max_height": null,
       "max_width": null,
       "min_height": null,
       "min_width": null,
       "object_fit": null,
       "object_position": null,
       "order": null,
       "overflow": null,
       "overflow_x": null,
       "overflow_y": null,
       "padding": null,
       "right": null,
       "top": null,
       "visibility": null,
       "width": null
      }
     },
     "034464eb9d7043e7909e8026d1471fe8": {
      "model_module": "@jupyter-widgets/base",
      "model_module_version": "1.2.0",
      "model_name": "LayoutModel",
      "state": {
       "_model_module": "@jupyter-widgets/base",
       "_model_module_version": "1.2.0",
       "_model_name": "LayoutModel",
       "_view_count": null,
       "_view_module": "@jupyter-widgets/base",
       "_view_module_version": "1.2.0",
       "_view_name": "LayoutView",
       "align_content": null,
       "align_items": null,
       "align_self": null,
       "border": null,
       "bottom": null,
       "display": null,
       "flex": null,
       "flex_flow": null,
       "grid_area": null,
       "grid_auto_columns": null,
       "grid_auto_flow": null,
       "grid_auto_rows": null,
       "grid_column": null,
       "grid_gap": null,
       "grid_row": null,
       "grid_template_areas": null,
       "grid_template_columns": null,
       "grid_template_rows": null,
       "height": null,
       "justify_content": null,
       "justify_items": null,
       "left": null,
       "margin": null,
       "max_height": null,
       "max_width": null,
       "min_height": null,
       "min_width": null,
       "object_fit": null,
       "object_position": null,
       "order": null,
       "overflow": null,
       "overflow_x": null,
       "overflow_y": null,
       "padding": null,
       "right": null,
       "top": null,
       "visibility": null,
       "width": null
      }
     },
     "068d08bbf6e9411b9cdc2f1a950d43e3": {
      "model_module": "@jupyter-widgets/controls",
      "model_module_version": "1.5.0",
      "model_name": "DescriptionStyleModel",
      "state": {
       "_model_module": "@jupyter-widgets/controls",
       "_model_module_version": "1.5.0",
       "_model_name": "DescriptionStyleModel",
       "_view_count": null,
       "_view_module": "@jupyter-widgets/base",
       "_view_module_version": "1.2.0",
       "_view_name": "StyleView",
       "description_width": ""
      }
     },
     "083804017a8a4a5abb8319ddeacee01d": {
      "model_module": "@jupyter-widgets/base",
      "model_module_version": "1.2.0",
      "model_name": "LayoutModel",
      "state": {
       "_model_module": "@jupyter-widgets/base",
       "_model_module_version": "1.2.0",
       "_model_name": "LayoutModel",
       "_view_count": null,
       "_view_module": "@jupyter-widgets/base",
       "_view_module_version": "1.2.0",
       "_view_name": "LayoutView",
       "align_content": null,
       "align_items": null,
       "align_self": null,
       "border": null,
       "bottom": null,
       "display": null,
       "flex": null,
       "flex_flow": null,
       "grid_area": null,
       "grid_auto_columns": null,
       "grid_auto_flow": null,
       "grid_auto_rows": null,
       "grid_column": null,
       "grid_gap": null,
       "grid_row": null,
       "grid_template_areas": null,
       "grid_template_columns": null,
       "grid_template_rows": null,
       "height": null,
       "justify_content": null,
       "justify_items": null,
       "left": null,
       "margin": null,
       "max_height": null,
       "max_width": null,
       "min_height": null,
       "min_width": null,
       "object_fit": null,
       "object_position": null,
       "order": null,
       "overflow": null,
       "overflow_x": null,
       "overflow_y": null,
       "padding": null,
       "right": null,
       "top": null,
       "visibility": null,
       "width": null
      }
     },
     "105ce852b6514d8fa13800bce4fbc10f": {
      "model_module": "@jupyter-widgets/controls",
      "model_module_version": "1.5.0",
      "model_name": "HBoxModel",
      "state": {
       "_dom_classes": [],
       "_model_module": "@jupyter-widgets/controls",
       "_model_module_version": "1.5.0",
       "_model_name": "HBoxModel",
       "_view_count": null,
       "_view_module": "@jupyter-widgets/controls",
       "_view_module_version": "1.5.0",
       "_view_name": "HBoxView",
       "box_style": "",
       "children": [
        "IPY_MODEL_602cde726b554b0582b0f1b24ee581a4",
        "IPY_MODEL_8708f63ec4e548ac9700f14ceb045cdf"
       ],
       "layout": "IPY_MODEL_083804017a8a4a5abb8319ddeacee01d"
      }
     },
     "1a71c35a0a31436283757ebd20ef0e1d": {
      "model_module": "@jupyter-widgets/base",
      "model_module_version": "1.2.0",
      "model_name": "LayoutModel",
      "state": {
       "_model_module": "@jupyter-widgets/base",
       "_model_module_version": "1.2.0",
       "_model_name": "LayoutModel",
       "_view_count": null,
       "_view_module": "@jupyter-widgets/base",
       "_view_module_version": "1.2.0",
       "_view_name": "LayoutView",
       "align_content": null,
       "align_items": null,
       "align_self": null,
       "border": null,
       "bottom": null,
       "display": null,
       "flex": null,
       "flex_flow": null,
       "grid_area": null,
       "grid_auto_columns": null,
       "grid_auto_flow": null,
       "grid_auto_rows": null,
       "grid_column": null,
       "grid_gap": null,
       "grid_row": null,
       "grid_template_areas": null,
       "grid_template_columns": null,
       "grid_template_rows": null,
       "height": null,
       "justify_content": null,
       "justify_items": null,
       "left": null,
       "margin": null,
       "max_height": null,
       "max_width": null,
       "min_height": null,
       "min_width": null,
       "object_fit": null,
       "object_position": null,
       "order": null,
       "overflow": null,
       "overflow_x": null,
       "overflow_y": null,
       "padding": null,
       "right": null,
       "top": null,
       "visibility": null,
       "width": null
      }
     },
     "370509146f5b496aaadf2ce6c868feff": {
      "model_module": "@jupyter-widgets/controls",
      "model_module_version": "1.5.0",
      "model_name": "IntProgressModel",
      "state": {
       "_dom_classes": [],
       "_model_module": "@jupyter-widgets/controls",
       "_model_module_version": "1.5.0",
       "_model_name": "IntProgressModel",
       "_view_count": null,
       "_view_module": "@jupyter-widgets/controls",
       "_view_module_version": "1.5.0",
       "_view_name": "ProgressView",
       "bar_style": "success",
       "description": "Downloading: 100%",
       "description_tooltip": null,
       "layout": "IPY_MODEL_1a71c35a0a31436283757ebd20ef0e1d",
       "max": 433,
       "min": 0,
       "orientation": "horizontal",
       "style": "IPY_MODEL_6d0e1c446eb945c990764d15eec126a6",
       "value": 433
      }
     },
     "3c007488cf784255978921ea03fa2e5d": {
      "model_module": "@jupyter-widgets/controls",
      "model_module_version": "1.5.0",
      "model_name": "HTMLModel",
      "state": {
       "_dom_classes": [],
       "_model_module": "@jupyter-widgets/controls",
       "_model_module_version": "1.5.0",
       "_model_name": "HTMLModel",
       "_view_count": null,
       "_view_module": "@jupyter-widgets/controls",
       "_view_module_version": "1.5.0",
       "_view_name": "HTMLView",
       "description": "",
       "description_tooltip": null,
       "layout": "IPY_MODEL_bf10f894f1c14a99b4ec88e8a075fcf7",
       "placeholder": "​",
       "style": "IPY_MODEL_5c0ad2c7228e4ede8a2f027197610b17",
       "value": " 536M/536M [00:15&lt;00:00, 33.8MB/s]"
      }
     },
     "3f11aa7003094d1f90f08d025f56f926": {
      "model_module": "@jupyter-widgets/controls",
      "model_module_version": "1.5.0",
      "model_name": "HTMLModel",
      "state": {
       "_dom_classes": [],
       "_model_module": "@jupyter-widgets/controls",
       "_model_module_version": "1.5.0",
       "_model_name": "HTMLModel",
       "_view_count": null,
       "_view_module": "@jupyter-widgets/controls",
       "_view_module_version": "1.5.0",
       "_view_name": "HTMLView",
       "description": "",
       "description_tooltip": null,
       "layout": "IPY_MODEL_be48f6c0f7814fb893377d79151b175f",
       "placeholder": "​",
       "style": "IPY_MODEL_fc6980107b4f48a789b3a53e17d6805c",
       "value": " 433/433 [00:00&lt;00:00, 1.69kB/s]"
      }
     },
     "4919668a85934e598ed68dacdfc9845c": {
      "model_module": "@jupyter-widgets/controls",
      "model_module_version": "1.5.0",
      "model_name": "HBoxModel",
      "state": {
       "_dom_classes": [],
       "_model_module": "@jupyter-widgets/controls",
       "_model_module_version": "1.5.0",
       "_model_name": "HBoxModel",
       "_view_count": null,
       "_view_module": "@jupyter-widgets/controls",
       "_view_module_version": "1.5.0",
       "_view_name": "HBoxView",
       "box_style": "",
       "children": [
        "IPY_MODEL_370509146f5b496aaadf2ce6c868feff",
        "IPY_MODEL_3f11aa7003094d1f90f08d025f56f926"
       ],
       "layout": "IPY_MODEL_b0172e0888e447cf8923534646f4712b"
      }
     },
     "53881369d7304368acfc3200ec28b538": {
      "model_module": "@jupyter-widgets/controls",
      "model_module_version": "1.5.0",
      "model_name": "ProgressStyleModel",
      "state": {
       "_model_module": "@jupyter-widgets/controls",
       "_model_module_version": "1.5.0",
       "_model_name": "ProgressStyleModel",
       "_view_count": null,
       "_view_module": "@jupyter-widgets/base",
       "_view_module_version": "1.2.0",
       "_view_name": "StyleView",
       "bar_color": null,
       "description_width": "initial"
      }
     },
     "5c0ad2c7228e4ede8a2f027197610b17": {
      "model_module": "@jupyter-widgets/controls",
      "model_module_version": "1.5.0",
      "model_name": "DescriptionStyleModel",
      "state": {
       "_model_module": "@jupyter-widgets/controls",
       "_model_module_version": "1.5.0",
       "_model_name": "DescriptionStyleModel",
       "_view_count": null,
       "_view_module": "@jupyter-widgets/base",
       "_view_module_version": "1.2.0",
       "_view_name": "StyleView",
       "description_width": ""
      }
     },
     "602cde726b554b0582b0f1b24ee581a4": {
      "model_module": "@jupyter-widgets/controls",
      "model_module_version": "1.5.0",
      "model_name": "IntProgressModel",
      "state": {
       "_dom_classes": [],
       "_model_module": "@jupyter-widgets/controls",
       "_model_module_version": "1.5.0",
       "_model_name": "IntProgressModel",
       "_view_count": null,
       "_view_module": "@jupyter-widgets/controls",
       "_view_module_version": "1.5.0",
       "_view_name": "ProgressView",
       "bar_style": "success",
       "description": "Downloading: 100%",
       "description_tooltip": null,
       "layout": "IPY_MODEL_034464eb9d7043e7909e8026d1471fe8",
       "max": 231508,
       "min": 0,
       "orientation": "horizontal",
       "style": "IPY_MODEL_bbad6a5e5c5e4844b7f3d8518b45a585",
       "value": 231508
      }
     },
     "6d0e1c446eb945c990764d15eec126a6": {
      "model_module": "@jupyter-widgets/controls",
      "model_module_version": "1.5.0",
      "model_name": "ProgressStyleModel",
      "state": {
       "_model_module": "@jupyter-widgets/controls",
       "_model_module_version": "1.5.0",
       "_model_name": "ProgressStyleModel",
       "_view_count": null,
       "_view_module": "@jupyter-widgets/base",
       "_view_module_version": "1.2.0",
       "_view_name": "StyleView",
       "bar_color": null,
       "description_width": "initial"
      }
     },
     "8708f63ec4e548ac9700f14ceb045cdf": {
      "model_module": "@jupyter-widgets/controls",
      "model_module_version": "1.5.0",
      "model_name": "HTMLModel",
      "state": {
       "_dom_classes": [],
       "_model_module": "@jupyter-widgets/controls",
       "_model_module_version": "1.5.0",
       "_model_name": "HTMLModel",
       "_view_count": null,
       "_view_module": "@jupyter-widgets/controls",
       "_view_module_version": "1.5.0",
       "_view_name": "HTMLView",
       "description": "",
       "description_tooltip": null,
       "layout": "IPY_MODEL_dfa0914651be4324ac0d5e5081e006cf",
       "placeholder": "​",
       "style": "IPY_MODEL_068d08bbf6e9411b9cdc2f1a950d43e3",
       "value": " 232k/232k [00:01&lt;00:00, 158kB/s]"
      }
     },
     "9eae08f291ab484b9deedf819825c8ac": {
      "model_module": "@jupyter-widgets/controls",
      "model_module_version": "1.5.0",
      "model_name": "HBoxModel",
      "state": {
       "_dom_classes": [],
       "_model_module": "@jupyter-widgets/controls",
       "_model_module_version": "1.5.0",
       "_model_name": "HBoxModel",
       "_view_count": null,
       "_view_module": "@jupyter-widgets/controls",
       "_view_module_version": "1.5.0",
       "_view_name": "HBoxView",
       "box_style": "",
       "children": [
        "IPY_MODEL_fb9d05dfbb234197b881e5d2e277168b",
        "IPY_MODEL_3c007488cf784255978921ea03fa2e5d"
       ],
       "layout": "IPY_MODEL_a7abb3f6168948cbada2a59f46385d47"
      }
     },
     "a7abb3f6168948cbada2a59f46385d47": {
      "model_module": "@jupyter-widgets/base",
      "model_module_version": "1.2.0",
      "model_name": "LayoutModel",
      "state": {
       "_model_module": "@jupyter-widgets/base",
       "_model_module_version": "1.2.0",
       "_model_name": "LayoutModel",
       "_view_count": null,
       "_view_module": "@jupyter-widgets/base",
       "_view_module_version": "1.2.0",
       "_view_name": "LayoutView",
       "align_content": null,
       "align_items": null,
       "align_self": null,
       "border": null,
       "bottom": null,
       "display": null,
       "flex": null,
       "flex_flow": null,
       "grid_area": null,
       "grid_auto_columns": null,
       "grid_auto_flow": null,
       "grid_auto_rows": null,
       "grid_column": null,
       "grid_gap": null,
       "grid_row": null,
       "grid_template_areas": null,
       "grid_template_columns": null,
       "grid_template_rows": null,
       "height": null,
       "justify_content": null,
       "justify_items": null,
       "left": null,
       "margin": null,
       "max_height": null,
       "max_width": null,
       "min_height": null,
       "min_width": null,
       "object_fit": null,
       "object_position": null,
       "order": null,
       "overflow": null,
       "overflow_x": null,
       "overflow_y": null,
       "padding": null,
       "right": null,
       "top": null,
       "visibility": null,
       "width": null
      }
     },
     "b0172e0888e447cf8923534646f4712b": {
      "model_module": "@jupyter-widgets/base",
      "model_module_version": "1.2.0",
      "model_name": "LayoutModel",
      "state": {
       "_model_module": "@jupyter-widgets/base",
       "_model_module_version": "1.2.0",
       "_model_name": "LayoutModel",
       "_view_count": null,
       "_view_module": "@jupyter-widgets/base",
       "_view_module_version": "1.2.0",
       "_view_name": "LayoutView",
       "align_content": null,
       "align_items": null,
       "align_self": null,
       "border": null,
       "bottom": null,
       "display": null,
       "flex": null,
       "flex_flow": null,
       "grid_area": null,
       "grid_auto_columns": null,
       "grid_auto_flow": null,
       "grid_auto_rows": null,
       "grid_column": null,
       "grid_gap": null,
       "grid_row": null,
       "grid_template_areas": null,
       "grid_template_columns": null,
       "grid_template_rows": null,
       "height": null,
       "justify_content": null,
       "justify_items": null,
       "left": null,
       "margin": null,
       "max_height": null,
       "max_width": null,
       "min_height": null,
       "min_width": null,
       "object_fit": null,
       "object_position": null,
       "order": null,
       "overflow": null,
       "overflow_x": null,
       "overflow_y": null,
       "padding": null,
       "right": null,
       "top": null,
       "visibility": null,
       "width": null
      }
     },
     "bbad6a5e5c5e4844b7f3d8518b45a585": {
      "model_module": "@jupyter-widgets/controls",
      "model_module_version": "1.5.0",
      "model_name": "ProgressStyleModel",
      "state": {
       "_model_module": "@jupyter-widgets/controls",
       "_model_module_version": "1.5.0",
       "_model_name": "ProgressStyleModel",
       "_view_count": null,
       "_view_module": "@jupyter-widgets/base",
       "_view_module_version": "1.2.0",
       "_view_name": "StyleView",
       "bar_color": null,
       "description_width": "initial"
      }
     },
     "be48f6c0f7814fb893377d79151b175f": {
      "model_module": "@jupyter-widgets/base",
      "model_module_version": "1.2.0",
      "model_name": "LayoutModel",
      "state": {
       "_model_module": "@jupyter-widgets/base",
       "_model_module_version": "1.2.0",
       "_model_name": "LayoutModel",
       "_view_count": null,
       "_view_module": "@jupyter-widgets/base",
       "_view_module_version": "1.2.0",
       "_view_name": "LayoutView",
       "align_content": null,
       "align_items": null,
       "align_self": null,
       "border": null,
       "bottom": null,
       "display": null,
       "flex": null,
       "flex_flow": null,
       "grid_area": null,
       "grid_auto_columns": null,
       "grid_auto_flow": null,
       "grid_auto_rows": null,
       "grid_column": null,
       "grid_gap": null,
       "grid_row": null,
       "grid_template_areas": null,
       "grid_template_columns": null,
       "grid_template_rows": null,
       "height": null,
       "justify_content": null,
       "justify_items": null,
       "left": null,
       "margin": null,
       "max_height": null,
       "max_width": null,
       "min_height": null,
       "min_width": null,
       "object_fit": null,
       "object_position": null,
       "order": null,
       "overflow": null,
       "overflow_x": null,
       "overflow_y": null,
       "padding": null,
       "right": null,
       "top": null,
       "visibility": null,
       "width": null
      }
     },
     "bf10f894f1c14a99b4ec88e8a075fcf7": {
      "model_module": "@jupyter-widgets/base",
      "model_module_version": "1.2.0",
      "model_name": "LayoutModel",
      "state": {
       "_model_module": "@jupyter-widgets/base",
       "_model_module_version": "1.2.0",
       "_model_name": "LayoutModel",
       "_view_count": null,
       "_view_module": "@jupyter-widgets/base",
       "_view_module_version": "1.2.0",
       "_view_name": "LayoutView",
       "align_content": null,
       "align_items": null,
       "align_self": null,
       "border": null,
       "bottom": null,
       "display": null,
       "flex": null,
       "flex_flow": null,
       "grid_area": null,
       "grid_auto_columns": null,
       "grid_auto_flow": null,
       "grid_auto_rows": null,
       "grid_column": null,
       "grid_gap": null,
       "grid_row": null,
       "grid_template_areas": null,
       "grid_template_columns": null,
       "grid_template_rows": null,
       "height": null,
       "justify_content": null,
       "justify_items": null,
       "left": null,
       "margin": null,
       "max_height": null,
       "max_width": null,
       "min_height": null,
       "min_width": null,
       "object_fit": null,
       "object_position": null,
       "order": null,
       "overflow": null,
       "overflow_x": null,
       "overflow_y": null,
       "padding": null,
       "right": null,
       "top": null,
       "visibility": null,
       "width": null
      }
     },
     "dfa0914651be4324ac0d5e5081e006cf": {
      "model_module": "@jupyter-widgets/base",
      "model_module_version": "1.2.0",
      "model_name": "LayoutModel",
      "state": {
       "_model_module": "@jupyter-widgets/base",
       "_model_module_version": "1.2.0",
       "_model_name": "LayoutModel",
       "_view_count": null,
       "_view_module": "@jupyter-widgets/base",
       "_view_module_version": "1.2.0",
       "_view_name": "LayoutView",
       "align_content": null,
       "align_items": null,
       "align_self": null,
       "border": null,
       "bottom": null,
       "display": null,
       "flex": null,
       "flex_flow": null,
       "grid_area": null,
       "grid_auto_columns": null,
       "grid_auto_flow": null,
       "grid_auto_rows": null,
       "grid_column": null,
       "grid_gap": null,
       "grid_row": null,
       "grid_template_areas": null,
       "grid_template_columns": null,
       "grid_template_rows": null,
       "height": null,
       "justify_content": null,
       "justify_items": null,
       "left": null,
       "margin": null,
       "max_height": null,
       "max_width": null,
       "min_height": null,
       "min_width": null,
       "object_fit": null,
       "object_position": null,
       "order": null,
       "overflow": null,
       "overflow_x": null,
       "overflow_y": null,
       "padding": null,
       "right": null,
       "top": null,
       "visibility": null,
       "width": null
      }
     },
     "fb9d05dfbb234197b881e5d2e277168b": {
      "model_module": "@jupyter-widgets/controls",
      "model_module_version": "1.5.0",
      "model_name": "IntProgressModel",
      "state": {
       "_dom_classes": [],
       "_model_module": "@jupyter-widgets/controls",
       "_model_module_version": "1.5.0",
       "_model_name": "IntProgressModel",
       "_view_count": null,
       "_view_module": "@jupyter-widgets/controls",
       "_view_module_version": "1.5.0",
       "_view_name": "ProgressView",
       "bar_style": "success",
       "description": "Downloading: 100%",
       "description_tooltip": null,
       "layout": "IPY_MODEL_007198e15ad74254bc706d87b2d7402a",
       "max": 536063208,
       "min": 0,
       "orientation": "horizontal",
       "style": "IPY_MODEL_53881369d7304368acfc3200ec28b538",
       "value": 536063208
      }
     },
     "fc6980107b4f48a789b3a53e17d6805c": {
      "model_module": "@jupyter-widgets/controls",
      "model_module_version": "1.5.0",
      "model_name": "DescriptionStyleModel",
      "state": {
       "_model_module": "@jupyter-widgets/controls",
       "_model_module_version": "1.5.0",
       "_model_name": "DescriptionStyleModel",
       "_view_count": null,
       "_view_module": "@jupyter-widgets/base",
       "_view_module_version": "1.2.0",
       "_view_name": "StyleView",
       "description_width": ""
      }
     }
    },
    "version_major": 2,
    "version_minor": 0
   }
  }
 },
 "nbformat": 4,
 "nbformat_minor": 4
}
