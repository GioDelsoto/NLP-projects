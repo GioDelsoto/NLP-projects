{
 "cells": [
  {
   "cell_type": "code",
   "execution_count": 1,
   "id": "a642c084",
   "metadata": {
    "_cell_guid": "b1076dfc-b9ad-4769-8c92-a6c4dae69d19",
    "_uuid": "8f2839f25d086af736a60e9eeb907d3b93b6e0e5",
    "execution": {
     "iopub.execute_input": "2024-07-30T16:47:19.148663Z",
     "iopub.status.busy": "2024-07-30T16:47:19.148223Z",
     "iopub.status.idle": "2024-07-30T16:47:23.351702Z",
     "shell.execute_reply": "2024-07-30T16:47:23.350400Z"
    },
    "papermill": {
     "duration": 4.228394,
     "end_time": "2024-07-30T16:47:23.354330",
     "exception": false,
     "start_time": "2024-07-30T16:47:19.125936",
     "status": "completed"
    },
    "tags": []
   },
   "outputs": [
    {
     "name": "stdout",
     "output_type": "stream",
     "text": [
      "[nltk_data] Downloading package stopwords to /usr/share/nltk_data...\n",
      "[nltk_data]   Package stopwords is already up-to-date!\n",
      "[nltk_data] Downloading package punkt to /usr/share/nltk_data...\n",
      "[nltk_data]   Package punkt is already up-to-date!\n",
      "[nltk_data] Downloading package wordnet to /kaggle/working/...\n",
      "Archive:  /kaggle/working/corpora/wordnet.zip\n",
      "   creating: /kaggle/working/corpora/wordnet/\n",
      "  inflating: /kaggle/working/corpora/wordnet/lexnames  \n",
      "  inflating: /kaggle/working/corpora/wordnet/data.verb  \n",
      "  inflating: /kaggle/working/corpora/wordnet/index.adv  \n",
      "  inflating: /kaggle/working/corpora/wordnet/adv.exc  \n",
      "  inflating: /kaggle/working/corpora/wordnet/index.verb  \n",
      "  inflating: /kaggle/working/corpora/wordnet/cntlist.rev  \n",
      "  inflating: /kaggle/working/corpora/wordnet/data.adj  \n",
      "  inflating: /kaggle/working/corpora/wordnet/index.adj  \n",
      "  inflating: /kaggle/working/corpora/wordnet/LICENSE  \n",
      "  inflating: /kaggle/working/corpora/wordnet/citation.bib  \n",
      "  inflating: /kaggle/working/corpora/wordnet/noun.exc  \n",
      "  inflating: /kaggle/working/corpora/wordnet/verb.exc  \n",
      "  inflating: /kaggle/working/corpora/wordnet/README  \n",
      "  inflating: /kaggle/working/corpora/wordnet/index.sense  \n",
      "  inflating: /kaggle/working/corpora/wordnet/data.noun  \n",
      "  inflating: /kaggle/working/corpora/wordnet/data.adv  \n",
      "  inflating: /kaggle/working/corpora/wordnet/index.noun  \n",
      "  inflating: /kaggle/working/corpora/wordnet/adj.exc  \n"
     ]
    }
   ],
   "source": [
    "import pandas as pd\n",
    "import numpy as np\n",
    "import seaborn as sns\n",
    "import matplotlib.pyplot as plt\n",
    "from scipy.sparse import csr_matrix\n",
    "#Data Manipulation\n",
    "\n",
    "from scipy.sparse import csr_matrix\n",
    "from collections import Counter\n",
    "\n",
    "from sklearn.model_selection import train_test_split\n",
    "\n",
    "\n",
    "import string\n",
    "\n",
    "import nltk\n",
    "from nltk import word_tokenize\n",
    "from nltk.stem import WordNetLemmatizer, PorterStemmer\n",
    "nltk.download('stopwords')\n",
    "\n",
    "# Now you can import the NLTK resources as usual\n",
    "from nltk.corpus import wordnet\n",
    "from nltk.corpus import stopwords\n",
    "\n",
    "nltk.download('punkt')\n",
    "\n",
    "import subprocess\n",
    "\n",
    "# Download and unzip wordnet\n",
    "try:\n",
    "    nltk.data.find('wordnet.zip')\n",
    "except:\n",
    "    nltk.download('wordnet', download_dir='/kaggle/working/')\n",
    "    command = \"unzip /kaggle/working/corpora/wordnet.zip -d /kaggle/working/corpora\"\n",
    "    subprocess.run(command.split())\n",
    "    nltk.data.path.append('/kaggle/working/')"
   ]
  },
  {
   "cell_type": "code",
   "execution_count": 2,
   "id": "7603a021",
   "metadata": {
    "execution": {
     "iopub.execute_input": "2024-07-30T16:47:23.397936Z",
     "iopub.status.busy": "2024-07-30T16:47:23.397372Z",
     "iopub.status.idle": "2024-07-30T16:47:23.446163Z",
     "shell.execute_reply": "2024-07-30T16:47:23.444737Z"
    },
    "papermill": {
     "duration": 0.074808,
     "end_time": "2024-07-30T16:47:23.449163",
     "exception": false,
     "start_time": "2024-07-30T16:47:23.374355",
     "status": "completed"
    },
    "tags": []
   },
   "outputs": [],
   "source": [
    "dir = '../input/spam-dataset/'\n",
    "\n",
    "df = pd.read_csv(dir+'spam.csv', encoding=\"ISO-8859-1\")"
   ]
  },
  {
   "cell_type": "code",
   "execution_count": 3,
   "id": "ed92dea1",
   "metadata": {
    "execution": {
     "iopub.execute_input": "2024-07-30T16:47:23.491392Z",
     "iopub.status.busy": "2024-07-30T16:47:23.490977Z",
     "iopub.status.idle": "2024-07-30T16:47:23.516366Z",
     "shell.execute_reply": "2024-07-30T16:47:23.515217Z"
    },
    "papermill": {
     "duration": 0.04901,
     "end_time": "2024-07-30T16:47:23.519068",
     "exception": false,
     "start_time": "2024-07-30T16:47:23.470058",
     "status": "completed"
    },
    "tags": []
   },
   "outputs": [
    {
     "data": {
      "text/html": [
       "<div>\n",
       "<style scoped>\n",
       "    .dataframe tbody tr th:only-of-type {\n",
       "        vertical-align: middle;\n",
       "    }\n",
       "\n",
       "    .dataframe tbody tr th {\n",
       "        vertical-align: top;\n",
       "    }\n",
       "\n",
       "    .dataframe thead th {\n",
       "        text-align: right;\n",
       "    }\n",
       "</style>\n",
       "<table border=\"1\" class=\"dataframe\">\n",
       "  <thead>\n",
       "    <tr style=\"text-align: right;\">\n",
       "      <th></th>\n",
       "      <th>v1</th>\n",
       "      <th>v2</th>\n",
       "      <th>Unnamed: 2</th>\n",
       "      <th>Unnamed: 3</th>\n",
       "      <th>Unnamed: 4</th>\n",
       "    </tr>\n",
       "  </thead>\n",
       "  <tbody>\n",
       "    <tr>\n",
       "      <th>0</th>\n",
       "      <td>ham</td>\n",
       "      <td>Go until jurong point, crazy.. Available only ...</td>\n",
       "      <td>NaN</td>\n",
       "      <td>NaN</td>\n",
       "      <td>NaN</td>\n",
       "    </tr>\n",
       "    <tr>\n",
       "      <th>1</th>\n",
       "      <td>ham</td>\n",
       "      <td>Ok lar... Joking wif u oni...</td>\n",
       "      <td>NaN</td>\n",
       "      <td>NaN</td>\n",
       "      <td>NaN</td>\n",
       "    </tr>\n",
       "    <tr>\n",
       "      <th>2</th>\n",
       "      <td>spam</td>\n",
       "      <td>Free entry in 2 a wkly comp to win FA Cup fina...</td>\n",
       "      <td>NaN</td>\n",
       "      <td>NaN</td>\n",
       "      <td>NaN</td>\n",
       "    </tr>\n",
       "    <tr>\n",
       "      <th>3</th>\n",
       "      <td>ham</td>\n",
       "      <td>U dun say so early hor... U c already then say...</td>\n",
       "      <td>NaN</td>\n",
       "      <td>NaN</td>\n",
       "      <td>NaN</td>\n",
       "    </tr>\n",
       "    <tr>\n",
       "      <th>4</th>\n",
       "      <td>ham</td>\n",
       "      <td>Nah I don't think he goes to usf, he lives aro...</td>\n",
       "      <td>NaN</td>\n",
       "      <td>NaN</td>\n",
       "      <td>NaN</td>\n",
       "    </tr>\n",
       "  </tbody>\n",
       "</table>\n",
       "</div>"
      ],
      "text/plain": [
       "     v1                                                 v2 Unnamed: 2  \\\n",
       "0   ham  Go until jurong point, crazy.. Available only ...        NaN   \n",
       "1   ham                      Ok lar... Joking wif u oni...        NaN   \n",
       "2  spam  Free entry in 2 a wkly comp to win FA Cup fina...        NaN   \n",
       "3   ham  U dun say so early hor... U c already then say...        NaN   \n",
       "4   ham  Nah I don't think he goes to usf, he lives aro...        NaN   \n",
       "\n",
       "  Unnamed: 3 Unnamed: 4  \n",
       "0        NaN        NaN  \n",
       "1        NaN        NaN  \n",
       "2        NaN        NaN  \n",
       "3        NaN        NaN  \n",
       "4        NaN        NaN  "
      ]
     },
     "execution_count": 3,
     "metadata": {},
     "output_type": "execute_result"
    }
   ],
   "source": [
    "df.head()"
   ]
  },
  {
   "cell_type": "code",
   "execution_count": 4,
   "id": "28169797",
   "metadata": {
    "execution": {
     "iopub.execute_input": "2024-07-30T16:47:23.562647Z",
     "iopub.status.busy": "2024-07-30T16:47:23.562229Z",
     "iopub.status.idle": "2024-07-30T16:47:23.589487Z",
     "shell.execute_reply": "2024-07-30T16:47:23.588267Z"
    },
    "papermill": {
     "duration": 0.0526,
     "end_time": "2024-07-30T16:47:23.592572",
     "exception": false,
     "start_time": "2024-07-30T16:47:23.539972",
     "status": "completed"
    },
    "tags": []
   },
   "outputs": [
    {
     "name": "stdout",
     "output_type": "stream",
     "text": [
      "<class 'pandas.core.frame.DataFrame'>\n",
      "RangeIndex: 5572 entries, 0 to 5571\n",
      "Data columns (total 5 columns):\n",
      " #   Column      Non-Null Count  Dtype \n",
      "---  ------      --------------  ----- \n",
      " 0   v1          5572 non-null   object\n",
      " 1   v2          5572 non-null   object\n",
      " 2   Unnamed: 2  50 non-null     object\n",
      " 3   Unnamed: 3  12 non-null     object\n",
      " 4   Unnamed: 4  6 non-null      object\n",
      "dtypes: object(5)\n",
      "memory usage: 217.8+ KB\n"
     ]
    }
   ],
   "source": [
    "df.info()"
   ]
  },
  {
   "cell_type": "code",
   "execution_count": 5,
   "id": "a792ad49",
   "metadata": {
    "execution": {
     "iopub.execute_input": "2024-07-30T16:47:23.640627Z",
     "iopub.status.busy": "2024-07-30T16:47:23.640215Z",
     "iopub.status.idle": "2024-07-30T16:47:23.648436Z",
     "shell.execute_reply": "2024-07-30T16:47:23.647049Z"
    },
    "papermill": {
     "duration": 0.03662,
     "end_time": "2024-07-30T16:47:23.651159",
     "exception": false,
     "start_time": "2024-07-30T16:47:23.614539",
     "status": "completed"
    },
    "tags": []
   },
   "outputs": [
    {
     "data": {
      "text/plain": [
       "Index(['v1', 'v2', 'Unnamed: 2', 'Unnamed: 3', 'Unnamed: 4'], dtype='object')"
      ]
     },
     "execution_count": 5,
     "metadata": {},
     "output_type": "execute_result"
    }
   ],
   "source": [
    "df.columns"
   ]
  },
  {
   "cell_type": "code",
   "execution_count": 6,
   "id": "08dfb7e0",
   "metadata": {
    "execution": {
     "iopub.execute_input": "2024-07-30T16:47:23.694428Z",
     "iopub.status.busy": "2024-07-30T16:47:23.693996Z",
     "iopub.status.idle": "2024-07-30T16:47:23.704925Z",
     "shell.execute_reply": "2024-07-30T16:47:23.703480Z"
    },
    "papermill": {
     "duration": 0.035879,
     "end_time": "2024-07-30T16:47:23.708002",
     "exception": false,
     "start_time": "2024-07-30T16:47:23.672123",
     "status": "completed"
    },
    "tags": []
   },
   "outputs": [
    {
     "data": {
      "text/plain": [
       "Unnamed: 4\n",
       "GNT:-)\"                                                     2\n",
       " just Keep-in-touch\\\" gdeve..\"                              1\n",
       " Never comfort me with a lie\\\" gud ni8 and sweet dreams\"    1\n",
       " CALL 2MWEN IM BK FRMCLOUD 9! J X\\\"\"                        1\n",
       " one day these two will become FREINDS FOREVER!\"            1\n",
       "Name: count, dtype: int64"
      ]
     },
     "execution_count": 6,
     "metadata": {},
     "output_type": "execute_result"
    }
   ],
   "source": [
    "df['Unnamed: 4'].value_counts()"
   ]
  },
  {
   "cell_type": "code",
   "execution_count": 7,
   "id": "5eaf64f2",
   "metadata": {
    "execution": {
     "iopub.execute_input": "2024-07-30T16:47:23.751038Z",
     "iopub.status.busy": "2024-07-30T16:47:23.750616Z",
     "iopub.status.idle": "2024-07-30T16:47:23.760662Z",
     "shell.execute_reply": "2024-07-30T16:47:23.759363Z"
    },
    "papermill": {
     "duration": 0.034644,
     "end_time": "2024-07-30T16:47:23.763551",
     "exception": false,
     "start_time": "2024-07-30T16:47:23.728907",
     "status": "completed"
    },
    "tags": []
   },
   "outputs": [
    {
     "name": "stdout",
     "output_type": "stream",
     "text": [
      "v1\n",
      "ham     0.865937\n",
      "spam    0.134063\n",
      "Name: proportion, dtype: float64\n"
     ]
    }
   ],
   "source": [
    "print(df['v1'].value_counts(normalize = True))"
   ]
  },
  {
   "cell_type": "markdown",
   "id": "abb645b3",
   "metadata": {
    "papermill": {
     "duration": 0.021479,
     "end_time": "2024-07-30T16:47:23.806743",
     "exception": false,
     "start_time": "2024-07-30T16:47:23.785264",
     "status": "completed"
    },
    "tags": []
   },
   "source": [
    "The dataset is unballanced with 87% of the data labelled as \"ham\" and 17% as \"spam\"."
   ]
  },
  {
   "cell_type": "markdown",
   "id": "56286ae1",
   "metadata": {
    "papermill": {
     "duration": 0.01991,
     "end_time": "2024-07-30T16:47:23.847742",
     "exception": false,
     "start_time": "2024-07-30T16:47:23.827832",
     "status": "completed"
    },
    "tags": []
   },
   "source": [
    "## Split the data"
   ]
  },
  {
   "cell_type": "code",
   "execution_count": 8,
   "id": "eb664cea",
   "metadata": {
    "execution": {
     "iopub.execute_input": "2024-07-30T16:47:23.891614Z",
     "iopub.status.busy": "2024-07-30T16:47:23.891227Z",
     "iopub.status.idle": "2024-07-30T16:47:23.903835Z",
     "shell.execute_reply": "2024-07-30T16:47:23.902729Z"
    },
    "papermill": {
     "duration": 0.03873,
     "end_time": "2024-07-30T16:47:23.906703",
     "exception": false,
     "start_time": "2024-07-30T16:47:23.867973",
     "status": "completed"
    },
    "tags": []
   },
   "outputs": [],
   "source": [
    "X = df['v2']\n",
    "y = df['v1'].map({'ham':0,'spam':1})\n",
    "\n",
    "X_train, X_test, y_train, y_test = train_test_split(X, y, test_size=0.33, random_state=42)"
   ]
  },
  {
   "cell_type": "code",
   "execution_count": 9,
   "id": "c2549bb7",
   "metadata": {
    "execution": {
     "iopub.execute_input": "2024-07-30T16:47:23.949977Z",
     "iopub.status.busy": "2024-07-30T16:47:23.949574Z",
     "iopub.status.idle": "2024-07-30T16:47:23.956257Z",
     "shell.execute_reply": "2024-07-30T16:47:23.955159Z"
    },
    "papermill": {
     "duration": 0.031492,
     "end_time": "2024-07-30T16:47:23.958852",
     "exception": false,
     "start_time": "2024-07-30T16:47:23.927360",
     "status": "completed"
    },
    "tags": []
   },
   "outputs": [],
   "source": [
    "X_train = X_train.reset_index(drop=True)\n",
    "y_train = y_train.reset_index(drop=True)\n",
    "X_test = X_test.reset_index(drop=True)\n",
    "y_test = y_test.reset_index(drop=True)"
   ]
  },
  {
   "cell_type": "markdown",
   "id": "180e21d1",
   "metadata": {
    "papermill": {
     "duration": 0.020132,
     "end_time": "2024-07-30T16:47:23.999456",
     "exception": false,
     "start_time": "2024-07-30T16:47:23.979324",
     "status": "completed"
    },
    "tags": []
   },
   "source": [
    "## Data Cleaning\n",
    "\n",
    "We need to tokenize our data. To achieve this, we will do the following steps:\n",
    "\n",
    "1. Transform each word to its lowercase.\n",
    "2. Remove stop-words.\n",
    "3. Lemmatize the document.\n",
    "4. TF - IDF.\n"
   ]
  },
  {
   "cell_type": "code",
   "execution_count": 10,
   "id": "2b881ef3",
   "metadata": {
    "execution": {
     "iopub.execute_input": "2024-07-30T16:47:24.042524Z",
     "iopub.status.busy": "2024-07-30T16:47:24.042130Z",
     "iopub.status.idle": "2024-07-30T16:47:24.048178Z",
     "shell.execute_reply": "2024-07-30T16:47:24.047070Z"
    },
    "papermill": {
     "duration": 0.030851,
     "end_time": "2024-07-30T16:47:24.051360",
     "exception": false,
     "start_time": "2024-07-30T16:47:24.020509",
     "status": "completed"
    },
    "tags": []
   },
   "outputs": [
    {
     "name": "stdout",
     "output_type": "stream",
     "text": [
      "(3733,) (3733,) (1839,) (1839,)\n"
     ]
    }
   ],
   "source": [
    "print(X_train.shape,y_train.shape, X_test.shape,y_test.shape)"
   ]
  },
  {
   "cell_type": "code",
   "execution_count": 11,
   "id": "83e662fb",
   "metadata": {
    "execution": {
     "iopub.execute_input": "2024-07-30T16:47:24.095976Z",
     "iopub.status.busy": "2024-07-30T16:47:24.095597Z",
     "iopub.status.idle": "2024-07-30T16:47:24.103020Z",
     "shell.execute_reply": "2024-07-30T16:47:24.101700Z"
    },
    "papermill": {
     "duration": 0.032605,
     "end_time": "2024-07-30T16:47:24.105563",
     "exception": false,
     "start_time": "2024-07-30T16:47:24.072958",
     "status": "completed"
    },
    "tags": []
   },
   "outputs": [],
   "source": [
    "# Lemmatize the corpus\n",
    "def get_wordnet_pos(treebank_tag):\n",
    "  if treebank_tag.startswith('J'):\n",
    "    return wordnet.ADJ\n",
    "  elif treebank_tag.startswith('V'):\n",
    "    return wordnet.VERB\n",
    "  elif treebank_tag.startswith('N'):\n",
    "    return wordnet.NOUN\n",
    "  elif treebank_tag.startswith('R'):\n",
    "    return wordnet.ADV\n",
    "  else:\n",
    "    return wordnet.NOUN"
   ]
  },
  {
   "cell_type": "code",
   "execution_count": 12,
   "id": "8130798a",
   "metadata": {
    "execution": {
     "iopub.execute_input": "2024-07-30T16:47:24.150321Z",
     "iopub.status.busy": "2024-07-30T16:47:24.149304Z",
     "iopub.status.idle": "2024-07-30T16:47:34.175553Z",
     "shell.execute_reply": "2024-07-30T16:47:34.174544Z"
    },
    "papermill": {
     "duration": 10.051397,
     "end_time": "2024-07-30T16:47:34.178328",
     "exception": false,
     "start_time": "2024-07-30T16:47:24.126931",
     "status": "completed"
    },
    "tags": []
   },
   "outputs": [],
   "source": [
    "def Tokenizer(doc):\n",
    "    wnl = WordNetLemmatizer()\n",
    "    tokens = word_tokenize(doc) #List of strings in doc\n",
    "        \n",
    "    filtered_words = [token.lower() for token in tokens]\n",
    "#    filtered_words = [token.lower() for token in tokens if (token.lower() not in stop_words) and (token.lower() not in string.punctuation)]\n",
    "        \n",
    "    words_and_tags = nltk.pos_tag(filtered_words)\n",
    "    return \" \".join([wnl.lemmatize(word, pos=get_wordnet_pos(tag)) \\\n",
    "            for word, tag in words_and_tags])\n",
    "\n",
    "stop_words = stopwords.words('english')\n",
    "X_clean = X_train.apply(Tokenizer)"
   ]
  },
  {
   "cell_type": "code",
   "execution_count": 13,
   "id": "4dac0163",
   "metadata": {
    "execution": {
     "iopub.execute_input": "2024-07-30T16:47:34.221485Z",
     "iopub.status.busy": "2024-07-30T16:47:34.221058Z",
     "iopub.status.idle": "2024-07-30T16:47:34.229412Z",
     "shell.execute_reply": "2024-07-30T16:47:34.228311Z"
    },
    "papermill": {
     "duration": 0.032847,
     "end_time": "2024-07-30T16:47:34.231835",
     "exception": false,
     "start_time": "2024-07-30T16:47:34.198988",
     "status": "completed"
    },
    "tags": []
   },
   "outputs": [
    {
     "data": {
      "text/plain": [
       "0    aight text me when you 're back at mu and i 'l...\n",
       "1    i cant wait to see you ! how be the photo be u...\n",
       "2                        kothi print out marandratha .\n",
       "3    it just the effect of irritation . just ignore it\n",
       "4                      kallis wont bat in 2nd inning .\n",
       "Name: v2, dtype: object"
      ]
     },
     "execution_count": 13,
     "metadata": {},
     "output_type": "execute_result"
    }
   ],
   "source": [
    "X_clean[:5]"
   ]
  },
  {
   "cell_type": "code",
   "execution_count": 14,
   "id": "48039ba6",
   "metadata": {
    "execution": {
     "iopub.execute_input": "2024-07-30T16:47:34.277359Z",
     "iopub.status.busy": "2024-07-30T16:47:34.276782Z",
     "iopub.status.idle": "2024-07-30T16:47:34.285555Z",
     "shell.execute_reply": "2024-07-30T16:47:34.284304Z"
    },
    "papermill": {
     "duration": 0.035081,
     "end_time": "2024-07-30T16:47:34.288331",
     "exception": false,
     "start_time": "2024-07-30T16:47:34.253250",
     "status": "completed"
    },
    "tags": []
   },
   "outputs": [],
   "source": [
    "def word2idx(documents):\n",
    "    '''\n",
    "        documents: Series object containing all the documents of the dataset\n",
    "        word2idx: dictionary mapping word to index\n",
    "    '''\n",
    "    \n",
    "    word2idx = {}\n",
    "    idx2word = []  #We don't need to store the idx value if we create it as a list\n",
    "    countidx = 0\n",
    "    for doc in documents:\n",
    "        tokens = word_tokenize(doc.lower())\n",
    "        doc_as_int = []\n",
    "        for token in tokens:\n",
    "            if token not in word2idx:\n",
    "                word2idx[token] = countidx\n",
    "                idx2word.append(token)\n",
    "                countidx+=1\n",
    "            doc_as_int.append(word2idx[token])\n",
    "    word2idx['<unknow>'] = len(idx2word)\n",
    "    idx2word.append('<unknow>')\n",
    "    return word2idx, idx2word"
   ]
  },
  {
   "cell_type": "code",
   "execution_count": 15,
   "id": "43e0b83c",
   "metadata": {
    "execution": {
     "iopub.execute_input": "2024-07-30T16:47:34.333030Z",
     "iopub.status.busy": "2024-07-30T16:47:34.332639Z",
     "iopub.status.idle": "2024-07-30T16:47:35.663298Z",
     "shell.execute_reply": "2024-07-30T16:47:35.661914Z"
    },
    "papermill": {
     "duration": 1.355996,
     "end_time": "2024-07-30T16:47:35.666147",
     "exception": false,
     "start_time": "2024-07-30T16:47:34.310151",
     "status": "completed"
    },
    "tags": []
   },
   "outputs": [
    {
     "data": {
      "text/plain": [
       "'<unknow>'"
      ]
     },
     "execution_count": 15,
     "metadata": {},
     "output_type": "execute_result"
    }
   ],
   "source": [
    "encoder, decoder = word2idx(X_clean)\n",
    "decoder[-1]"
   ]
  },
  {
   "cell_type": "code",
   "execution_count": 16,
   "id": "35f34c66",
   "metadata": {
    "execution": {
     "iopub.execute_input": "2024-07-30T16:47:35.713338Z",
     "iopub.status.busy": "2024-07-30T16:47:35.712898Z",
     "iopub.status.idle": "2024-07-30T16:47:35.719600Z",
     "shell.execute_reply": "2024-07-30T16:47:35.717836Z"
    },
    "papermill": {
     "duration": 0.034948,
     "end_time": "2024-07-30T16:47:35.723610",
     "exception": false,
     "start_time": "2024-07-30T16:47:35.688662",
     "status": "completed"
    },
    "tags": []
   },
   "outputs": [
    {
     "name": "stdout",
     "output_type": "stream",
     "text": [
      "7142\n"
     ]
    }
   ],
   "source": [
    "vocab_size = len(decoder)\n",
    "print(vocab_size)"
   ]
  },
  {
   "cell_type": "code",
   "execution_count": 17,
   "id": "c736565a",
   "metadata": {
    "execution": {
     "iopub.execute_input": "2024-07-30T16:47:35.768884Z",
     "iopub.status.busy": "2024-07-30T16:47:35.768472Z",
     "iopub.status.idle": "2024-07-30T16:47:35.775426Z",
     "shell.execute_reply": "2024-07-30T16:47:35.774101Z"
    },
    "papermill": {
     "duration": 0.032163,
     "end_time": "2024-07-30T16:47:35.778036",
     "exception": false,
     "start_time": "2024-07-30T16:47:35.745873",
     "status": "completed"
    },
    "tags": []
   },
   "outputs": [],
   "source": [
    "def tokenizer_doc(documents, encoder):\n",
    "    tokenized_docs = []\n",
    "    for doc in documents:\n",
    "        tokens = word_tokenize(doc.lower())\n",
    "        #print(tokens)\n",
    "        doc_as_int = []\n",
    "        for token in tokens:\n",
    "            if token not in encoder:\n",
    "                token = '<unknow>'    \n",
    "            doc_as_int.append(encoder[token])\n",
    "        tokenized_docs.append(doc_as_int)\n",
    "    return tokenized_docs"
   ]
  },
  {
   "cell_type": "code",
   "execution_count": 18,
   "id": "8aafeadb",
   "metadata": {
    "execution": {
     "iopub.execute_input": "2024-07-30T16:47:35.823139Z",
     "iopub.status.busy": "2024-07-30T16:47:35.822680Z",
     "iopub.status.idle": "2024-07-30T16:47:37.143560Z",
     "shell.execute_reply": "2024-07-30T16:47:37.142001Z"
    },
    "papermill": {
     "duration": 1.347411,
     "end_time": "2024-07-30T16:47:37.146522",
     "exception": false,
     "start_time": "2024-07-30T16:47:35.799111",
     "status": "completed"
    },
    "tags": []
   },
   "outputs": [],
   "source": [
    "tokenized_doc = tokenizer_doc(X_clean, encoder)"
   ]
  },
  {
   "cell_type": "code",
   "execution_count": 19,
   "id": "0eac6d64",
   "metadata": {
    "execution": {
     "iopub.execute_input": "2024-07-30T16:47:37.191672Z",
     "iopub.status.busy": "2024-07-30T16:47:37.191276Z",
     "iopub.status.idle": "2024-07-30T16:47:37.199793Z",
     "shell.execute_reply": "2024-07-30T16:47:37.198475Z"
    },
    "papermill": {
     "duration": 0.034267,
     "end_time": "2024-07-30T16:47:37.202266",
     "exception": false,
     "start_time": "2024-07-30T16:47:37.167999",
     "status": "completed"
    },
    "tags": []
   },
   "outputs": [
    {
     "data": {
      "text/plain": [
       "[685,\n",
       " 25,\n",
       " 56,\n",
       " 57,\n",
       " 65,\n",
       " 835,\n",
       " 836,\n",
       " 138,\n",
       " 837,\n",
       " 838,\n",
       " 303,\n",
       " 304,\n",
       " 74,\n",
       " 839,\n",
       " 25,\n",
       " 85,\n",
       " 27,\n",
       " 19,\n",
       " 48,\n",
       " 306,\n",
       " 17,\n",
       " 840,\n",
       " 4,\n",
       " 25,\n",
       " 92,\n",
       " 841,\n",
       " 842,\n",
       " 25,\n",
       " 843,\n",
       " 14,\n",
       " 701]"
      ]
     },
     "execution_count": 19,
     "metadata": {},
     "output_type": "execute_result"
    }
   ],
   "source": [
    "tokenized_doc[120]"
   ]
  },
  {
   "cell_type": "code",
   "execution_count": 20,
   "id": "e0c6e7e3",
   "metadata": {
    "execution": {
     "iopub.execute_input": "2024-07-30T16:47:37.318452Z",
     "iopub.status.busy": "2024-07-30T16:47:37.318043Z",
     "iopub.status.idle": "2024-07-30T16:47:37.325394Z",
     "shell.execute_reply": "2024-07-30T16:47:37.324200Z"
    },
    "papermill": {
     "duration": 0.035615,
     "end_time": "2024-07-30T16:47:37.328969",
     "exception": false,
     "start_time": "2024-07-30T16:47:37.293354",
     "status": "completed"
    },
    "tags": []
   },
   "outputs": [
    {
     "data": {
      "text/plain": [
       "'urgent ! your mobile no *********** win a å£2,000 bonus caller prize on 02/06/03 ! this be the 2nd attempt to reach you ! call 09066362220 asap ! box97n7qp , 150ppm'"
      ]
     },
     "execution_count": 20,
     "metadata": {},
     "output_type": "execute_result"
    }
   ],
   "source": [
    "X_clean[120]"
   ]
  },
  {
   "cell_type": "code",
   "execution_count": 21,
   "id": "276c2116",
   "metadata": {
    "execution": {
     "iopub.execute_input": "2024-07-30T16:47:37.379171Z",
     "iopub.status.busy": "2024-07-30T16:47:37.378737Z",
     "iopub.status.idle": "2024-07-30T16:47:37.491177Z",
     "shell.execute_reply": "2024-07-30T16:47:37.489944Z"
    },
    "papermill": {
     "duration": 0.141208,
     "end_time": "2024-07-30T16:47:37.493893",
     "exception": false,
     "start_time": "2024-07-30T16:47:37.352685",
     "status": "completed"
    },
    "tags": []
   },
   "outputs": [],
   "source": [
    "#TF-IDF\n",
    "\n",
    "#term-frequency\n",
    "\n",
    "\n",
    "\n",
    "row = []\n",
    "col = []\n",
    "data = []\n",
    "for i, doc_as_int in enumerate(tokenized_doc):\n",
    "    \n",
    "    count_tokens = Counter(doc_as_int)\n",
    "    for token in count_tokens:\n",
    "        data.append(count_tokens[token])\n",
    "        row.append(i)\n",
    "        col.append(token)\n",
    "        \n",
    "\n",
    "#row, col = zip(*position)\n",
    "\n",
    "tf_cs = csr_matrix((data, (row, col)), shape=(len(tokenized_doc), vocab_size))"
   ]
  },
  {
   "cell_type": "code",
   "execution_count": 22,
   "id": "06671241",
   "metadata": {
    "execution": {
     "iopub.execute_input": "2024-07-30T16:47:37.540178Z",
     "iopub.status.busy": "2024-07-30T16:47:37.539751Z",
     "iopub.status.idle": "2024-07-30T16:47:37.547535Z",
     "shell.execute_reply": "2024-07-30T16:47:37.546320Z"
    },
    "papermill": {
     "duration": 0.034122,
     "end_time": "2024-07-30T16:47:37.549974",
     "exception": false,
     "start_time": "2024-07-30T16:47:37.515852",
     "status": "completed"
    },
    "tags": []
   },
   "outputs": [
    {
     "data": {
      "text/plain": [
       "(3733, 7142)"
      ]
     },
     "execution_count": 22,
     "metadata": {},
     "output_type": "execute_result"
    }
   ],
   "source": [
    "tf_cs.shape"
   ]
  },
  {
   "cell_type": "code",
   "execution_count": 23,
   "id": "b082d9c5",
   "metadata": {
    "execution": {
     "iopub.execute_input": "2024-07-30T16:47:37.595712Z",
     "iopub.status.busy": "2024-07-30T16:47:37.595294Z",
     "iopub.status.idle": "2024-07-30T16:47:37.606583Z",
     "shell.execute_reply": "2024-07-30T16:47:37.605389Z"
    },
    "papermill": {
     "duration": 0.03716,
     "end_time": "2024-07-30T16:47:37.609205",
     "exception": false,
     "start_time": "2024-07-30T16:47:37.572045",
     "status": "completed"
    },
    "tags": []
   },
   "outputs": [
    {
     "data": {
      "text/plain": [
       "(1, 7142)"
      ]
     },
     "execution_count": 23,
     "metadata": {},
     "output_type": "execute_result"
    }
   ],
   "source": [
    "#Document frequency\n",
    "df_cs = (tf_cs>=1)\n",
    "df_sum = (df_cs.sum(axis = 0)+1)/tf_cs.shape[0]\n",
    "df_sum.shape"
   ]
  },
  {
   "cell_type": "code",
   "execution_count": 24,
   "id": "1befa3a1",
   "metadata": {
    "execution": {
     "iopub.execute_input": "2024-07-30T16:47:37.656975Z",
     "iopub.status.busy": "2024-07-30T16:47:37.656544Z",
     "iopub.status.idle": "2024-07-30T16:47:37.662000Z",
     "shell.execute_reply": "2024-07-30T16:47:37.660807Z"
    },
    "papermill": {
     "duration": 0.03307,
     "end_time": "2024-07-30T16:47:37.664324",
     "exception": false,
     "start_time": "2024-07-30T16:47:37.631254",
     "status": "completed"
    },
    "tags": []
   },
   "outputs": [],
   "source": [
    "#df_sum[0,-1] = 1 #Add one to <unknow> token "
   ]
  },
  {
   "cell_type": "code",
   "execution_count": 25,
   "id": "a9be6431",
   "metadata": {
    "execution": {
     "iopub.execute_input": "2024-07-30T16:47:37.710567Z",
     "iopub.status.busy": "2024-07-30T16:47:37.710158Z",
     "iopub.status.idle": "2024-07-30T16:47:37.717538Z",
     "shell.execute_reply": "2024-07-30T16:47:37.716425Z"
    },
    "papermill": {
     "duration": 0.034195,
     "end_time": "2024-07-30T16:47:37.720349",
     "exception": false,
     "start_time": "2024-07-30T16:47:37.686154",
     "status": "completed"
    },
    "tags": []
   },
   "outputs": [],
   "source": [
    "#TF-IDF\n",
    "\n",
    "tf_idf = (tf_cs/df_sum).tocsr()"
   ]
  },
  {
   "cell_type": "code",
   "execution_count": 26,
   "id": "fbc63373",
   "metadata": {
    "execution": {
     "iopub.execute_input": "2024-07-30T16:47:37.765650Z",
     "iopub.status.busy": "2024-07-30T16:47:37.765246Z",
     "iopub.status.idle": "2024-07-30T16:47:37.774849Z",
     "shell.execute_reply": "2024-07-30T16:47:37.773557Z"
    },
    "papermill": {
     "duration": 0.035289,
     "end_time": "2024-07-30T16:47:37.777508",
     "exception": false,
     "start_time": "2024-07-30T16:47:37.742219",
     "status": "completed"
    },
    "tags": []
   },
   "outputs": [
    {
     "name": "stdout",
     "output_type": "stream",
     "text": [
      "Row text: ARE YOU IN TOWN? THIS IS V. IMPORTANT\n",
      "Top 5 words: \n",
      "['v.', 'important', 'town', 'this', 'in']\n",
      "Top 5 tf-idf:\n",
      "[933.25       219.58823529 196.47368421  18.38916256   6.84954128]\n"
     ]
    }
   ],
   "source": [
    "row_num = 3150\n",
    "row = tf_idf[row_num,:].toarray().flatten()\n",
    "top_5_idx = np.argsort(-row)[:5]\n",
    "top_5_values = row[top_5_idx]\n",
    "print(f\"Row text: {X_train[row_num]}\")\n",
    "print(f\"Top 5 words: \\n{[decoder[idx] for idx in top_5_idx]}\")\n",
    "print(f\"Top 5 tf-idf:\\n{top_5_values}\")"
   ]
  },
  {
   "cell_type": "code",
   "execution_count": 27,
   "id": "53961d16",
   "metadata": {
    "execution": {
     "iopub.execute_input": "2024-07-30T16:47:37.824445Z",
     "iopub.status.busy": "2024-07-30T16:47:37.824031Z",
     "iopub.status.idle": "2024-07-30T16:47:37.839814Z",
     "shell.execute_reply": "2024-07-30T16:47:37.838596Z"
    },
    "papermill": {
     "duration": 0.042831,
     "end_time": "2024-07-30T16:47:37.842750",
     "exception": false,
     "start_time": "2024-07-30T16:47:37.799919",
     "status": "completed"
    },
    "tags": []
   },
   "outputs": [],
   "source": [
    "from sklearn.naive_bayes import MultinomialNB\n",
    "\n",
    "clf = MultinomialNB()\n",
    "clf.fit(tf_idf, y_train)\n",
    "\n",
    "y_predict = (clf.predict(tf_idf))"
   ]
  },
  {
   "cell_type": "code",
   "execution_count": 28,
   "id": "e11a6b24",
   "metadata": {
    "execution": {
     "iopub.execute_input": "2024-07-30T16:47:37.891039Z",
     "iopub.status.busy": "2024-07-30T16:47:37.890604Z",
     "iopub.status.idle": "2024-07-30T16:47:38.278630Z",
     "shell.execute_reply": "2024-07-30T16:47:38.277426Z"
    },
    "papermill": {
     "duration": 0.414845,
     "end_time": "2024-07-30T16:47:38.281472",
     "exception": false,
     "start_time": "2024-07-30T16:47:37.866627",
     "status": "completed"
    },
    "tags": []
   },
   "outputs": [
    {
     "data": {
      "text/plain": [
       "<sklearn.metrics._plot.confusion_matrix.ConfusionMatrixDisplay at 0x799f2435a080>"
      ]
     },
     "execution_count": 28,
     "metadata": {},
     "output_type": "execute_result"
    },
    {
     "data": {
      "image/png": "[encoded data removed]",
      "text/plain": [
       "<Figure size 640x480 with 2 Axes>"
      ]
     },
     "metadata": {},
     "output_type": "display_data"
    }
   ],
   "source": [
    "# Import the metrics module from scikit-learn\n",
    "import sklearn.metrics as metrics\n",
    "from sklearn.metrics import accuracy_score, precision_score, recall_score, f1_score, roc_auc_score\n",
    "\n",
    "\n",
    "# Calculate the values for each quadrant in the confusion matrix\n",
    "cm = metrics.confusion_matrix(y_train, y_predict)\n",
    "\n",
    "# Create the confusion matrix as a visualization\n",
    "disp = metrics.ConfusionMatrixDisplay(confusion_matrix = cm)\n",
    "\n",
    "# Display the confusion matrix\n",
    "disp.plot()"
   ]
  },
  {
   "cell_type": "code",
   "execution_count": 29,
   "id": "c1d08909",
   "metadata": {
    "execution": {
     "iopub.execute_input": "2024-07-30T16:47:38.328839Z",
     "iopub.status.busy": "2024-07-30T16:47:38.328429Z",
     "iopub.status.idle": "2024-07-30T16:47:38.351796Z",
     "shell.execute_reply": "2024-07-30T16:47:38.350678Z"
    },
    "papermill": {
     "duration": 0.050665,
     "end_time": "2024-07-30T16:47:38.354568",
     "exception": false,
     "start_time": "2024-07-30T16:47:38.303903",
     "status": "completed"
    },
    "tags": []
   },
   "outputs": [
    {
     "name": "stdout",
     "output_type": "stream",
     "text": [
      "Accuracy: 0.991\n",
      "Precision: 0.938\n",
      "Recall: 1.000\n",
      "F1 Score: 0.968\n",
      "AUC: 0.995\n"
     ]
    }
   ],
   "source": [
    "print('Accuracy:', '%.3f' % accuracy_score(y_train, y_predict))\n",
    "print('Precision:', '%.3f' % precision_score(y_train, y_predict))\n",
    "print('Recall:', '%.3f' % recall_score(y_train, y_predict))\n",
    "print('F1 Score:', '%.3f' % f1_score(y_train, y_predict))\n",
    "print('AUC:', '%.3f' % roc_auc_score(y_train, y_predict))"
   ]
  },
  {
   "cell_type": "markdown",
   "id": "cf596272",
   "metadata": {
    "papermill": {
     "duration": 0.022253,
     "end_time": "2024-07-30T16:47:38.399634",
     "exception": false,
     "start_time": "2024-07-30T16:47:38.377381",
     "status": "completed"
    },
    "tags": []
   },
   "source": [
    "## Evaluate model on test sample"
   ]
  },
  {
   "cell_type": "code",
   "execution_count": 30,
   "id": "184363ae",
   "metadata": {
    "execution": {
     "iopub.execute_input": "2024-07-30T16:47:38.449293Z",
     "iopub.status.busy": "2024-07-30T16:47:38.448880Z",
     "iopub.status.idle": "2024-07-30T16:47:42.793030Z",
     "shell.execute_reply": "2024-07-30T16:47:42.791821Z"
    },
    "papermill": {
     "duration": 4.371719,
     "end_time": "2024-07-30T16:47:42.795764",
     "exception": false,
     "start_time": "2024-07-30T16:47:38.424045",
     "status": "completed"
    },
    "tags": []
   },
   "outputs": [],
   "source": [
    "X_clean_test = X_test.apply(Tokenizer)\n",
    "tokenized_doc_test = tokenizer_doc(X_clean_test, encoder)"
   ]
  },
  {
   "cell_type": "code",
   "execution_count": 31,
   "id": "4aa4153a",
   "metadata": {
    "execution": {
     "iopub.execute_input": "2024-07-30T16:47:42.848548Z",
     "iopub.status.busy": "2024-07-30T16:47:42.847342Z",
     "iopub.status.idle": "2024-07-30T16:47:42.903048Z",
     "shell.execute_reply": "2024-07-30T16:47:42.901761Z"
    },
    "papermill": {
     "duration": 0.087521,
     "end_time": "2024-07-30T16:47:42.905908",
     "exception": false,
     "start_time": "2024-07-30T16:47:42.818387",
     "status": "completed"
    },
    "tags": []
   },
   "outputs": [],
   "source": [
    "row = []\n",
    "col = []\n",
    "data = []\n",
    "for i, doc_as_int in enumerate(tokenized_doc_test):\n",
    "    \n",
    "    count_tokens = Counter(doc_as_int)\n",
    "    for token in count_tokens:\n",
    "        data.append(count_tokens[token])\n",
    "        row.append(i)\n",
    "        col.append(token)\n",
    "        \n",
    "\n",
    "#row, col = zip(*position)\n",
    "\n",
    "tf_cs = csr_matrix((data, (row, col)), shape=(len(tokenized_doc_test), vocab_size))\n",
    "\n",
    "df_cs = (tf_cs>=1)\n",
    "df_sum = (df_cs.sum(axis = 0)+1)/tf_cs.shape[0]\n",
    "df_sum.shape\n",
    "\n",
    "tf_idf_test = (tf_cs/df_sum).tocsr()"
   ]
  },
  {
   "cell_type": "code",
   "execution_count": 32,
   "id": "e5dd4e45",
   "metadata": {
    "execution": {
     "iopub.execute_input": "2024-07-30T16:47:42.954082Z",
     "iopub.status.busy": "2024-07-30T16:47:42.953602Z",
     "iopub.status.idle": "2024-07-30T16:47:42.960983Z",
     "shell.execute_reply": "2024-07-30T16:47:42.959702Z"
    },
    "papermill": {
     "duration": 0.034985,
     "end_time": "2024-07-30T16:47:42.963694",
     "exception": false,
     "start_time": "2024-07-30T16:47:42.928709",
     "status": "completed"
    },
    "tags": []
   },
   "outputs": [],
   "source": [
    "y_predict = (clf.predict(tf_idf_test))"
   ]
  },
  {
   "cell_type": "code",
   "execution_count": 33,
   "id": "d39de3aa",
   "metadata": {
    "execution": {
     "iopub.execute_input": "2024-07-30T16:47:43.016831Z",
     "iopub.status.busy": "2024-07-30T16:47:43.016417Z",
     "iopub.status.idle": "2024-07-30T16:47:43.043243Z",
     "shell.execute_reply": "2024-07-30T16:47:43.041184Z"
    },
    "papermill": {
     "duration": 0.060521,
     "end_time": "2024-07-30T16:47:43.046992",
     "exception": false,
     "start_time": "2024-07-30T16:47:42.986471",
     "status": "completed"
    },
    "tags": []
   },
   "outputs": [
    {
     "name": "stdout",
     "output_type": "stream",
     "text": [
      "Accuracy: 0.956\n",
      "Precision: 0.819\n",
      "Recall: 0.877\n",
      "F1 Score: 0.847\n",
      "AUC: 0.923\n"
     ]
    }
   ],
   "source": [
    "print('Accuracy:', '%.3f' % accuracy_score(y_test, y_predict))\n",
    "print('Precision:', '%.3f' % precision_score(y_test, y_predict))\n",
    "print('Recall:', '%.3f' % recall_score(y_test, y_predict))\n",
    "print('F1 Score:', '%.3f' % f1_score(y_test, y_predict))\n",
    "print('AUC:', '%.3f' % roc_auc_score(y_test, y_predict))"
   ]
  },
  {
   "cell_type": "code",
   "execution_count": 34,
   "id": "eae3055a",
   "metadata": {
    "execution": {
     "iopub.execute_input": "2024-07-30T16:47:43.104373Z",
     "iopub.status.busy": "2024-07-30T16:47:43.103969Z",
     "iopub.status.idle": "2024-07-30T16:47:43.427413Z",
     "shell.execute_reply": "2024-07-30T16:47:43.426208Z"
    },
    "papermill": {
     "duration": 0.353234,
     "end_time": "2024-07-30T16:47:43.430004",
     "exception": false,
     "start_time": "2024-07-30T16:47:43.076770",
     "status": "completed"
    },
    "tags": []
   },
   "outputs": [
    {
     "data": {
      "text/plain": [
       "<sklearn.metrics._plot.confusion_matrix.ConfusionMatrixDisplay at 0x799efc43a860>"
      ]
     },
     "execution_count": 34,
     "metadata": {},
     "output_type": "execute_result"
    },
    {
     "data": {
      "image/png": "[encoded data removed]",
      "text/plain": [
       "<Figure size 640x480 with 2 Axes>"
      ]
     },
     "metadata": {},
     "output_type": "display_data"
    }
   ],
   "source": [
    "# Calculate the values for each quadrant in the confusion matrix\n",
    "cm = metrics.confusion_matrix(y_test, y_predict)\n",
    "\n",
    "# Create the confusion matrix as a visualization\n",
    "disp = metrics.ConfusionMatrixDisplay(confusion_matrix = cm)\n",
    "\n",
    "# Display the confusion matrix\n",
    "disp.plot()"
   ]
  },
  {
   "cell_type": "markdown",
   "id": "8da96a54",
   "metadata": {
    "papermill": {
     "duration": 0.022708,
     "end_time": "2024-07-30T16:47:43.475929",
     "exception": false,
     "start_time": "2024-07-30T16:47:43.453221",
     "status": "completed"
    },
    "tags": []
   },
   "source": [
    "We did a very good job predicting which email was a spam. We achieve a recall score on the test sample of 0.907 and a F1 score of 0.866. Our worst score was the precision (0.83). Looking at the confusion matrix, we can see that we had more False Positive than False Negatives.\n",
    "\n",
    "Now, all we need to do, is create a model that can be used to receive an email and label it"
   ]
  },
  {
   "cell_type": "markdown",
   "id": "05c6b87a",
   "metadata": {
    "papermill": {
     "duration": 0.023227,
     "end_time": "2024-07-30T16:47:43.523329",
     "exception": false,
     "start_time": "2024-07-30T16:47:43.500102",
     "status": "completed"
    },
    "tags": []
   },
   "source": [
    "## Lets try to do better\n",
    "\n",
    "1. Test using a library for tf-idf\n",
    "2. Try to use CountWords"
   ]
  },
  {
   "cell_type": "code",
   "execution_count": 35,
   "id": "d4234c68",
   "metadata": {
    "execution": {
     "iopub.execute_input": "2024-07-30T16:47:43.572019Z",
     "iopub.status.busy": "2024-07-30T16:47:43.571591Z",
     "iopub.status.idle": "2024-07-30T16:47:43.913223Z",
     "shell.execute_reply": "2024-07-30T16:47:43.911921Z"
    },
    "papermill": {
     "duration": 0.369161,
     "end_time": "2024-07-30T16:47:43.916085",
     "exception": false,
     "start_time": "2024-07-30T16:47:43.546924",
     "status": "completed"
    },
    "tags": []
   },
   "outputs": [],
   "source": [
    "from sklearn.feature_extraction.text import TfidfVectorizer, CountVectorizer\n",
    "\n",
    "featurizer = TfidfVectorizer(decode_error='ignore')\n",
    "Xtrain = featurizer.fit_transform(X_train)\n",
    "Xtest = featurizer.transform(X_test)\n",
    "\n",
    "clf = MultinomialNB()\n",
    "clf.fit(Xtrain, y_train)\n",
    "\n",
    "y_predict = clf.predict(Xtest)"
   ]
  },
  {
   "cell_type": "code",
   "execution_count": 36,
   "id": "72b438af",
   "metadata": {
    "execution": {
     "iopub.execute_input": "2024-07-30T16:47:43.967986Z",
     "iopub.status.busy": "2024-07-30T16:47:43.967580Z",
     "iopub.status.idle": "2024-07-30T16:47:43.989220Z",
     "shell.execute_reply": "2024-07-30T16:47:43.987539Z"
    },
    "papermill": {
     "duration": 0.051662,
     "end_time": "2024-07-30T16:47:43.992096",
     "exception": false,
     "start_time": "2024-07-30T16:47:43.940434",
     "status": "completed"
    },
    "tags": []
   },
   "outputs": [
    {
     "name": "stdout",
     "output_type": "stream",
     "text": [
      "Accuracy: 0.959\n",
      "Precision: 1.000\n",
      "Recall: 0.702\n",
      "F1 Score: 0.825\n",
      "AUC: 0.851\n"
     ]
    }
   ],
   "source": [
    "# Metrics using TfidfVectorizer\n",
    "print('Accuracy:', '%.3f' % accuracy_score(y_test, y_predict))\n",
    "print('Precision:', '%.3f' % precision_score(y_test, y_predict))\n",
    "print('Recall:', '%.3f' % recall_score(y_test, y_predict))\n",
    "print('F1 Score:', '%.3f' % f1_score(y_test, y_predict))\n",
    "print('AUC:', '%.3f' % roc_auc_score(y_test, y_predict))"
   ]
  },
  {
   "cell_type": "code",
   "execution_count": 37,
   "id": "51f397d5",
   "metadata": {
    "execution": {
     "iopub.execute_input": "2024-07-30T16:47:44.042994Z",
     "iopub.status.busy": "2024-07-30T16:47:44.042574Z",
     "iopub.status.idle": "2024-07-30T16:47:44.213521Z",
     "shell.execute_reply": "2024-07-30T16:47:44.212367Z"
    },
    "papermill": {
     "duration": 0.199972,
     "end_time": "2024-07-30T16:47:44.216508",
     "exception": false,
     "start_time": "2024-07-30T16:47:44.016536",
     "status": "completed"
    },
    "tags": []
   },
   "outputs": [],
   "source": [
    "# try multiple ways of calculating features\n",
    "\n",
    "featurizer = CountVectorizer(decode_error='ignore')\n",
    "Xtrain = featurizer.fit_transform(X_train)\n",
    "Xtest = featurizer.transform(X_test)\n",
    "\n",
    "clf = MultinomialNB()\n",
    "clf.fit(Xtrain, y_train)\n",
    "\n",
    "y_predict = clf.predict(Xtest)"
   ]
  },
  {
   "cell_type": "code",
   "execution_count": 38,
   "id": "ff46a4cc",
   "metadata": {
    "execution": {
     "iopub.execute_input": "2024-07-30T16:47:44.265414Z",
     "iopub.status.busy": "2024-07-30T16:47:44.264994Z",
     "iopub.status.idle": "2024-07-30T16:47:44.286907Z",
     "shell.execute_reply": "2024-07-30T16:47:44.285427Z"
    },
    "papermill": {
     "duration": 0.049415,
     "end_time": "2024-07-30T16:47:44.289709",
     "exception": false,
     "start_time": "2024-07-30T16:47:44.240294",
     "status": "completed"
    },
    "tags": []
   },
   "outputs": [
    {
     "name": "stdout",
     "output_type": "stream",
     "text": [
      "Accuracy: 0.983\n",
      "Precision: 0.974\n",
      "Recall: 0.897\n",
      "F1 Score: 0.934\n",
      "AUC: 0.947\n"
     ]
    }
   ],
   "source": [
    "# Metrics using CountVectorizer\n",
    "print('Accuracy:', '%.3f' % accuracy_score(y_test, y_predict))\n",
    "print('Precision:', '%.3f' % precision_score(y_test, y_predict))\n",
    "print('Recall:', '%.3f' % recall_score(y_test, y_predict))\n",
    "print('F1 Score:', '%.3f' % f1_score(y_test, y_predict))\n",
    "print('AUC:', '%.3f' % roc_auc_score(y_test, y_predict))"
   ]
  },
  {
   "cell_type": "markdown",
   "id": "ee5df390",
   "metadata": {
    "papermill": {
     "duration": 0.023989,
     "end_time": "2024-07-30T16:47:44.337601",
     "exception": false,
     "start_time": "2024-07-30T16:47:44.313612",
     "status": "completed"
    },
    "tags": []
   },
   "source": [
    "# Creating the Model"
   ]
  },
  {
   "cell_type": "code",
   "execution_count": 39,
   "id": "7752f2ac",
   "metadata": {
    "execution": {
     "iopub.execute_input": "2024-07-30T16:47:44.390932Z",
     "iopub.status.busy": "2024-07-30T16:47:44.390531Z",
     "iopub.status.idle": "2024-07-30T16:47:44.416821Z",
     "shell.execute_reply": "2024-07-30T16:47:44.414745Z"
    },
    "papermill": {
     "duration": 0.05733,
     "end_time": "2024-07-30T16:47:44.419698",
     "exception": false,
     "start_time": "2024-07-30T16:47:44.362368",
     "status": "completed"
    },
    "tags": []
   },
   "outputs": [],
   "source": [
    "class SpamDetector():\n",
    "    def __init__(self):\n",
    "        \n",
    "        self.model = MultinomialNB()\n",
    "        \n",
    "        return\n",
    "    \n",
    "    def train_model(self, X_train, y_train):\n",
    "        '''\n",
    "            X_train: training input -> Series of strings\n",
    "            y_train: training output -> 0 = not spam, 1 = spam\n",
    "        '''\n",
    "        \n",
    "        X_clean = X_train.apply(self._Tokenizer)\n",
    "        self._word2idx(X_clean)     \n",
    "        tokenized_X = self._tokenizer_doc(X_clean)\n",
    "        tf_idf = self._tf_idf(tokenized_X)\n",
    "        \n",
    "        self.model.fit(tf_idf, y_train)\n",
    "    \n",
    "    \n",
    "    def __call__(self,email):\n",
    "        #email = a single string containint the text of the email\n",
    "        X_clean = self._Tokenizer(email)\n",
    "        \n",
    "        tokenized_X = self._tokenizer_doc([X_clean])\n",
    "        tf_idf = self._tf_idf(tokenized_X)\n",
    "        \n",
    "        label = self.model.predict(tf_idf)[0]\n",
    "        probs = self.model.predict_proba(tf_idf)[0]\n",
    "        \n",
    "        return label, probs\n",
    "    \n",
    "    \n",
    "    \n",
    "    def _tf_idf(self,tokenized_X):\n",
    "        #Term Frequency\n",
    "        row = []\n",
    "        col = []\n",
    "        data = []\n",
    "        for i, doc_as_int in enumerate(tokenized_X):\n",
    "            count_tokens = Counter(doc_as_int)\n",
    "            for token in count_tokens:\n",
    "                data.append(count_tokens[token])\n",
    "                row.append(i)\n",
    "                col.append(token)\n",
    "        tf_cs = csr_matrix((data, (row, col)), shape=(len(tokenized_X), len(self.decoder)))\n",
    "        \n",
    "        #Document Frequency\n",
    "        df_cs = (tf_cs>=1)\n",
    "        df_sum = (df_cs.sum(axis = 0)+1)/tf_cs.shape[0]\n",
    "        df_sum.shape\n",
    "        tf_idf = (tf_cs/df_sum).tocsr()\n",
    "        \n",
    "        return tf_idf\n",
    "        \n",
    "        \n",
    "    def _get_wordnet_pos(self, treebank_tag):\n",
    "        if treebank_tag.startswith('J'):\n",
    "            return wordnet.ADJ\n",
    "        elif treebank_tag.startswith('V'):\n",
    "            return wordnet.VERB\n",
    "        elif treebank_tag.startswith('N'):\n",
    "            return wordnet.NOUN\n",
    "        elif treebank_tag.startswith('R'):\n",
    "            return wordnet.ADV\n",
    "        else:\n",
    "            return wordnet.NOUN\n",
    "        \n",
    "        \n",
    "    \n",
    "    def _Tokenizer(self,x):\n",
    "        wnl = WordNetLemmatizer()\n",
    "        tokens = word_tokenize(x) #List of strings in doc\n",
    "\n",
    "        filtered_words = [token.lower() for token in tokens]\n",
    "\n",
    "        words_and_tags = nltk.pos_tag(filtered_words)\n",
    "        return \" \".join([wnl.lemmatize(word, pos=self._get_wordnet_pos(tag)) \\\n",
    "                for word, tag in words_and_tags])\n",
    "    \n",
    "    \n",
    "    \n",
    "    \n",
    "    def _word2idx(self, X_clean):\n",
    "        '''\n",
    "            documents: Series object containing all the documents of the dataset\n",
    "            word2idx: dictionary mapping word to index\n",
    "        '''\n",
    "\n",
    "        self.encoder = {}\n",
    "        self.decoder = []  #We don't need to store the idx value if we create it as a list\n",
    "        countidx = 0\n",
    "        for doc in X_clean:\n",
    "            tokens = word_tokenize(doc.lower())\n",
    "            doc_as_int = []\n",
    "            for token in tokens:\n",
    "                if token not in self.encoder:\n",
    "                    self.encoder[token] = countidx\n",
    "                    self.decoder.append(token)\n",
    "                    countidx+=1\n",
    "                doc_as_int.append(self.encoder[token])\n",
    "        self.encoder['<unknow>'] = len(self.decoder)\n",
    "        self.decoder.append('<unknow>')\n",
    "        return\n",
    "    \n",
    "    \n",
    "    \n",
    "    def _tokenizer_doc(self, X_clean):\n",
    "        tokenized_docs = []\n",
    "        for doc in X_clean:\n",
    "            tokens = word_tokenize(doc.lower())\n",
    "            doc_as_int = []\n",
    "            for token in tokens:\n",
    "                if token not in self.encoder:\n",
    "                    token = '<unknow>'    \n",
    "                doc_as_int.append(self.encoder[token])\n",
    "            tokenized_docs.append(doc_as_int)\n",
    "        return tokenized_docs"
   ]
  },
  {
   "cell_type": "code",
   "execution_count": 40,
   "id": "fb09d3f8",
   "metadata": {
    "execution": {
     "iopub.execute_input": "2024-07-30T16:47:44.471949Z",
     "iopub.status.busy": "2024-07-30T16:47:44.471543Z",
     "iopub.status.idle": "2024-07-30T16:47:44.477443Z",
     "shell.execute_reply": "2024-07-30T16:47:44.475949Z"
    },
    "papermill": {
     "duration": 0.035803,
     "end_time": "2024-07-30T16:47:44.480163",
     "exception": false,
     "start_time": "2024-07-30T16:47:44.444360",
     "status": "completed"
    },
    "tags": []
   },
   "outputs": [],
   "source": [
    "#object(email) -> Label/ Probabilities\n",
    "\n",
    "spam_detector = SpamDetector()"
   ]
  },
  {
   "cell_type": "code",
   "execution_count": 41,
   "id": "ec3f7c45",
   "metadata": {
    "execution": {
     "iopub.execute_input": "2024-07-30T16:47:44.531511Z",
     "iopub.status.busy": "2024-07-30T16:47:44.531088Z",
     "iopub.status.idle": "2024-07-30T16:47:54.870096Z",
     "shell.execute_reply": "2024-07-30T16:47:54.868863Z"
    },
    "papermill": {
     "duration": 10.3692,
     "end_time": "2024-07-30T16:47:54.873545",
     "exception": false,
     "start_time": "2024-07-30T16:47:44.504345",
     "status": "completed"
    },
    "tags": []
   },
   "outputs": [],
   "source": [
    "spam_detector.train_model(X_train, y_train)"
   ]
  },
  {
   "cell_type": "code",
   "execution_count": 42,
   "id": "ee1cd4a6",
   "metadata": {
    "execution": {
     "iopub.execute_input": "2024-07-30T16:47:54.923325Z",
     "iopub.status.busy": "2024-07-30T16:47:54.922907Z",
     "iopub.status.idle": "2024-07-30T16:47:54.931076Z",
     "shell.execute_reply": "2024-07-30T16:47:54.929602Z"
    },
    "papermill": {
     "duration": 0.035541,
     "end_time": "2024-07-30T16:47:54.933670",
     "exception": false,
     "start_time": "2024-07-30T16:47:54.898129",
     "status": "completed"
    },
    "tags": []
   },
   "outputs": [
    {
     "data": {
      "text/plain": [
       "\"Aight text me when you're back at mu and I'll swing by, need somebody to get the door for me\""
      ]
     },
     "execution_count": 42,
     "metadata": {},
     "output_type": "execute_result"
    }
   ],
   "source": [
    "X_train[0]"
   ]
  },
  {
   "cell_type": "code",
   "execution_count": 43,
   "id": "5059d4cf",
   "metadata": {
    "execution": {
     "iopub.execute_input": "2024-07-30T16:47:54.984302Z",
     "iopub.status.busy": "2024-07-30T16:47:54.983093Z",
     "iopub.status.idle": "2024-07-30T16:47:54.997904Z",
     "shell.execute_reply": "2024-07-30T16:47:54.996073Z"
    },
    "papermill": {
     "duration": 0.043166,
     "end_time": "2024-07-30T16:47:55.001039",
     "exception": false,
     "start_time": "2024-07-30T16:47:54.957873",
     "status": "completed"
    },
    "tags": []
   },
   "outputs": [
    {
     "data": {
      "text/plain": [
       "(0, array([1.00000000e+00, 5.78497014e-11]))"
      ]
     },
     "execution_count": 43,
     "metadata": {},
     "output_type": "execute_result"
    }
   ],
   "source": [
    "spam_detector(X_train[0])"
   ]
  },
  {
   "cell_type": "code",
   "execution_count": 44,
   "id": "6f584162",
   "metadata": {
    "execution": {
     "iopub.execute_input": "2024-07-30T16:47:55.053623Z",
     "iopub.status.busy": "2024-07-30T16:47:55.053215Z",
     "iopub.status.idle": "2024-07-30T16:48:03.147342Z",
     "shell.execute_reply": "2024-07-30T16:48:03.146218Z"
    },
    "papermill": {
     "duration": 8.123551,
     "end_time": "2024-07-30T16:48:03.150269",
     "exception": false,
     "start_time": "2024-07-30T16:47:55.026718",
     "status": "completed"
    },
    "tags": []
   },
   "outputs": [],
   "source": [
    "y_preds = []\n",
    "for x in X_test:\n",
    "    label, probs = spam_detector(x)\n",
    "    y_preds.append(label)"
   ]
  },
  {
   "cell_type": "code",
   "execution_count": 45,
   "id": "5307e2b1",
   "metadata": {
    "execution": {
     "iopub.execute_input": "2024-07-30T16:48:03.199716Z",
     "iopub.status.busy": "2024-07-30T16:48:03.199302Z",
     "iopub.status.idle": "2024-07-30T16:48:03.223220Z",
     "shell.execute_reply": "2024-07-30T16:48:03.222079Z"
    },
    "papermill": {
     "duration": 0.051585,
     "end_time": "2024-07-30T16:48:03.225877",
     "exception": false,
     "start_time": "2024-07-30T16:48:03.174292",
     "status": "completed"
    },
    "tags": []
   },
   "outputs": [
    {
     "name": "stdout",
     "output_type": "stream",
     "text": [
      "Accuracy: 0.981\n",
      "Precision: 0.987\n",
      "Recall: 0.873\n",
      "F1 Score: 0.926\n",
      "AUC: 0.936\n"
     ]
    }
   ],
   "source": [
    "print('Accuracy:', '%.3f' % accuracy_score(y_test, y_preds))\n",
    "print('Precision:', '%.3f' % precision_score(y_test, y_preds))\n",
    "print('Recall:', '%.3f' % recall_score(y_test, y_preds))\n",
    "print('F1 Score:', '%.3f' % f1_score(y_test, y_preds))\n",
    "print('AUC:', '%.3f' % roc_auc_score(y_test, y_preds))"
   ]
  },
  {
   "cell_type": "code",
   "execution_count": 46,
   "id": "d0e35c7a",
   "metadata": {
    "execution": {
     "iopub.execute_input": "2024-07-30T16:48:03.275476Z",
     "iopub.status.busy": "2024-07-30T16:48:03.275059Z",
     "iopub.status.idle": "2024-07-30T16:48:03.597839Z",
     "shell.execute_reply": "2024-07-30T16:48:03.596682Z"
    },
    "papermill": {
     "duration": 0.350501,
     "end_time": "2024-07-30T16:48:03.600308",
     "exception": false,
     "start_time": "2024-07-30T16:48:03.249807",
     "status": "completed"
    },
    "tags": []
   },
   "outputs": [
    {
     "data": {
      "text/plain": [
       "<sklearn.metrics._plot.confusion_matrix.ConfusionMatrixDisplay at 0x799efc46b370>"
      ]
     },
     "execution_count": 46,
     "metadata": {},
     "output_type": "execute_result"
    },
    {
     "data": {
      "image/png": "[encoded data removed]",
      "text/plain": [
       "<Figure size 640x480 with 2 Axes>"
      ]
     },
     "metadata": {},
     "output_type": "display_data"
    }
   ],
   "source": [
    "# Calculate the values for each quadrant in the confusion matrix\n",
    "cm = metrics.confusion_matrix(y_test, y_preds)\n",
    "\n",
    "# Create the confusion matrix as a visualization\n",
    "disp = metrics.ConfusionMatrixDisplay(confusion_matrix = cm)\n",
    "\n",
    "# Display the confusion matrix\n",
    "disp.plot()"
   ]
  },
  {
   "cell_type": "markdown",
   "id": "935dde35",
   "metadata": {
    "papermill": {
     "duration": 0.024187,
     "end_time": "2024-07-30T16:48:03.649279",
     "exception": false,
     "start_time": "2024-07-30T16:48:03.625092",
     "status": "completed"
    },
    "tags": []
   },
   "source": [
    "## Applying Latent Semantic Analysis to Spam detection"
   ]
  },
  {
   "cell_type": "code",
   "execution_count": 47,
   "id": "d7094bbc",
   "metadata": {
    "execution": {
     "iopub.execute_input": "2024-07-30T16:48:03.700948Z",
     "iopub.status.busy": "2024-07-30T16:48:03.700542Z",
     "iopub.status.idle": "2024-07-30T16:48:03.874812Z",
     "shell.execute_reply": "2024-07-30T16:48:03.873475Z"
    },
    "papermill": {
     "duration": 0.204698,
     "end_time": "2024-07-30T16:48:03.878670",
     "exception": false,
     "start_time": "2024-07-30T16:48:03.673972",
     "status": "completed"
    },
    "tags": []
   },
   "outputs": [],
   "source": [
    "# Lets apply the SVD to the training data and fit the test sample.\n",
    "from sklearn.decomposition import TruncatedSVD\n",
    "from sklearn.preprocessing import MinMaxScaler\n",
    "from sklearn.ensemble import RandomForestClassifier"
   ]
  },
  {
   "cell_type": "code",
   "execution_count": 48,
   "id": "d59c8770",
   "metadata": {
    "execution": {
     "iopub.execute_input": "2024-07-30T16:48:03.932355Z",
     "iopub.status.busy": "2024-07-30T16:48:03.931301Z",
     "iopub.status.idle": "2024-07-30T16:48:15.126731Z",
     "shell.execute_reply": "2024-07-30T16:48:15.125318Z"
    },
    "papermill": {
     "duration": 11.225587,
     "end_time": "2024-07-30T16:48:15.129739",
     "exception": false,
     "start_time": "2024-07-30T16:48:03.904152",
     "status": "completed"
    },
    "tags": []
   },
   "outputs": [],
   "source": [
    "X_lsa_tr = X_train.apply(Tokenizer)\n",
    "X_lsa_test = X_test.apply(Tokenizer)"
   ]
  },
  {
   "cell_type": "code",
   "execution_count": 49,
   "id": "c0cfd702",
   "metadata": {
    "execution": {
     "iopub.execute_input": "2024-07-30T16:48:15.183150Z",
     "iopub.status.busy": "2024-07-30T16:48:15.182680Z",
     "iopub.status.idle": "2024-07-30T16:48:15.328364Z",
     "shell.execute_reply": "2024-07-30T16:48:15.327310Z"
    },
    "papermill": {
     "duration": 0.175477,
     "end_time": "2024-07-30T16:48:15.331059",
     "exception": false,
     "start_time": "2024-07-30T16:48:15.155582",
     "status": "completed"
    },
    "tags": []
   },
   "outputs": [],
   "source": [
    "featurizer = CountVectorizer(decode_error='ignore', stop_words='english')\n",
    "Xtrain_lsa = featurizer.fit_transform(X_lsa_tr)\n",
    "Xtest_lsa = featurizer.transform(X_lsa_test)"
   ]
  },
  {
   "cell_type": "code",
   "execution_count": 50,
   "id": "d0aead88",
   "metadata": {
    "execution": {
     "iopub.execute_input": "2024-07-30T16:48:15.381942Z",
     "iopub.status.busy": "2024-07-30T16:48:15.381533Z",
     "iopub.status.idle": "2024-07-30T16:48:15.561086Z",
     "shell.execute_reply": "2024-07-30T16:48:15.559579Z"
    },
    "papermill": {
     "duration": 0.210333,
     "end_time": "2024-07-30T16:48:15.565716",
     "exception": false,
     "start_time": "2024-07-30T16:48:15.355383",
     "status": "completed"
    },
    "tags": []
   },
   "outputs": [],
   "source": [
    "lsa = TruncatedSVD(n_components=25)\n",
    "Z_tr = lsa.fit_transform(Xtrain_lsa)\n",
    "Z_test = lsa.transform(Xtest_lsa)"
   ]
  },
  {
   "cell_type": "code",
   "execution_count": 51,
   "id": "c1d3fc60",
   "metadata": {
    "execution": {
     "iopub.execute_input": "2024-07-30T16:48:15.695472Z",
     "iopub.status.busy": "2024-07-30T16:48:15.695073Z",
     "iopub.status.idle": "2024-07-30T16:48:17.516687Z",
     "shell.execute_reply": "2024-07-30T16:48:17.515440Z"
    },
    "papermill": {
     "duration": 1.852147,
     "end_time": "2024-07-30T16:48:17.519518",
     "exception": false,
     "start_time": "2024-07-30T16:48:15.667371",
     "status": "completed"
    },
    "tags": []
   },
   "outputs": [],
   "source": [
    "rfc = RandomForestClassifier()\n",
    "rfc.fit(Z_tr, y_train)\n",
    "\n",
    "y_predict = rfc.predict(Z_test)"
   ]
  },
  {
   "cell_type": "code",
   "execution_count": 52,
   "id": "67e9e117",
   "metadata": {
    "execution": {
     "iopub.execute_input": "2024-07-30T16:48:17.576920Z",
     "iopub.status.busy": "2024-07-30T16:48:17.576498Z",
     "iopub.status.idle": "2024-07-30T16:48:17.584370Z",
     "shell.execute_reply": "2024-07-30T16:48:17.583227Z"
    },
    "papermill": {
     "duration": 0.039261,
     "end_time": "2024-07-30T16:48:17.586838",
     "exception": false,
     "start_time": "2024-07-30T16:48:17.547577",
     "status": "completed"
    },
    "tags": []
   },
   "outputs": [
    {
     "data": {
      "text/plain": [
       "207"
      ]
     },
     "execution_count": 52,
     "metadata": {},
     "output_type": "execute_result"
    }
   ],
   "source": [
    "y_predict.sum()"
   ]
  },
  {
   "cell_type": "code",
   "execution_count": 53,
   "id": "f58b80fa",
   "metadata": {
    "execution": {
     "iopub.execute_input": "2024-07-30T16:48:17.643048Z",
     "iopub.status.busy": "2024-07-30T16:48:17.642599Z",
     "iopub.status.idle": "2024-07-30T16:48:17.663831Z",
     "shell.execute_reply": "2024-07-30T16:48:17.662292Z"
    },
    "papermill": {
     "duration": 0.052734,
     "end_time": "2024-07-30T16:48:17.666553",
     "exception": false,
     "start_time": "2024-07-30T16:48:17.613819",
     "status": "completed"
    },
    "tags": []
   },
   "outputs": [
    {
     "name": "stdout",
     "output_type": "stream",
     "text": [
      "Precision: 0.981\n",
      "Recall: 0.806\n",
      "F1 Score: 0.885\n",
      "AUC: 0.902\n"
     ]
    }
   ],
   "source": [
    "print('Precision:', '%.3f' % precision_score(y_test, y_predict))\n",
    "print('Recall:', '%.3f' % recall_score(y_test, y_predict))\n",
    "print('F1 Score:', '%.3f' % f1_score(y_test, y_predict))\n",
    "print('AUC:', '%.3f' % roc_auc_score(y_test, y_predict))"
   ]
  },
  {
   "cell_type": "code",
   "execution_count": 54,
   "id": "1cef6dca",
   "metadata": {
    "execution": {
     "iopub.execute_input": "2024-07-30T16:48:17.720409Z",
     "iopub.status.busy": "2024-07-30T16:48:17.718977Z",
     "iopub.status.idle": "2024-07-30T16:48:18.053935Z",
     "shell.execute_reply": "2024-07-30T16:48:18.052816Z"
    },
    "papermill": {
     "duration": 0.364583,
     "end_time": "2024-07-30T16:48:18.056496",
     "exception": false,
     "start_time": "2024-07-30T16:48:17.691913",
     "status": "completed"
    },
    "tags": []
   },
   "outputs": [
    {
     "data": {
      "text/plain": [
       "<sklearn.metrics._plot.confusion_matrix.ConfusionMatrixDisplay at 0x799ef9f6aec0>"
      ]
     },
     "execution_count": 54,
     "metadata": {},
     "output_type": "execute_result"
    },
    {
     "data": {
      "image/png": "[encoded data removed]",
      "text/plain": [
       "<Figure size 640x480 with 2 Axes>"
      ]
     },
     "metadata": {},
     "output_type": "display_data"
    }
   ],
   "source": [
    "# Calculate the values for each quadrant in the confusion matrix\n",
    "cm = metrics.confusion_matrix(y_test, y_predict)\n",
    "\n",
    "# Create the confusion matrix as a visualization\n",
    "disp = metrics.ConfusionMatrixDisplay(confusion_matrix = cm)\n",
    "\n",
    "# Display the confusion matrix\n",
    "disp.plot()"
   ]
  },
  {
   "cell_type": "code",
   "execution_count": 55,
   "id": "f0bf395e",
   "metadata": {
    "execution": {
     "iopub.execute_input": "2024-07-30T16:48:18.110144Z",
     "iopub.status.busy": "2024-07-30T16:48:18.109711Z",
     "iopub.status.idle": "2024-07-30T16:48:41.545336Z",
     "shell.execute_reply": "2024-07-30T16:48:41.544245Z"
    },
    "papermill": {
     "duration": 23.46632,
     "end_time": "2024-07-30T16:48:41.548269",
     "exception": false,
     "start_time": "2024-07-30T16:48:18.081949",
     "status": "completed"
    },
    "tags": []
   },
   "outputs": [],
   "source": [
    "#Lets compare countvectorize with LSA:\n",
    "\n",
    "features = np.array([2,4,6,8,10,50])\n",
    "\n",
    "X_lsa_tr = X_train.apply(Tokenizer)\n",
    "X_lsa_test = X_test.apply(Tokenizer)\n",
    "\n",
    "\n",
    "\n",
    "acc_cv = []\n",
    "rcll_cv = []\n",
    "acc_lsa = []\n",
    "rcll_lsa = []\n",
    "\n",
    "for feats in features:\n",
    "    feat_CV = CountVectorizer(decode_error='ignore', stop_words='english', max_features = feats)\n",
    "    Xtrain_CV = feat_CV.fit_transform(X_lsa_tr)\n",
    "    Xtest_CV = feat_CV.transform(X_lsa_test)\n",
    "    \n",
    "    feat_lsa = CountVectorizer(decode_error='ignore', stop_words='english')\n",
    "    Xtrain_lsa = feat_lsa.fit_transform(X_lsa_tr)\n",
    "    Xtest_lsa = feat_lsa.transform(X_lsa_test)\n",
    "    lsa = TruncatedSVD(n_components=feats)\n",
    "    Z_tr = lsa.fit_transform(Xtrain_lsa)\n",
    "    Z_test = lsa.transform(Xtest_lsa)\n",
    "    \n",
    "    \n",
    "    #Create model and fit\n",
    "    rfc_CV = RandomForestClassifier()\n",
    "    rfc_CV.fit(Xtrain_CV, y_train)\n",
    "    y_predict_CV = rfc_CV.predict(Xtest_CV)\n",
    "    \n",
    "    rfc_lsa = RandomForestClassifier()\n",
    "    rfc_lsa.fit(Z_tr, y_train)\n",
    "    y_predict_lsa = rfc_lsa.predict(Z_test)\n",
    "    \n",
    "    rcll_cv.append(recall_score(y_test, y_predict_CV))\n",
    "    rcll_lsa.append(recall_score(y_test, y_predict_lsa))\n",
    "    \n",
    "    acc_cv.append(accuracy_score(y_test, y_predict_CV))\n",
    "    acc_lsa.append(accuracy_score(y_test, y_predict_lsa))"
   ]
  },
  {
   "cell_type": "code",
   "execution_count": 56,
   "id": "57d86bbd",
   "metadata": {
    "execution": {
     "iopub.execute_input": "2024-07-30T16:48:41.603958Z",
     "iopub.status.busy": "2024-07-30T16:48:41.603545Z",
     "iopub.status.idle": "2024-07-30T16:48:41.920671Z",
     "shell.execute_reply": "2024-07-30T16:48:41.919459Z"
    },
    "papermill": {
     "duration": 0.34912,
     "end_time": "2024-07-30T16:48:41.923332",
     "exception": false,
     "start_time": "2024-07-30T16:48:41.574212",
     "status": "completed"
    },
    "tags": []
   },
   "outputs": [
    {
     "data": {
      "image/png": "[encoded data removed]",
      "text/plain": [
       "<Figure size 640x480 with 1 Axes>"
      ]
     },
     "metadata": {},
     "output_type": "display_data"
    }
   ],
   "source": [
    "plt.plot(features, rcll_cv)\n",
    "plt.plot(features, rcll_lsa)\n",
    "plt.legend([\"CountVectorizer\",\"LSA\"])\n",
    "plt.ylabel(\"Recall\")\n",
    "plt.xlabel(\"Number of Features\")\n",
    "plt.show()"
   ]
  },
  {
   "cell_type": "code",
   "execution_count": null,
   "id": "492b3a9d",
   "metadata": {
    "papermill": {
     "duration": 0.026223,
     "end_time": "2024-07-30T16:48:41.975459",
     "exception": false,
     "start_time": "2024-07-30T16:48:41.949236",
     "status": "completed"
    },
    "tags": []
   },
   "outputs": [],
   "source": []
  }
 ],
 "metadata": {
  "kaggle": {
   "accelerator": "none",
   "dataSources": [
    {
     "datasetId": 5296337,
     "sourceId": 8806307,
     "sourceType": "datasetVersion"
    }
   ],
   "dockerImageVersionId": 30732,
   "isGpuEnabled": false,
   "isInternetEnabled": true,
   "language": "python",
   "sourceType": "notebook"
  },
  "kernelspec": {
   "display_name": "Python 3",
   "language": "python",
   "name": "python3"
  },
  "language_info": {
   "codemirror_mode": {
    "name": "ipython",
    "version": 3
   },
   "file_extension": ".py",
   "mimetype": "text/x-python",
   "name": "python",
   "nbconvert_exporter": "python",
   "pygments_lexer": "ipython3",
   "version": "3.10.13"
  },
  "papermill": {
   "default_parameters": {},
   "duration": 87.175729,
   "end_time": "2024-07-30T16:48:43.026564",
   "environment_variables": {},
   "exception": null,
   "input_path": "__notebook__.ipynb",
   "output_path": "__notebook__.ipynb",
   "parameters": {},
   "start_time": "2024-07-30T16:47:15.850835",
   "version": "2.5.0"
  }
 },
 "nbformat": 4,
 "nbformat_minor": 5
}
