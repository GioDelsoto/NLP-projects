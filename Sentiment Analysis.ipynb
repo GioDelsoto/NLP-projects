{
 "cells": [
  {
   "cell_type": "raw",
   "id": "56e9e8d8",
   "metadata": {
    "papermill": {
     "duration": 0.013988,
     "end_time": "2024-07-06T21:01:10.972066",
     "exception": false,
     "start_time": "2024-07-06T21:01:10.958078",
     "status": "completed"
    },
    "tags": []
   },
   "source": []
  },
  {
   "cell_type": "code",
   "execution_count": 1,
   "id": "1d7698bb",
   "metadata": {
    "_cell_guid": "b1076dfc-b9ad-4769-8c92-a6c4dae69d19",
    "_uuid": "8f2839f25d086af736a60e9eeb907d3b93b6e0e5",
    "execution": {
     "iopub.execute_input": "2024-07-06T21:01:10.999265Z",
     "iopub.status.busy": "2024-07-06T21:01:10.998828Z",
     "iopub.status.idle": "2024-07-06T21:01:16.070432Z",
     "shell.execute_reply": "2024-07-06T21:01:16.068911Z"
    },
    "papermill": {
     "duration": 5.088794,
     "end_time": "2024-07-06T21:01:16.073532",
     "exception": false,
     "start_time": "2024-07-06T21:01:10.984738",
     "status": "completed"
    },
    "tags": []
   },
   "outputs": [
    {
     "name": "stdout",
     "output_type": "stream",
     "text": [
      "[nltk_data] Downloading package stopwords to /usr/share/nltk_data...\n",
      "[nltk_data]   Package stopwords is already up-to-date!\n",
      "[nltk_data] Downloading package punkt to /usr/share/nltk_data...\n",
      "[nltk_data]   Package punkt is already up-to-date!\n",
      "[nltk_data] Downloading package wordnet to /kaggle/working/...\n",
      "Archive:  /kaggle/working/corpora/wordnet.zip\n",
      "   creating: /kaggle/working/corpora/wordnet/\n",
      "  inflating: /kaggle/working/corpora/wordnet/lexnames  \n",
      "  inflating: /kaggle/working/corpora/wordnet/data.verb  \n",
      "  inflating: /kaggle/working/corpora/wordnet/index.adv  \n",
      "  inflating: /kaggle/working/corpora/wordnet/adv.exc  \n",
      "  inflating: /kaggle/working/corpora/wordnet/index.verb  \n",
      "  inflating: /kaggle/working/corpora/wordnet/cntlist.rev  \n",
      "  inflating: /kaggle/working/corpora/wordnet/data.adj  \n",
      "  inflating: /kaggle/working/corpora/wordnet/index.adj  \n",
      "  inflating: /kaggle/working/corpora/wordnet/LICENSE  \n",
      "  inflating: /kaggle/working/corpora/wordnet/citation.bib  \n",
      "  inflating: /kaggle/working/corpora/wordnet/noun.exc  \n",
      "  inflating: /kaggle/working/corpora/wordnet/verb.exc  \n",
      "  inflating: /kaggle/working/corpora/wordnet/README  \n",
      "  inflating: /kaggle/working/corpora/wordnet/index.sense  \n",
      "  inflating: /kaggle/working/corpora/wordnet/data.noun  \n",
      "  inflating: /kaggle/working/corpora/wordnet/data.adv  \n",
      "  inflating: /kaggle/working/corpora/wordnet/index.noun  \n",
      "  inflating: /kaggle/working/corpora/wordnet/adj.exc  \n"
     ]
    }
   ],
   "source": [
    "import pandas as pd\n",
    "import numpy as np\n",
    "import seaborn as sns\n",
    "import matplotlib.pyplot as plt\n",
    "from scipy.sparse import csr_matrix\n",
    "#Data Manipulation\n",
    "\n",
    "from scipy.sparse import csr_matrix\n",
    "from collections import Counter\n",
    "\n",
    "from sklearn.model_selection import train_test_split\n",
    "import sklearn.metrics as metrics\n",
    "from sklearn.metrics import accuracy_score, precision_score, recall_score, f1_score, roc_auc_score\n",
    "\n",
    "from sklearn.linear_model import LogisticRegression\n",
    "from sklearn.feature_extraction.text import TfidfVectorizer, CountVectorizer\n",
    "\n",
    "import string\n",
    "\n",
    "import nltk\n",
    "from nltk import word_tokenize\n",
    "from nltk.stem import WordNetLemmatizer, PorterStemmer\n",
    "nltk.download('stopwords')\n",
    "\n",
    "# Now you can import the NLTK resources as usual\n",
    "from nltk.corpus import wordnet\n",
    "from nltk.corpus import stopwords\n",
    "\n",
    "nltk.download('punkt')\n",
    "\n",
    "import subprocess\n",
    "\n",
    "# Download and unzip wordnet\n",
    "try:\n",
    "    nltk.data.find('wordnet.zip')\n",
    "except:\n",
    "    nltk.download('wordnet', download_dir='/kaggle/working/')\n",
    "    command = \"unzip /kaggle/working/corpora/wordnet.zip -d /kaggle/working/corpora\"\n",
    "    subprocess.run(command.split())\n",
    "    nltk.data.path.append('/kaggle/working/')\n",
    "\n"
   ]
  },
  {
   "cell_type": "code",
   "execution_count": 2,
   "id": "1f5677ad",
   "metadata": {
    "execution": {
     "iopub.execute_input": "2024-07-06T21:01:16.102752Z",
     "iopub.status.busy": "2024-07-06T21:01:16.101541Z",
     "iopub.status.idle": "2024-07-06T21:01:16.290267Z",
     "shell.execute_reply": "2024-07-06T21:01:16.288634Z"
    },
    "papermill": {
     "duration": 0.206702,
     "end_time": "2024-07-06T21:01:16.293374",
     "exception": false,
     "start_time": "2024-07-06T21:01:16.086672",
     "status": "completed"
    },
    "tags": []
   },
   "outputs": [],
   "source": [
    "dir = '../input/airline-dataset/'\n",
    "\n",
    "df = pd.read_csv(dir+'AirlineTweets.csv')"
   ]
  },
  {
   "cell_type": "code",
   "execution_count": 3,
   "id": "c04b68b5",
   "metadata": {
    "execution": {
     "iopub.execute_input": "2024-07-06T21:01:16.321608Z",
     "iopub.status.busy": "2024-07-06T21:01:16.321183Z",
     "iopub.status.idle": "2024-07-06T21:01:16.375872Z",
     "shell.execute_reply": "2024-07-06T21:01:16.374294Z"
    },
    "papermill": {
     "duration": 0.072491,
     "end_time": "2024-07-06T21:01:16.378921",
     "exception": false,
     "start_time": "2024-07-06T21:01:16.306430",
     "status": "completed"
    },
    "tags": []
   },
   "outputs": [
    {
     "name": "stdout",
     "output_type": "stream",
     "text": [
      "<class 'pandas.core.frame.DataFrame'>\n",
      "RangeIndex: 14640 entries, 0 to 14639\n",
      "Data columns (total 15 columns):\n",
      " #   Column                        Non-Null Count  Dtype  \n",
      "---  ------                        --------------  -----  \n",
      " 0   tweet_id                      14640 non-null  int64  \n",
      " 1   airline_sentiment             14640 non-null  object \n",
      " 2   airline_sentiment_confidence  14640 non-null  float64\n",
      " 3   negativereason                9178 non-null   object \n",
      " 4   negativereason_confidence     10522 non-null  float64\n",
      " 5   airline                       14640 non-null  object \n",
      " 6   airline_sentiment_gold        40 non-null     object \n",
      " 7   name                          14640 non-null  object \n",
      " 8   negativereason_gold           32 non-null     object \n",
      " 9   retweet_count                 14640 non-null  int64  \n",
      " 10  text                          14640 non-null  object \n",
      " 11  tweet_coord                   1019 non-null   object \n",
      " 12  tweet_created                 14640 non-null  object \n",
      " 13  tweet_location                9907 non-null   object \n",
      " 14  user_timezone                 9820 non-null   object \n",
      "dtypes: float64(2), int64(2), object(11)\n",
      "memory usage: 1.7+ MB\n"
     ]
    }
   ],
   "source": [
    "df.info()"
   ]
  },
  {
   "cell_type": "code",
   "execution_count": 4,
   "id": "d66b1485",
   "metadata": {
    "execution": {
     "iopub.execute_input": "2024-07-06T21:01:16.408413Z",
     "iopub.status.busy": "2024-07-06T21:01:16.407976Z",
     "iopub.status.idle": "2024-07-06T21:01:16.438190Z",
     "shell.execute_reply": "2024-07-06T21:01:16.436528Z"
    },
    "papermill": {
     "duration": 0.048642,
     "end_time": "2024-07-06T21:01:16.441321",
     "exception": false,
     "start_time": "2024-07-06T21:01:16.392679",
     "status": "completed"
    },
    "tags": []
   },
   "outputs": [
    {
     "data": {
      "text/html": [
       "<div>\n",
       "<style scoped>\n",
       "    .dataframe tbody tr th:only-of-type {\n",
       "        vertical-align: middle;\n",
       "    }\n",
       "\n",
       "    .dataframe tbody tr th {\n",
       "        vertical-align: top;\n",
       "    }\n",
       "\n",
       "    .dataframe thead th {\n",
       "        text-align: right;\n",
       "    }\n",
       "</style>\n",
       "<table border=\"1\" class=\"dataframe\">\n",
       "  <thead>\n",
       "    <tr style=\"text-align: right;\">\n",
       "      <th></th>\n",
       "      <th>tweet_id</th>\n",
       "      <th>airline_sentiment</th>\n",
       "      <th>airline_sentiment_confidence</th>\n",
       "      <th>negativereason</th>\n",
       "      <th>negativereason_confidence</th>\n",
       "      <th>airline</th>\n",
       "      <th>airline_sentiment_gold</th>\n",
       "      <th>name</th>\n",
       "      <th>negativereason_gold</th>\n",
       "      <th>retweet_count</th>\n",
       "      <th>text</th>\n",
       "      <th>tweet_coord</th>\n",
       "      <th>tweet_created</th>\n",
       "      <th>tweet_location</th>\n",
       "      <th>user_timezone</th>\n",
       "    </tr>\n",
       "  </thead>\n",
       "  <tbody>\n",
       "    <tr>\n",
       "      <th>0</th>\n",
       "      <td>570306133677760513</td>\n",
       "      <td>neutral</td>\n",
       "      <td>1.0000</td>\n",
       "      <td>NaN</td>\n",
       "      <td>NaN</td>\n",
       "      <td>Virgin America</td>\n",
       "      <td>NaN</td>\n",
       "      <td>cairdin</td>\n",
       "      <td>NaN</td>\n",
       "      <td>0</td>\n",
       "      <td>@VirginAmerica What @dhepburn said.</td>\n",
       "      <td>NaN</td>\n",
       "      <td>2015-02-24 11:35:52 -0800</td>\n",
       "      <td>NaN</td>\n",
       "      <td>Eastern Time (US &amp; Canada)</td>\n",
       "    </tr>\n",
       "    <tr>\n",
       "      <th>1</th>\n",
       "      <td>570301130888122368</td>\n",
       "      <td>positive</td>\n",
       "      <td>0.3486</td>\n",
       "      <td>NaN</td>\n",
       "      <td>0.0000</td>\n",
       "      <td>Virgin America</td>\n",
       "      <td>NaN</td>\n",
       "      <td>jnardino</td>\n",
       "      <td>NaN</td>\n",
       "      <td>0</td>\n",
       "      <td>@VirginAmerica plus you've added commercials t...</td>\n",
       "      <td>NaN</td>\n",
       "      <td>2015-02-24 11:15:59 -0800</td>\n",
       "      <td>NaN</td>\n",
       "      <td>Pacific Time (US &amp; Canada)</td>\n",
       "    </tr>\n",
       "    <tr>\n",
       "      <th>2</th>\n",
       "      <td>570301083672813571</td>\n",
       "      <td>neutral</td>\n",
       "      <td>0.6837</td>\n",
       "      <td>NaN</td>\n",
       "      <td>NaN</td>\n",
       "      <td>Virgin America</td>\n",
       "      <td>NaN</td>\n",
       "      <td>yvonnalynn</td>\n",
       "      <td>NaN</td>\n",
       "      <td>0</td>\n",
       "      <td>@VirginAmerica I didn't today... Must mean I n...</td>\n",
       "      <td>NaN</td>\n",
       "      <td>2015-02-24 11:15:48 -0800</td>\n",
       "      <td>Lets Play</td>\n",
       "      <td>Central Time (US &amp; Canada)</td>\n",
       "    </tr>\n",
       "    <tr>\n",
       "      <th>3</th>\n",
       "      <td>570301031407624196</td>\n",
       "      <td>negative</td>\n",
       "      <td>1.0000</td>\n",
       "      <td>Bad Flight</td>\n",
       "      <td>0.7033</td>\n",
       "      <td>Virgin America</td>\n",
       "      <td>NaN</td>\n",
       "      <td>jnardino</td>\n",
       "      <td>NaN</td>\n",
       "      <td>0</td>\n",
       "      <td>@VirginAmerica it's really aggressive to blast...</td>\n",
       "      <td>NaN</td>\n",
       "      <td>2015-02-24 11:15:36 -0800</td>\n",
       "      <td>NaN</td>\n",
       "      <td>Pacific Time (US &amp; Canada)</td>\n",
       "    </tr>\n",
       "    <tr>\n",
       "      <th>4</th>\n",
       "      <td>570300817074462722</td>\n",
       "      <td>negative</td>\n",
       "      <td>1.0000</td>\n",
       "      <td>Can't Tell</td>\n",
       "      <td>1.0000</td>\n",
       "      <td>Virgin America</td>\n",
       "      <td>NaN</td>\n",
       "      <td>jnardino</td>\n",
       "      <td>NaN</td>\n",
       "      <td>0</td>\n",
       "      <td>@VirginAmerica and it's a really big bad thing...</td>\n",
       "      <td>NaN</td>\n",
       "      <td>2015-02-24 11:14:45 -0800</td>\n",
       "      <td>NaN</td>\n",
       "      <td>Pacific Time (US &amp; Canada)</td>\n",
       "    </tr>\n",
       "  </tbody>\n",
       "</table>\n",
       "</div>"
      ],
      "text/plain": [
       "             tweet_id airline_sentiment  airline_sentiment_confidence  \\\n",
       "0  570306133677760513           neutral                        1.0000   \n",
       "1  570301130888122368          positive                        0.3486   \n",
       "2  570301083672813571           neutral                        0.6837   \n",
       "3  570301031407624196          negative                        1.0000   \n",
       "4  570300817074462722          negative                        1.0000   \n",
       "\n",
       "  negativereason  negativereason_confidence         airline  \\\n",
       "0            NaN                        NaN  Virgin America   \n",
       "1            NaN                     0.0000  Virgin America   \n",
       "2            NaN                        NaN  Virgin America   \n",
       "3     Bad Flight                     0.7033  Virgin America   \n",
       "4     Can't Tell                     1.0000  Virgin America   \n",
       "\n",
       "  airline_sentiment_gold        name negativereason_gold  retweet_count  \\\n",
       "0                    NaN     cairdin                 NaN              0   \n",
       "1                    NaN    jnardino                 NaN              0   \n",
       "2                    NaN  yvonnalynn                 NaN              0   \n",
       "3                    NaN    jnardino                 NaN              0   \n",
       "4                    NaN    jnardino                 NaN              0   \n",
       "\n",
       "                                                text tweet_coord  \\\n",
       "0                @VirginAmerica What @dhepburn said.         NaN   \n",
       "1  @VirginAmerica plus you've added commercials t...         NaN   \n",
       "2  @VirginAmerica I didn't today... Must mean I n...         NaN   \n",
       "3  @VirginAmerica it's really aggressive to blast...         NaN   \n",
       "4  @VirginAmerica and it's a really big bad thing...         NaN   \n",
       "\n",
       "               tweet_created tweet_location               user_timezone  \n",
       "0  2015-02-24 11:35:52 -0800            NaN  Eastern Time (US & Canada)  \n",
       "1  2015-02-24 11:15:59 -0800            NaN  Pacific Time (US & Canada)  \n",
       "2  2015-02-24 11:15:48 -0800      Lets Play  Central Time (US & Canada)  \n",
       "3  2015-02-24 11:15:36 -0800            NaN  Pacific Time (US & Canada)  \n",
       "4  2015-02-24 11:14:45 -0800            NaN  Pacific Time (US & Canada)  "
      ]
     },
     "execution_count": 4,
     "metadata": {},
     "output_type": "execute_result"
    }
   ],
   "source": [
    "df.head()"
   ]
  },
  {
   "cell_type": "code",
   "execution_count": 5,
   "id": "ad661c80",
   "metadata": {
    "execution": {
     "iopub.execute_input": "2024-07-06T21:01:16.471899Z",
     "iopub.status.busy": "2024-07-06T21:01:16.471440Z",
     "iopub.status.idle": "2024-07-06T21:01:16.477621Z",
     "shell.execute_reply": "2024-07-06T21:01:16.476090Z"
    },
    "papermill": {
     "duration": 0.024218,
     "end_time": "2024-07-06T21:01:16.480501",
     "exception": false,
     "start_time": "2024-07-06T21:01:16.456283",
     "status": "completed"
    },
    "tags": []
   },
   "outputs": [],
   "source": [
    "X = df['text']\n",
    "y = df['airline_sentiment']"
   ]
  },
  {
   "cell_type": "code",
   "execution_count": 6,
   "id": "b817000e",
   "metadata": {
    "execution": {
     "iopub.execute_input": "2024-07-06T21:01:16.511239Z",
     "iopub.status.busy": "2024-07-06T21:01:16.510820Z",
     "iopub.status.idle": "2024-07-06T21:01:16.523728Z",
     "shell.execute_reply": "2024-07-06T21:01:16.522303Z"
    },
    "papermill": {
     "duration": 0.032696,
     "end_time": "2024-07-06T21:01:16.526740",
     "exception": false,
     "start_time": "2024-07-06T21:01:16.494044",
     "status": "completed"
    },
    "tags": []
   },
   "outputs": [
    {
     "data": {
      "text/plain": [
       "airline_sentiment\n",
       "negative    9178\n",
       "neutral     3099\n",
       "positive    2363\n",
       "Name: count, dtype: int64"
      ]
     },
     "execution_count": 6,
     "metadata": {},
     "output_type": "execute_result"
    }
   ],
   "source": [
    "y.value_counts()"
   ]
  },
  {
   "cell_type": "code",
   "execution_count": 7,
   "id": "936310fd",
   "metadata": {
    "execution": {
     "iopub.execute_input": "2024-07-06T21:01:16.558553Z",
     "iopub.status.busy": "2024-07-06T21:01:16.557539Z",
     "iopub.status.idle": "2024-07-06T21:01:16.617471Z",
     "shell.execute_reply": "2024-07-06T21:01:16.616229Z"
    },
    "papermill": {
     "duration": 0.079078,
     "end_time": "2024-07-06T21:01:16.620642",
     "exception": false,
     "start_time": "2024-07-06T21:01:16.541564",
     "status": "completed"
    },
    "tags": []
   },
   "outputs": [],
   "source": [
    "#Split the data\n",
    "X_tr, X_test, y_tr, y_test = train_test_split(X, y, test_size=0.15, random_state=42, stratify = y)\n",
    "X_train, X_val, y_train, y_val = train_test_split(X_tr, y_tr, test_size=0.18, random_state=42, stratify = y_tr)\n",
    "\n",
    "# Reset indexes\n",
    "X_train = X_train.reset_index(drop = True)\n",
    "X_val = X_val.reset_index(drop = True)\n",
    "y_train = y_train.reset_index(drop = True)\n",
    "y_val = y_val.reset_index(drop = True)\n",
    "X_tr = X_tr.reset_index(drop = True)\n",
    "X_test = X_test.reset_index(drop = True)\n",
    "y_tr = y_tr.reset_index(drop = True)\n",
    "y_test = y_test.reset_index(drop = True)"
   ]
  },
  {
   "cell_type": "code",
   "execution_count": 8,
   "id": "55f6faa7",
   "metadata": {
    "execution": {
     "iopub.execute_input": "2024-07-06T21:01:16.651241Z",
     "iopub.status.busy": "2024-07-06T21:01:16.650763Z",
     "iopub.status.idle": "2024-07-06T21:01:16.657278Z",
     "shell.execute_reply": "2024-07-06T21:01:16.656080Z"
    },
    "papermill": {
     "duration": 0.025529,
     "end_time": "2024-07-06T21:01:16.660529",
     "exception": false,
     "start_time": "2024-07-06T21:01:16.635000",
     "status": "completed"
    },
    "tags": []
   },
   "outputs": [
    {
     "name": "stdout",
     "output_type": "stream",
     "text": [
      "(10204,) (2240,) (2196,) (10204,) (2240,) (2196,)\n"
     ]
    }
   ],
   "source": [
    "print(X_train.shape, X_val.shape, X_test.shape, y_train.shape, y_val.shape, y_test.shape)"
   ]
  },
  {
   "cell_type": "markdown",
   "id": "0fa80ad7",
   "metadata": {
    "papermill": {
     "duration": 0.013627,
     "end_time": "2024-07-06T21:01:16.688225",
     "exception": false,
     "start_time": "2024-07-06T21:01:16.674598",
     "status": "completed"
    },
    "tags": []
   },
   "source": [
    "## First model: CountVectorizer"
   ]
  },
  {
   "cell_type": "code",
   "execution_count": 9,
   "id": "94304696",
   "metadata": {
    "execution": {
     "iopub.execute_input": "2024-07-06T21:01:16.718034Z",
     "iopub.status.busy": "2024-07-06T21:01:16.717590Z",
     "iopub.status.idle": "2024-07-06T21:01:22.489658Z",
     "shell.execute_reply": "2024-07-06T21:01:22.488097Z"
    },
    "papermill": {
     "duration": 5.791934,
     "end_time": "2024-07-06T21:01:22.494346",
     "exception": false,
     "start_time": "2024-07-06T21:01:16.702412",
     "status": "completed"
    },
    "tags": []
   },
   "outputs": [],
   "source": [
    "featurizer_cv = CountVectorizer(decode_error='ignore', lowercase = True)\n",
    "Xtrain = featurizer_cv.fit_transform(X_train)\n",
    "Xval = featurizer_cv.transform(X_val)\n",
    "\n",
    "clr = LogisticRegression(max_iter=500)\n",
    "clr.fit(Xtrain, y_train)\n",
    "\n",
    "y_predict = clr.predict(Xval)"
   ]
  },
  {
   "cell_type": "code",
   "execution_count": 10,
   "id": "3858e432",
   "metadata": {
    "execution": {
     "iopub.execute_input": "2024-07-06T21:01:22.609556Z",
     "iopub.status.busy": "2024-07-06T21:01:22.609178Z",
     "iopub.status.idle": "2024-07-06T21:01:22.698710Z",
     "shell.execute_reply": "2024-07-06T21:01:22.697349Z"
    },
    "papermill": {
     "duration": 0.139514,
     "end_time": "2024-07-06T21:01:22.701728",
     "exception": false,
     "start_time": "2024-07-06T21:01:22.562214",
     "status": "completed"
    },
    "tags": []
   },
   "outputs": [
    {
     "name": "stdout",
     "output_type": "stream",
     "text": [
      "Accuracy: 0.8044642857142857\n",
      "Classes: ['negative' 'neutral' 'positive']\n",
      "Precision: [0.86373021 0.63655031 0.79      ]\n",
      "Recall: [0.89387464 0.65400844 0.65469613]\n",
      "F1 Score: [0.87854393 0.64516129 0.71601208]\n"
     ]
    }
   ],
   "source": [
    "print(f'Accuracy: {accuracy_score(y_val, y_predict)}')\n",
    "print(f'Classes: {clr.classes_}')\n",
    "print(f'Precision: {precision_score(y_val, y_predict,average=None)}')\n",
    "print(f'Recall: {recall_score(y_val, y_predict,average=None)}')\n",
    "print(f'F1 Score: {f1_score(y_val, y_predict,average=None)}')"
   ]
  },
  {
   "cell_type": "markdown",
   "id": "d4b60370",
   "metadata": {
    "papermill": {
     "duration": 0.013511,
     "end_time": "2024-07-06T21:01:22.729059",
     "exception": false,
     "start_time": "2024-07-06T21:01:22.715548",
     "status": "completed"
    },
    "tags": []
   },
   "source": [
    "We did pretty well with the \"negative\" emotion, but not so great with the others. Lets try other types of featurizers to see if our performance increases."
   ]
  },
  {
   "cell_type": "code",
   "execution_count": 11,
   "id": "889dff6f",
   "metadata": {
    "execution": {
     "iopub.execute_input": "2024-07-06T21:01:22.759283Z",
     "iopub.status.busy": "2024-07-06T21:01:22.758760Z",
     "iopub.status.idle": "2024-07-06T21:01:26.565218Z",
     "shell.execute_reply": "2024-07-06T21:01:26.563577Z"
    },
    "papermill": {
     "duration": 3.827027,
     "end_time": "2024-07-06T21:01:26.569892",
     "exception": false,
     "start_time": "2024-07-06T21:01:22.742865",
     "status": "completed"
    },
    "tags": []
   },
   "outputs": [],
   "source": [
    "featurizer_cv2 = CountVectorizer(decode_error='ignore', lowercase = True, stop_words='english')\n",
    "Xtrain = featurizer_cv2.fit_transform(X_train)\n",
    "Xval = featurizer_cv2.transform(X_val)\n",
    "\n",
    "clr2 = LogisticRegression(max_iter=500)\n",
    "clr2.fit(Xtrain, y_train)\n",
    "\n",
    "y_predict = clr2.predict(Xval)"
   ]
  },
  {
   "cell_type": "code",
   "execution_count": 12,
   "id": "bf9906f4",
   "metadata": {
    "execution": {
     "iopub.execute_input": "2024-07-06T21:01:26.671034Z",
     "iopub.status.busy": "2024-07-06T21:01:26.670298Z",
     "iopub.status.idle": "2024-07-06T21:01:26.763570Z",
     "shell.execute_reply": "2024-07-06T21:01:26.762143Z"
    },
    "papermill": {
     "duration": 0.146903,
     "end_time": "2024-07-06T21:01:26.766338",
     "exception": false,
     "start_time": "2024-07-06T21:01:26.619435",
     "status": "completed"
    },
    "tags": []
   },
   "outputs": [
    {
     "name": "stdout",
     "output_type": "stream",
     "text": [
      "Accuracy: 0.7758928571428572\n",
      "Classes: ['negative' 'neutral' 'positive']\n",
      "Precision: [0.83975659 0.5941704  0.73333333]\n",
      "Recall: [0.88461538 0.55907173 0.63812155]\n",
      "F1 Score: [0.8616025  0.57608696 0.68242245]\n"
     ]
    }
   ],
   "source": [
    "print(f'Accuracy: {accuracy_score(y_val, y_predict)}')\n",
    "print(f'Classes: {clr.classes_}')\n",
    "print(f'Precision: {precision_score(y_val, y_predict,average=None)}')\n",
    "print(f'Recall: {recall_score(y_val, y_predict,average=None)}')\n",
    "print(f'F1 Score: {f1_score(y_val, y_predict,average=None)}')"
   ]
  },
  {
   "cell_type": "markdown",
   "id": "6a61c182",
   "metadata": {
    "papermill": {
     "duration": 0.014164,
     "end_time": "2024-07-06T21:01:26.794678",
     "exception": false,
     "start_time": "2024-07-06T21:01:26.780514",
     "status": "completed"
    },
    "tags": []
   },
   "source": [
    "Removing stop_words decreased our overall performance, so we will ignore this technique. Lets see what is the impact of lemmatizing the document"
   ]
  },
  {
   "cell_type": "code",
   "execution_count": 13,
   "id": "af1b5fb6",
   "metadata": {
    "execution": {
     "iopub.execute_input": "2024-07-06T21:01:26.824310Z",
     "iopub.status.busy": "2024-07-06T21:01:26.823908Z",
     "iopub.status.idle": "2024-07-06T21:01:57.163364Z",
     "shell.execute_reply": "2024-07-06T21:01:57.162078Z"
    },
    "papermill": {
     "duration": 30.357379,
     "end_time": "2024-07-06T21:01:57.166240",
     "exception": false,
     "start_time": "2024-07-06T21:01:26.808861",
     "status": "completed"
    },
    "tags": []
   },
   "outputs": [],
   "source": [
    "## Lemmatizing the input\n",
    "def get_wordnet_pos(tag):\n",
    "    if tag.startswith('J'):\n",
    "        return wordnet.ADJ\n",
    "    elif tag.startswith('V'):\n",
    "        return wordnet.VERB\n",
    "    elif tag.startswith('N'):\n",
    "        return wordnet.NOUN\n",
    "    elif tag.startswith('R'):\n",
    "        return wordnet.ADV\n",
    "    else:\n",
    "        return wordnet.NOUN\n",
    "\n",
    "# Função de lematização\n",
    "def lemmatize_text(text):\n",
    "    lemmatizer = WordNetLemmatizer()\n",
    "    words = nltk.word_tokenize(text)\n",
    "    pos_tags = nltk.pos_tag(words)\n",
    "    lemmatized_words = [lemmatizer.lemmatize(word, get_wordnet_pos(tag)) for word, tag in pos_tags]\n",
    "    return ' '.join(lemmatized_words)\n",
    "\n",
    "X_train_lemmatized = [lemmatize_text(text) for text in X_train]\n",
    "X_val_lemmatized = [lemmatize_text(text) for text in X_val]"
   ]
  },
  {
   "cell_type": "code",
   "execution_count": 14,
   "id": "296906ba",
   "metadata": {
    "execution": {
     "iopub.execute_input": "2024-07-06T21:01:57.195939Z",
     "iopub.status.busy": "2024-07-06T21:01:57.195495Z",
     "iopub.status.idle": "2024-07-06T21:02:02.959794Z",
     "shell.execute_reply": "2024-07-06T21:02:02.958021Z"
    },
    "papermill": {
     "duration": 5.784835,
     "end_time": "2024-07-06T21:02:02.965003",
     "exception": false,
     "start_time": "2024-07-06T21:01:57.180168",
     "status": "completed"
    },
    "tags": []
   },
   "outputs": [],
   "source": [
    "# Criação do CountVectorizer e transformação dos dados\n",
    "featurizer_cv3 = CountVectorizer(decode_error='ignore', lowercase=True)\n",
    "Xtrain = featurizer_cv3.fit_transform(X_train_lemmatized)\n",
    "Xval = featurizer_cv3.transform(X_val_lemmatized)\n",
    "\n",
    "clr3 = LogisticRegression(max_iter=500)\n",
    "clr3.fit(Xtrain, y_train)\n",
    "\n",
    "y_predict = clr3.predict(Xval)"
   ]
  },
  {
   "cell_type": "code",
   "execution_count": 15,
   "id": "98addc16",
   "metadata": {
    "execution": {
     "iopub.execute_input": "2024-07-06T21:02:03.070418Z",
     "iopub.status.busy": "2024-07-06T21:02:03.069566Z",
     "iopub.status.idle": "2024-07-06T21:02:03.161083Z",
     "shell.execute_reply": "2024-07-06T21:02:03.159770Z"
    },
    "papermill": {
     "duration": 0.132779,
     "end_time": "2024-07-06T21:02:03.163855",
     "exception": false,
     "start_time": "2024-07-06T21:02:03.031076",
     "status": "completed"
    },
    "tags": []
   },
   "outputs": [
    {
     "name": "stdout",
     "output_type": "stream",
     "text": [
      "Accuracy: 0.7977678571428571\n",
      "Classes: ['negative' 'neutral' 'positive']\n",
      "Precision: [0.85490463 0.63829787 0.76821192]\n",
      "Recall: [0.89387464 0.63291139 0.64088398]\n",
      "F1 Score: [0.87395543 0.63559322 0.69879518]\n"
     ]
    }
   ],
   "source": [
    "print(f'Accuracy: {accuracy_score(y_val, y_predict)}')\n",
    "print(f'Classes: {clr.classes_}')\n",
    "print(f'Precision: {precision_score(y_val, y_predict,average=None)}')\n",
    "print(f'Recall: {recall_score(y_val, y_predict,average=None)}')\n",
    "print(f'F1 Score: {f1_score(y_val, y_predict,average=None)}')"
   ]
  },
  {
   "cell_type": "markdown",
   "id": "d12df095",
   "metadata": {
    "papermill": {
     "duration": 0.013789,
     "end_time": "2024-07-06T21:02:03.192730",
     "exception": false,
     "start_time": "2024-07-06T21:02:03.178941",
     "status": "completed"
    },
    "tags": []
   },
   "source": [
    "We had a simmilar result from the first model. Let's try to use TF-IDF now and see if we can get a better result\n",
    "\n",
    "## Second Model: TfIdf Vectorizer"
   ]
  },
  {
   "cell_type": "code",
   "execution_count": 16,
   "id": "4ec67e52",
   "metadata": {
    "execution": {
     "iopub.execute_input": "2024-07-06T21:02:03.223455Z",
     "iopub.status.busy": "2024-07-06T21:02:03.223046Z",
     "iopub.status.idle": "2024-07-06T21:02:06.628123Z",
     "shell.execute_reply": "2024-07-06T21:02:06.626385Z"
    },
    "papermill": {
     "duration": 3.426038,
     "end_time": "2024-07-06T21:02:06.632982",
     "exception": false,
     "start_time": "2024-07-06T21:02:03.206944",
     "status": "completed"
    },
    "tags": []
   },
   "outputs": [],
   "source": [
    "featurizer_cv4 = TfidfVectorizer(decode_error='ignore')\n",
    "Xtrain = featurizer_cv4.fit_transform(X_train)\n",
    "Xval = featurizer_cv4.transform(X_val)\n",
    "\n",
    "clr4 = LogisticRegression(max_iter=500)\n",
    "clr4.fit(Xtrain, y_train)\n",
    "\n",
    "y_predict = clr4.predict(Xval)"
   ]
  },
  {
   "cell_type": "code",
   "execution_count": 17,
   "id": "dbbee941",
   "metadata": {
    "execution": {
     "iopub.execute_input": "2024-07-06T21:02:06.731262Z",
     "iopub.status.busy": "2024-07-06T21:02:06.730525Z",
     "iopub.status.idle": "2024-07-06T21:02:06.825853Z",
     "shell.execute_reply": "2024-07-06T21:02:06.824391Z"
    },
    "papermill": {
     "duration": 0.147758,
     "end_time": "2024-07-06T21:02:06.828549",
     "exception": false,
     "start_time": "2024-07-06T21:02:06.680791",
     "status": "completed"
    },
    "tags": []
   },
   "outputs": [
    {
     "name": "stdout",
     "output_type": "stream",
     "text": [
      "Accuracy: 0.803125\n",
      "Classes: ['negative' 'neutral' 'positive']\n",
      "Precision: [0.81902409 0.71117166 0.83464567]\n",
      "Recall: [0.94444444 0.55063291 0.58563536]\n",
      "F1 Score: [0.87727423 0.62068966 0.68831169]\n"
     ]
    }
   ],
   "source": [
    "print(f'Accuracy: {accuracy_score(y_val, y_predict)}')\n",
    "print(f'Classes: {clr.classes_}')\n",
    "print(f'Precision: {precision_score(y_val, y_predict,average=None)}')\n",
    "print(f'Recall: {recall_score(y_val, y_predict,average=None)}')\n",
    "print(f'F1 Score: {f1_score(y_val, y_predict,average=None)}')"
   ]
  },
  {
   "cell_type": "code",
   "execution_count": 18,
   "id": "013ce660",
   "metadata": {
    "execution": {
     "iopub.execute_input": "2024-07-06T21:02:06.858586Z",
     "iopub.status.busy": "2024-07-06T21:02:06.858169Z",
     "iopub.status.idle": "2024-07-06T21:02:09.690096Z",
     "shell.execute_reply": "2024-07-06T21:02:09.688450Z"
    },
    "papermill": {
     "duration": 2.852082,
     "end_time": "2024-07-06T21:02:09.694797",
     "exception": false,
     "start_time": "2024-07-06T21:02:06.842715",
     "status": "completed"
    },
    "tags": []
   },
   "outputs": [],
   "source": [
    "featurizer_cv5 = TfidfVectorizer(decode_error='ignore')\n",
    "Xtrain = featurizer_cv5.fit_transform(X_train_lemmatized)\n",
    "Xval = featurizer_cv5.transform(X_val_lemmatized)\n",
    "\n",
    "clr5 = LogisticRegression(max_iter=500)\n",
    "clr5.fit(Xtrain, y_train)\n",
    "\n",
    "y_predict = clr5.predict(Xval)"
   ]
  },
  {
   "cell_type": "code",
   "execution_count": 19,
   "id": "32456125",
   "metadata": {
    "execution": {
     "iopub.execute_input": "2024-07-06T21:02:09.800020Z",
     "iopub.status.busy": "2024-07-06T21:02:09.798993Z",
     "iopub.status.idle": "2024-07-06T21:02:09.890718Z",
     "shell.execute_reply": "2024-07-06T21:02:09.888854Z"
    },
    "papermill": {
     "duration": 0.129804,
     "end_time": "2024-07-06T21:02:09.893608",
     "exception": false,
     "start_time": "2024-07-06T21:02:09.763804",
     "status": "completed"
    },
    "tags": []
   },
   "outputs": [
    {
     "name": "stdout",
     "output_type": "stream",
     "text": [
      "Accuracy: 0.8040178571428571\n",
      "Classes: ['negative' 'neutral' 'positive']\n",
      "Precision: [0.82327318 0.70157068 0.83665339]\n",
      "Recall: [0.94230769 0.56540084 0.5801105 ]\n",
      "F1 Score: [0.87877781 0.62616822 0.68515498]\n"
     ]
    }
   ],
   "source": [
    "print(f'Accuracy: {accuracy_score(y_val, y_predict)}')\n",
    "print(f'Classes: {clr.classes_}')\n",
    "print(f'Precision: {precision_score(y_val, y_predict,average=None)}')\n",
    "print(f'Recall: {recall_score(y_val, y_predict,average=None)}')\n",
    "print(f'F1 Score: {f1_score(y_val, y_predict,average=None)}')"
   ]
  },
  {
   "cell_type": "markdown",
   "id": "a5ab29b8",
   "metadata": {
    "papermill": {
     "duration": 0.013648,
     "end_time": "2024-07-06T21:02:09.921510",
     "exception": false,
     "start_time": "2024-07-06T21:02:09.907862",
     "status": "completed"
    },
    "tags": []
   },
   "source": [
    "# Conclusions\n",
    "\n",
    "- There is no clear improvement using stop-words, lemmatizing or stop-words in this case\n",
    "- The simple count method shown a better results than Tdifdvectorizer"
   ]
  },
  {
   "cell_type": "markdown",
   "id": "f2026f5e",
   "metadata": {
    "papermill": {
     "duration": 0.013749,
     "end_time": "2024-07-06T21:02:09.950249",
     "exception": false,
     "start_time": "2024-07-06T21:02:09.936500",
     "status": "completed"
    },
    "tags": []
   },
   "source": [
    "## Test sample evaluation"
   ]
  },
  {
   "cell_type": "code",
   "execution_count": 20,
   "id": "c3128115",
   "metadata": {
    "execution": {
     "iopub.execute_input": "2024-07-06T21:02:09.980263Z",
     "iopub.status.busy": "2024-07-06T21:02:09.979821Z",
     "iopub.status.idle": "2024-07-06T21:02:14.956279Z",
     "shell.execute_reply": "2024-07-06T21:02:14.954774Z"
    },
    "papermill": {
     "duration": 4.997607,
     "end_time": "2024-07-06T21:02:14.962042",
     "exception": false,
     "start_time": "2024-07-06T21:02:09.964435",
     "status": "completed"
    },
    "tags": []
   },
   "outputs": [],
   "source": [
    "featurizer_final = CountVectorizer(decode_error='ignore', lowercase = True)\n",
    "\n",
    "Xtrain = featurizer_final.fit_transform(X_tr)\n",
    "Xtest = featurizer_final.transform(X_test)\n",
    "\n",
    "clr_final = LogisticRegression(max_iter=500)\n",
    "clr_final.fit(Xtrain, y_tr)\n",
    "\n",
    "y_predict = clr_final.predict(Xtest)"
   ]
  },
  {
   "cell_type": "code",
   "execution_count": 21,
   "id": "0b97ae4d",
   "metadata": {
    "execution": {
     "iopub.execute_input": "2024-07-06T21:02:15.025639Z",
     "iopub.status.busy": "2024-07-06T21:02:15.025029Z",
     "iopub.status.idle": "2024-07-06T21:02:15.134869Z",
     "shell.execute_reply": "2024-07-06T21:02:15.133389Z"
    },
    "papermill": {
     "duration": 0.143977,
     "end_time": "2024-07-06T21:02:15.137581",
     "exception": false,
     "start_time": "2024-07-06T21:02:14.993604",
     "status": "completed"
    },
    "tags": []
   },
   "outputs": [
    {
     "name": "stdout",
     "output_type": "stream",
     "text": [
      "Accuracy: 0.8000910746812386\n",
      "Classes: ['negative' 'neutral' 'positive']\n",
      "Precision: [0.86284115 0.6349892  0.75657895]\n",
      "Recall: [0.89542484 0.63225806 0.64971751]\n",
      "F1 Score: [0.87883108 0.63362069 0.69908815]\n"
     ]
    }
   ],
   "source": [
    "print(f'Accuracy: {accuracy_score(y_test, y_predict)}')\n",
    "print(f'Classes: {clr_final.classes_}')\n",
    "print(f'Precision: {precision_score(y_test, y_predict,average=None)}')\n",
    "print(f'Recall: {recall_score(y_test, y_predict,average=None)}')\n",
    "print(f'F1 Score: {f1_score(y_test, y_predict,average=None)}')"
   ]
  },
  {
   "cell_type": "code",
   "execution_count": 22,
   "id": "f90657a2",
   "metadata": {
    "execution": {
     "iopub.execute_input": "2024-07-06T21:02:15.169704Z",
     "iopub.status.busy": "2024-07-06T21:02:15.169239Z",
     "iopub.status.idle": "2024-07-06T21:02:15.574640Z",
     "shell.execute_reply": "2024-07-06T21:02:15.573270Z"
    },
    "papermill": {
     "duration": 0.424903,
     "end_time": "2024-07-06T21:02:15.577548",
     "exception": false,
     "start_time": "2024-07-06T21:02:15.152645",
     "status": "completed"
    },
    "tags": []
   },
   "outputs": [
    {
     "data": {
      "text/plain": [
       "<sklearn.metrics._plot.confusion_matrix.ConfusionMatrixDisplay at 0x7ca19453e620>"
      ]
     },
     "execution_count": 22,
     "metadata": {},
     "output_type": "execute_result"
    },
    {
     "data": {
      "image/png": "[encoded data removed]",
      "text/plain": [
       "<Figure size 640x480 with 2 Axes>"
      ]
     },
     "metadata": {},
     "output_type": "display_data"
    }
   ],
   "source": [
    "#Lets create a confusion matrix\n",
    "\n",
    "# Calculate the values for each quadrant in the confusion matrix\n",
    "cm = metrics.confusion_matrix(y_test, y_predict)\n",
    "\n",
    "# Create the confusion matrix as a visualization\n",
    "disp = metrics.ConfusionMatrixDisplay(confusion_matrix = cm, display_labels = clr_final.classes_)\n",
    "\n",
    "# Display the confusion matrix\n",
    "disp.plot()"
   ]
  },
  {
   "cell_type": "markdown",
   "id": "27744c1b",
   "metadata": {
    "papermill": {
     "duration": 0.014698,
     "end_time": "2024-07-06T21:02:15.607823",
     "exception": false,
     "start_time": "2024-07-06T21:02:15.593125",
     "status": "completed"
    },
    "tags": []
   },
   "source": [
    "\n"
   ]
  },
  {
   "cell_type": "markdown",
   "id": "4467b3b8",
   "metadata": {
    "execution": {
     "iopub.execute_input": "2024-07-01T16:28:39.009146Z",
     "iopub.status.busy": "2024-07-01T16:28:39.008745Z",
     "iopub.status.idle": "2024-07-01T16:28:39.016266Z",
     "shell.execute_reply": "2024-07-01T16:28:39.015022Z",
     "shell.execute_reply.started": "2024-07-01T16:28:39.009113Z"
    },
    "papermill": {
     "duration": 0.014566,
     "end_time": "2024-07-06T21:02:15.637335",
     "exception": false,
     "start_time": "2024-07-06T21:02:15.622769",
     "status": "completed"
    },
    "tags": []
   },
   "source": [
    "## Highlights\n",
    "1. The model had a pretty decent accuracy for the negative tweets.\n",
    "2. The model had difficulties finding all neutral (and labbeling some of them as negative).\n",
    "3. The model had difficulties finding all positive (and labbeling some of them as negative).\n",
    "4. Our model seens to have some bias to think that the tweet is has a negative sentiment."
   ]
  },
  {
   "cell_type": "code",
   "execution_count": 23,
   "id": "3e8c2285",
   "metadata": {
    "execution": {
     "iopub.execute_input": "2024-07-06T21:02:15.668998Z",
     "iopub.status.busy": "2024-07-06T21:02:15.668560Z",
     "iopub.status.idle": "2024-07-06T21:02:17.033310Z",
     "shell.execute_reply": "2024-07-06T21:02:17.031269Z"
    },
    "papermill": {
     "duration": 1.385507,
     "end_time": "2024-07-06T21:02:17.037828",
     "exception": false,
     "start_time": "2024-07-06T21:02:15.652321",
     "status": "completed"
    },
    "tags": []
   },
   "outputs": [],
   "source": [
    "#Lets train the data dropping the neutral tweets\n",
    "featurizer_final = CountVectorizer(decode_error='ignore', lowercase = True)\n",
    "\n",
    "Xtrain = featurizer_final.fit_transform(X_tr[y_tr!='neutral'])\n",
    "Xtest = featurizer_final.transform(X_test[y_test!='neutral'])\n",
    "\n",
    "clr_final = LogisticRegression(max_iter=500)\n",
    "clr_final.fit(Xtrain, y_tr[y_tr!='neutral'])\n",
    "\n",
    "y_predict = clr_final.predict(Xtest)"
   ]
  },
  {
   "cell_type": "code",
   "execution_count": 24,
   "id": "9e727042",
   "metadata": {
    "execution": {
     "iopub.execute_input": "2024-07-06T21:02:17.152733Z",
     "iopub.status.busy": "2024-07-06T21:02:17.152286Z",
     "iopub.status.idle": "2024-07-06T21:02:17.245214Z",
     "shell.execute_reply": "2024-07-06T21:02:17.243654Z"
    },
    "papermill": {
     "duration": 0.133958,
     "end_time": "2024-07-06T21:02:17.248293",
     "exception": false,
     "start_time": "2024-07-06T21:02:17.114335",
     "status": "completed"
    },
    "tags": []
   },
   "outputs": [
    {
     "name": "stdout",
     "output_type": "stream",
     "text": [
      "Accuracy: 0.9260543038705951\n",
      "Precision: [0.93824561 0.86928105]\n",
      "Recall: [0.97095134 0.75141243]\n",
      "F1 Score: [0.95431834 0.80606061]\n"
     ]
    }
   ],
   "source": [
    "print(f'Accuracy: {accuracy_score(y_test[y_test!=\"neutral\"], y_predict)}')\n",
    "print(f'Precision: {precision_score(y_test[y_test!=\"neutral\"], y_predict,average=None)}')\n",
    "print(f'Recall: {recall_score(y_test[y_test!=\"neutral\"], y_predict,average=None)}')\n",
    "print(f'F1 Score: {f1_score(y_test[y_test!=\"neutral\"], y_predict,average=None)}')"
   ]
  },
  {
   "cell_type": "code",
   "execution_count": 25,
   "id": "4ebccaa5",
   "metadata": {
    "execution": {
     "iopub.execute_input": "2024-07-06T21:02:17.281921Z",
     "iopub.status.busy": "2024-07-06T21:02:17.281365Z",
     "iopub.status.idle": "2024-07-06T21:02:17.629387Z",
     "shell.execute_reply": "2024-07-06T21:02:17.628071Z"
    },
    "papermill": {
     "duration": 0.368751,
     "end_time": "2024-07-06T21:02:17.632347",
     "exception": false,
     "start_time": "2024-07-06T21:02:17.263596",
     "status": "completed"
    },
    "tags": []
   },
   "outputs": [
    {
     "data": {
      "text/plain": [
       "<sklearn.metrics._plot.confusion_matrix.ConfusionMatrixDisplay at 0x7ca18ccb3310>"
      ]
     },
     "execution_count": 25,
     "metadata": {},
     "output_type": "execute_result"
    },
    {
     "data": {
      "image/png": "[encoded data removed]",
      "text/plain": [
       "<Figure size 640x480 with 2 Axes>"
      ]
     },
     "metadata": {},
     "output_type": "display_data"
    }
   ],
   "source": [
    "#Lets create a confusion matrix\n",
    "\n",
    "# Calculate the values for each quadrant in the confusion matrix\n",
    "cm = metrics.confusion_matrix(y_test[y_test!=\"neutral\"], y_predict)\n",
    "\n",
    "# Create the confusion matrix as a visualization\n",
    "disp = metrics.ConfusionMatrixDisplay(confusion_matrix = cm, display_labels = clr_final.classes_)\n",
    "\n",
    "# Display the confusion matrix\n",
    "disp.plot()"
   ]
  },
  {
   "cell_type": "markdown",
   "id": "ed083349",
   "metadata": {
    "papermill": {
     "duration": 0.015415,
     "end_time": "2024-07-06T21:02:17.664064",
     "exception": false,
     "start_time": "2024-07-06T21:02:17.648649",
     "status": "completed"
    },
    "tags": []
   },
   "source": [
    "Our model performed better after dropping the neutral tweets. Maybe, neutral tweets inserts more noise to the data than context. "
   ]
  },
  {
   "cell_type": "markdown",
   "id": "f041fd02",
   "metadata": {
    "papermill": {
     "duration": 0.015397,
     "end_time": "2024-07-06T21:02:17.695797",
     "exception": false,
     "start_time": "2024-07-06T21:02:17.680400",
     "status": "completed"
    },
    "tags": []
   },
   "source": [
    "## Lets check the value of the coefficients"
   ]
  },
  {
   "cell_type": "code",
   "execution_count": 26,
   "id": "a33c42cb",
   "metadata": {
    "execution": {
     "iopub.execute_input": "2024-07-06T21:02:17.731045Z",
     "iopub.status.busy": "2024-07-06T21:02:17.730577Z",
     "iopub.status.idle": "2024-07-06T21:02:17.738287Z",
     "shell.execute_reply": "2024-07-06T21:02:17.736805Z"
    },
    "papermill": {
     "duration": 0.028241,
     "end_time": "2024-07-06T21:02:17.741172",
     "exception": false,
     "start_time": "2024-07-06T21:02:17.712931",
     "status": "completed"
    },
    "tags": []
   },
   "outputs": [
    {
     "name": "stdout",
     "output_type": "stream",
     "text": [
      "united 10707\n",
      "my 7086\n",
      "son 9471\n",
      "left 6328\n",
      "his 5386\n",
      "tablet 9935\n",
      "on 7497\n",
      "plane 7930\n",
      "am 1590\n"
     ]
    }
   ],
   "source": [
    "word2idx = featurizer_final.vocabulary_\n",
    "\n",
    "count = 0\n",
    "for item, value in word2idx.items():\n",
    "    print(item, value)\n",
    "    count+=1\n",
    "    if count>8:\n",
    "        break"
   ]
  },
  {
   "cell_type": "code",
   "execution_count": 27,
   "id": "9136742f",
   "metadata": {
    "execution": {
     "iopub.execute_input": "2024-07-06T21:02:17.774846Z",
     "iopub.status.busy": "2024-07-06T21:02:17.774425Z",
     "iopub.status.idle": "2024-07-06T21:02:19.441811Z",
     "shell.execute_reply": "2024-07-06T21:02:19.440393Z"
    },
    "papermill": {
     "duration": 1.687408,
     "end_time": "2024-07-06T21:02:19.444510",
     "exception": false,
     "start_time": "2024-07-06T21:02:17.757102",
     "status": "completed"
    },
    "tags": []
   },
   "outputs": [
    {
     "name": "stderr",
     "output_type": "stream",
     "text": [
      "/opt/conda/lib/python3.10/site-packages/seaborn/_oldcore.py:1119: FutureWarning: use_inf_as_na option is deprecated and will be removed in a future version. Convert inf values to NaN before operating instead.\n",
      "  with pd.option_context('mode.use_inf_as_na', True):\n"
     ]
    },
    {
     "data": {
      "text/plain": [
       "<Axes: ylabel='Count'>"
      ]
     },
     "execution_count": 27,
     "metadata": {},
     "output_type": "execute_result"
    },
    {
     "data": {
      "image/png": "[encoded data removed]",
      "text/plain": [
       "<Figure size 640x480 with 1 Axes>"
      ]
     },
     "metadata": {},
     "output_type": "display_data"
    }
   ],
   "source": [
    "coef = clr_final.coef_\n",
    "\n",
    "sns.histplot(coef[0])"
   ]
  },
  {
   "cell_type": "markdown",
   "id": "102f7e7a",
   "metadata": {
    "papermill": {
     "duration": 0.017146,
     "end_time": "2024-07-06T21:02:19.478081",
     "exception": false,
     "start_time": "2024-07-06T21:02:19.460935",
     "status": "completed"
    },
    "tags": []
   },
   "source": [
    "The great majority of values are centered mean zero, with more neggative values than positives. Lets see which words are associated with the greatest values of coefficients."
   ]
  },
  {
   "cell_type": "code",
   "execution_count": 28,
   "id": "e62f3743",
   "metadata": {
    "execution": {
     "iopub.execute_input": "2024-07-06T21:02:19.582044Z",
     "iopub.status.busy": "2024-07-06T21:02:19.581572Z",
     "iopub.status.idle": "2024-07-06T21:02:19.603328Z",
     "shell.execute_reply": "2024-07-06T21:02:19.601676Z"
    },
    "papermill": {
     "duration": 0.045024,
     "end_time": "2024-07-06T21:02:19.606758",
     "exception": false,
     "start_time": "2024-07-06T21:02:19.561734",
     "status": "completed"
    },
    "tags": []
   },
   "outputs": [
    {
     "name": "stdout",
     "output_type": "stream",
     "text": [
      "Positive Words\n",
      "thank 3.7045916138533537\n",
      "definitely 1.4807880983330126\n",
      "favorite 1.2234327277469268\n",
      "thanks 2.8499029465803227\n",
      "good 1.515823902295053\n",
      "lovely 1.0470684258928968\n",
      "great 2.6080215999486747\n",
      "rock 1.412908167465153\n",
      "thx 1.9029974370806424\n",
      "follow 1.0476302592176283\n",
      "made 1.1439972526454432\n",
      "best 2.0106749300402385\n",
      "excellent 2.2156267327287567\n",
      "virginamerica 1.048989535198379\n",
      "deserves 1.2133318906352013\n",
      "worries 2.836013260514329\n",
      "exceptional 1.381817189355088\n",
      "wonderful 2.1356618536893595\n",
      "awesome 2.5855500202281507\n",
      "warm 1.1131689120613264\n",
      "excited 1.4774403356537016\n",
      "pleasure 1.3536937391544155\n",
      "love 2.487718167436153\n",
      "cool 1.7154404379103128\n",
      "nice 1.0795438245511477\n",
      "wish 1.1666348467185512\n",
      "refunded 1.191981898696736\n",
      "appreciate 2.0401740035208373\n",
      "thankful 1.8103724757109345\n",
      "happy 1.2663471624874827\n",
      "few 1.2536748913820586\n",
      "exactly 1.0285602771135858\n",
      "onboard 1.0697378331861676\n",
      "type 1.6121869300068548\n",
      "cancun 1.0472275423237414\n",
      "visit 1.151739703609711\n",
      "amazing 2.395348846103051\n",
      "appreciated 1.0111595733167267\n",
      "impressed 1.9465898831755715\n",
      "thnx 1.3360731774901038\n",
      "handled 1.076793991255527\n",
      "win 1.0392186519846014\n",
      "perfect 1.2656700411205026\n",
      "welcome 1.1753536702174745\n",
      "huge 1.0649943224301153\n",
      "enjoy 1.3167618041728295\n",
      "comfortable 1.0663857805784989\n",
      "nc 1.5107534915098264\n",
      "props 1.0273800974370306\n",
      "charleston 1.0499812254257368\n",
      "loved 1.3790336174161637\n",
      "hot 1.0014352227461838\n",
      "kudos 2.198022103213789\n",
      "worked 1.1069857563138024\n",
      "compliment 1.0388304929860512\n"
     ]
    }
   ],
   "source": [
    "threshold = 1\n",
    "\n",
    "print(\"Positive Words\")\n",
    "for word, index in word2idx.items():\n",
    "    weight = coef[0][index]\n",
    "    if weight > threshold:\n",
    "        print(word, weight)"
   ]
  },
  {
   "cell_type": "code",
   "execution_count": 29,
   "id": "004cefa8",
   "metadata": {
    "execution": {
     "iopub.execute_input": "2024-07-06T21:02:19.644130Z",
     "iopub.status.busy": "2024-07-06T21:02:19.643667Z",
     "iopub.status.idle": "2024-07-06T21:02:19.664651Z",
     "shell.execute_reply": "2024-07-06T21:02:19.663224Z"
    },
    "papermill": {
     "duration": 0.043172,
     "end_time": "2024-07-06T21:02:19.668131",
     "exception": false,
     "start_time": "2024-07-06T21:02:19.624959",
     "status": "completed"
    },
    "tags": []
   },
   "outputs": [
    {
     "name": "stdout",
     "output_type": "stream",
     "text": [
      "Negative Words\n",
      "not -1.5273128487112726\n",
      "cancelled -1.1841661185328423\n",
      "delayed -1.8831280107613881\n",
      "why -1.234701169795087\n",
      "passengers -1.1929979731416183\n",
      "hours -1.7204295685330955\n",
      "hold -1.736474150237618\n",
      "days -1.1405240449263319\n",
      "no -1.4534964022120958\n",
      "asap -1.169433749971158\n",
      "account -1.03987944004185\n",
      "doesn -1.4285072759883974\n",
      "lost -1.1074549172292425\n",
      "terrible -1.4511683975872276\n",
      "website -1.382883288504938\n",
      "hour -1.3843661926065236\n",
      "being -1.1018710072980054\n",
      "told -1.2515464752656094\n",
      "disappointed -1.496942469762343\n",
      "hrs -1.358225463326588\n",
      "ruining -1.33137971230468\n",
      "someone -1.1800294541945435\n",
      "sucks -1.1760800303199574\n",
      "solution -1.3074878142817319\n",
      "luggage -1.0857266079859733\n",
      "full -1.1976037322192532\n",
      "stuck -1.254439713125558\n",
      "paid -1.7279906647757401\n",
      "delay -1.425847787690872\n",
      "because -1.081353238808668\n",
      "pay -1.1393696425520723\n",
      "nothing -2.2991227678210215\n",
      "stranded -1.2103507489803873\n",
      "broken -1.3532798503817525\n",
      "worst -2.6122323230233193\n",
      "system -1.2922028673666077\n",
      "delays -1.2027890959741734\n",
      "link -1.244660975019884\n",
      "reservations -1.2635536474533626\n",
      "rude -1.9099414528889362\n",
      "leave -1.059095173171995\n",
      "unfortunately -1.3478618911301103\n",
      "business -1.250912504659979\n",
      "leaving -1.1567026684691766\n",
      "until -1.1426543760437093\n",
      "site -1.035151822377213\n",
      "reaching -1.0561372981259798\n",
      "screwed -1.0331101819276425\n",
      "money -1.3520957564939646\n",
      "poor -1.0349215910556444\n",
      "needs -1.1501189561006293\n",
      "sat -1.1149811722980671\n",
      "assistance -1.0917059892243224\n",
      "weren -1.0815829447413459\n",
      "third -1.0916298499634607\n",
      "dissatisfied -1.073392466065076\n",
      "wasting -1.110917576382856\n"
     ]
    }
   ],
   "source": [
    "print(\"Negative Words\")\n",
    "for word, index in word2idx.items():\n",
    "\n",
    "    weight = coef[0][index]\n",
    "    \n",
    "    if weight < -threshold:\n",
    "        print(word, weight)"
   ]
  },
  {
   "cell_type": "code",
   "execution_count": null,
   "id": "5097e120",
   "metadata": {
    "papermill": {
     "duration": 0.017594,
     "end_time": "2024-07-06T21:02:19.702646",
     "exception": false,
     "start_time": "2024-07-06T21:02:19.685052",
     "status": "completed"
    },
    "tags": []
   },
   "outputs": [],
   "source": []
  }
 ],
 "metadata": {
  "kaggle": {
   "accelerator": "none",
   "dataSources": [
    {
     "datasetId": 5314510,
     "sourceId": 8832215,
     "sourceType": "datasetVersion"
    }
   ],
   "dockerImageVersionId": 30732,
   "isGpuEnabled": false,
   "isInternetEnabled": true,
   "language": "python",
   "sourceType": "notebook"
  },
  "kernelspec": {
   "display_name": "Python 3",
   "language": "python",
   "name": "python3"
  },
  "language_info": {
   "codemirror_mode": {
    "name": "ipython",
    "version": 3
   },
   "file_extension": ".py",
   "mimetype": "text/x-python",
   "name": "python",
   "nbconvert_exporter": "python",
   "pygments_lexer": "ipython3",
   "version": "3.10.13"
  },
  "papermill": {
   "default_parameters": {},
   "duration": 73.834499,
   "end_time": "2024-07-06T21:02:20.844877",
   "environment_variables": {},
   "exception": null,
   "input_path": "__notebook__.ipynb",
   "output_path": "__notebook__.ipynb",
   "parameters": {},
   "start_time": "2024-07-06T21:01:07.010378",
   "version": "2.5.0"
  }
 },
 "nbformat": 4,
 "nbformat_minor": 5
}
