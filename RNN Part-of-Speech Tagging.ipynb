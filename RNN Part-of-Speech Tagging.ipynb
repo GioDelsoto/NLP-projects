{
 "cells": [
  {
   "cell_type": "code",
   "execution_count": 1,
   "id": "10d910dd",
   "metadata": {
    "_cell_guid": "b1076dfc-b9ad-4769-8c92-a6c4dae69d19",
    "_uuid": "8f2839f25d086af736a60e9eeb907d3b93b6e0e5",
    "execution": {
     "iopub.execute_input": "2024-08-28T17:55:49.185671Z",
     "iopub.status.busy": "2024-08-28T17:55:49.185194Z",
     "iopub.status.idle": "2024-08-28T17:55:49.566439Z",
     "shell.execute_reply": "2024-08-28T17:55:49.565539Z"
    },
    "papermill": {
     "duration": 0.397331,
     "end_time": "2024-08-28T17:55:49.568961",
     "exception": false,
     "start_time": "2024-08-28T17:55:49.171630",
     "status": "completed"
    },
    "tags": []
   },
   "outputs": [],
   "source": [
    "# This Python 3 environment comes with many helpful analytics libraries installed\n",
    "# It is defined by the kaggle/python Docker image: https://github.com/kaggle/docker-python\n",
    "# For example, here's several helpful packages to load\n",
    "\n",
    "import numpy as np # linear algebra\n",
    "import pandas as pd # data processing, CSV file I/O (e.g. pd.read_csv)\n",
    "\n",
    "# Input data files are available in the read-only \"../input/\" directory\n",
    "# For example, running this (by clicking run or pressing Shift+Enter) will list all files under the input directory\n",
    "\n",
    "import os\n",
    "for dirname, _, filenames in os.walk('/kaggle/input'):\n",
    "    for filename in filenames:\n",
    "        print(os.path.join(dirname, filename))\n",
    "\n",
    "# You can write up to 20GB to the current directory (/kaggle/working/) that gets preserved as output when you create a version using \"Save & Run All\" \n",
    "# You can also write temporary files to /kaggle/temp/, but they won't be saved outside of the current session"
   ]
  },
  {
   "cell_type": "markdown",
   "id": "73666b90",
   "metadata": {
    "papermill": {
     "duration": 0.010632,
     "end_time": "2024-08-28T17:55:49.590854",
     "exception": false,
     "start_time": "2024-08-28T17:55:49.580222",
     "status": "completed"
    },
    "tags": []
   },
   "source": [
    "## Data preparation"
   ]
  },
  {
   "cell_type": "code",
   "execution_count": 2,
   "id": "e65e3679",
   "metadata": {
    "execution": {
     "iopub.execute_input": "2024-08-28T17:55:49.614957Z",
     "iopub.status.busy": "2024-08-28T17:55:49.613911Z",
     "iopub.status.idle": "2024-08-28T17:55:51.410128Z",
     "shell.execute_reply": "2024-08-28T17:55:51.409003Z"
    },
    "papermill": {
     "duration": 1.810958,
     "end_time": "2024-08-28T17:55:51.412674",
     "exception": false,
     "start_time": "2024-08-28T17:55:49.601716",
     "status": "completed"
    },
    "tags": []
   },
   "outputs": [],
   "source": [
    "#Lets download the dataset\n",
    "import nltk\n",
    "from nltk.corpus import brown"
   ]
  },
  {
   "cell_type": "code",
   "execution_count": 3,
   "id": "80d61e3a",
   "metadata": {
    "execution": {
     "iopub.execute_input": "2024-08-28T17:55:51.437250Z",
     "iopub.status.busy": "2024-08-28T17:55:51.436117Z",
     "iopub.status.idle": "2024-08-28T17:55:51.461296Z",
     "shell.execute_reply": "2024-08-28T17:55:51.460192Z"
    },
    "papermill": {
     "duration": 0.039801,
     "end_time": "2024-08-28T17:55:51.463602",
     "exception": false,
     "start_time": "2024-08-28T17:55:51.423801",
     "status": "completed"
    },
    "tags": []
   },
   "outputs": [],
   "source": [
    "corpus = brown.tagged_sents(tagset='universal')"
   ]
  },
  {
   "cell_type": "code",
   "execution_count": 4,
   "id": "e23bcde7",
   "metadata": {
    "execution": {
     "iopub.execute_input": "2024-08-28T17:55:51.487585Z",
     "iopub.status.busy": "2024-08-28T17:55:51.486782Z",
     "iopub.status.idle": "2024-08-28T17:55:51.499327Z",
     "shell.execute_reply": "2024-08-28T17:55:51.498336Z"
    },
    "papermill": {
     "duration": 0.026749,
     "end_time": "2024-08-28T17:55:51.501321",
     "exception": false,
     "start_time": "2024-08-28T17:55:51.474572",
     "status": "completed"
    },
    "tags": []
   },
   "outputs": [
    {
     "data": {
      "text/plain": [
       "[[('The', 'DET'), ('Fulton', 'NOUN'), ('County', 'NOUN'), ('Grand', 'ADJ'), ('Jury', 'NOUN'), ('said', 'VERB'), ('Friday', 'NOUN'), ('an', 'DET'), ('investigation', 'NOUN'), ('of', 'ADP'), (\"Atlanta's\", 'NOUN'), ('recent', 'ADJ'), ('primary', 'NOUN'), ('election', 'NOUN'), ('produced', 'VERB'), ('``', '.'), ('no', 'DET'), ('evidence', 'NOUN'), (\"''\", '.'), ('that', 'ADP'), ('any', 'DET'), ('irregularities', 'NOUN'), ('took', 'VERB'), ('place', 'NOUN'), ('.', '.')], [('The', 'DET'), ('jury', 'NOUN'), ('further', 'ADV'), ('said', 'VERB'), ('in', 'ADP'), ('term-end', 'NOUN'), ('presentments', 'NOUN'), ('that', 'ADP'), ('the', 'DET'), ('City', 'NOUN'), ('Executive', 'ADJ'), ('Committee', 'NOUN'), (',', '.'), ('which', 'DET'), ('had', 'VERB'), ('over-all', 'ADJ'), ('charge', 'NOUN'), ('of', 'ADP'), ('the', 'DET'), ('election', 'NOUN'), (',', '.'), ('``', '.'), ('deserves', 'VERB'), ('the', 'DET'), ('praise', 'NOUN'), ('and', 'CONJ'), ('thanks', 'NOUN'), ('of', 'ADP'), ('the', 'DET'), ('City', 'NOUN'), ('of', 'ADP'), ('Atlanta', 'NOUN'), (\"''\", '.'), ('for', 'ADP'), ('the', 'DET'), ('manner', 'NOUN'), ('in', 'ADP'), ('which', 'DET'), ('the', 'DET'), ('election', 'NOUN'), ('was', 'VERB'), ('conducted', 'VERB'), ('.', '.')], ...]"
      ]
     },
     "execution_count": 4,
     "metadata": {},
     "output_type": "execute_result"
    }
   ],
   "source": [
    "corpus"
   ]
  },
  {
   "cell_type": "code",
   "execution_count": 5,
   "id": "18468642",
   "metadata": {
    "execution": {
     "iopub.execute_input": "2024-08-28T17:55:51.525983Z",
     "iopub.status.busy": "2024-08-28T17:55:51.525096Z",
     "iopub.status.idle": "2024-08-28T17:55:55.359198Z",
     "shell.execute_reply": "2024-08-28T17:55:55.358148Z"
    },
    "papermill": {
     "duration": 3.848642,
     "end_time": "2024-08-28T17:55:55.361420",
     "exception": false,
     "start_time": "2024-08-28T17:55:51.512778",
     "status": "completed"
    },
    "tags": []
   },
   "outputs": [
    {
     "data": {
      "text/plain": [
       "57340"
      ]
     },
     "execution_count": 5,
     "metadata": {},
     "output_type": "execute_result"
    }
   ],
   "source": [
    "len(corpus)"
   ]
  },
  {
   "cell_type": "code",
   "execution_count": 6,
   "id": "5387fa49",
   "metadata": {
    "execution": {
     "iopub.execute_input": "2024-08-28T17:55:55.385678Z",
     "iopub.status.busy": "2024-08-28T17:55:55.385248Z",
     "iopub.status.idle": "2024-08-28T17:55:55.393600Z",
     "shell.execute_reply": "2024-08-28T17:55:55.392609Z"
    },
    "papermill": {
     "duration": 0.022979,
     "end_time": "2024-08-28T17:55:55.395719",
     "exception": false,
     "start_time": "2024-08-28T17:55:55.372740",
     "status": "completed"
    },
    "tags": []
   },
   "outputs": [
    {
     "data": {
      "text/plain": [
       "[('The', 'DET'),\n",
       " ('Fulton', 'NOUN'),\n",
       " ('County', 'NOUN'),\n",
       " ('Grand', 'ADJ'),\n",
       " ('Jury', 'NOUN'),\n",
       " ('said', 'VERB'),\n",
       " ('Friday', 'NOUN'),\n",
       " ('an', 'DET'),\n",
       " ('investigation', 'NOUN'),\n",
       " ('of', 'ADP'),\n",
       " (\"Atlanta's\", 'NOUN'),\n",
       " ('recent', 'ADJ'),\n",
       " ('primary', 'NOUN'),\n",
       " ('election', 'NOUN'),\n",
       " ('produced', 'VERB'),\n",
       " ('``', '.'),\n",
       " ('no', 'DET'),\n",
       " ('evidence', 'NOUN'),\n",
       " (\"''\", '.'),\n",
       " ('that', 'ADP'),\n",
       " ('any', 'DET'),\n",
       " ('irregularities', 'NOUN'),\n",
       " ('took', 'VERB'),\n",
       " ('place', 'NOUN'),\n",
       " ('.', '.')]"
      ]
     },
     "execution_count": 6,
     "metadata": {},
     "output_type": "execute_result"
    }
   ],
   "source": [
    "corpus[0]  #Each element contains a sentence, and every word has its respective grammatical classification"
   ]
  },
  {
   "cell_type": "code",
   "execution_count": 7,
   "id": "c88ef192",
   "metadata": {
    "execution": {
     "iopub.execute_input": "2024-08-28T17:55:55.420523Z",
     "iopub.status.busy": "2024-08-28T17:55:55.419717Z",
     "iopub.status.idle": "2024-08-28T17:55:59.601749Z",
     "shell.execute_reply": "2024-08-28T17:55:59.600812Z"
    },
    "papermill": {
     "duration": 4.197081,
     "end_time": "2024-08-28T17:55:59.604210",
     "exception": false,
     "start_time": "2024-08-28T17:55:55.407129",
     "status": "completed"
    },
    "tags": []
   },
   "outputs": [],
   "source": [
    "#Lets get the tokens and the targets\n",
    "\n",
    "inputs = []\n",
    "targets = []\n",
    "\n",
    "for sentence_pos_pair in corpus:\n",
    "    token_list = []\n",
    "    pos_list = []\n",
    "    for token, pos in sentence_pos_pair:\n",
    "        token_list.append(token)\n",
    "        pos_list.append(pos)\n",
    "    inputs.append(token_list)\n",
    "    targets.append(pos_list)"
   ]
  },
  {
   "cell_type": "code",
   "execution_count": 8,
   "id": "90e83ff8",
   "metadata": {
    "execution": {
     "iopub.execute_input": "2024-08-28T17:55:59.629389Z",
     "iopub.status.busy": "2024-08-28T17:55:59.628383Z",
     "iopub.status.idle": "2024-08-28T17:55:59.635519Z",
     "shell.execute_reply": "2024-08-28T17:55:59.634389Z"
    },
    "papermill": {
     "duration": 0.021893,
     "end_time": "2024-08-28T17:55:59.637690",
     "exception": false,
     "start_time": "2024-08-28T17:55:59.615797",
     "status": "completed"
    },
    "tags": []
   },
   "outputs": [
    {
     "data": {
      "text/plain": [
       "['The',\n",
       " 'Fulton',\n",
       " 'County',\n",
       " 'Grand',\n",
       " 'Jury',\n",
       " 'said',\n",
       " 'Friday',\n",
       " 'an',\n",
       " 'investigation',\n",
       " 'of',\n",
       " \"Atlanta's\",\n",
       " 'recent',\n",
       " 'primary',\n",
       " 'election',\n",
       " 'produced',\n",
       " '``',\n",
       " 'no',\n",
       " 'evidence',\n",
       " \"''\",\n",
       " 'that',\n",
       " 'any',\n",
       " 'irregularities',\n",
       " 'took',\n",
       " 'place',\n",
       " '.']"
      ]
     },
     "execution_count": 8,
     "metadata": {},
     "output_type": "execute_result"
    }
   ],
   "source": [
    "inputs[0]"
   ]
  },
  {
   "cell_type": "code",
   "execution_count": 9,
   "id": "70259ed7",
   "metadata": {
    "execution": {
     "iopub.execute_input": "2024-08-28T17:55:59.662267Z",
     "iopub.status.busy": "2024-08-28T17:55:59.661851Z",
     "iopub.status.idle": "2024-08-28T17:55:59.668678Z",
     "shell.execute_reply": "2024-08-28T17:55:59.667632Z"
    },
    "papermill": {
     "duration": 0.021642,
     "end_time": "2024-08-28T17:55:59.670854",
     "exception": false,
     "start_time": "2024-08-28T17:55:59.649212",
     "status": "completed"
    },
    "tags": []
   },
   "outputs": [
    {
     "data": {
      "text/plain": [
       "['DET',\n",
       " 'NOUN',\n",
       " 'NOUN',\n",
       " 'ADJ',\n",
       " 'NOUN',\n",
       " 'VERB',\n",
       " 'NOUN',\n",
       " 'DET',\n",
       " 'NOUN',\n",
       " 'ADP',\n",
       " 'NOUN',\n",
       " 'ADJ',\n",
       " 'NOUN',\n",
       " 'NOUN',\n",
       " 'VERB',\n",
       " '.',\n",
       " 'DET',\n",
       " 'NOUN',\n",
       " '.',\n",
       " 'ADP',\n",
       " 'DET',\n",
       " 'NOUN',\n",
       " 'VERB',\n",
       " 'NOUN',\n",
       " '.']"
      ]
     },
     "execution_count": 9,
     "metadata": {},
     "output_type": "execute_result"
    }
   ],
   "source": [
    "targets[0]"
   ]
  },
  {
   "cell_type": "code",
   "execution_count": 10,
   "id": "b23cf9ec",
   "metadata": {
    "execution": {
     "iopub.execute_input": "2024-08-28T17:55:59.695608Z",
     "iopub.status.busy": "2024-08-28T17:55:59.695184Z",
     "iopub.status.idle": "2024-08-28T17:56:11.940479Z",
     "shell.execute_reply": "2024-08-28T17:56:11.939531Z"
    },
    "papermill": {
     "duration": 12.260507,
     "end_time": "2024-08-28T17:56:11.942969",
     "exception": false,
     "start_time": "2024-08-28T17:55:59.682462",
     "status": "completed"
    },
    "tags": []
   },
   "outputs": [],
   "source": [
    "import numpy as np\n",
    "import pandas as pd\n",
    "import tensorflow as tf\n",
    "import matplotlib.pyplot as plt\n",
    "from sklearn.model_selection import train_test_split\n",
    "\n",
    "from tensorflow.keras.preprocessing.text import Tokenizer\n",
    "from tensorflow.keras.preprocessing.sequence import pad_sequences\n",
    "from tensorflow.keras.layers import Dense, Input, Bidirectional\n",
    "from tensorflow.keras.layers import LSTM, GRU, SimpleRNN, Embedding\n",
    "from tensorflow.keras.models import Model\n",
    "from tensorflow.keras.losses import SparseCategoricalCrossentropy"
   ]
  },
  {
   "cell_type": "code",
   "execution_count": 11,
   "id": "56f49386",
   "metadata": {
    "execution": {
     "iopub.execute_input": "2024-08-28T17:56:11.968487Z",
     "iopub.status.busy": "2024-08-28T17:56:11.967299Z",
     "iopub.status.idle": "2024-08-28T17:56:12.004461Z",
     "shell.execute_reply": "2024-08-28T17:56:12.003461Z"
    },
    "papermill": {
     "duration": 0.052248,
     "end_time": "2024-08-28T17:56:12.006921",
     "exception": false,
     "start_time": "2024-08-28T17:56:11.954673",
     "status": "completed"
    },
    "tags": []
   },
   "outputs": [],
   "source": [
    "#Split the data\n",
    "train_inputs, test_inputs, train_targets, test_targets = train_test_split(\n",
    "    inputs,\n",
    "    targets,\n",
    "    test_size=0.3,\n",
    ")"
   ]
  },
  {
   "cell_type": "code",
   "execution_count": 12,
   "id": "72a60d7e",
   "metadata": {
    "execution": {
     "iopub.execute_input": "2024-08-28T17:56:12.031601Z",
     "iopub.status.busy": "2024-08-28T17:56:12.031206Z",
     "iopub.status.idle": "2024-08-28T17:56:13.266528Z",
     "shell.execute_reply": "2024-08-28T17:56:13.265654Z"
    },
    "papermill": {
     "duration": 1.250448,
     "end_time": "2024-08-28T17:56:13.268991",
     "exception": false,
     "start_time": "2024-08-28T17:56:12.018543",
     "status": "completed"
    },
    "tags": []
   },
   "outputs": [],
   "source": [
    "#Convert sentences into sequences\n",
    "word_tokenizer = Tokenizer(\n",
    "    num_words = None, #We need to use everyword (Max_vocab = none)\n",
    "    lower = False, #Bill != bill\n",
    "    oov_token='UNK', #If we remove unknow words, len(inputs)!=len(targets)\n",
    ")\n",
    "\n",
    "\n",
    "word_tokenizer.fit_on_texts(train_inputs)\n",
    "train_inputs_int = word_tokenizer.texts_to_sequences(train_inputs)\n",
    "test_inputs_int = word_tokenizer.texts_to_sequences(test_inputs)"
   ]
  },
  {
   "cell_type": "code",
   "execution_count": 13,
   "id": "9e714d93",
   "metadata": {
    "execution": {
     "iopub.execute_input": "2024-08-28T17:56:13.293657Z",
     "iopub.status.busy": "2024-08-28T17:56:13.293240Z",
     "iopub.status.idle": "2024-08-28T17:56:13.299745Z",
     "shell.execute_reply": "2024-08-28T17:56:13.298604Z"
    },
    "papermill": {
     "duration": 0.021199,
     "end_time": "2024-08-28T17:56:13.301815",
     "exception": false,
     "start_time": "2024-08-28T17:56:13.280616",
     "status": "completed"
    },
    "tags": []
   },
   "outputs": [
    {
     "data": {
      "text/plain": [
       "40138"
      ]
     },
     "execution_count": 13,
     "metadata": {},
     "output_type": "execute_result"
    }
   ],
   "source": [
    "len(train_inputs_int)"
   ]
  },
  {
   "cell_type": "code",
   "execution_count": 14,
   "id": "1ecc5c32",
   "metadata": {
    "execution": {
     "iopub.execute_input": "2024-08-28T17:56:13.326075Z",
     "iopub.status.busy": "2024-08-28T17:56:13.325680Z",
     "iopub.status.idle": "2024-08-28T17:56:13.332003Z",
     "shell.execute_reply": "2024-08-28T17:56:13.331029Z"
    },
    "papermill": {
     "duration": 0.021071,
     "end_time": "2024-08-28T17:56:13.334182",
     "exception": false,
     "start_time": "2024-08-28T17:56:13.313111",
     "status": "completed"
    },
    "tags": []
   },
   "outputs": [
    {
     "data": {
      "text/plain": [
       "['Four', 'for', 'Alvin']"
      ]
     },
     "execution_count": 14,
     "metadata": {},
     "output_type": "execute_result"
    }
   ],
   "source": [
    "train_inputs[0]"
   ]
  },
  {
   "cell_type": "code",
   "execution_count": 15,
   "id": "862b8d7b",
   "metadata": {
    "execution": {
     "iopub.execute_input": "2024-08-28T17:56:13.359572Z",
     "iopub.status.busy": "2024-08-28T17:56:13.358343Z",
     "iopub.status.idle": "2024-08-28T17:56:13.365102Z",
     "shell.execute_reply": "2024-08-28T17:56:13.364200Z"
    },
    "papermill": {
     "duration": 0.021334,
     "end_time": "2024-08-28T17:56:13.367134",
     "exception": false,
     "start_time": "2024-08-28T17:56:13.345800",
     "status": "completed"
    },
    "tags": []
   },
   "outputs": [
    {
     "data": {
      "text/plain": [
       "[3467, 15, 11966]"
      ]
     },
     "execution_count": 15,
     "metadata": {},
     "output_type": "execute_result"
    }
   ],
   "source": [
    "train_inputs_int[0]"
   ]
  },
  {
   "cell_type": "code",
   "execution_count": 16,
   "id": "0d3d3e5b",
   "metadata": {
    "execution": {
     "iopub.execute_input": "2024-08-28T17:56:13.391783Z",
     "iopub.status.busy": "2024-08-28T17:56:13.391396Z",
     "iopub.status.idle": "2024-08-28T17:56:13.397153Z",
     "shell.execute_reply": "2024-08-28T17:56:13.396113Z"
    },
    "papermill": {
     "duration": 0.020517,
     "end_time": "2024-08-28T17:56:13.399216",
     "exception": false,
     "start_time": "2024-08-28T17:56:13.378699",
     "status": "completed"
    },
    "tags": []
   },
   "outputs": [
    {
     "name": "stdout",
     "output_type": "stream",
     "text": [
      "Found 47309 unique tokens.\n"
     ]
    }
   ],
   "source": [
    "# word -> integer mapping\n",
    "word2idx = word_tokenizer.word_index\n",
    "V = len(word2idx)\n",
    "print('Found %s unique tokens.' % V)"
   ]
  },
  {
   "cell_type": "code",
   "execution_count": 17,
   "id": "eae251ad",
   "metadata": {
    "execution": {
     "iopub.execute_input": "2024-08-28T17:56:13.424695Z",
     "iopub.status.busy": "2024-08-28T17:56:13.423837Z",
     "iopub.status.idle": "2024-08-28T17:56:13.428778Z",
     "shell.execute_reply": "2024-08-28T17:56:13.427883Z"
    },
    "papermill": {
     "duration": 0.019865,
     "end_time": "2024-08-28T17:56:13.430864",
     "exception": false,
     "start_time": "2024-08-28T17:56:13.410999",
     "status": "completed"
    },
    "tags": []
   },
   "outputs": [],
   "source": [
    "#define a flatten function for us to use\n",
    "def flatten(list_list):\n",
    "    flattened = [element for lists in list_list for element in lists]\n",
    "    return flattened"
   ]
  },
  {
   "cell_type": "code",
   "execution_count": 18,
   "id": "055ed124",
   "metadata": {
    "execution": {
     "iopub.execute_input": "2024-08-28T17:56:13.456099Z",
     "iopub.status.busy": "2024-08-28T17:56:13.455498Z",
     "iopub.status.idle": "2024-08-28T17:56:13.565370Z",
     "shell.execute_reply": "2024-08-28T17:56:13.564545Z"
    },
    "papermill": {
     "duration": 0.12516,
     "end_time": "2024-08-28T17:56:13.567812",
     "exception": false,
     "start_time": "2024-08-28T17:56:13.442652",
     "status": "completed"
    },
    "tags": []
   },
   "outputs": [],
   "source": [
    "train_targets_list = set(flatten(train_targets))\n",
    "test_targets_list = set(flatten(test_targets))"
   ]
  },
  {
   "cell_type": "code",
   "execution_count": 19,
   "id": "0410c733",
   "metadata": {
    "execution": {
     "iopub.execute_input": "2024-08-28T17:56:13.593487Z",
     "iopub.status.busy": "2024-08-28T17:56:13.592749Z",
     "iopub.status.idle": "2024-08-28T17:56:13.599174Z",
     "shell.execute_reply": "2024-08-28T17:56:13.598222Z"
    },
    "papermill": {
     "duration": 0.021455,
     "end_time": "2024-08-28T17:56:13.601181",
     "exception": false,
     "start_time": "2024-08-28T17:56:13.579726",
     "status": "completed"
    },
    "tags": []
   },
   "outputs": [
    {
     "data": {
      "text/plain": [
       "{'.',\n",
       " 'ADJ',\n",
       " 'ADP',\n",
       " 'ADV',\n",
       " 'CONJ',\n",
       " 'DET',\n",
       " 'NOUN',\n",
       " 'NUM',\n",
       " 'PRON',\n",
       " 'PRT',\n",
       " 'VERB',\n",
       " 'X'}"
      ]
     },
     "execution_count": 19,
     "metadata": {},
     "output_type": "execute_result"
    }
   ],
   "source": [
    "train_targets_list"
   ]
  },
  {
   "cell_type": "code",
   "execution_count": 20,
   "id": "22e2ef49",
   "metadata": {
    "execution": {
     "iopub.execute_input": "2024-08-28T17:56:13.626318Z",
     "iopub.status.busy": "2024-08-28T17:56:13.625933Z",
     "iopub.status.idle": "2024-08-28T17:56:13.632226Z",
     "shell.execute_reply": "2024-08-28T17:56:13.631267Z"
    },
    "papermill": {
     "duration": 0.021212,
     "end_time": "2024-08-28T17:56:13.634199",
     "exception": false,
     "start_time": "2024-08-28T17:56:13.612987",
     "status": "completed"
    },
    "tags": []
   },
   "outputs": [
    {
     "data": {
      "text/plain": [
       "{'.',\n",
       " 'ADJ',\n",
       " 'ADP',\n",
       " 'ADV',\n",
       " 'CONJ',\n",
       " 'DET',\n",
       " 'NOUN',\n",
       " 'NUM',\n",
       " 'PRON',\n",
       " 'PRT',\n",
       " 'VERB',\n",
       " 'X'}"
      ]
     },
     "execution_count": 20,
     "metadata": {},
     "output_type": "execute_result"
    }
   ],
   "source": [
    "test_targets_list"
   ]
  },
  {
   "cell_type": "code",
   "execution_count": 21,
   "id": "d3bf4fd4",
   "metadata": {
    "execution": {
     "iopub.execute_input": "2024-08-28T17:56:13.659749Z",
     "iopub.status.busy": "2024-08-28T17:56:13.658891Z",
     "iopub.status.idle": "2024-08-28T17:56:13.665385Z",
     "shell.execute_reply": "2024-08-28T17:56:13.664421Z"
    },
    "papermill": {
     "duration": 0.021285,
     "end_time": "2024-08-28T17:56:13.667350",
     "exception": false,
     "start_time": "2024-08-28T17:56:13.646065",
     "status": "completed"
    },
    "tags": []
   },
   "outputs": [
    {
     "data": {
      "text/plain": [
       "True"
      ]
     },
     "execution_count": 21,
     "metadata": {},
     "output_type": "execute_result"
    }
   ],
   "source": [
    "test_targets_list == train_targets_list"
   ]
  },
  {
   "cell_type": "code",
   "execution_count": 22,
   "id": "895e6be7",
   "metadata": {
    "execution": {
     "iopub.execute_input": "2024-08-28T17:56:13.692906Z",
     "iopub.status.busy": "2024-08-28T17:56:13.692530Z",
     "iopub.status.idle": "2024-08-28T17:56:14.325960Z",
     "shell.execute_reply": "2024-08-28T17:56:14.325027Z"
    },
    "papermill": {
     "duration": 0.648909,
     "end_time": "2024-08-28T17:56:14.328305",
     "exception": false,
     "start_time": "2024-08-28T17:56:13.679396",
     "status": "completed"
    },
    "tags": []
   },
   "outputs": [],
   "source": [
    "#Now we need to transform the targets into sequences\n",
    "\n",
    "#Convert sentences into sequences\n",
    "word_tokenizer_targets = Tokenizer(\n",
    "    num_words = None, #We need to use everyword (Max_vocab = none)\n",
    "    lower = False, #Bill != bill\n",
    ")\n",
    "#We dont need to use OOV, because there is no unknow target\n",
    "\n",
    "word_tokenizer_targets.fit_on_texts(train_targets)\n",
    "train_targets_int = word_tokenizer_targets.texts_to_sequences(train_targets)\n",
    "test_targets_int = word_tokenizer_targets.texts_to_sequences(test_targets)"
   ]
  },
  {
   "cell_type": "code",
   "execution_count": 23,
   "id": "beff566b",
   "metadata": {
    "execution": {
     "iopub.execute_input": "2024-08-28T17:56:14.354520Z",
     "iopub.status.busy": "2024-08-28T17:56:14.354104Z",
     "iopub.status.idle": "2024-08-28T17:56:14.360301Z",
     "shell.execute_reply": "2024-08-28T17:56:14.359291Z"
    },
    "papermill": {
     "duration": 0.021822,
     "end_time": "2024-08-28T17:56:14.362544",
     "exception": false,
     "start_time": "2024-08-28T17:56:14.340722",
     "status": "completed"
    },
    "tags": []
   },
   "outputs": [
    {
     "data": {
      "text/plain": [
       "[11, 4, 1]"
      ]
     },
     "execution_count": 23,
     "metadata": {},
     "output_type": "execute_result"
    }
   ],
   "source": [
    "train_targets_int[0]"
   ]
  },
  {
   "cell_type": "code",
   "execution_count": 24,
   "id": "7861eca6",
   "metadata": {
    "execution": {
     "iopub.execute_input": "2024-08-28T17:56:14.388414Z",
     "iopub.status.busy": "2024-08-28T17:56:14.388010Z",
     "iopub.status.idle": "2024-08-28T17:56:14.394197Z",
     "shell.execute_reply": "2024-08-28T17:56:14.393273Z"
    },
    "papermill": {
     "duration": 0.021681,
     "end_time": "2024-08-28T17:56:14.396294",
     "exception": false,
     "start_time": "2024-08-28T17:56:14.374613",
     "status": "completed"
    },
    "tags": []
   },
   "outputs": [
    {
     "data": {
      "text/plain": [
       "['NUM', 'ADP', 'NOUN']"
      ]
     },
     "execution_count": 24,
     "metadata": {},
     "output_type": "execute_result"
    }
   ],
   "source": [
    "train_targets[0]"
   ]
  },
  {
   "cell_type": "code",
   "execution_count": 25,
   "id": "bc2f7e11",
   "metadata": {
    "execution": {
     "iopub.execute_input": "2024-08-28T17:56:14.422383Z",
     "iopub.status.busy": "2024-08-28T17:56:14.421684Z",
     "iopub.status.idle": "2024-08-28T17:56:14.434267Z",
     "shell.execute_reply": "2024-08-28T17:56:14.433275Z"
    },
    "papermill": {
     "duration": 0.027824,
     "end_time": "2024-08-28T17:56:14.436356",
     "exception": false,
     "start_time": "2024-08-28T17:56:14.408532",
     "status": "completed"
    },
    "tags": []
   },
   "outputs": [
    {
     "data": {
      "text/plain": [
       "180"
      ]
     },
     "execution_count": 25,
     "metadata": {},
     "output_type": "execute_result"
    }
   ],
   "source": [
    "#Find the maximun lenght of the sequences\n",
    "train_len = max(len(sequence) for sequence in train_inputs_int)\n",
    "test_len = max(len(sequence) for sequence in test_inputs_int)\n",
    "T = max((train_len,test_len))\n",
    "T"
   ]
  },
  {
   "cell_type": "code",
   "execution_count": 26,
   "id": "910d6040",
   "metadata": {
    "execution": {
     "iopub.execute_input": "2024-08-28T17:56:14.463204Z",
     "iopub.status.busy": "2024-08-28T17:56:14.462296Z",
     "iopub.status.idle": "2024-08-28T17:56:14.665725Z",
     "shell.execute_reply": "2024-08-28T17:56:14.664544Z"
    },
    "papermill": {
     "duration": 0.219478,
     "end_time": "2024-08-28T17:56:14.668246",
     "exception": false,
     "start_time": "2024-08-28T17:56:14.448768",
     "status": "completed"
    },
    "tags": []
   },
   "outputs": [],
   "source": [
    "#Pad_sequence Sentences\n",
    "\n",
    "train_inputs_pad = pad_sequences(train_inputs_int, maxlen=T)\n",
    "test_inputs_pad = pad_sequences(test_inputs_int, maxlen=T)"
   ]
  },
  {
   "cell_type": "code",
   "execution_count": 27,
   "id": "6668120d",
   "metadata": {
    "execution": {
     "iopub.execute_input": "2024-08-28T17:56:14.707820Z",
     "iopub.status.busy": "2024-08-28T17:56:14.707042Z",
     "iopub.status.idle": "2024-08-28T17:56:14.712426Z",
     "shell.execute_reply": "2024-08-28T17:56:14.711438Z"
    },
    "papermill": {
     "duration": 0.02252,
     "end_time": "2024-08-28T17:56:14.714527",
     "exception": false,
     "start_time": "2024-08-28T17:56:14.692007",
     "status": "completed"
    },
    "tags": []
   },
   "outputs": [
    {
     "name": "stdout",
     "output_type": "stream",
     "text": [
      "(40138, 180)\n"
     ]
    }
   ],
   "source": [
    "print(train_inputs_pad.shape)   #N x T  (number of samples x time)"
   ]
  },
  {
   "cell_type": "code",
   "execution_count": 28,
   "id": "8bf5de44",
   "metadata": {
    "execution": {
     "iopub.execute_input": "2024-08-28T17:56:14.741339Z",
     "iopub.status.busy": "2024-08-28T17:56:14.740968Z",
     "iopub.status.idle": "2024-08-28T17:56:14.746072Z",
     "shell.execute_reply": "2024-08-28T17:56:14.745080Z"
    },
    "papermill": {
     "duration": 0.021109,
     "end_time": "2024-08-28T17:56:14.748231",
     "exception": false,
     "start_time": "2024-08-28T17:56:14.727122",
     "status": "completed"
    },
    "tags": []
   },
   "outputs": [
    {
     "name": "stdout",
     "output_type": "stream",
     "text": [
      "(17202, 180)\n"
     ]
    }
   ],
   "source": [
    "print(test_inputs_pad.shape)"
   ]
  },
  {
   "cell_type": "code",
   "execution_count": 29,
   "id": "4cd35c5f",
   "metadata": {
    "execution": {
     "iopub.execute_input": "2024-08-28T17:56:14.775432Z",
     "iopub.status.busy": "2024-08-28T17:56:14.774646Z",
     "iopub.status.idle": "2024-08-28T17:56:14.968722Z",
     "shell.execute_reply": "2024-08-28T17:56:14.967589Z"
    },
    "papermill": {
     "duration": 0.210369,
     "end_time": "2024-08-28T17:56:14.971272",
     "exception": false,
     "start_time": "2024-08-28T17:56:14.760903",
     "status": "completed"
    },
    "tags": []
   },
   "outputs": [],
   "source": [
    "#Pad_sequence Targets\n",
    "\n",
    "train_targets_pad = pad_sequences(train_targets_int, maxlen=T)\n",
    "test_targets_pad = pad_sequences(test_targets_int, maxlen=T)"
   ]
  },
  {
   "cell_type": "code",
   "execution_count": 30,
   "id": "f54e9436",
   "metadata": {
    "execution": {
     "iopub.execute_input": "2024-08-28T17:56:14.998813Z",
     "iopub.status.busy": "2024-08-28T17:56:14.998390Z",
     "iopub.status.idle": "2024-08-28T17:56:15.004930Z",
     "shell.execute_reply": "2024-08-28T17:56:15.003884Z"
    },
    "papermill": {
     "duration": 0.022647,
     "end_time": "2024-08-28T17:56:15.007207",
     "exception": false,
     "start_time": "2024-08-28T17:56:14.984560",
     "status": "completed"
    },
    "tags": []
   },
   "outputs": [
    {
     "data": {
      "text/plain": [
       "(40138, 180)"
      ]
     },
     "execution_count": 30,
     "metadata": {},
     "output_type": "execute_result"
    }
   ],
   "source": [
    "train_targets_pad.shape"
   ]
  },
  {
   "cell_type": "code",
   "execution_count": 31,
   "id": "6405c2f2",
   "metadata": {
    "execution": {
     "iopub.execute_input": "2024-08-28T17:56:15.035146Z",
     "iopub.status.busy": "2024-08-28T17:56:15.034146Z",
     "iopub.status.idle": "2024-08-28T17:56:15.040712Z",
     "shell.execute_reply": "2024-08-28T17:56:15.039740Z"
    },
    "papermill": {
     "duration": 0.022781,
     "end_time": "2024-08-28T17:56:15.042838",
     "exception": false,
     "start_time": "2024-08-28T17:56:15.020057",
     "status": "completed"
    },
    "tags": []
   },
   "outputs": [
    {
     "data": {
      "text/plain": [
       "13"
      ]
     },
     "execution_count": 31,
     "metadata": {},
     "output_type": "execute_result"
    }
   ],
   "source": [
    "#Number of classes\n",
    "K = len(word_tokenizer_targets.word_index) +1  #Add 1 because the class 0 is already used for pad\n",
    "K"
   ]
  },
  {
   "cell_type": "code",
   "execution_count": 32,
   "id": "cd0bcc68",
   "metadata": {
    "execution": {
     "iopub.execute_input": "2024-08-28T17:56:15.070659Z",
     "iopub.status.busy": "2024-08-28T17:56:15.069738Z",
     "iopub.status.idle": "2024-08-28T17:56:15.076260Z",
     "shell.execute_reply": "2024-08-28T17:56:15.075272Z"
    },
    "papermill": {
     "duration": 0.02255,
     "end_time": "2024-08-28T17:56:15.078300",
     "exception": false,
     "start_time": "2024-08-28T17:56:15.055750",
     "status": "completed"
    },
    "tags": []
   },
   "outputs": [
    {
     "data": {
      "text/plain": [
       "47309"
      ]
     },
     "execution_count": 32,
     "metadata": {},
     "output_type": "execute_result"
    }
   ],
   "source": [
    "V"
   ]
  },
  {
   "cell_type": "markdown",
   "id": "9e215808",
   "metadata": {
    "papermill": {
     "duration": 0.012788,
     "end_time": "2024-08-28T17:56:15.104303",
     "exception": false,
     "start_time": "2024-08-28T17:56:15.091515",
     "status": "completed"
    },
    "tags": []
   },
   "source": [
    "# Model"
   ]
  },
  {
   "cell_type": "code",
   "execution_count": 33,
   "id": "e4861062",
   "metadata": {
    "execution": {
     "iopub.execute_input": "2024-08-28T17:56:15.131927Z",
     "iopub.status.busy": "2024-08-28T17:56:15.131513Z",
     "iopub.status.idle": "2024-08-28T17:56:15.268227Z",
     "shell.execute_reply": "2024-08-28T17:56:15.267371Z"
    },
    "papermill": {
     "duration": 0.153405,
     "end_time": "2024-08-28T17:56:15.270668",
     "exception": false,
     "start_time": "2024-08-28T17:56:15.117263",
     "status": "completed"
    },
    "tags": []
   },
   "outputs": [],
   "source": [
    "D = 32 #Embedding dimensionality\n",
    "\n",
    "M = 32 #Number of hidden 'neurons'\n",
    "\n",
    "i = Input(shape = (T,))\n",
    "x = Embedding(V+1, D, mask_zero = True)(i) #We need to use mask_zero, because in our dataset we added targets = 0 in padding elements. We don't want to use these values to calculate the loss\n",
    "x = Bidirectional(LSTM(M, return_sequences = True))(x)\n",
    "x = Dense(K)(x) #Last layer -> LSTM --> logits\n",
    "\n",
    "model = Model(i,x)"
   ]
  },
  {
   "cell_type": "code",
   "execution_count": 34,
   "id": "3ee9f606",
   "metadata": {
    "execution": {
     "iopub.execute_input": "2024-08-28T17:56:15.342029Z",
     "iopub.status.busy": "2024-08-28T17:56:15.341626Z",
     "iopub.status.idle": "2024-08-28T17:56:15.366070Z",
     "shell.execute_reply": "2024-08-28T17:56:15.365110Z"
    },
    "papermill": {
     "duration": 0.084547,
     "end_time": "2024-08-28T17:56:15.368224",
     "exception": false,
     "start_time": "2024-08-28T17:56:15.283677",
     "status": "completed"
    },
    "tags": []
   },
   "outputs": [
    {
     "data": {
      "text/html": [
       "<pre style=\"white-space:pre;overflow-x:auto;line-height:normal;font-family:Menlo,'DejaVu Sans Mono',consolas,'Courier New',monospace\"><span style=\"font-weight: bold\">Model: \"functional_1\"</span>\n",
       "</pre>\n"
      ],
      "text/plain": [
       "\u001b[1mModel: \"functional_1\"\u001b[0m\n"
      ]
     },
     "metadata": {},
     "output_type": "display_data"
    },
    {
     "data": {
      "text/html": [
       "<pre style=\"white-space:pre;overflow-x:auto;line-height:normal;font-family:Menlo,'DejaVu Sans Mono',consolas,'Courier New',monospace\">┏━━━━━━━━━━━━━━━━━━━━━┳━━━━━━━━━━━━━━━━━━━┳━━━━━━━━━━━━┳━━━━━━━━━━━━━━━━━━━┓\n",
       "┃<span style=\"font-weight: bold\"> Layer (type)        </span>┃<span style=\"font-weight: bold\"> Output Shape      </span>┃<span style=\"font-weight: bold\">    Param # </span>┃<span style=\"font-weight: bold\"> Connected to      </span>┃\n",
       "┡━━━━━━━━━━━━━━━━━━━━━╇━━━━━━━━━━━━━━━━━━━╇━━━━━━━━━━━━╇━━━━━━━━━━━━━━━━━━━┩\n",
       "│ input_layer         │ (<span style=\"color: #00d7ff; text-decoration-color: #00d7ff\">None</span>, <span style=\"color: #00af00; text-decoration-color: #00af00\">180</span>)       │          <span style=\"color: #00af00; text-decoration-color: #00af00\">0</span> │ -                 │\n",
       "│ (<span style=\"color: #0087ff; text-decoration-color: #0087ff\">InputLayer</span>)        │                   │            │                   │\n",
       "├─────────────────────┼───────────────────┼────────────┼───────────────────┤\n",
       "│ embedding           │ (<span style=\"color: #00d7ff; text-decoration-color: #00d7ff\">None</span>, <span style=\"color: #00af00; text-decoration-color: #00af00\">180</span>, <span style=\"color: #00af00; text-decoration-color: #00af00\">32</span>)   │  <span style=\"color: #00af00; text-decoration-color: #00af00\">1,513,920</span> │ input_layer[<span style=\"color: #00af00; text-decoration-color: #00af00\">0</span>][<span style=\"color: #00af00; text-decoration-color: #00af00\">0</span>] │\n",
       "│ (<span style=\"color: #0087ff; text-decoration-color: #0087ff\">Embedding</span>)         │                   │            │                   │\n",
       "├─────────────────────┼───────────────────┼────────────┼───────────────────┤\n",
       "│ not_equal           │ (<span style=\"color: #00d7ff; text-decoration-color: #00d7ff\">None</span>, <span style=\"color: #00af00; text-decoration-color: #00af00\">180</span>)       │          <span style=\"color: #00af00; text-decoration-color: #00af00\">0</span> │ input_layer[<span style=\"color: #00af00; text-decoration-color: #00af00\">0</span>][<span style=\"color: #00af00; text-decoration-color: #00af00\">0</span>] │\n",
       "│ (<span style=\"color: #0087ff; text-decoration-color: #0087ff\">NotEqual</span>)          │                   │            │                   │\n",
       "├─────────────────────┼───────────────────┼────────────┼───────────────────┤\n",
       "│ bidirectional       │ (<span style=\"color: #00d7ff; text-decoration-color: #00d7ff\">None</span>, <span style=\"color: #00af00; text-decoration-color: #00af00\">180</span>, <span style=\"color: #00af00; text-decoration-color: #00af00\">64</span>)   │     <span style=\"color: #00af00; text-decoration-color: #00af00\">16,640</span> │ embedding[<span style=\"color: #00af00; text-decoration-color: #00af00\">0</span>][<span style=\"color: #00af00; text-decoration-color: #00af00\">0</span>],  │\n",
       "│ (<span style=\"color: #0087ff; text-decoration-color: #0087ff\">Bidirectional</span>)     │                   │            │ not_equal[<span style=\"color: #00af00; text-decoration-color: #00af00\">0</span>][<span style=\"color: #00af00; text-decoration-color: #00af00\">0</span>]   │\n",
       "├─────────────────────┼───────────────────┼────────────┼───────────────────┤\n",
       "│ dense (<span style=\"color: #0087ff; text-decoration-color: #0087ff\">Dense</span>)       │ (<span style=\"color: #00d7ff; text-decoration-color: #00d7ff\">None</span>, <span style=\"color: #00af00; text-decoration-color: #00af00\">180</span>, <span style=\"color: #00af00; text-decoration-color: #00af00\">13</span>)   │        <span style=\"color: #00af00; text-decoration-color: #00af00\">845</span> │ bidirectional[<span style=\"color: #00af00; text-decoration-color: #00af00\">0</span>]… │\n",
       "└─────────────────────┴───────────────────┴────────────┴───────────────────┘\n",
       "</pre>\n"
      ],
      "text/plain": [
       "┏━━━━━━━━━━━━━━━━━━━━━┳━━━━━━━━━━━━━━━━━━━┳━━━━━━━━━━━━┳━━━━━━━━━━━━━━━━━━━┓\n",
       "┃\u001b[1m \u001b[0m\u001b[1mLayer (type)       \u001b[0m\u001b[1m \u001b[0m┃\u001b[1m \u001b[0m\u001b[1mOutput Shape     \u001b[0m\u001b[1m \u001b[0m┃\u001b[1m \u001b[0m\u001b[1m   Param #\u001b[0m\u001b[1m \u001b[0m┃\u001b[1m \u001b[0m\u001b[1mConnected to     \u001b[0m\u001b[1m \u001b[0m┃\n",
       "┡━━━━━━━━━━━━━━━━━━━━━╇━━━━━━━━━━━━━━━━━━━╇━━━━━━━━━━━━╇━━━━━━━━━━━━━━━━━━━┩\n",
       "│ input_layer         │ (\u001b[38;5;45mNone\u001b[0m, \u001b[38;5;34m180\u001b[0m)       │          \u001b[38;5;34m0\u001b[0m │ -                 │\n",
       "│ (\u001b[38;5;33mInputLayer\u001b[0m)        │                   │            │                   │\n",
       "├─────────────────────┼───────────────────┼────────────┼───────────────────┤\n",
       "│ embedding           │ (\u001b[38;5;45mNone\u001b[0m, \u001b[38;5;34m180\u001b[0m, \u001b[38;5;34m32\u001b[0m)   │  \u001b[38;5;34m1,513,920\u001b[0m │ input_layer[\u001b[38;5;34m0\u001b[0m][\u001b[38;5;34m0\u001b[0m] │\n",
       "│ (\u001b[38;5;33mEmbedding\u001b[0m)         │                   │            │                   │\n",
       "├─────────────────────┼───────────────────┼────────────┼───────────────────┤\n",
       "│ not_equal           │ (\u001b[38;5;45mNone\u001b[0m, \u001b[38;5;34m180\u001b[0m)       │          \u001b[38;5;34m0\u001b[0m │ input_layer[\u001b[38;5;34m0\u001b[0m][\u001b[38;5;34m0\u001b[0m] │\n",
       "│ (\u001b[38;5;33mNotEqual\u001b[0m)          │                   │            │                   │\n",
       "├─────────────────────┼───────────────────┼────────────┼───────────────────┤\n",
       "│ bidirectional       │ (\u001b[38;5;45mNone\u001b[0m, \u001b[38;5;34m180\u001b[0m, \u001b[38;5;34m64\u001b[0m)   │     \u001b[38;5;34m16,640\u001b[0m │ embedding[\u001b[38;5;34m0\u001b[0m][\u001b[38;5;34m0\u001b[0m],  │\n",
       "│ (\u001b[38;5;33mBidirectional\u001b[0m)     │                   │            │ not_equal[\u001b[38;5;34m0\u001b[0m][\u001b[38;5;34m0\u001b[0m]   │\n",
       "├─────────────────────┼───────────────────┼────────────┼───────────────────┤\n",
       "│ dense (\u001b[38;5;33mDense\u001b[0m)       │ (\u001b[38;5;45mNone\u001b[0m, \u001b[38;5;34m180\u001b[0m, \u001b[38;5;34m13\u001b[0m)   │        \u001b[38;5;34m845\u001b[0m │ bidirectional[\u001b[38;5;34m0\u001b[0m]… │\n",
       "└─────────────────────┴───────────────────┴────────────┴───────────────────┘\n"
      ]
     },
     "metadata": {},
     "output_type": "display_data"
    },
    {
     "data": {
      "text/html": [
       "<pre style=\"white-space:pre;overflow-x:auto;line-height:normal;font-family:Menlo,'DejaVu Sans Mono',consolas,'Courier New',monospace\"><span style=\"font-weight: bold\"> Total params: </span><span style=\"color: #00af00; text-decoration-color: #00af00\">1,531,405</span> (5.84 MB)\n",
       "</pre>\n"
      ],
      "text/plain": [
       "\u001b[1m Total params: \u001b[0m\u001b[38;5;34m1,531,405\u001b[0m (5.84 MB)\n"
      ]
     },
     "metadata": {},
     "output_type": "display_data"
    },
    {
     "data": {
      "text/html": [
       "<pre style=\"white-space:pre;overflow-x:auto;line-height:normal;font-family:Menlo,'DejaVu Sans Mono',consolas,'Courier New',monospace\"><span style=\"font-weight: bold\"> Trainable params: </span><span style=\"color: #00af00; text-decoration-color: #00af00\">1,531,405</span> (5.84 MB)\n",
       "</pre>\n"
      ],
      "text/plain": [
       "\u001b[1m Trainable params: \u001b[0m\u001b[38;5;34m1,531,405\u001b[0m (5.84 MB)\n"
      ]
     },
     "metadata": {},
     "output_type": "display_data"
    },
    {
     "data": {
      "text/html": [
       "<pre style=\"white-space:pre;overflow-x:auto;line-height:normal;font-family:Menlo,'DejaVu Sans Mono',consolas,'Courier New',monospace\"><span style=\"font-weight: bold\"> Non-trainable params: </span><span style=\"color: #00af00; text-decoration-color: #00af00\">0</span> (0.00 B)\n",
       "</pre>\n"
      ],
      "text/plain": [
       "\u001b[1m Non-trainable params: \u001b[0m\u001b[38;5;34m0\u001b[0m (0.00 B)\n"
      ]
     },
     "metadata": {},
     "output_type": "display_data"
    }
   ],
   "source": [
    "model.summary()"
   ]
  },
  {
   "cell_type": "code",
   "execution_count": 35,
   "id": "7d47d7a9",
   "metadata": {
    "execution": {
     "iopub.execute_input": "2024-08-28T17:56:15.398118Z",
     "iopub.status.busy": "2024-08-28T17:56:15.397254Z",
     "iopub.status.idle": "2024-08-28T17:56:15.407727Z",
     "shell.execute_reply": "2024-08-28T17:56:15.406473Z"
    },
    "papermill": {
     "duration": 0.027478,
     "end_time": "2024-08-28T17:56:15.409784",
     "exception": false,
     "start_time": "2024-08-28T17:56:15.382306",
     "status": "completed"
    },
    "tags": []
   },
   "outputs": [
    {
     "data": {
      "text/plain": [
       "6"
      ]
     },
     "execution_count": 35,
     "metadata": {},
     "output_type": "execute_result"
    }
   ],
   "source": [
    "len(model.layers[2].get_weights())"
   ]
  },
  {
   "cell_type": "code",
   "execution_count": 36,
   "id": "24836cc1",
   "metadata": {
    "execution": {
     "iopub.execute_input": "2024-08-28T17:56:15.438664Z",
     "iopub.status.busy": "2024-08-28T17:56:15.438069Z",
     "iopub.status.idle": "2024-08-28T17:56:15.445100Z",
     "shell.execute_reply": "2024-08-28T17:56:15.444047Z"
    },
    "papermill": {
     "duration": 0.023706,
     "end_time": "2024-08-28T17:56:15.447062",
     "exception": false,
     "start_time": "2024-08-28T17:56:15.423356",
     "status": "completed"
    },
    "tags": []
   },
   "outputs": [
    {
     "name": "stdout",
     "output_type": "stream",
     "text": [
      "(32, 128) (32, 128) (128,) (32, 128) (32, 128) (128,)\n"
     ]
    }
   ],
   "source": [
    "a,b,c,d,e,f = model.layers[2].get_weights()\n",
    "print(a.shape, b.shape, c.shape, d.shape, e.shape, f.shape)\n",
    "\n",
    "#Shapes:\n",
    "# Wxi,Wxo,Wxf,Wxc   --> input_size, 4*output\n",
    "# Whi, Who, Whf, Whc --> output, 4*output\n",
    "\n",
    "#a,b,c -> one direction // d,e,f -> opposite direction"
   ]
  },
  {
   "cell_type": "code",
   "execution_count": 37,
   "id": "6655656d",
   "metadata": {
    "execution": {
     "iopub.execute_input": "2024-08-28T17:56:15.476734Z",
     "iopub.status.busy": "2024-08-28T17:56:15.475837Z",
     "iopub.status.idle": "2024-08-28T18:07:56.196131Z",
     "shell.execute_reply": "2024-08-28T18:07:56.194964Z"
    },
    "papermill": {
     "duration": 700.737845,
     "end_time": "2024-08-28T18:07:56.198633",
     "exception": false,
     "start_time": "2024-08-28T17:56:15.460788",
     "status": "completed"
    },
    "tags": []
   },
   "outputs": [
    {
     "name": "stdout",
     "output_type": "stream",
     "text": [
      "Epoch 1/5\n",
      "\u001b[1m1255/1255\u001b[0m \u001b[32m━━━━━━━━━━━━━━━━━━━━\u001b[0m\u001b[37m\u001b[0m \u001b[1m144s\u001b[0m 111ms/step - accuracy: 0.0845 - loss: 0.9462 - val_accuracy: 0.1095 - val_loss: 0.1099\n",
      "Epoch 2/5\n",
      "\u001b[1m1255/1255\u001b[0m \u001b[32m━━━━━━━━━━━━━━━━━━━━\u001b[0m\u001b[37m\u001b[0m \u001b[1m138s\u001b[0m 110ms/step - accuracy: 0.1100 - loss: 0.0747 - val_accuracy: 0.1101 - val_loss: 0.0879\n",
      "Epoch 3/5\n",
      "\u001b[1m1255/1255\u001b[0m \u001b[32m━━━━━━━━━━━━━━━━━━━━\u001b[0m\u001b[37m\u001b[0m \u001b[1m138s\u001b[0m 110ms/step - accuracy: 0.1111 - loss: 0.0442 - val_accuracy: 0.1102 - val_loss: 0.0855\n",
      "Epoch 4/5\n",
      "\u001b[1m1255/1255\u001b[0m \u001b[32m━━━━━━━━━━━━━━━━━━━━\u001b[0m\u001b[37m\u001b[0m \u001b[1m142s\u001b[0m 110ms/step - accuracy: 0.1109 - loss: 0.0324 - val_accuracy: 0.1101 - val_loss: 0.0894\n",
      "Epoch 5/5\n",
      "\u001b[1m1255/1255\u001b[0m \u001b[32m━━━━━━━━━━━━━━━━━━━━\u001b[0m\u001b[37m\u001b[0m \u001b[1m138s\u001b[0m 110ms/step - accuracy: 0.1116 - loss: 0.0254 - val_accuracy: 0.1102 - val_loss: 0.0939\n"
     ]
    }
   ],
   "source": [
    "# Compile and fit\n",
    "model.compile(\n",
    "  loss=SparseCategoricalCrossentropy(from_logits=True),\n",
    "  optimizer='adam',\n",
    "  metrics=['accuracy']\n",
    ")\n",
    "\n",
    "# NOTE: you \"could\" speed this up by creating a custom loss, since Tensorflow's\n",
    "# implementation of mask_zero currently sucks, but it's sufficiently advanced\n",
    "# to be outside the scope of this course\n",
    "# In my experiments, CPU is faster than GPU in all cases, and CPU for custom\n",
    "# loss is faster than CPU for mask_zero\n",
    "\n",
    "# > 300-400s per epoch on CPU\n",
    "# > 30 MINUTES per epoch on GPU\n",
    "r = model.fit(\n",
    "  train_inputs_pad,\n",
    "  train_targets_pad,\n",
    "  epochs=5,\n",
    "  validation_data=(test_inputs_pad, test_targets_pad)\n",
    ")"
   ]
  },
  {
   "cell_type": "markdown",
   "id": "665d4dc2",
   "metadata": {
    "papermill": {
     "duration": 0.451215,
     "end_time": "2024-08-28T18:07:57.121205",
     "exception": false,
     "start_time": "2024-08-28T18:07:56.669990",
     "status": "completed"
    },
    "tags": []
   },
   "source": [
    "## Model evaluation"
   ]
  },
  {
   "cell_type": "code",
   "execution_count": 38,
   "id": "b3fd29ad",
   "metadata": {
    "execution": {
     "iopub.execute_input": "2024-08-28T18:07:58.023582Z",
     "iopub.status.busy": "2024-08-28T18:07:58.022831Z",
     "iopub.status.idle": "2024-08-28T18:07:58.335033Z",
     "shell.execute_reply": "2024-08-28T18:07:58.334035Z"
    },
    "papermill": {
     "duration": 0.797741,
     "end_time": "2024-08-28T18:07:58.337313",
     "exception": false,
     "start_time": "2024-08-28T18:07:57.539572",
     "status": "completed"
    },
    "tags": []
   },
   "outputs": [
    {
     "data": {
      "image/png": "[encoded data removed]",
      "text/plain": [
       "<Figure size 640x480 with 1 Axes>"
      ]
     },
     "metadata": {},
     "output_type": "display_data"
    }
   ],
   "source": [
    "# Plot loss per iteration\n",
    "plt.plot(r.history['loss'], label='train loss')\n",
    "plt.plot(r.history['val_loss'], label='val loss')\n",
    "plt.legend();"
   ]
  },
  {
   "cell_type": "code",
   "execution_count": 39,
   "id": "9e716c0b",
   "metadata": {
    "execution": {
     "iopub.execute_input": "2024-08-28T18:07:59.179952Z",
     "iopub.status.busy": "2024-08-28T18:07:59.179072Z",
     "iopub.status.idle": "2024-08-28T18:07:59.461455Z",
     "shell.execute_reply": "2024-08-28T18:07:59.460457Z"
    },
    "papermill": {
     "duration": 0.707398,
     "end_time": "2024-08-28T18:07:59.463680",
     "exception": false,
     "start_time": "2024-08-28T18:07:58.756282",
     "status": "completed"
    },
    "tags": []
   },
   "outputs": [
    {
     "data": {
      "image/png": "[encoded data removed]",
      "text/plain": [
       "<Figure size 640x480 with 1 Axes>"
      ]
     },
     "metadata": {},
     "output_type": "display_data"
    }
   ],
   "source": [
    "# Plot accuracy per iteration\n",
    "plt.plot(r.history['accuracy'], label='train acc')\n",
    "plt.plot(r.history['val_accuracy'], label='val acc')\n",
    "plt.legend();"
   ]
  },
  {
   "cell_type": "code",
   "execution_count": 40,
   "id": "668cb86e",
   "metadata": {
    "execution": {
     "iopub.execute_input": "2024-08-28T18:08:00.362330Z",
     "iopub.status.busy": "2024-08-28T18:08:00.361921Z",
     "iopub.status.idle": "2024-08-28T18:08:00.386195Z",
     "shell.execute_reply": "2024-08-28T18:08:00.385149Z"
    },
    "papermill": {
     "duration": 0.498982,
     "end_time": "2024-08-28T18:08:00.388192",
     "exception": false,
     "start_time": "2024-08-28T18:07:59.889210",
     "status": "completed"
    },
    "tags": []
   },
   "outputs": [
    {
     "name": "stdout",
     "output_type": "stream",
     "text": [
      "Train lengths: 40138\n",
      "Test lengths: 17202 \n"
     ]
    }
   ],
   "source": [
    "# True model accuracy:\n",
    "# The previous accuracy used the targets of the padding too. So, we need to account for only the true predictions.\n",
    "\n",
    "# first get length of each sequence\n",
    "train_lengths = []\n",
    "for sentence in train_inputs:\n",
    "  train_lengths.append(len(sentence))\n",
    "\n",
    "test_lengths = []\n",
    "for sentence in test_inputs:\n",
    "  test_lengths.append(len(sentence))\n",
    "\n",
    "print(f\"Train lengths: {len(train_lengths)}\\nTest lengths: {len(test_lengths)} \")"
   ]
  },
  {
   "cell_type": "code",
   "execution_count": 41,
   "id": "abf9d753",
   "metadata": {
    "execution": {
     "iopub.execute_input": "2024-08-28T18:08:01.233545Z",
     "iopub.status.busy": "2024-08-28T18:08:01.232741Z",
     "iopub.status.idle": "2024-08-28T18:08:31.421479Z",
     "shell.execute_reply": "2024-08-28T18:08:31.420512Z"
    },
    "papermill": {
     "duration": 30.614704,
     "end_time": "2024-08-28T18:08:31.423895",
     "exception": false,
     "start_time": "2024-08-28T18:08:00.809191",
     "status": "completed"
    },
    "tags": []
   },
   "outputs": [
    {
     "name": "stdout",
     "output_type": "stream",
     "text": [
      "\u001b[1m1255/1255\u001b[0m \u001b[32m━━━━━━━━━━━━━━━━━━━━\u001b[0m\u001b[37m\u001b[0m \u001b[1m29s\u001b[0m 23ms/step\n"
     ]
    }
   ],
   "source": [
    "train_probs = model.predict(train_inputs_pad)\n",
    "train_predictions = []\n",
    "\n"
   ]
  },
  {
   "cell_type": "code",
   "execution_count": 42,
   "id": "11212c4f",
   "metadata": {
    "execution": {
     "iopub.execute_input": "2024-08-28T18:08:32.380781Z",
     "iopub.status.busy": "2024-08-28T18:08:32.380027Z",
     "iopub.status.idle": "2024-08-28T18:08:32.673011Z",
     "shell.execute_reply": "2024-08-28T18:08:32.672097Z"
    },
    "papermill": {
     "duration": 0.800313,
     "end_time": "2024-08-28T18:08:32.675539",
     "exception": false,
     "start_time": "2024-08-28T18:08:31.875226",
     "status": "completed"
    },
    "tags": []
   },
   "outputs": [],
   "source": [
    "train_probs.shape  #N x T x K\n",
    "\n",
    "for probs, length in zip(train_probs, train_lengths):\n",
    "    \n",
    "    probs_ = probs[-length:] #The first tokens are for padding\n",
    "    preds = np.argmax(probs_, axis=1)\n",
    "    train_predictions.append(preds)\n",
    "    \n",
    "\n",
    "true_targets_train = flatten(train_targets_int)\n",
    "predictions_targets_train = flatten(train_predictions)"
   ]
  },
  {
   "cell_type": "code",
   "execution_count": 43,
   "id": "85731b27",
   "metadata": {
    "execution": {
     "iopub.execute_input": "2024-08-28T18:08:33.568699Z",
     "iopub.status.busy": "2024-08-28T18:08:33.567920Z",
     "iopub.status.idle": "2024-08-28T18:08:46.057873Z",
     "shell.execute_reply": "2024-08-28T18:08:46.056947Z"
    },
    "papermill": {
     "duration": 12.939755,
     "end_time": "2024-08-28T18:08:46.060352",
     "exception": false,
     "start_time": "2024-08-28T18:08:33.120597",
     "status": "completed"
    },
    "tags": []
   },
   "outputs": [
    {
     "name": "stdout",
     "output_type": "stream",
     "text": [
      "\u001b[1m538/538\u001b[0m \u001b[32m━━━━━━━━━━━━━━━━━━━━\u001b[0m\u001b[37m\u001b[0m \u001b[1m12s\u001b[0m 22ms/step\n"
     ]
    }
   ],
   "source": [
    "test_probs = model.predict(test_inputs_pad)\n",
    "test_predictions = []\n",
    "\n",
    "for probs, length in zip(test_probs, test_lengths):\n",
    "    \n",
    "    probs_ = probs[-length:] #The first tokens are for padding\n",
    "    preds = np.argmax(probs_, axis=1)\n",
    "    test_predictions.append(preds)\n",
    "    \n",
    "\n",
    "true_targets_test = flatten(test_targets_int)\n",
    "predictions_targets_test = flatten(test_predictions)"
   ]
  },
  {
   "cell_type": "code",
   "execution_count": 44,
   "id": "a829fb51",
   "metadata": {
    "execution": {
     "iopub.execute_input": "2024-08-28T18:08:47.058044Z",
     "iopub.status.busy": "2024-08-28T18:08:47.057632Z",
     "iopub.status.idle": "2024-08-28T18:08:48.861676Z",
     "shell.execute_reply": "2024-08-28T18:08:48.860343Z"
    },
    "papermill": {
     "duration": 2.303612,
     "end_time": "2024-08-28T18:08:48.871592",
     "exception": false,
     "start_time": "2024-08-28T18:08:46.567980",
     "status": "completed"
    },
    "tags": []
   },
   "outputs": [
    {
     "name": "stdout",
     "output_type": "stream",
     "text": [
      "Train acc: 0.9942594973728439\n",
      "Test acc: 0.9724836806248397\n",
      "Train f1: 0.9883117019983336\n",
      "Test f1: 0.9358405129186181\n"
     ]
    }
   ],
   "source": [
    "from sklearn.metrics import accuracy_score, f1_score\n",
    "\n",
    "print(\"Train acc:\", accuracy_score(true_targets_train, predictions_targets_train))\n",
    "print(\"Test acc:\", accuracy_score(true_targets_test, predictions_targets_test))\n",
    "\n",
    "print(\"Train f1:\",\n",
    "      f1_score(true_targets_train, predictions_targets_train, average='macro'))\n",
    "print(\"Test f1:\",\n",
    "      f1_score(true_targets_test, predictions_targets_test, average='macro'))"
   ]
  },
  {
   "cell_type": "markdown",
   "id": "2aa9cd7b",
   "metadata": {
    "papermill": {
     "duration": 0.516501,
     "end_time": "2024-08-28T18:08:49.889691",
     "exception": false,
     "start_time": "2024-08-28T18:08:49.373190",
     "status": "completed"
    },
    "tags": []
   },
   "source": [
    "## Comparing the model against a baseline model (word POS map)"
   ]
  },
  {
   "cell_type": "code",
   "execution_count": 45,
   "id": "3e914288",
   "metadata": {
    "execution": {
     "iopub.execute_input": "2024-08-28T18:08:50.813587Z",
     "iopub.status.busy": "2024-08-28T18:08:50.813148Z",
     "iopub.status.idle": "2024-08-28T18:08:50.818523Z",
     "shell.execute_reply": "2024-08-28T18:08:50.817531Z"
    },
    "papermill": {
     "duration": 0.46872,
     "end_time": "2024-08-28T18:08:50.820465",
     "exception": false,
     "start_time": "2024-08-28T18:08:50.351745",
     "status": "completed"
    },
    "tags": []
   },
   "outputs": [],
   "source": [
    "## Baseline model: map word to tag\n",
    "from collections import Counter\n",
    "\n",
    "# https://stackoverflow.com/questions/1518522/find-the-most-common-element-in-a-list\n",
    "def most_common(lst):\n",
    "  data = Counter(lst)\n",
    "  return data.most_common(1)[0][0]"
   ]
  },
  {
   "cell_type": "code",
   "execution_count": 46,
   "id": "e9411454",
   "metadata": {
    "execution": {
     "iopub.execute_input": "2024-08-28T18:08:51.794868Z",
     "iopub.status.busy": "2024-08-28T18:08:51.794436Z",
     "iopub.status.idle": "2024-08-28T18:08:52.497566Z",
     "shell.execute_reply": "2024-08-28T18:08:52.496430Z"
    },
    "papermill": {
     "duration": 1.218738,
     "end_time": "2024-08-28T18:08:52.500261",
     "exception": false,
     "start_time": "2024-08-28T18:08:51.281523",
     "status": "completed"
    },
    "tags": []
   },
   "outputs": [],
   "source": [
    "token2tags = {k: [] for k, v in word2idx.items()}\n",
    "\n",
    "# remove UNK token\n",
    "del token2tags['UNK']\n",
    "\n",
    "for tokens, tags in zip(train_inputs, train_targets):\n",
    "  for token, tag in zip(tokens, tags):\n",
    "    if token in token2tags:\n",
    "      token2tags[token].append(tag) #for each word, lets append every tag that appears\n",
    "\n",
    "token2tag = {k: most_common(v) for k, v in token2tags.items()}"
   ]
  },
  {
   "cell_type": "code",
   "execution_count": 47,
   "id": "85c14eb7",
   "metadata": {
    "execution": {
     "iopub.execute_input": "2024-08-28T18:08:53.425543Z",
     "iopub.status.busy": "2024-08-28T18:08:53.424568Z",
     "iopub.status.idle": "2024-08-28T18:08:53.832905Z",
     "shell.execute_reply": "2024-08-28T18:08:53.831763Z"
    },
    "papermill": {
     "duration": 0.871268,
     "end_time": "2024-08-28T18:08:53.835366",
     "exception": false,
     "start_time": "2024-08-28T18:08:52.964098",
     "status": "completed"
    },
    "tags": []
   },
   "outputs": [],
   "source": [
    "# compute accuracy\n",
    "\n",
    "train_predictions = []\n",
    "for sentence in train_inputs:\n",
    "  predictions = []\n",
    "  for token in sentence:\n",
    "        \n",
    "    predicted_tag = token2tag[token]\n",
    "    predictions.append(predicted_tag)\n",
    "  train_predictions.append(predictions)\n",
    "flat_train_predictions = flatten(train_predictions)\n",
    "flat_train_targets = flatten(train_targets)"
   ]
  },
  {
   "cell_type": "code",
   "execution_count": 48,
   "id": "1f0ede26",
   "metadata": {
    "execution": {
     "iopub.execute_input": "2024-08-28T18:08:54.819166Z",
     "iopub.status.busy": "2024-08-28T18:08:54.818180Z",
     "iopub.status.idle": "2024-08-28T18:08:55.041262Z",
     "shell.execute_reply": "2024-08-28T18:08:55.040046Z"
    },
    "papermill": {
     "duration": 0.689214,
     "end_time": "2024-08-28T18:08:55.043752",
     "exception": false,
     "start_time": "2024-08-28T18:08:54.354538",
     "status": "completed"
    },
    "tags": []
   },
   "outputs": [],
   "source": [
    "test_predictions = []\n",
    "for sentence in test_inputs:\n",
    "  predictions = []\n",
    "  for token in sentence:\n",
    "    predicted_tag = token2tag.get(token, 'INCORRECT')\n",
    "    predictions.append(predicted_tag)\n",
    "  test_predictions.append(predictions)\n",
    "flat_test_predictions = flatten(test_predictions)\n",
    "flat_test_targets = flatten(test_targets)"
   ]
  },
  {
   "cell_type": "code",
   "execution_count": 49,
   "id": "4cae1c78",
   "metadata": {
    "execution": {
     "iopub.execute_input": "2024-08-28T18:08:56.016340Z",
     "iopub.status.busy": "2024-08-28T18:08:56.015594Z",
     "iopub.status.idle": "2024-08-28T18:09:03.086532Z",
     "shell.execute_reply": "2024-08-28T18:09:03.085364Z"
    },
    "papermill": {
     "duration": 7.588635,
     "end_time": "2024-08-28T18:09:03.088613",
     "exception": false,
     "start_time": "2024-08-28T18:08:55.499978",
     "status": "completed"
    },
    "tags": []
   },
   "outputs": [
    {
     "name": "stdout",
     "output_type": "stream",
     "text": [
      "Train acc: 0.9576224545954871\n",
      "Test acc: 0.9266868105242154\n",
      "Train f1: 0.9402645530935039\n",
      "Test f1: 0.8272883979511254\n"
     ]
    }
   ],
   "source": [
    "print(\"Train acc:\", accuracy_score(flat_train_targets, flat_train_predictions))\n",
    "print(\"Test acc:\", accuracy_score(flat_test_targets, flat_test_predictions))\n",
    "\n",
    "print(\"Train f1:\",\n",
    "      f1_score(flat_train_targets, flat_train_predictions, average='macro'))\n",
    "print(\"Test f1:\",\n",
    "      f1_score(flat_test_targets, flat_test_predictions, average='macro'))"
   ]
  },
  {
   "cell_type": "markdown",
   "id": "fea0bd98",
   "metadata": {
    "papermill": {
     "duration": 0.459259,
     "end_time": "2024-08-28T18:09:04.004981",
     "exception": false,
     "start_time": "2024-08-28T18:09:03.545722",
     "status": "completed"
    },
    "tags": []
   },
   "source": [
    "## Summary\n",
    "- We used a Bidimensional LSTM architecture to predict the part of speech.\n",
    "- Our model outperformed the baseline, even with a good performance on this model."
   ]
  },
  {
   "cell_type": "code",
   "execution_count": null,
   "id": "0d0b4ba1",
   "metadata": {
    "papermill": {
     "duration": 0.462228,
     "end_time": "2024-08-28T18:09:04.983025",
     "exception": false,
     "start_time": "2024-08-28T18:09:04.520797",
     "status": "completed"
    },
    "tags": []
   },
   "outputs": [],
   "source": []
  }
 ],
 "metadata": {
  "kaggle": {
   "accelerator": "none",
   "dataSources": [],
   "dockerImageVersionId": 30761,
   "isGpuEnabled": false,
   "isInternetEnabled": true,
   "language": "python",
   "sourceType": "notebook"
  },
  "kernelspec": {
   "display_name": "Python 3",
   "language": "python",
   "name": "python3"
  },
  "language_info": {
   "codemirror_mode": {
    "name": "ipython",
    "version": 3
   },
   "file_extension": ".py",
   "mimetype": "text/x-python",
   "name": "python",
   "nbconvert_exporter": "python",
   "pygments_lexer": "ipython3",
   "version": "3.10.14"
  },
  "papermill": {
   "default_parameters": {},
   "duration": 800.794998,
   "end_time": "2024-08-28T18:09:07.473779",
   "environment_variables": {},
   "exception": null,
   "input_path": "__notebook__.ipynb",
   "output_path": "__notebook__.ipynb",
   "parameters": {},
   "start_time": "2024-08-28T17:55:46.678781",
   "version": "2.6.0"
  }
 },
 "nbformat": 4,
 "nbformat_minor": 5
}
